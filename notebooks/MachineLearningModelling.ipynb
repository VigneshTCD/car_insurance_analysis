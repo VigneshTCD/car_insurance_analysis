{
 "cells": [
  {
   "cell_type": "code",
   "execution_count": 91,
   "metadata": {},
   "outputs": [],
   "source": [
    "import pandas as pd\n",
    "import matplotlib.pyplot as plt\n",
    "import seaborn as sns\n",
    "import datetime as dt\n",
    "from sklearn.impute import KNNImputer\n",
    "from sklearn.preprocessing import StandardScaler\n",
    "from sklearn.neighbors import KNeighborsClassifier\n",
    "import category_encoders as ce   # version 1.2.8\n",
    "import numpy as np\n",
    "from sklearn.pipeline import Pipeline"
   ]
  },
  {
   "cell_type": "code",
   "execution_count": 92,
   "metadata": {},
   "outputs": [],
   "source": [
    "pd.set_option('display.max_rows', 500)\n",
    "pd.set_option('display.max_columns', 500)\n",
    "pd.set_option('display.width', 1000)"
   ]
  },
  {
   "cell_type": "code",
   "execution_count": 93,
   "metadata": {},
   "outputs": [],
   "source": [
    "import lightgbm as lgb\n",
    "import tensorflow"
   ]
  },
  {
   "cell_type": "markdown",
   "metadata": {},
   "source": [
    "# Read data"
   ]
  },
  {
   "cell_type": "code",
   "execution_count": 141,
   "metadata": {},
   "outputs": [],
   "source": [
    "data = pd.read_csv('../data/carInsurance_train.csv')"
   ]
  },
  {
   "cell_type": "code",
   "execution_count": 142,
   "metadata": {},
   "outputs": [],
   "source": [
    "from sklearn.model_selection import train_test_split"
   ]
  },
  {
   "cell_type": "markdown",
   "metadata": {},
   "source": [
    "# Holding out 20% of the sample for test dataset\n",
    "\n",
    "* Performing stratified sampling\n",
    "* X_train, y_train - training dataset\n",
    "* X_test, y_test - test dataset (hold-out)"
   ]
  },
  {
   "cell_type": "code",
   "execution_count": 143,
   "metadata": {},
   "outputs": [],
   "source": [
    "X = data.drop('CarInsurance', axis=1)\n",
    "target = data['CarInsurance']\n",
    "X_train, X_test, y_train, y_test = train_test_split(X, target,  test_size=0.2, random_state=1)"
   ]
  },
  {
   "cell_type": "markdown",
   "metadata": {},
   "source": [
    "# CallStart and CallEnd is converted to call duration"
   ]
  },
  {
   "cell_type": "code",
   "execution_count": 144,
   "metadata": {},
   "outputs": [
    {
     "name": "stderr",
     "output_type": "stream",
     "text": [
      "/home/vignesh/anaconda3/lib/python3.6/site-packages/ipykernel_launcher.py:20: SettingWithCopyWarning: \n",
      "A value is trying to be set on a copy of a slice from a DataFrame.\n",
      "Try using .loc[row_indexer,col_indexer] = value instead\n",
      "\n",
      "See the caveats in the documentation: http://pandas.pydata.org/pandas-docs/stable/indexing.html#indexing-view-versus-copy\n",
      "/home/vignesh/anaconda3/lib/python3.6/site-packages/ipykernel_launcher.py:41: SettingWithCopyWarning: \n",
      "A value is trying to be set on a copy of a slice from a DataFrame.\n",
      "Try using .loc[row_indexer,col_indexer] = value instead\n",
      "\n",
      "See the caveats in the documentation: http://pandas.pydata.org/pandas-docs/stable/indexing.html#indexing-view-versus-copy\n"
     ]
    }
   ],
   "source": [
    "call_duration_arr = []\n",
    "for index, row in X_train.iterrows():\n",
    "    \n",
    "    call_start = row['CallStart'] \n",
    "    call_end = row['CallEnd']\n",
    "    call_start_hr = call_start.split(':')[0]\n",
    "    call_start_min = call_start.split(':')[1]\n",
    "    call_start_sec = call_start.split(':')[2]\n",
    "    \n",
    "    call_end_hr = call_end.split(':')[0]\n",
    "    call_end_min = call_end.split(':')[1]\n",
    "    call_end_sec = call_end.split(':')[2]\n",
    "    \n",
    "    call_start_dt = dt.datetime(2013,12,30,int(call_start_hr),int(call_start_min),int(call_start_sec))\n",
    "    call_end_dt = dt.datetime(2013,12,30,int(call_end_hr),int(call_end_min),int(call_end_sec))\n",
    "\n",
    "    call_duration = (call_end_dt-call_start_dt).total_seconds()\n",
    "    call_duration_arr.append(call_duration)\n",
    "    \n",
    "X_train['call_duration'] = call_duration_arr\n",
    "\n",
    "call_duration_arr = []\n",
    "for index, row in X_test.iterrows():\n",
    "    \n",
    "    call_start = row['CallStart'] \n",
    "    call_end = row['CallEnd']\n",
    "    call_start_hr = call_start.split(':')[0]\n",
    "    call_start_min = call_start.split(':')[1]\n",
    "    call_start_sec = call_start.split(':')[2]\n",
    "    \n",
    "    call_end_hr = call_end.split(':')[0]\n",
    "    call_end_min = call_end.split(':')[1]\n",
    "    call_end_sec = call_end.split(':')[2]\n",
    "    \n",
    "    call_start_dt = dt.datetime(2013,12,30,int(call_start_hr),int(call_start_min),int(call_start_sec))\n",
    "    call_end_dt = dt.datetime(2013,12,30,int(call_end_hr),int(call_end_min),int(call_end_sec))\n",
    "\n",
    "    call_duration = (call_end_dt-call_start_dt).total_seconds()\n",
    "    call_duration_arr.append(call_duration)\n",
    "    \n",
    "X_test['call_duration'] = call_duration_arr"
   ]
  },
  {
   "cell_type": "markdown",
   "metadata": {},
   "source": [
    "# Removing unneccessary columns - ID, CallStart, CallEnd, LastContactDay, Default"
   ]
  },
  {
   "cell_type": "code",
   "execution_count": 145,
   "metadata": {},
   "outputs": [],
   "source": [
    "\n",
    "if len(set(['Id', 'CallStart', 'CallEnd', 'LastContactDay']) - set(list(X_train.columns)))<1:\n",
    "    X_train = X_train.drop(['Id', 'CallStart', 'CallEnd', 'LastContactDay', 'Default'], axis=1)\n",
    "    \n",
    "if len(set(['Id', 'CallStart', 'CallEnd', 'LastContactDay']) - set(list(X_test.columns)))<1:\n",
    "    X_test = X_test.drop(['Id', 'CallStart', 'CallEnd', 'LastContactDay', 'Default'], axis=1)"
   ]
  },
  {
   "cell_type": "code",
   "execution_count": 146,
   "metadata": {},
   "outputs": [
    {
     "data": {
      "text/plain": [
       "Age                    0\n",
       "Job                   16\n",
       "Marital                0\n",
       "Education            130\n",
       "Balance                0\n",
       "HHInsurance            0\n",
       "CarLoan                0\n",
       "Communication        724\n",
       "LastContactMonth       0\n",
       "NoOfContacts           0\n",
       "DaysPassed             0\n",
       "PrevAttempts           0\n",
       "Outcome             2434\n",
       "call_duration          0\n",
       "dtype: int64"
      ]
     },
     "execution_count": 146,
     "metadata": {},
     "output_type": "execute_result"
    }
   ],
   "source": [
    "X_train.isnull().sum()"
   ]
  },
  {
   "cell_type": "code",
   "execution_count": 147,
   "metadata": {},
   "outputs": [],
   "source": [
    "from sklearn.base import BaseEstimator\n",
    "from sklearn.base import TransformerMixin\n"
   ]
  },
  {
   "cell_type": "markdown",
   "metadata": {},
   "source": [
    "# Custom Transformer functions\n",
    "\n",
    "* Imputation\n",
    "* Log Transformation\n",
    "* Normalization"
   ]
  },
  {
   "cell_type": "code",
   "execution_count": 148,
   "metadata": {},
   "outputs": [],
   "source": [
    "class FillImputer(BaseEstimator, TransformerMixin):\n",
    "    def __init__(self, fill_dict):\n",
    "        super().__init__()\n",
    "        self.fill_dict = fill_dict\n",
    "\n",
    "    def fit(self, X, y=None):\n",
    "\n",
    "        return self\n",
    "\n",
    "    def transform(self, X, y=None):\n",
    "#         X[:] = (X.to_numpy() - self.means_) / self.std_\n",
    "\n",
    "        X_copy = X.copy()\n",
    "        X_copy = X_copy.fillna(self.fill_dict)\n",
    "\n",
    "        return X_copy\n",
    "    \n",
    "class kNNImputer(BaseEstimator, TransformerMixin):\n",
    "    def __init__(self):\n",
    "        super().__init__()\n",
    "        self.kneigh = KNeighborsClassifier(n_neighbors=3)\n",
    "        self.ce_one_hot = ce.OneHotEncoder(cols = ['Job','Marital'])\n",
    "        self.ce_one_hot_model = None\n",
    "\n",
    "    def fit(self, X, y=None):\n",
    "#         X = X.to_numpy()\n",
    "#         self.means_ = X.mean(axis=0, keepdims=True)\n",
    "#         self.std_ = X.std(axis=0, keepdims=True)\n",
    "        imputation_features_non_missing = X[~X.Education.isnull()][['Job', 'Marital', 'Age']]\n",
    "        education_non_missing = X[~X.Education.isnull()]['Education']\n",
    "        \n",
    "        self.ce_one_hot_model = self.ce_one_hot.fit(imputation_features_non_missing)\n",
    "        imputation_features_non_missing_encoded = self.ce_one_hot_model.transform(imputation_features_non_missing)\n",
    "        \n",
    "        self.kneigh.fit(X=imputation_features_non_missing_encoded, y=education_non_missing)\n",
    "    \n",
    "        return self\n",
    "    \n",
    "\n",
    "    def transform(self, X, y=None):\n",
    "#         X[:] = (X.to_numpy() - self.means_) / self.std_\n",
    "    \n",
    "#         non_missing = X[~X.Education.isnull()]\n",
    "#         missing = X[X.Education.isnull()]\n",
    "\n",
    "        X_copy = X.copy()\n",
    "    \n",
    "        missing_ind = X_copy[X_copy.Education.isnull()].index\n",
    "        education = X_copy.Education.copy()\n",
    "       \n",
    "        imputation_features_missing = X_copy[X_copy.Education.isnull()][['Job', 'Marital', 'Age']]\n",
    "        education_missing = X_copy[X_copy.Education.isnull()]['Education']\n",
    "                \n",
    "        imputation_features_missing_encoded = self.ce_one_hot_model.transform(imputation_features_missing)\n",
    "        missing_values_pred = self.kneigh.predict(imputation_features_missing_encoded)\n",
    "\n",
    "        counter = 0\n",
    "        for index in missing_ind:\n",
    "            education[index] = missing_values_pred[counter]\n",
    "            counter+=1\n",
    "        \n",
    "        X_copy['Education'] = education\n",
    "\n",
    "        return X_copy"
   ]
  },
  {
   "cell_type": "code",
   "execution_count": 149,
   "metadata": {},
   "outputs": [],
   "source": [
    "from sklearn.preprocessing import MinMaxScaler as min_max\n",
    "from sklearn.preprocessing import StandardScaler\n",
    "\n",
    "class LogTransformer(BaseEstimator, TransformerMixin):\n",
    "    def __init__(self, columns):\n",
    "        super().__init__()\n",
    "        self.columns = columns\n",
    "\n",
    "    def fit(self, X, y=None):\n",
    "\n",
    "        return self\n",
    "\n",
    "    def transform(self, X, y=None):\n",
    "        \n",
    "        X_copy = X.copy()\n",
    "\n",
    "        for col in self.columns:\n",
    "            X_copy[col] = np.log(X_copy[col]+1)\n",
    "        \n",
    "\n",
    "        return X_copy\n",
    "\n",
    "class MinMaxScalarMultiple(BaseEstimator, TransformerMixin):\n",
    "    def __init__(self, columns):\n",
    "        super().__init__()\n",
    "        self.columns = columns\n",
    "        self.normalizer = None\n",
    "\n",
    "    def fit(self, X, y=None):\n",
    "        self.normalizer = min_max()\n",
    "        self.normalizer.fit(X[self.columns])\n",
    "\n",
    "        return self\n",
    "\n",
    "    def transform(self, X, y=None):\n",
    "        \n",
    "        X_copy = X.copy()\n",
    "\n",
    "        normalized_vals = self.normalizer.transform(X[self.columns])\n",
    "        \n",
    "        for i in range(0, len(self.columns)):\n",
    "            col = [row[i] for row in normalized_vals]\n",
    "            X_copy[self.columns[i]] = col\n",
    "        \n",
    "\n",
    "        return X_copy\n",
    "    \n",
    "class StandardScalarMultiple(BaseEstimator, TransformerMixin):\n",
    "    def __init__(self, columns):\n",
    "        super().__init__()\n",
    "        self.columns = columns\n",
    "        self.normalizer = None\n",
    "\n",
    "    def fit(self, X, y=None):\n",
    "        self.normalizer = StandardScaler()\n",
    "        self.normalizer.fit(X[self.columns])\n",
    "\n",
    "        return self\n",
    "\n",
    "    def transform(self, X, y=None):\n",
    "        \n",
    "        X_copy = X.copy()\n",
    "\n",
    "        normalized_vals = self.normalizer.transform(X[self.columns])\n",
    "        \n",
    "        for i in range(0, len(self.columns)):\n",
    "            col = [row[i] for row in normalized_vals]\n",
    "            X_copy[self.columns[i]] = col\n",
    "        \n",
    "\n",
    "        return X_copy"
   ]
  },
  {
   "cell_type": "code",
   "execution_count": 333,
   "metadata": {},
   "outputs": [],
   "source": [
    "def quarter_month(x):\n",
    "    if x in ['jan', 'feb', 'mar', 'apr']:\n",
    "        return '1'\n",
    "    elif x in ['may', 'jun', 'jul', 'aug']:\n",
    "        return '2'\n",
    "    elif x in ['sep', 'oct', 'nov', 'dec']:\n",
    "        return '3'\n",
    "    \n",
    "def job_categories(x):\n",
    "    if x in ['blue-collar', 'entrepreneur', 'housemaid']:\n",
    "        return 'job1'\n",
    "    elif x in ['services', 'self-employed', 'admin.', 'technician', 'management', 'missing']:\n",
    "        return 'job2'\n",
    "    elif x in ['unemployed', 'retired', 'student']:\n",
    "        return 'job3'\n",
    "    else:\n",
    "        return 'no_group'\n",
    "    \n",
    "def age_group(x):\n",
    "    if x>=18 and x<=30:\n",
    "        return '18-30'\n",
    "    elif x>30 and x<=60:\n",
    "        return '30-60'\n",
    "    elif x>60:\n",
    "        return '>60'\n",
    "    \n",
    "def duration_category(x):\n",
    "    \n",
    "    if (x>0) and (x<=10):\n",
    "        return '0-10'\n",
    "    elif (x>10) and (x<=20):\n",
    "        return '10-20'\n",
    "    elif (x>20) and (x<=30):\n",
    "        return '20-30'\n",
    "    elif (x>30):\n",
    "        return '>30'\n",
    "\n",
    "# def duration_category(x):\n",
    "    \n",
    "#     if (x>0) and (x<=10):\n",
    "#         return '0-10'\n",
    "#     else: return '>10'\n",
    "    "
   ]
  },
  {
   "cell_type": "code",
   "execution_count": 334,
   "metadata": {},
   "outputs": [],
   "source": [
    "############### converted negative balance to zero\n",
    "X_train['Balance'] = X_train.Balance.apply(lambda x : 0 if x<0 else x)\n",
    "\n",
    "############### create a new variable for indicting whether a client is previously contacted - Boolean\n",
    "X_train['IsPreviouslyContacted'] = X_train.DaysPassed.apply(lambda x : 0 if x==-1 else 1)\n",
    "\n",
    "############### convert -ve values for days passed\n",
    "X_train['DaysPassed'] = X_train.DaysPassed.apply(lambda x : 0 if x==-1 else x)\n",
    "\n",
    "############### convert month to quadrimester\n",
    "X_train['LastContactQuadrimester'] = X_train.LastContactMonth.apply(lambda x : quarter_month(x))\n",
    "\n",
    "X_train['Job'] = X_train['Job'].fillna('missing')\n",
    "X_train['JobCategory'] = X_train.Job.apply(lambda x : job_categories(x))\n",
    "X_train['AgeCategory'] = X_train.Age.apply(lambda x : age_group(x))\n",
    "X_train['CallDurationCategory'] = X_train.call_duration.apply(lambda x : duration_category(x/60))"
   ]
  },
  {
   "cell_type": "markdown",
   "metadata": {},
   "source": [
    "# Create a sklearn pipeline for feature engineering - imputation, encoding, scaling"
   ]
  },
  {
   "cell_type": "code",
   "execution_count": 335,
   "metadata": {},
   "outputs": [],
   "source": [
    "log_transformer = LogTransformer(columns=['call_duration'])\n",
    "standard_scaler = StandardScalarMultiple(columns=['Age', 'Balance', 'NoOfContacts', 'PrevAttempts', 'DaysPassed'])\n",
    "fill_imputer = FillImputer(fill_dict={'Communication': 'missing', 'Job' : 'missing', 'Outcome' : 'not_contacted'})\n",
    "knn_imputer = kNNImputer()\n",
    "one_hot_encoder = ce.OneHotEncoder(cols=['CallDurationCategory','JobCategory', 'AgeCategory', 'Marital', 'Education', 'Outcome', 'Communication', 'LastContactQuadrimester'])\n",
    "\n",
    "\n",
    "pipe = Pipeline([('log_transformer', log_transformer), \n",
    "                 ('standard_scaler', standard_scaler),\n",
    "                 ('fill_imputer', fill_imputer),\n",
    "                 ('knn_imputer', knn_imputer),\n",
    "                 ('one_hot_encoder', one_hot_encoder)])\n",
    "\n",
    "pipe.fit(X_train)\n",
    "X_train_features = pipe.transform(X_train)\n",
    "X_train_features = X_train_features.drop(['LastContactMonth', 'Job', 'Age', 'call_duration', 'Balance'], axis=1)"
   ]
  },
  {
   "cell_type": "code",
   "execution_count": 336,
   "metadata": {},
   "outputs": [
    {
     "data": {
      "text/html": [
       "<div>\n",
       "<style scoped>\n",
       "    .dataframe tbody tr th:only-of-type {\n",
       "        vertical-align: middle;\n",
       "    }\n",
       "\n",
       "    .dataframe tbody tr th {\n",
       "        vertical-align: top;\n",
       "    }\n",
       "\n",
       "    .dataframe thead th {\n",
       "        text-align: right;\n",
       "    }\n",
       "</style>\n",
       "<table border=\"1\" class=\"dataframe\">\n",
       "  <thead>\n",
       "    <tr style=\"text-align: right;\">\n",
       "      <th></th>\n",
       "      <th>Marital_1</th>\n",
       "      <th>Marital_2</th>\n",
       "      <th>Marital_3</th>\n",
       "      <th>Education_1</th>\n",
       "      <th>Education_2</th>\n",
       "      <th>Education_3</th>\n",
       "      <th>HHInsurance</th>\n",
       "      <th>CarLoan</th>\n",
       "      <th>Communication_1</th>\n",
       "      <th>Communication_2</th>\n",
       "      <th>Communication_3</th>\n",
       "      <th>NoOfContacts</th>\n",
       "      <th>DaysPassed</th>\n",
       "      <th>PrevAttempts</th>\n",
       "      <th>Outcome_1</th>\n",
       "      <th>Outcome_2</th>\n",
       "      <th>Outcome_3</th>\n",
       "      <th>Outcome_4</th>\n",
       "      <th>IsPreviouslyContacted</th>\n",
       "      <th>LastContactQuadrimester_1</th>\n",
       "      <th>LastContactQuadrimester_2</th>\n",
       "      <th>LastContactQuadrimester_3</th>\n",
       "      <th>JobCategory_1</th>\n",
       "      <th>JobCategory_2</th>\n",
       "      <th>JobCategory_3</th>\n",
       "      <th>AgeCategory_1</th>\n",
       "      <th>AgeCategory_2</th>\n",
       "      <th>AgeCategory_3</th>\n",
       "      <th>CallDurationCategory_1</th>\n",
       "      <th>CallDurationCategory_2</th>\n",
       "      <th>CallDurationCategory_3</th>\n",
       "      <th>CallDurationCategory_4</th>\n",
       "    </tr>\n",
       "  </thead>\n",
       "  <tbody>\n",
       "    <tr>\n",
       "      <th>2996</th>\n",
       "      <td>1</td>\n",
       "      <td>0</td>\n",
       "      <td>0</td>\n",
       "      <td>1</td>\n",
       "      <td>0</td>\n",
       "      <td>0</td>\n",
       "      <td>0</td>\n",
       "      <td>0</td>\n",
       "      <td>1</td>\n",
       "      <td>0</td>\n",
       "      <td>0</td>\n",
       "      <td>-0.196231</td>\n",
       "      <td>-0.464205</td>\n",
       "      <td>-0.373862</td>\n",
       "      <td>1</td>\n",
       "      <td>0</td>\n",
       "      <td>0</td>\n",
       "      <td>0</td>\n",
       "      <td>1</td>\n",
       "      <td>1</td>\n",
       "      <td>0</td>\n",
       "      <td>0</td>\n",
       "      <td>1</td>\n",
       "      <td>0</td>\n",
       "      <td>0</td>\n",
       "      <td>1</td>\n",
       "      <td>0</td>\n",
       "      <td>0</td>\n",
       "      <td>1</td>\n",
       "      <td>0</td>\n",
       "      <td>0</td>\n",
       "      <td>0</td>\n",
       "    </tr>\n",
       "    <tr>\n",
       "      <th>3295</th>\n",
       "      <td>1</td>\n",
       "      <td>0</td>\n",
       "      <td>0</td>\n",
       "      <td>1</td>\n",
       "      <td>0</td>\n",
       "      <td>0</td>\n",
       "      <td>1</td>\n",
       "      <td>0</td>\n",
       "      <td>1</td>\n",
       "      <td>0</td>\n",
       "      <td>0</td>\n",
       "      <td>-0.521084</td>\n",
       "      <td>-0.464205</td>\n",
       "      <td>-0.373862</td>\n",
       "      <td>1</td>\n",
       "      <td>0</td>\n",
       "      <td>0</td>\n",
       "      <td>0</td>\n",
       "      <td>1</td>\n",
       "      <td>1</td>\n",
       "      <td>0</td>\n",
       "      <td>0</td>\n",
       "      <td>0</td>\n",
       "      <td>1</td>\n",
       "      <td>0</td>\n",
       "      <td>1</td>\n",
       "      <td>0</td>\n",
       "      <td>0</td>\n",
       "      <td>1</td>\n",
       "      <td>0</td>\n",
       "      <td>0</td>\n",
       "      <td>0</td>\n",
       "    </tr>\n",
       "    <tr>\n",
       "      <th>2284</th>\n",
       "      <td>0</td>\n",
       "      <td>1</td>\n",
       "      <td>0</td>\n",
       "      <td>0</td>\n",
       "      <td>1</td>\n",
       "      <td>0</td>\n",
       "      <td>1</td>\n",
       "      <td>0</td>\n",
       "      <td>0</td>\n",
       "      <td>1</td>\n",
       "      <td>0</td>\n",
       "      <td>-0.521084</td>\n",
       "      <td>-0.464205</td>\n",
       "      <td>-0.373862</td>\n",
       "      <td>1</td>\n",
       "      <td>0</td>\n",
       "      <td>0</td>\n",
       "      <td>0</td>\n",
       "      <td>1</td>\n",
       "      <td>1</td>\n",
       "      <td>0</td>\n",
       "      <td>0</td>\n",
       "      <td>1</td>\n",
       "      <td>0</td>\n",
       "      <td>0</td>\n",
       "      <td>1</td>\n",
       "      <td>0</td>\n",
       "      <td>0</td>\n",
       "      <td>1</td>\n",
       "      <td>0</td>\n",
       "      <td>0</td>\n",
       "      <td>0</td>\n",
       "    </tr>\n",
       "    <tr>\n",
       "      <th>2793</th>\n",
       "      <td>1</td>\n",
       "      <td>0</td>\n",
       "      <td>0</td>\n",
       "      <td>0</td>\n",
       "      <td>1</td>\n",
       "      <td>0</td>\n",
       "      <td>0</td>\n",
       "      <td>0</td>\n",
       "      <td>1</td>\n",
       "      <td>0</td>\n",
       "      <td>0</td>\n",
       "      <td>-0.196231</td>\n",
       "      <td>1.424987</td>\n",
       "      <td>2.276469</td>\n",
       "      <td>0</td>\n",
       "      <td>1</td>\n",
       "      <td>0</td>\n",
       "      <td>0</td>\n",
       "      <td>1</td>\n",
       "      <td>1</td>\n",
       "      <td>0</td>\n",
       "      <td>0</td>\n",
       "      <td>1</td>\n",
       "      <td>0</td>\n",
       "      <td>0</td>\n",
       "      <td>1</td>\n",
       "      <td>0</td>\n",
       "      <td>0</td>\n",
       "      <td>1</td>\n",
       "      <td>0</td>\n",
       "      <td>0</td>\n",
       "      <td>0</td>\n",
       "    </tr>\n",
       "    <tr>\n",
       "      <th>787</th>\n",
       "      <td>1</td>\n",
       "      <td>0</td>\n",
       "      <td>0</td>\n",
       "      <td>0</td>\n",
       "      <td>0</td>\n",
       "      <td>1</td>\n",
       "      <td>0</td>\n",
       "      <td>0</td>\n",
       "      <td>1</td>\n",
       "      <td>0</td>\n",
       "      <td>0</td>\n",
       "      <td>1.103179</td>\n",
       "      <td>-0.464205</td>\n",
       "      <td>-0.373862</td>\n",
       "      <td>1</td>\n",
       "      <td>0</td>\n",
       "      <td>0</td>\n",
       "      <td>0</td>\n",
       "      <td>1</td>\n",
       "      <td>1</td>\n",
       "      <td>0</td>\n",
       "      <td>0</td>\n",
       "      <td>0</td>\n",
       "      <td>1</td>\n",
       "      <td>0</td>\n",
       "      <td>1</td>\n",
       "      <td>0</td>\n",
       "      <td>0</td>\n",
       "      <td>0</td>\n",
       "      <td>1</td>\n",
       "      <td>0</td>\n",
       "      <td>0</td>\n",
       "    </tr>\n",
       "    <tr>\n",
       "      <th>2046</th>\n",
       "      <td>1</td>\n",
       "      <td>0</td>\n",
       "      <td>0</td>\n",
       "      <td>0</td>\n",
       "      <td>0</td>\n",
       "      <td>1</td>\n",
       "      <td>0</td>\n",
       "      <td>0</td>\n",
       "      <td>1</td>\n",
       "      <td>0</td>\n",
       "      <td>0</td>\n",
       "      <td>-0.521084</td>\n",
       "      <td>-0.464205</td>\n",
       "      <td>-0.373862</td>\n",
       "      <td>1</td>\n",
       "      <td>0</td>\n",
       "      <td>0</td>\n",
       "      <td>0</td>\n",
       "      <td>1</td>\n",
       "      <td>0</td>\n",
       "      <td>1</td>\n",
       "      <td>0</td>\n",
       "      <td>0</td>\n",
       "      <td>0</td>\n",
       "      <td>1</td>\n",
       "      <td>0</td>\n",
       "      <td>1</td>\n",
       "      <td>0</td>\n",
       "      <td>0</td>\n",
       "      <td>1</td>\n",
       "      <td>0</td>\n",
       "      <td>0</td>\n",
       "    </tr>\n",
       "    <tr>\n",
       "      <th>739</th>\n",
       "      <td>0</td>\n",
       "      <td>0</td>\n",
       "      <td>1</td>\n",
       "      <td>1</td>\n",
       "      <td>0</td>\n",
       "      <td>0</td>\n",
       "      <td>1</td>\n",
       "      <td>0</td>\n",
       "      <td>0</td>\n",
       "      <td>1</td>\n",
       "      <td>0</td>\n",
       "      <td>1.752885</td>\n",
       "      <td>-0.464205</td>\n",
       "      <td>-0.373862</td>\n",
       "      <td>1</td>\n",
       "      <td>0</td>\n",
       "      <td>0</td>\n",
       "      <td>0</td>\n",
       "      <td>1</td>\n",
       "      <td>1</td>\n",
       "      <td>0</td>\n",
       "      <td>0</td>\n",
       "      <td>1</td>\n",
       "      <td>0</td>\n",
       "      <td>0</td>\n",
       "      <td>1</td>\n",
       "      <td>0</td>\n",
       "      <td>0</td>\n",
       "      <td>1</td>\n",
       "      <td>0</td>\n",
       "      <td>0</td>\n",
       "      <td>0</td>\n",
       "    </tr>\n",
       "    <tr>\n",
       "      <th>2149</th>\n",
       "      <td>0</td>\n",
       "      <td>0</td>\n",
       "      <td>1</td>\n",
       "      <td>1</td>\n",
       "      <td>0</td>\n",
       "      <td>0</td>\n",
       "      <td>1</td>\n",
       "      <td>0</td>\n",
       "      <td>0</td>\n",
       "      <td>1</td>\n",
       "      <td>0</td>\n",
       "      <td>-0.196231</td>\n",
       "      <td>-0.464205</td>\n",
       "      <td>-0.373862</td>\n",
       "      <td>1</td>\n",
       "      <td>0</td>\n",
       "      <td>0</td>\n",
       "      <td>0</td>\n",
       "      <td>1</td>\n",
       "      <td>1</td>\n",
       "      <td>0</td>\n",
       "      <td>0</td>\n",
       "      <td>1</td>\n",
       "      <td>0</td>\n",
       "      <td>0</td>\n",
       "      <td>1</td>\n",
       "      <td>0</td>\n",
       "      <td>0</td>\n",
       "      <td>1</td>\n",
       "      <td>0</td>\n",
       "      <td>0</td>\n",
       "      <td>0</td>\n",
       "    </tr>\n",
       "    <tr>\n",
       "      <th>3369</th>\n",
       "      <td>0</td>\n",
       "      <td>1</td>\n",
       "      <td>0</td>\n",
       "      <td>0</td>\n",
       "      <td>1</td>\n",
       "      <td>0</td>\n",
       "      <td>0</td>\n",
       "      <td>0</td>\n",
       "      <td>1</td>\n",
       "      <td>0</td>\n",
       "      <td>0</td>\n",
       "      <td>6.300822</td>\n",
       "      <td>-0.464205</td>\n",
       "      <td>-0.373862</td>\n",
       "      <td>1</td>\n",
       "      <td>0</td>\n",
       "      <td>0</td>\n",
       "      <td>0</td>\n",
       "      <td>1</td>\n",
       "      <td>1</td>\n",
       "      <td>0</td>\n",
       "      <td>0</td>\n",
       "      <td>1</td>\n",
       "      <td>0</td>\n",
       "      <td>0</td>\n",
       "      <td>1</td>\n",
       "      <td>0</td>\n",
       "      <td>0</td>\n",
       "      <td>1</td>\n",
       "      <td>0</td>\n",
       "      <td>0</td>\n",
       "      <td>0</td>\n",
       "    </tr>\n",
       "    <tr>\n",
       "      <th>3492</th>\n",
       "      <td>0</td>\n",
       "      <td>0</td>\n",
       "      <td>1</td>\n",
       "      <td>1</td>\n",
       "      <td>0</td>\n",
       "      <td>0</td>\n",
       "      <td>1</td>\n",
       "      <td>1</td>\n",
       "      <td>1</td>\n",
       "      <td>0</td>\n",
       "      <td>0</td>\n",
       "      <td>-0.196231</td>\n",
       "      <td>-0.464205</td>\n",
       "      <td>-0.373862</td>\n",
       "      <td>1</td>\n",
       "      <td>0</td>\n",
       "      <td>0</td>\n",
       "      <td>0</td>\n",
       "      <td>1</td>\n",
       "      <td>0</td>\n",
       "      <td>1</td>\n",
       "      <td>0</td>\n",
       "      <td>0</td>\n",
       "      <td>1</td>\n",
       "      <td>0</td>\n",
       "      <td>1</td>\n",
       "      <td>0</td>\n",
       "      <td>0</td>\n",
       "      <td>1</td>\n",
       "      <td>0</td>\n",
       "      <td>0</td>\n",
       "      <td>0</td>\n",
       "    </tr>\n",
       "  </tbody>\n",
       "</table>\n",
       "</div>"
      ],
      "text/plain": [
       "      Marital_1  Marital_2  Marital_3  Education_1  Education_2  Education_3  HHInsurance  CarLoan  Communication_1  Communication_2  Communication_3  NoOfContacts  DaysPassed  PrevAttempts  Outcome_1  Outcome_2  Outcome_3  Outcome_4  IsPreviouslyContacted  LastContactQuadrimester_1  LastContactQuadrimester_2  LastContactQuadrimester_3  JobCategory_1  JobCategory_2  JobCategory_3  AgeCategory_1  AgeCategory_2  AgeCategory_3  CallDurationCategory_1  CallDurationCategory_2  CallDurationCategory_3  CallDurationCategory_4\n",
       "2996          1          0          0            1            0            0            0        0                1                0                0     -0.196231   -0.464205     -0.373862          1          0          0          0                      1                          1                          0                          0              1              0              0              1              0              0                       1                       0                       0                       0\n",
       "3295          1          0          0            1            0            0            1        0                1                0                0     -0.521084   -0.464205     -0.373862          1          0          0          0                      1                          1                          0                          0              0              1              0              1              0              0                       1                       0                       0                       0\n",
       "2284          0          1          0            0            1            0            1        0                0                1                0     -0.521084   -0.464205     -0.373862          1          0          0          0                      1                          1                          0                          0              1              0              0              1              0              0                       1                       0                       0                       0\n",
       "2793          1          0          0            0            1            0            0        0                1                0                0     -0.196231    1.424987      2.276469          0          1          0          0                      1                          1                          0                          0              1              0              0              1              0              0                       1                       0                       0                       0\n",
       "787           1          0          0            0            0            1            0        0                1                0                0      1.103179   -0.464205     -0.373862          1          0          0          0                      1                          1                          0                          0              0              1              0              1              0              0                       0                       1                       0                       0\n",
       "2046          1          0          0            0            0            1            0        0                1                0                0     -0.521084   -0.464205     -0.373862          1          0          0          0                      1                          0                          1                          0              0              0              1              0              1              0                       0                       1                       0                       0\n",
       "739           0          0          1            1            0            0            1        0                0                1                0      1.752885   -0.464205     -0.373862          1          0          0          0                      1                          1                          0                          0              1              0              0              1              0              0                       1                       0                       0                       0\n",
       "2149          0          0          1            1            0            0            1        0                0                1                0     -0.196231   -0.464205     -0.373862          1          0          0          0                      1                          1                          0                          0              1              0              0              1              0              0                       1                       0                       0                       0\n",
       "3369          0          1          0            0            1            0            0        0                1                0                0      6.300822   -0.464205     -0.373862          1          0          0          0                      1                          1                          0                          0              1              0              0              1              0              0                       1                       0                       0                       0\n",
       "3492          0          0          1            1            0            0            1        1                1                0                0     -0.196231   -0.464205     -0.373862          1          0          0          0                      1                          0                          1                          0              0              1              0              1              0              0                       1                       0                       0                       0"
      ]
     },
     "execution_count": 336,
     "metadata": {},
     "output_type": "execute_result"
    }
   ],
   "source": [
    "X_train_features[0:10]"
   ]
  },
  {
   "cell_type": "markdown",
   "metadata": {},
   "source": [
    "# Create a logistic regression model and performing cross validation using training dataset"
   ]
  },
  {
   "cell_type": "code",
   "execution_count": 337,
   "metadata": {},
   "outputs": [],
   "source": [
    "from sklearn.linear_model import LogisticRegression\n",
    "from sklearn.model_selection import cross_val_score\n",
    "from sklearn.metrics import accuracy_score, precision_score, recall_score"
   ]
  },
  {
   "cell_type": "code",
   "execution_count": 338,
   "metadata": {},
   "outputs": [],
   "source": [
    "lg = LogisticRegression(max_iter=500)"
   ]
  },
  {
   "cell_type": "code",
   "execution_count": 339,
   "metadata": {},
   "outputs": [],
   "source": [
    "lg_precision_scores = cross_val_score(lg, X_train_features, y_train, cv=3, scoring='precision')"
   ]
  },
  {
   "cell_type": "code",
   "execution_count": 340,
   "metadata": {},
   "outputs": [
    {
     "data": {
      "text/plain": [
       "array([0.79881657, 0.78512397, 0.80122324])"
      ]
     },
     "execution_count": 340,
     "metadata": {},
     "output_type": "execute_result"
    }
   ],
   "source": [
    "lg_precision_scores"
   ]
  },
  {
   "cell_type": "code",
   "execution_count": null,
   "metadata": {},
   "outputs": [],
   "source": []
  },
  {
   "cell_type": "markdown",
   "metadata": {},
   "source": [
    "# Create a random forest model and performing cross validation using training dataset"
   ]
  },
  {
   "cell_type": "code",
   "execution_count": 361,
   "metadata": {},
   "outputs": [],
   "source": [
    "from sklearn.ensemble import RandomForestClassifier\n",
    "from sklearn.model_selection import cross_val_score"
   ]
  },
  {
   "cell_type": "code",
   "execution_count": 366,
   "metadata": {},
   "outputs": [
    {
     "name": "stdout",
     "output_type": "stream",
     "text": [
      "[0.83333333 0.81595092 0.81993569]    5    5    0.8230733149656867\n",
      "[0.78994083 0.81791045 0.75505051]    5    10    0.7876339270713554\n",
      "[0.7712766  0.77078086 0.76701571]    5    15    0.7696910529913792\n",
      "[0.78       0.76657825 0.78510029]    5    20    0.7772261786232738\n",
      "[0.80130293 0.8119403  0.82392027]    10    5    0.8123878319614283\n",
      "[0.77310924 0.77748691 0.78706199]    10    10    0.7792193831004693\n",
      "[0.78674352 0.78215223 0.80167598]    10    15    0.790190574824968\n",
      "[0.79104478 0.78835979 0.77718833]    10    20    0.785530964463886\n",
      "[0.79402985 0.82568807 0.81360947]    20    5    0.8111091305321284\n",
      "[0.79821958 0.8        0.78753541]    20    10    0.7952516651115351\n",
      "[0.78901734 0.78740157 0.80392157]    20    15    0.793446828157021\n",
      "[0.79710145 0.79069767 0.76863753]    20    20    0.7854788852758811\n",
      "[0.81612903 0.8119403  0.81818182]    30    5    0.8154170496491151\n",
      "[0.79261364 0.78835979 0.8079096 ]    30    10    0.7962943430810663\n",
      "[0.78813559 0.78851175 0.77806789]    30    15    0.7849050758950303\n",
      "[0.79387187 0.79310345 0.79234973]    30    20    0.7931083471156942\n",
      "[0.81333333 0.8173913  0.8125    ]    50    5    0.8144082125603864\n",
      "[0.8005698 0.8109589 0.8034188]    50    10    0.8049825026993976\n",
      "[0.79775281 0.79002625 0.80108992]    50    15    0.7962896579880182\n",
      "[0.7867036  0.78795812 0.78763441]    50    20    0.7874320416311433\n",
      "[0.80434783 0.82317073 0.83443709]    100    5    0.8206518812956629\n",
      "[0.79545455 0.78609626 0.79888268]    100    10    0.7934778279010944\n",
      "[0.79597701 0.78385417 0.79891304]    100    15    0.7929147405463935\n",
      "[0.80174927 0.79255319 0.79234973]    100    20    0.7955507298007815\n"
     ]
    }
   ],
   "source": [
    "num_trees = [5, 10, 20, 30, 50, 100]\n",
    "max_depth = [5, 10, 15, 20]\n",
    "\n",
    "for trees in num_trees:\n",
    "    for depth in max_depth: \n",
    "        rf = RandomForestClassifier(n_estimators=trees,max_depth=depth, min_samples_split=10, min_samples_leaf=10)\n",
    "        rf_precison_scores = cross_val_score(rf, X_train_features, y_train, cv=3, scoring='precision')\n",
    "        print(rf_precison_scores, '  ', trees, '  ', depth, '  ', np.mean(rf_precison_scores))"
   ]
  },
  {
   "cell_type": "code",
   "execution_count": 367,
   "metadata": {},
   "outputs": [],
   "source": [
    "rf = RandomForestClassifier()"
   ]
  },
  {
   "cell_type": "code",
   "execution_count": 368,
   "metadata": {},
   "outputs": [
    {
     "data": {
      "text/plain": [
       "array([0.75656325, 0.72813239, 0.72019465])"
      ]
     },
     "execution_count": 368,
     "metadata": {},
     "output_type": "execute_result"
    }
   ],
   "source": [
    "cross_val_score(rf, X_train_features, y_train, cv=3, scoring='precision')"
   ]
  },
  {
   "cell_type": "code",
   "execution_count": null,
   "metadata": {},
   "outputs": [],
   "source": []
  },
  {
   "cell_type": "code",
   "execution_count": null,
   "metadata": {},
   "outputs": [],
   "source": []
  },
  {
   "cell_type": "markdown",
   "metadata": {},
   "source": [
    "# Create a gradient boosting model and performing cross validation using training dataset"
   ]
  },
  {
   "cell_type": "code",
   "execution_count": 306,
   "metadata": {},
   "outputs": [],
   "source": [
    "from sklearn.ensemble import GradientBoostingClassifier\n",
    "from sklearn.model_selection import cross_val_score"
   ]
  },
  {
   "cell_type": "code",
   "execution_count": 307,
   "metadata": {},
   "outputs": [],
   "source": [
    "gd = GradientBoostingClassifier()"
   ]
  },
  {
   "cell_type": "code",
   "execution_count": 308,
   "metadata": {},
   "outputs": [],
   "source": [
    "gd_precision_scores = cross_val_score(gd, X_train_features, y_train, cv=3, scoring='precision')"
   ]
  },
  {
   "cell_type": "code",
   "execution_count": 309,
   "metadata": {},
   "outputs": [
    {
     "data": {
      "text/plain": [
       "array([0.79108635, 0.78680203, 0.81337047])"
      ]
     },
     "execution_count": 309,
     "metadata": {},
     "output_type": "execute_result"
    }
   ],
   "source": [
    "gd_precision_scores"
   ]
  },
  {
   "cell_type": "code",
   "execution_count": 377,
   "metadata": {},
   "outputs": [
    {
     "name": "stdout",
     "output_type": "stream",
     "text": [
      "[0.83941606 0.82771536 0.86516854]    5    5    0.8440999845084156\n",
      "[0.83391003 0.80996885 0.82550336]    5    10    0.823127412552933\n",
      "[0.81424149 0.79289941 0.79216867]    5    15    0.7997698563503102\n",
      "[0.81677019 0.79289941 0.79216867]    5    20    0.8006127564394075\n",
      "[0.82178218 0.80712166 0.82242991]    10    5    0.8171112488269819\n",
      "[0.80232558 0.7972973  0.75925926]    10    10    0.7862940459839685\n",
      "[0.78918919 0.76214834 0.78225806]    10    15    0.7778651971004087\n",
      "[0.78706199 0.76349614 0.78284182]    10    20    0.7777999872081112\n",
      "[0.80538922 0.80397727 0.8173913 ]    20    5    0.8089192662106618\n",
      "[0.77894737 0.78125    0.75510204]    20    10    0.771766469745793\n",
      "[0.76470588 0.7549505  0.7638191 ]    20    15    0.7611584909599444\n",
      "[0.76708861 0.75123153 0.77099237]    20    20    0.7631041670335822\n",
      "[0.79096045 0.78974359 0.78378378]    30    5    0.7881626085015916\n",
      "[0.7755102  0.78061224 0.74494949]    30    10    0.7670239813096956\n",
      "[0.77020202 0.75490196 0.76010101]    30    15    0.7617349970291146\n",
      "[0.76119403 0.74757282 0.76455696]    30    20    0.7577746024700144\n",
      "[0.78474114 0.78       0.77044855]    50    5    0.7783965644089447\n",
      "[0.78205128 0.76767677 0.74314214]    50    10    0.7642900647888179\n",
      "[0.765      0.74447174 0.74875622]    50    15    0.7527426544590723\n",
      "[0.75550122 0.73012048 0.77099237]    50    20    0.7522046902779373\n",
      "[0.7664042  0.78078818 0.76578947]    100    5    0.7709939501663925\n",
      "[0.77020202 0.74680307 0.74559194]    100    10    0.754199009600776\n",
      "[0.75786925 0.73218673 0.75063613]    100    15    0.7468973712989757\n",
      "[0.74418605 0.73479319 0.7369727 ]    100    20    0.7386506461914001\n"
     ]
    }
   ],
   "source": [
    "num_trees = [5, 10, 20, 30, 50, 100]\n",
    "max_depth = [5, 10, 15, 20]\n",
    "\n",
    "for trees in num_trees:\n",
    "    for depth in max_depth: \n",
    "        gd = GradientBoostingClassifier(n_estimators=trees,max_depth=depth, min_samples_split=10, min_samples_leaf=10)\n",
    "        gd_precison_scores = cross_val_score(gd, X_train_features, y_train, cv=3, scoring='precision')\n",
    "        print(gd_precison_scores, '  ', trees, '  ', depth, '  ', np.mean(gd_precison_scores))"
   ]
  },
  {
   "cell_type": "code",
   "execution_count": 378,
   "metadata": {},
   "outputs": [
    {
     "name": "stdout",
     "output_type": "stream",
     "text": [
      "[0.51508121 0.52204176 0.54418605]    5    5    0.5271030054497383\n",
      "[0.52436195 0.56148492 0.54418605]    5    10    0.5433443047536827\n",
      "[0.5638051  0.57540603 0.59069767]    5    15    0.5766362704365187\n",
      "[0.60324826 0.59396752 0.59069767]    5    20    0.595971150560262\n",
      "[0.55916473 0.64269142 0.59069767]    10    5    0.5975179409701613\n",
      "[0.58468677 0.6287703  0.59534884]    10    10    0.6029353045918092\n",
      "[0.59396752 0.60324826 0.59069767]    10    15    0.595971150560262\n",
      "[0.63341067 0.62180974 0.60930233]    10    20    0.6215075810716021\n",
      "[0.62180974 0.67053364 0.6372093 ]    20    5    0.643184229932193\n",
      "[0.63109049 0.63109049 0.62790698]    20    10    0.6300293170740481\n",
      "[0.62645012 0.63573086 0.61860465]    20    15    0.6269285418802496\n",
      "[0.63109049 0.6287703  0.62093023]    20    20    0.6269303404737495\n",
      "[0.64037123 0.70069606 0.6627907 ]    30    5    0.6679526610190831\n",
      "[0.66357309 0.64269142 0.63488372]    30    10    0.6470494073634417\n",
      "[0.65429234 0.62645012 0.63255814]    30    15    0.6377668663105451\n",
      "[0.64037123 0.62645012 0.6255814 ]    30    20    0.6308009136854978\n",
      "[0.65429234 0.73317865 0.65813953]    50    5    0.6818701775211785\n",
      "[0.68213457 0.67517401 0.65813953]    50    10    0.6718160398568319\n",
      "[0.65893271 0.65197216 0.63488372]    50    15    0.6485961977733413\n",
      "[0.64037123 0.64269142 0.6255814 ]    50    20    0.636214680120146\n",
      "[0.68909513 0.71925754 0.67209302]    100    5    0.6934818971564237\n",
      "[0.69605568 0.67285383 0.66976744]    100    10    0.6795589848738287\n",
      "[0.67285383 0.66357309 0.6372093 ]    100    15    0.6578787388262378\n",
      "[0.63805104 0.66821346 0.62093023]    100    20    0.642398244572744\n"
     ]
    }
   ],
   "source": [
    "num_trees = [5, 10, 20, 30, 50, 100]\n",
    "max_depth = [5, 10, 15, 20]\n",
    "\n",
    "for trees in num_trees:\n",
    "    for depth in max_depth: \n",
    "        gd = GradientBoostingClassifier(n_estimators=trees,max_depth=depth)\n",
    "        gd_precison_scores = cross_val_score(gd, X_train_features, y_train, cv=3, scoring='recall')\n",
    "        print(gd_precison_scores, '  ', trees, '  ', depth, '  ', np.mean(gd_precison_scores))"
   ]
  },
  {
   "cell_type": "code",
   "execution_count": null,
   "metadata": {},
   "outputs": [],
   "source": []
  },
  {
   "cell_type": "code",
   "execution_count": null,
   "metadata": {},
   "outputs": [],
   "source": []
  },
  {
   "cell_type": "code",
   "execution_count": null,
   "metadata": {},
   "outputs": [],
   "source": []
  },
  {
   "cell_type": "code",
   "execution_count": null,
   "metadata": {},
   "outputs": [],
   "source": []
  },
  {
   "cell_type": "code",
   "execution_count": null,
   "metadata": {},
   "outputs": [],
   "source": []
  },
  {
   "cell_type": "code",
   "execution_count": null,
   "metadata": {},
   "outputs": [],
   "source": []
  },
  {
   "cell_type": "markdown",
   "metadata": {},
   "source": [
    "# Apply pipeline on test dataset"
   ]
  },
  {
   "cell_type": "code",
   "execution_count": 351,
   "metadata": {},
   "outputs": [],
   "source": [
    "# X_test['Balance'] = X_test.Balance.apply(lambda x : 0 if x<0 else x)\n",
    "# X_test['IsPreviouslyContacted'] = X_test.DaysPassed.apply(lambda x : 0 if x==-1 else 1)\n",
    "# X_test['DaysPassed'] = X_test.DaysPassed.apply(lambda x : 0 if x==-1 else x)\n",
    "# X_test['LastContactQuadrimester'] = X_test.LastContactMonth.apply(lambda x : quarter_month(x))\n",
    "# X_test['Job'] = X_test['Job'].fillna('missing')\n",
    "# X_test['JobCategory'] = X_test.Job.apply(lambda x : job_categories(x))\n",
    "# X_test['AgeCategory'] = X_test.Age.apply(lambda x : age_group(x))\n",
    "# X_train['CallDurationCategory'] = X_train.call_duration.apply(lambda x : duration_category(x/60))\n",
    "# X_test_1 = log_transformer.transform(X_test)\n",
    "# X_test_2 = standard_scaler.transform(X_test_1)\n",
    "# X_test_3 = fill_imX_train['JobCategory'] = X_train.Job.apply(lambda x : job_categories(x))puter.transform(X_test_2)\n",
    "# X_test_4 = knn_imputer.transform(X_test_3)\n",
    "# X_test_5 = one_hot_encoder.transform(X_test_4)\n",
    "\n",
    "############### converted negative balance to zero\n",
    "X_test['Balance'] = X_test.Balance.apply(lambda x : 0 if x<0 else x)\n",
    "\n",
    "############### create a new variable for indicting whether a client is previously contacted - Boolean\n",
    "X_test['IsPreviouslyContacted'] = X_test.DaysPassed.apply(lambda x : 0 if x==-1 else 1)\n",
    "\n",
    "############### convert -ve values for days passed\n",
    "X_test['DaysPassed'] = X_test.DaysPassed.apply(lambda x : 0 if x==-1 else x)\n",
    "\n",
    "############### convert month to quadrimester\n",
    "X_test['LastContactQuadrimester'] = X_test.LastContactMonth.apply(lambda x : quarter_month(x))\n",
    "\n",
    "X_test['Job'] = X_test['Job'].fillna('missing')\n",
    "X_test['JobCategory'] = X_test.Job.apply(lambda x : job_categories(x))\n",
    "X_test['AgeCategory'] = X_test.Age.apply(lambda x : age_group(x))\n",
    "X_test['CallDurationCategory'] = X_test.call_duration.apply(lambda x : duration_category(x/60))\n",
    "\n",
    "X_test_features = pipe.transform(X_test)\n",
    "X_test_features = X_test_features.drop(['LastContactMonth', 'Job', 'Age', 'call_duration', 'Balance'], axis=1)"
   ]
  },
  {
   "cell_type": "code",
   "execution_count": 352,
   "metadata": {},
   "outputs": [
    {
     "data": {
      "text/html": [
       "<div>\n",
       "<style scoped>\n",
       "    .dataframe tbody tr th:only-of-type {\n",
       "        vertical-align: middle;\n",
       "    }\n",
       "\n",
       "    .dataframe tbody tr th {\n",
       "        vertical-align: top;\n",
       "    }\n",
       "\n",
       "    .dataframe thead th {\n",
       "        text-align: right;\n",
       "    }\n",
       "</style>\n",
       "<table border=\"1\" class=\"dataframe\">\n",
       "  <thead>\n",
       "    <tr style=\"text-align: right;\">\n",
       "      <th></th>\n",
       "      <th>Marital_1</th>\n",
       "      <th>Marital_2</th>\n",
       "      <th>Marital_3</th>\n",
       "      <th>Education_1</th>\n",
       "      <th>Education_2</th>\n",
       "      <th>Education_3</th>\n",
       "      <th>HHInsurance</th>\n",
       "      <th>CarLoan</th>\n",
       "      <th>Communication_1</th>\n",
       "      <th>Communication_2</th>\n",
       "      <th>Communication_3</th>\n",
       "      <th>NoOfContacts</th>\n",
       "      <th>DaysPassed</th>\n",
       "      <th>PrevAttempts</th>\n",
       "      <th>Outcome_1</th>\n",
       "      <th>Outcome_2</th>\n",
       "      <th>Outcome_3</th>\n",
       "      <th>Outcome_4</th>\n",
       "      <th>IsPreviouslyContacted</th>\n",
       "      <th>LastContactQuadrimester_1</th>\n",
       "      <th>LastContactQuadrimester_2</th>\n",
       "      <th>LastContactQuadrimester_3</th>\n",
       "      <th>JobCategory_1</th>\n",
       "      <th>JobCategory_2</th>\n",
       "      <th>JobCategory_3</th>\n",
       "      <th>AgeCategory_1</th>\n",
       "      <th>AgeCategory_2</th>\n",
       "      <th>AgeCategory_3</th>\n",
       "      <th>CallDurationCategory_1</th>\n",
       "      <th>CallDurationCategory_2</th>\n",
       "      <th>CallDurationCategory_3</th>\n",
       "      <th>CallDurationCategory_4</th>\n",
       "    </tr>\n",
       "  </thead>\n",
       "  <tbody>\n",
       "    <tr>\n",
       "      <th>200</th>\n",
       "      <td>1</td>\n",
       "      <td>0</td>\n",
       "      <td>0</td>\n",
       "      <td>0</td>\n",
       "      <td>0</td>\n",
       "      <td>1</td>\n",
       "      <td>0</td>\n",
       "      <td>0</td>\n",
       "      <td>1</td>\n",
       "      <td>0</td>\n",
       "      <td>0</td>\n",
       "      <td>0.453474</td>\n",
       "      <td>-0.464205</td>\n",
       "      <td>-0.373862</td>\n",
       "      <td>1</td>\n",
       "      <td>0</td>\n",
       "      <td>0</td>\n",
       "      <td>0</td>\n",
       "      <td>1</td>\n",
       "      <td>1</td>\n",
       "      <td>0</td>\n",
       "      <td>0</td>\n",
       "      <td>0</td>\n",
       "      <td>1</td>\n",
       "      <td>0</td>\n",
       "      <td>1</td>\n",
       "      <td>0</td>\n",
       "      <td>0</td>\n",
       "      <td>0</td>\n",
       "      <td>0</td>\n",
       "      <td>1</td>\n",
       "      <td>0</td>\n",
       "    </tr>\n",
       "    <tr>\n",
       "      <th>1078</th>\n",
       "      <td>1</td>\n",
       "      <td>0</td>\n",
       "      <td>0</td>\n",
       "      <td>0</td>\n",
       "      <td>1</td>\n",
       "      <td>0</td>\n",
       "      <td>0</td>\n",
       "      <td>0</td>\n",
       "      <td>1</td>\n",
       "      <td>0</td>\n",
       "      <td>0</td>\n",
       "      <td>0.128621</td>\n",
       "      <td>-0.464205</td>\n",
       "      <td>-0.373862</td>\n",
       "      <td>1</td>\n",
       "      <td>0</td>\n",
       "      <td>0</td>\n",
       "      <td>0</td>\n",
       "      <td>1</td>\n",
       "      <td>1</td>\n",
       "      <td>0</td>\n",
       "      <td>0</td>\n",
       "      <td>1</td>\n",
       "      <td>0</td>\n",
       "      <td>0</td>\n",
       "      <td>1</td>\n",
       "      <td>0</td>\n",
       "      <td>0</td>\n",
       "      <td>1</td>\n",
       "      <td>0</td>\n",
       "      <td>0</td>\n",
       "      <td>0</td>\n",
       "    </tr>\n",
       "    <tr>\n",
       "      <th>610</th>\n",
       "      <td>1</td>\n",
       "      <td>0</td>\n",
       "      <td>0</td>\n",
       "      <td>1</td>\n",
       "      <td>0</td>\n",
       "      <td>0</td>\n",
       "      <td>0</td>\n",
       "      <td>1</td>\n",
       "      <td>1</td>\n",
       "      <td>0</td>\n",
       "      <td>0</td>\n",
       "      <td>0.453474</td>\n",
       "      <td>-0.464205</td>\n",
       "      <td>-0.373862</td>\n",
       "      <td>1</td>\n",
       "      <td>0</td>\n",
       "      <td>0</td>\n",
       "      <td>0</td>\n",
       "      <td>1</td>\n",
       "      <td>1</td>\n",
       "      <td>0</td>\n",
       "      <td>0</td>\n",
       "      <td>0</td>\n",
       "      <td>1</td>\n",
       "      <td>0</td>\n",
       "      <td>1</td>\n",
       "      <td>0</td>\n",
       "      <td>0</td>\n",
       "      <td>1</td>\n",
       "      <td>0</td>\n",
       "      <td>0</td>\n",
       "      <td>0</td>\n",
       "    </tr>\n",
       "    <tr>\n",
       "      <th>2159</th>\n",
       "      <td>0</td>\n",
       "      <td>1</td>\n",
       "      <td>0</td>\n",
       "      <td>0</td>\n",
       "      <td>0</td>\n",
       "      <td>1</td>\n",
       "      <td>1</td>\n",
       "      <td>0</td>\n",
       "      <td>1</td>\n",
       "      <td>0</td>\n",
       "      <td>0</td>\n",
       "      <td>-0.521084</td>\n",
       "      <td>-0.464205</td>\n",
       "      <td>-0.373862</td>\n",
       "      <td>1</td>\n",
       "      <td>0</td>\n",
       "      <td>0</td>\n",
       "      <td>0</td>\n",
       "      <td>1</td>\n",
       "      <td>1</td>\n",
       "      <td>0</td>\n",
       "      <td>0</td>\n",
       "      <td>0</td>\n",
       "      <td>1</td>\n",
       "      <td>0</td>\n",
       "      <td>1</td>\n",
       "      <td>0</td>\n",
       "      <td>0</td>\n",
       "      <td>0</td>\n",
       "      <td>1</td>\n",
       "      <td>0</td>\n",
       "      <td>0</td>\n",
       "    </tr>\n",
       "    <tr>\n",
       "      <th>1169</th>\n",
       "      <td>1</td>\n",
       "      <td>0</td>\n",
       "      <td>0</td>\n",
       "      <td>1</td>\n",
       "      <td>0</td>\n",
       "      <td>0</td>\n",
       "      <td>0</td>\n",
       "      <td>0</td>\n",
       "      <td>1</td>\n",
       "      <td>0</td>\n",
       "      <td>0</td>\n",
       "      <td>0.453474</td>\n",
       "      <td>-0.464205</td>\n",
       "      <td>-0.373862</td>\n",
       "      <td>1</td>\n",
       "      <td>0</td>\n",
       "      <td>0</td>\n",
       "      <td>0</td>\n",
       "      <td>1</td>\n",
       "      <td>1</td>\n",
       "      <td>0</td>\n",
       "      <td>0</td>\n",
       "      <td>1</td>\n",
       "      <td>0</td>\n",
       "      <td>0</td>\n",
       "      <td>1</td>\n",
       "      <td>0</td>\n",
       "      <td>0</td>\n",
       "      <td>1</td>\n",
       "      <td>0</td>\n",
       "      <td>0</td>\n",
       "      <td>0</td>\n",
       "    </tr>\n",
       "  </tbody>\n",
       "</table>\n",
       "</div>"
      ],
      "text/plain": [
       "      Marital_1  Marital_2  Marital_3  Education_1  Education_2  Education_3  HHInsurance  CarLoan  Communication_1  Communication_2  Communication_3  NoOfContacts  DaysPassed  PrevAttempts  Outcome_1  Outcome_2  Outcome_3  Outcome_4  IsPreviouslyContacted  LastContactQuadrimester_1  LastContactQuadrimester_2  LastContactQuadrimester_3  JobCategory_1  JobCategory_2  JobCategory_3  AgeCategory_1  AgeCategory_2  AgeCategory_3  CallDurationCategory_1  CallDurationCategory_2  CallDurationCategory_3  CallDurationCategory_4\n",
       "200           1          0          0            0            0            1            0        0                1                0                0      0.453474   -0.464205     -0.373862          1          0          0          0                      1                          1                          0                          0              0              1              0              1              0              0                       0                       0                       1                       0\n",
       "1078          1          0          0            0            1            0            0        0                1                0                0      0.128621   -0.464205     -0.373862          1          0          0          0                      1                          1                          0                          0              1              0              0              1              0              0                       1                       0                       0                       0\n",
       "610           1          0          0            1            0            0            0        1                1                0                0      0.453474   -0.464205     -0.373862          1          0          0          0                      1                          1                          0                          0              0              1              0              1              0              0                       1                       0                       0                       0\n",
       "2159          0          1          0            0            0            1            1        0                1                0                0     -0.521084   -0.464205     -0.373862          1          0          0          0                      1                          1                          0                          0              0              1              0              1              0              0                       0                       1                       0                       0\n",
       "1169          1          0          0            1            0            0            0        0                1                0                0      0.453474   -0.464205     -0.373862          1          0          0          0                      1                          1                          0                          0              1              0              0              1              0              0                       1                       0                       0                       0"
      ]
     },
     "execution_count": 352,
     "metadata": {},
     "output_type": "execute_result"
    }
   ],
   "source": [
    "X_test_features[0:5]"
   ]
  },
  {
   "cell_type": "markdown",
   "metadata": {},
   "source": [
    "# Fit the logistic regression model on train dataset and predict on test dataset"
   ]
  },
  {
   "cell_type": "code",
   "execution_count": 168,
   "metadata": {},
   "outputs": [
    {
     "data": {
      "text/plain": [
       "LogisticRegression(max_iter=500)"
      ]
     },
     "execution_count": 168,
     "metadata": {},
     "output_type": "execute_result"
    }
   ],
   "source": [
    "lg = LogisticRegression(max_iter=500)\n",
    "lg.fit(X_train_features, y_train)"
   ]
  },
  {
   "cell_type": "code",
   "execution_count": 169,
   "metadata": {},
   "outputs": [],
   "source": [
    "lg_pred = lg.predict(X_test_features)"
   ]
  },
  {
   "cell_type": "code",
   "execution_count": 170,
   "metadata": {},
   "outputs": [
    {
     "data": {
      "text/plain": [
       "0.8075"
      ]
     },
     "execution_count": 170,
     "metadata": {},
     "output_type": "execute_result"
    }
   ],
   "source": [
    "accuracy_score(y_test, lg_pred)"
   ]
  },
  {
   "cell_type": "code",
   "execution_count": 171,
   "metadata": {},
   "outputs": [
    {
     "data": {
      "text/plain": [
       "0.7564935064935064"
      ]
     },
     "execution_count": 171,
     "metadata": {},
     "output_type": "execute_result"
    }
   ],
   "source": [
    "precision_score(y_test, lg_pred)"
   ]
  },
  {
   "cell_type": "code",
   "execution_count": 172,
   "metadata": {},
   "outputs": [
    {
     "data": {
      "text/plain": [
       "0.7467948717948718"
      ]
     },
     "execution_count": 172,
     "metadata": {},
     "output_type": "execute_result"
    }
   ],
   "source": [
    "recall_score(y_test, lg_pred)"
   ]
  },
  {
   "cell_type": "code",
   "execution_count": null,
   "metadata": {},
   "outputs": [],
   "source": []
  },
  {
   "cell_type": "markdown",
   "metadata": {},
   "source": [
    "# Fit the random forest model on train dataset and predict on test dataset"
   ]
  },
  {
   "cell_type": "code",
   "execution_count": 369,
   "metadata": {},
   "outputs": [
    {
     "data": {
      "text/plain": [
       "RandomForestClassifier(max_depth=5, n_estimators=10)"
      ]
     },
     "execution_count": 369,
     "metadata": {},
     "output_type": "execute_result"
    }
   ],
   "source": [
    "rf = RandomForestClassifier(n_estimators=10, max_depth=5)\n",
    "rf.fit(X_train_features, y_train)"
   ]
  },
  {
   "cell_type": "code",
   "execution_count": 370,
   "metadata": {},
   "outputs": [
    {
     "data": {
      "text/plain": [
       "array([1.05088281e-02, 3.57374000e-03, 1.87840779e-03, 9.74317846e-05,\n",
       "       5.43554820e-03, 1.35986686e-03, 4.12018503e-02, 4.05792028e-03,\n",
       "       6.14616495e-02, 2.65285130e-02, 3.77843318e-03, 7.76023463e-03,\n",
       "       5.37573657e-02, 2.58504587e-02, 4.90383948e-02, 1.95552793e-03,\n",
       "       1.10998177e-01, 5.72422921e-03, 0.00000000e+00, 4.01726817e-02,\n",
       "       1.44331060e-02, 4.56249780e-04, 2.51163511e-03, 2.27914406e-02,\n",
       "       9.46558337e-03, 2.92992904e-02, 3.95546946e-02, 1.09370759e-02,\n",
       "       2.43862901e-01, 1.30412078e-01, 3.74136009e-02, 3.72308508e-03])"
      ]
     },
     "execution_count": 370,
     "metadata": {},
     "output_type": "execute_result"
    }
   ],
   "source": [
    "rf.feature_importances_"
   ]
  },
  {
   "cell_type": "code",
   "execution_count": 371,
   "metadata": {},
   "outputs": [],
   "source": [
    "feature_imp_arr = pd.DataFrame({'columns': X_train_features.columns, 'feature_importances': rf.feature_importances_})"
   ]
  },
  {
   "cell_type": "code",
   "execution_count": 372,
   "metadata": {},
   "outputs": [],
   "source": [
    "# feature_imp_arr.sort_values(by='feature_importances', ascending=False)"
   ]
  },
  {
   "cell_type": "code",
   "execution_count": 373,
   "metadata": {},
   "outputs": [],
   "source": [
    "rf_pred = rf.predict(X_test_features)"
   ]
  },
  {
   "cell_type": "code",
   "execution_count": 374,
   "metadata": {},
   "outputs": [
    {
     "data": {
      "text/plain": [
       "0.80375"
      ]
     },
     "execution_count": 374,
     "metadata": {},
     "output_type": "execute_result"
    }
   ],
   "source": [
    "accuracy_score(y_test, rf_pred)"
   ]
  },
  {
   "cell_type": "code",
   "execution_count": 375,
   "metadata": {},
   "outputs": [
    {
     "data": {
      "text/plain": [
       "0.8112449799196787"
      ]
     },
     "execution_count": 375,
     "metadata": {},
     "output_type": "execute_result"
    }
   ],
   "source": [
    "precision_score(y_test, rf_pred)"
   ]
  },
  {
   "cell_type": "code",
   "execution_count": 376,
   "metadata": {},
   "outputs": [
    {
     "data": {
      "text/plain": [
       "0.6474358974358975"
      ]
     },
     "execution_count": 376,
     "metadata": {},
     "output_type": "execute_result"
    }
   ],
   "source": [
    "recall_score(y_test, rf_pred)"
   ]
  },
  {
   "cell_type": "code",
   "execution_count": null,
   "metadata": {},
   "outputs": [],
   "source": []
  },
  {
   "cell_type": "code",
   "execution_count": null,
   "metadata": {},
   "outputs": [],
   "source": []
  },
  {
   "cell_type": "markdown",
   "metadata": {},
   "source": [
    "# Fit the gradient boosting model on train dataset and predict on test dataset"
   ]
  },
  {
   "cell_type": "code",
   "execution_count": 384,
   "metadata": {},
   "outputs": [
    {
     "data": {
      "text/plain": [
       "GradientBoostingClassifier(max_depth=5)"
      ]
     },
     "execution_count": 384,
     "metadata": {},
     "output_type": "execute_result"
    }
   ],
   "source": [
    "gb = GradientBoostingClassifier(n_estimators=100, max_depth=5)\n",
    "gb.fit(X_train_features, y_train)"
   ]
  },
  {
   "cell_type": "code",
   "execution_count": 385,
   "metadata": {},
   "outputs": [],
   "source": [
    "gb_pred = gb.predict(X_test_features)"
   ]
  },
  {
   "cell_type": "code",
   "execution_count": 386,
   "metadata": {},
   "outputs": [
    {
     "data": {
      "text/plain": [
       "0.805"
      ]
     },
     "execution_count": 386,
     "metadata": {},
     "output_type": "execute_result"
    }
   ],
   "source": [
    "accuracy_score(y_test, gb_pred)"
   ]
  },
  {
   "cell_type": "code",
   "execution_count": 387,
   "metadata": {},
   "outputs": [
    {
     "data": {
      "text/plain": [
       "0.7708333333333334"
      ]
     },
     "execution_count": 387,
     "metadata": {},
     "output_type": "execute_result"
    }
   ],
   "source": [
    "precision_score(y_test, gb_pred)"
   ]
  },
  {
   "cell_type": "code",
   "execution_count": 388,
   "metadata": {},
   "outputs": [
    {
     "data": {
      "text/plain": [
       "0.7115384615384616"
      ]
     },
     "execution_count": 388,
     "metadata": {},
     "output_type": "execute_result"
    }
   ],
   "source": [
    "recall_score(y_test, gb_pred)"
   ]
  },
  {
   "cell_type": "code",
   "execution_count": null,
   "metadata": {},
   "outputs": [],
   "source": []
  }
 ],
 "metadata": {
  "kernelspec": {
   "display_name": "Python 3",
   "language": "python",
   "name": "python3"
  },
  "language_info": {
   "codemirror_mode": {
    "name": "ipython",
    "version": 3
   },
   "file_extension": ".py",
   "mimetype": "text/x-python",
   "name": "python",
   "nbconvert_exporter": "python",
   "pygments_lexer": "ipython3",
   "version": "3.6.5"
  }
 },
 "nbformat": 4,
 "nbformat_minor": 2
}
