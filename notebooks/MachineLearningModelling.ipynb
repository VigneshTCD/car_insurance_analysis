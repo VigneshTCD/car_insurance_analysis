{
 "cells": [
  {
   "cell_type": "code",
   "execution_count": 1,
   "metadata": {},
   "outputs": [],
   "source": [
    "import pandas as pd\n",
    "import matplotlib.pyplot as plt\n",
    "import seaborn as sns\n",
    "import datetime as dt\n",
    "from sklearn.impute import KNNImputer\n",
    "from sklearn.preprocessing import StandardScaler\n",
    "from sklearn.neighbors import KNeighborsClassifier\n",
    "import category_encoders as ce   # version 1.2.8\n",
    "import numpy as np\n",
    "from sklearn.pipeline import Pipeline"
   ]
  },
  {
   "cell_type": "code",
   "execution_count": 2,
   "metadata": {},
   "outputs": [],
   "source": [
    "pd.set_option('display.max_rows', 500)\n",
    "pd.set_option('display.max_columns', 500)\n",
    "pd.set_option('display.width', 1000)"
   ]
  },
  {
   "cell_type": "code",
   "execution_count": 3,
   "metadata": {},
   "outputs": [
    {
     "name": "stderr",
     "output_type": "stream",
     "text": [
      "/home/vignesh/.local/lib/python3.6/site-packages/tensorflow/python/framework/dtypes.py:526: FutureWarning: Passing (type, 1) or '1type' as a synonym of type is deprecated; in a future version of numpy, it will be understood as (type, (1,)) / '(1,)type'.\n",
      "  _np_qint8 = np.dtype([(\"qint8\", np.int8, 1)])\n",
      "/home/vignesh/.local/lib/python3.6/site-packages/tensorflow/python/framework/dtypes.py:527: FutureWarning: Passing (type, 1) or '1type' as a synonym of type is deprecated; in a future version of numpy, it will be understood as (type, (1,)) / '(1,)type'.\n",
      "  _np_quint8 = np.dtype([(\"quint8\", np.uint8, 1)])\n",
      "/home/vignesh/.local/lib/python3.6/site-packages/tensorflow/python/framework/dtypes.py:528: FutureWarning: Passing (type, 1) or '1type' as a synonym of type is deprecated; in a future version of numpy, it will be understood as (type, (1,)) / '(1,)type'.\n",
      "  _np_qint16 = np.dtype([(\"qint16\", np.int16, 1)])\n",
      "/home/vignesh/.local/lib/python3.6/site-packages/tensorflow/python/framework/dtypes.py:529: FutureWarning: Passing (type, 1) or '1type' as a synonym of type is deprecated; in a future version of numpy, it will be understood as (type, (1,)) / '(1,)type'.\n",
      "  _np_quint16 = np.dtype([(\"quint16\", np.uint16, 1)])\n",
      "/home/vignesh/.local/lib/python3.6/site-packages/tensorflow/python/framework/dtypes.py:530: FutureWarning: Passing (type, 1) or '1type' as a synonym of type is deprecated; in a future version of numpy, it will be understood as (type, (1,)) / '(1,)type'.\n",
      "  _np_qint32 = np.dtype([(\"qint32\", np.int32, 1)])\n",
      "/home/vignesh/.local/lib/python3.6/site-packages/tensorflow/python/framework/dtypes.py:535: FutureWarning: Passing (type, 1) or '1type' as a synonym of type is deprecated; in a future version of numpy, it will be understood as (type, (1,)) / '(1,)type'.\n",
      "  np_resource = np.dtype([(\"resource\", np.ubyte, 1)])\n"
     ]
    }
   ],
   "source": [
    "import lightgbm as lgb\n",
    "import tensorflow"
   ]
  },
  {
   "cell_type": "markdown",
   "metadata": {},
   "source": [
    "# Read data"
   ]
  },
  {
   "cell_type": "code",
   "execution_count": 4,
   "metadata": {},
   "outputs": [],
   "source": [
    "data = pd.read_csv('../data/carInsurance_train.csv')"
   ]
  },
  {
   "cell_type": "code",
   "execution_count": 5,
   "metadata": {},
   "outputs": [],
   "source": [
    "from sklearn.model_selection import train_test_split"
   ]
  },
  {
   "cell_type": "markdown",
   "metadata": {},
   "source": [
    "# Holding out 20% of the sample for test dataset\n",
    "\n",
    "* Performing stratified sampling\n",
    "* X_train, y_train - training dataset\n",
    "* X_test, y_test - test dataset (hold-out)"
   ]
  },
  {
   "cell_type": "code",
   "execution_count": 6,
   "metadata": {},
   "outputs": [],
   "source": [
    "X = data.drop('CarInsurance', axis=1)\n",
    "target = data['CarInsurance']\n",
    "X_train, X_test, y_train, y_test = train_test_split(X, target,  test_size=0.2, random_state=1)"
   ]
  },
  {
   "cell_type": "markdown",
   "metadata": {},
   "source": [
    "# CallStart and CallEnd is converted to call duration"
   ]
  },
  {
   "cell_type": "code",
   "execution_count": 7,
   "metadata": {},
   "outputs": [
    {
     "name": "stderr",
     "output_type": "stream",
     "text": [
      "/home/vignesh/anaconda3/lib/python3.6/site-packages/ipykernel_launcher.py:20: SettingWithCopyWarning: \n",
      "A value is trying to be set on a copy of a slice from a DataFrame.\n",
      "Try using .loc[row_indexer,col_indexer] = value instead\n",
      "\n",
      "See the caveats in the documentation: http://pandas.pydata.org/pandas-docs/stable/indexing.html#indexing-view-versus-copy\n",
      "/home/vignesh/anaconda3/lib/python3.6/site-packages/ipykernel_launcher.py:41: SettingWithCopyWarning: \n",
      "A value is trying to be set on a copy of a slice from a DataFrame.\n",
      "Try using .loc[row_indexer,col_indexer] = value instead\n",
      "\n",
      "See the caveats in the documentation: http://pandas.pydata.org/pandas-docs/stable/indexing.html#indexing-view-versus-copy\n"
     ]
    }
   ],
   "source": [
    "call_duration_arr = []\n",
    "for index, row in X_train.iterrows():\n",
    "    \n",
    "    call_start = row['CallStart'] \n",
    "    call_end = row['CallEnd']\n",
    "    call_start_hr = call_start.split(':')[0]\n",
    "    call_start_min = call_start.split(':')[1]\n",
    "    call_start_sec = call_start.split(':')[2]\n",
    "    \n",
    "    call_end_hr = call_end.split(':')[0]\n",
    "    call_end_min = call_end.split(':')[1]\n",
    "    call_end_sec = call_end.split(':')[2]\n",
    "    \n",
    "    call_start_dt = dt.datetime(2013,12,30,int(call_start_hr),int(call_start_min),int(call_start_sec))\n",
    "    call_end_dt = dt.datetime(2013,12,30,int(call_end_hr),int(call_end_min),int(call_end_sec))\n",
    "\n",
    "    call_duration = (call_end_dt-call_start_dt).total_seconds()\n",
    "    call_duration_arr.append(call_duration)\n",
    "    \n",
    "X_train['call_duration'] = call_duration_arr\n",
    "\n",
    "call_duration_arr = []\n",
    "for index, row in X_test.iterrows():\n",
    "    \n",
    "    call_start = row['CallStart'] \n",
    "    call_end = row['CallEnd']\n",
    "    call_start_hr = call_start.split(':')[0]\n",
    "    call_start_min = call_start.split(':')[1]\n",
    "    call_start_sec = call_start.split(':')[2]\n",
    "    \n",
    "    call_end_hr = call_end.split(':')[0]\n",
    "    call_end_min = call_end.split(':')[1]\n",
    "    call_end_sec = call_end.split(':')[2]\n",
    "    \n",
    "    call_start_dt = dt.datetime(2013,12,30,int(call_start_hr),int(call_start_min),int(call_start_sec))\n",
    "    call_end_dt = dt.datetime(2013,12,30,int(call_end_hr),int(call_end_min),int(call_end_sec))\n",
    "\n",
    "    call_duration = (call_end_dt-call_start_dt).total_seconds()\n",
    "    call_duration_arr.append(call_duration)\n",
    "    \n",
    "X_test['call_duration'] = call_duration_arr"
   ]
  },
  {
   "cell_type": "markdown",
   "metadata": {},
   "source": [
    "# Removing unneccessary columns - ID, CallStart, CallEnd, LastContactDay, Default"
   ]
  },
  {
   "cell_type": "code",
   "execution_count": 8,
   "metadata": {},
   "outputs": [],
   "source": [
    "\n",
    "if len(set(['Id', 'CallStart', 'CallEnd', 'LastContactDay']) - set(list(X_train.columns)))<1:\n",
    "    X_train = X_train.drop(['Id', 'CallStart', 'CallEnd', 'LastContactDay', 'Default'], axis=1)\n",
    "    \n",
    "if len(set(['Id', 'CallStart', 'CallEnd', 'LastContactDay']) - set(list(X_test.columns)))<1:\n",
    "    X_test = X_test.drop(['Id', 'CallStart', 'CallEnd', 'LastContactDay', 'Default'], axis=1)"
   ]
  },
  {
   "cell_type": "code",
   "execution_count": 9,
   "metadata": {},
   "outputs": [
    {
     "data": {
      "text/plain": [
       "Age                    0\n",
       "Job                   16\n",
       "Marital                0\n",
       "Education            130\n",
       "Balance                0\n",
       "HHInsurance            0\n",
       "CarLoan                0\n",
       "Communication        724\n",
       "LastContactMonth       0\n",
       "NoOfContacts           0\n",
       "DaysPassed             0\n",
       "PrevAttempts           0\n",
       "Outcome             2434\n",
       "call_duration          0\n",
       "dtype: int64"
      ]
     },
     "execution_count": 9,
     "metadata": {},
     "output_type": "execute_result"
    }
   ],
   "source": [
    "X_train.isnull().sum()"
   ]
  },
  {
   "cell_type": "code",
   "execution_count": 10,
   "metadata": {},
   "outputs": [],
   "source": [
    "from sklearn.base import BaseEstimator\n",
    "from sklearn.base import TransformerMixin\n"
   ]
  },
  {
   "cell_type": "markdown",
   "metadata": {},
   "source": [
    "# Custom Transformer functions\n",
    "\n",
    "* Imputation\n",
    "* Log Transformation\n",
    "* Normalization"
   ]
  },
  {
   "cell_type": "code",
   "execution_count": 11,
   "metadata": {},
   "outputs": [],
   "source": [
    "class FillImputer(BaseEstimator, TransformerMixin):\n",
    "    def __init__(self, fill_dict):\n",
    "        super().__init__()\n",
    "        self.fill_dict = fill_dict\n",
    "\n",
    "    def fit(self, X, y=None):\n",
    "\n",
    "        return self\n",
    "\n",
    "    def transform(self, X, y=None):\n",
    "#         X[:] = (X.to_numpy() - self.means_) / self.std_\n",
    "\n",
    "        X_copy = X.copy()\n",
    "        X_copy = X_copy.fillna(self.fill_dict)\n",
    "\n",
    "        return X_copy\n",
    "    \n",
    "class kNNImputer(BaseEstimator, TransformerMixin):\n",
    "    def __init__(self):\n",
    "        super().__init__()\n",
    "        self.kneigh = KNeighborsClassifier(n_neighbors=3)\n",
    "        self.ce_one_hot = ce.OneHotEncoder(cols = ['Job','Marital'])\n",
    "        self.ce_one_hot_model = None\n",
    "\n",
    "    def fit(self, X, y=None):\n",
    "#         X = X.to_numpy()\n",
    "#         self.means_ = X.mean(axis=0, keepdims=True)\n",
    "#         self.std_ = X.std(axis=0, keepdims=True)\n",
    "        imputation_features_non_missing = X[~X.Education.isnull()][['Job', 'Marital', 'Age']]\n",
    "        education_non_missing = X[~X.Education.isnull()]['Education']\n",
    "        \n",
    "        self.ce_one_hot_model = self.ce_one_hot.fit(imputation_features_non_missing)\n",
    "        imputation_features_non_missing_encoded = self.ce_one_hot_model.transform(imputation_features_non_missing)\n",
    "        \n",
    "        self.kneigh.fit(X=imputation_features_non_missing_encoded, y=education_non_missing)\n",
    "    \n",
    "        return self\n",
    "    \n",
    "\n",
    "    def transform(self, X, y=None):\n",
    "#         X[:] = (X.to_numpy() - self.means_) / self.std_\n",
    "    \n",
    "#         non_missing = X[~X.Education.isnull()]\n",
    "#         missing = X[X.Education.isnull()]\n",
    "\n",
    "        X_copy = X.copy()\n",
    "    \n",
    "        missing_ind = X_copy[X_copy.Education.isnull()].index\n",
    "        education = X_copy.Education.copy()\n",
    "       \n",
    "        imputation_features_missing = X_copy[X_copy.Education.isnull()][['Job', 'Marital', 'Age']]\n",
    "        education_missing = X_copy[X_copy.Education.isnull()]['Education']\n",
    "                \n",
    "        imputation_features_missing_encoded = self.ce_one_hot_model.transform(imputation_features_missing)\n",
    "        missing_values_pred = self.kneigh.predict(imputation_features_missing_encoded)\n",
    "\n",
    "        counter = 0\n",
    "        for index in missing_ind:\n",
    "            education[index] = missing_values_pred[counter]\n",
    "            counter+=1\n",
    "        \n",
    "        X_copy['Education'] = education\n",
    "\n",
    "        return X_copy"
   ]
  },
  {
   "cell_type": "code",
   "execution_count": 12,
   "metadata": {},
   "outputs": [],
   "source": [
    "from sklearn.preprocessing import MinMaxScaler as min_max\n",
    "from sklearn.preprocessing import StandardScaler\n",
    "\n",
    "class LogTransformer(BaseEstimator, TransformerMixin):\n",
    "    def __init__(self, columns):\n",
    "        super().__init__()\n",
    "        self.columns = columns\n",
    "\n",
    "    def fit(self, X, y=None):\n",
    "\n",
    "        return self\n",
    "\n",
    "    def transform(self, X, y=None):\n",
    "        \n",
    "        X_copy = X.copy()\n",
    "\n",
    "        for col in self.columns:\n",
    "            X_copy[col] = np.log(X_copy[col]+1)\n",
    "        \n",
    "\n",
    "        return X_copy\n",
    "\n",
    "class MinMaxScalarMultiple(BaseEstimator, TransformerMixin):\n",
    "    def __init__(self, columns):\n",
    "        super().__init__()\n",
    "        self.columns = columns\n",
    "        self.normalizer = None\n",
    "\n",
    "    def fit(self, X, y=None):\n",
    "        self.normalizer = min_max()\n",
    "        self.normalizer.fit(X[self.columns])\n",
    "\n",
    "        return self\n",
    "\n",
    "    def transform(self, X, y=None):\n",
    "        \n",
    "        X_copy = X.copy()\n",
    "\n",
    "        normalized_vals = self.normalizer.transform(X[self.columns])\n",
    "        \n",
    "        for i in range(0, len(self.columns)):\n",
    "            col = [row[i] for row in normalized_vals]\n",
    "            X_copy[self.columns[i]] = col\n",
    "        \n",
    "\n",
    "        return X_copy\n",
    "    \n",
    "class StandardScalarMultiple(BaseEstimator, TransformerMixin):\n",
    "    def __init__(self, columns):\n",
    "        super().__init__()\n",
    "        self.columns = columns\n",
    "        self.normalizer = None\n",
    "\n",
    "    def fit(self, X, y=None):\n",
    "        self.normalizer = StandardScaler()\n",
    "        self.normalizer.fit(X[self.columns])\n",
    "\n",
    "        return self\n",
    "\n",
    "    def transform(self, X, y=None):\n",
    "        \n",
    "        X_copy = X.copy()\n",
    "\n",
    "        normalized_vals = self.normalizer.transform(X[self.columns])\n",
    "        \n",
    "        for i in range(0, len(self.columns)):\n",
    "            col = [row[i] for row in normalized_vals]\n",
    "            X_copy[self.columns[i]] = col\n",
    "        \n",
    "\n",
    "        return X_copy"
   ]
  },
  {
   "cell_type": "code",
   "execution_count": 13,
   "metadata": {},
   "outputs": [],
   "source": [
    "def quarter_month(x):\n",
    "    if x in ['jan', 'feb', 'mar', 'apr']:\n",
    "        return '1'\n",
    "    elif x in ['may', 'jun', 'jul', 'aug']:\n",
    "        return '2'\n",
    "    elif x in ['sep', 'oct', 'nov', 'dec']:\n",
    "        return '3'\n",
    "    \n",
    "def job_categories(x):\n",
    "    if x in ['blue-collar', 'entrepreneur', 'housemaid']:\n",
    "        return 'job1'\n",
    "    elif x in ['services', 'self-employed', 'admin.', 'technician', 'management', 'missing']:\n",
    "        return 'job2'\n",
    "    elif x in ['unemployed', 'retired', 'student']:\n",
    "        return 'job3'\n",
    "    else:\n",
    "        return 'no_group'\n",
    "    \n",
    "def age_group(x):\n",
    "    if x>=18 and x<=30:\n",
    "        return '18-30'\n",
    "    elif x>30 and x<=40:\n",
    "        return '31-40'\n",
    "    elif x>40 and x<=50:\n",
    "        return '41-50'\n",
    "    elif x>50 and x<=60:\n",
    "        return '51-60'\n",
    "    elif x>60:\n",
    "        return '>60'\n",
    "    \n",
    "def duration_category(x):\n",
    "    \n",
    "    if (x>0) and (x<=10):\n",
    "        return '0-10'\n",
    "    elif (x>10) and (x<=20):\n",
    "        return '10-20'\n",
    "    elif (x>20) and (x<=30):\n",
    "        return '20-30'\n",
    "    elif (x>30):\n",
    "        return '>30'\n",
    "    \n",
    "def no_of_contacts_category(x):\n",
    "    \n",
    "    \n",
    "    if (x>0 and x<=3):\n",
    "        return 'c1'\n",
    "    elif (x>3 and x<=8):\n",
    "        return 'c2'\n",
    "    else:\n",
    "        return 'c3'\n",
    "\n",
    "# def duration_category(x):\n",
    "    \n",
    "#     if (x>0) and (x<=10):\n",
    "#         return '0-10'\n",
    "#     else: return '>10'\n",
    "    "
   ]
  },
  {
   "cell_type": "code",
   "execution_count": 103,
   "metadata": {},
   "outputs": [],
   "source": [
    "############### converted negative balance to zero\n",
    "X_train['Balance'] = X_train.Balance.apply(lambda x : 0 if x<0 else x)\n",
    "\n",
    "############### create a new variable for indicting whether a client is previously contacted - Boolean\n",
    "X_train['IsPreviouslyContacted'] = X_train.DaysPassed.apply(lambda x : 0 if x==-1 else 1)\n",
    "\n",
    "############### convert -ve values for days passed\n",
    "X_train['DaysPassed'] = X_train.DaysPassed.apply(lambda x : 0 if x==-1 else x)\n",
    "\n",
    "############### convert month to quadrimester\n",
    "X_train['LastContactQuadrimester'] = X_train.LastContactMonth.apply(lambda x : quarter_month(x))\n",
    "\n",
    "X_train['Job'] = X_train['Job'].fillna('missing')\n",
    "X_train['JobCategory'] = X_train.Job.apply(lambda x : job_categories(x))\n",
    "X_train['AgeCategory'] = X_train.Age.apply(lambda x : age_group(x))\n",
    "X_train['CallDurationCategory'] = X_train.call_duration.apply(lambda x : duration_category(x/60))\n",
    "X_train['NoOfContactsCategory'] = X_train.NoOfContacts.apply(lambda x : no_of_contacts_category(x))\n"
   ]
  },
  {
   "cell_type": "code",
   "execution_count": 104,
   "metadata": {},
   "outputs": [
    {
     "data": {
      "text/plain": [
       "array(['c1', 'c2', 'c3'], dtype=object)"
      ]
     },
     "execution_count": 104,
     "metadata": {},
     "output_type": "execute_result"
    }
   ],
   "source": [
    "X_train.NoOfContactsCategory.unique()"
   ]
  },
  {
   "cell_type": "markdown",
   "metadata": {},
   "source": [
    "# Create a sklearn pipeline for feature engineering - imputation, encoding, scaling"
   ]
  },
  {
   "cell_type": "code",
   "execution_count": 325,
   "metadata": {},
   "outputs": [],
   "source": [
    "log_transformer = LogTransformer(columns=['call_duration'])\n",
    "standard_scaler = StandardScalarMultiple(columns=['Age', 'Balance', 'NoOfContacts', 'PrevAttempts', 'DaysPassed'])\n",
    "fill_imputer = FillImputer(fill_dict={'Communication': 'missing', 'Job' : 'missing', 'Outcome' : 'not_contacted'})\n",
    "knn_imputer = kNNImputer()\n",
    "one_hot_encoder = ce.OneHotEncoder(cols=['NoOfContactsCategory','CallDurationCategory','JobCategory', 'AgeCategory', 'Marital', 'Education', 'Outcome', 'Communication', 'LastContactQuadrimester'])\n",
    "\n",
    "\n",
    "pipe = Pipeline([('log_transformer', log_transformer), \n",
    "                 ('standard_scaler', standard_scaler),\n",
    "                 ('fill_imputer', fill_imputer),\n",
    "                 ('knn_imputer', knn_imputer),\n",
    "                 ('one_hot_encoder', one_hot_encoder)])\n",
    "\n",
    "pipe.fit(X_train)\n",
    "X_train_features = pipe.transform(X_train)\n",
    "X_train_features = X_train_features.drop(['NoOfContacts', 'LastContactMonth', 'Job', 'Age', 'call_duration', 'Balance'], axis=1)"
   ]
  },
  {
   "cell_type": "code",
   "execution_count": 326,
   "metadata": {},
   "outputs": [
    {
     "data": {
      "text/html": [
       "<div>\n",
       "<style scoped>\n",
       "    .dataframe tbody tr th:only-of-type {\n",
       "        vertical-align: middle;\n",
       "    }\n",
       "\n",
       "    .dataframe tbody tr th {\n",
       "        vertical-align: top;\n",
       "    }\n",
       "\n",
       "    .dataframe thead th {\n",
       "        text-align: right;\n",
       "    }\n",
       "</style>\n",
       "<table border=\"1\" class=\"dataframe\">\n",
       "  <thead>\n",
       "    <tr style=\"text-align: right;\">\n",
       "      <th></th>\n",
       "      <th>Marital_1</th>\n",
       "      <th>Marital_2</th>\n",
       "      <th>Marital_3</th>\n",
       "      <th>Education_1</th>\n",
       "      <th>Education_2</th>\n",
       "      <th>Education_3</th>\n",
       "      <th>HHInsurance</th>\n",
       "      <th>CarLoan</th>\n",
       "      <th>Communication_1</th>\n",
       "      <th>Communication_2</th>\n",
       "      <th>Communication_3</th>\n",
       "      <th>DaysPassed</th>\n",
       "      <th>PrevAttempts</th>\n",
       "      <th>Outcome_1</th>\n",
       "      <th>Outcome_2</th>\n",
       "      <th>Outcome_3</th>\n",
       "      <th>Outcome_4</th>\n",
       "      <th>IsPreviouslyContacted</th>\n",
       "      <th>LastContactQuadrimester_1</th>\n",
       "      <th>LastContactQuadrimester_2</th>\n",
       "      <th>LastContactQuadrimester_3</th>\n",
       "      <th>JobCategory_1</th>\n",
       "      <th>JobCategory_2</th>\n",
       "      <th>JobCategory_3</th>\n",
       "      <th>AgeCategory_1</th>\n",
       "      <th>AgeCategory_2</th>\n",
       "      <th>AgeCategory_3</th>\n",
       "      <th>AgeCategory_4</th>\n",
       "      <th>AgeCategory_5</th>\n",
       "      <th>CallDurationCategory_1</th>\n",
       "      <th>CallDurationCategory_2</th>\n",
       "      <th>CallDurationCategory_3</th>\n",
       "      <th>CallDurationCategory_4</th>\n",
       "      <th>NoOfContactsCategory_1</th>\n",
       "      <th>NoOfContactsCategory_2</th>\n",
       "      <th>NoOfContactsCategory_3</th>\n",
       "    </tr>\n",
       "  </thead>\n",
       "  <tbody>\n",
       "    <tr>\n",
       "      <th>2996</th>\n",
       "      <td>1</td>\n",
       "      <td>0</td>\n",
       "      <td>0</td>\n",
       "      <td>1</td>\n",
       "      <td>0</td>\n",
       "      <td>0</td>\n",
       "      <td>0</td>\n",
       "      <td>0</td>\n",
       "      <td>1</td>\n",
       "      <td>0</td>\n",
       "      <td>0</td>\n",
       "      <td>-0.464205</td>\n",
       "      <td>-0.373862</td>\n",
       "      <td>1</td>\n",
       "      <td>0</td>\n",
       "      <td>0</td>\n",
       "      <td>0</td>\n",
       "      <td>1</td>\n",
       "      <td>1</td>\n",
       "      <td>0</td>\n",
       "      <td>0</td>\n",
       "      <td>1</td>\n",
       "      <td>0</td>\n",
       "      <td>0</td>\n",
       "      <td>1</td>\n",
       "      <td>0</td>\n",
       "      <td>0</td>\n",
       "      <td>0</td>\n",
       "      <td>0</td>\n",
       "      <td>1</td>\n",
       "      <td>0</td>\n",
       "      <td>0</td>\n",
       "      <td>0</td>\n",
       "      <td>1</td>\n",
       "      <td>0</td>\n",
       "      <td>0</td>\n",
       "    </tr>\n",
       "    <tr>\n",
       "      <th>3295</th>\n",
       "      <td>1</td>\n",
       "      <td>0</td>\n",
       "      <td>0</td>\n",
       "      <td>1</td>\n",
       "      <td>0</td>\n",
       "      <td>0</td>\n",
       "      <td>1</td>\n",
       "      <td>0</td>\n",
       "      <td>1</td>\n",
       "      <td>0</td>\n",
       "      <td>0</td>\n",
       "      <td>-0.464205</td>\n",
       "      <td>-0.373862</td>\n",
       "      <td>1</td>\n",
       "      <td>0</td>\n",
       "      <td>0</td>\n",
       "      <td>0</td>\n",
       "      <td>1</td>\n",
       "      <td>1</td>\n",
       "      <td>0</td>\n",
       "      <td>0</td>\n",
       "      <td>0</td>\n",
       "      <td>1</td>\n",
       "      <td>0</td>\n",
       "      <td>0</td>\n",
       "      <td>1</td>\n",
       "      <td>0</td>\n",
       "      <td>0</td>\n",
       "      <td>0</td>\n",
       "      <td>1</td>\n",
       "      <td>0</td>\n",
       "      <td>0</td>\n",
       "      <td>0</td>\n",
       "      <td>1</td>\n",
       "      <td>0</td>\n",
       "      <td>0</td>\n",
       "    </tr>\n",
       "    <tr>\n",
       "      <th>2284</th>\n",
       "      <td>0</td>\n",
       "      <td>1</td>\n",
       "      <td>0</td>\n",
       "      <td>0</td>\n",
       "      <td>1</td>\n",
       "      <td>0</td>\n",
       "      <td>1</td>\n",
       "      <td>0</td>\n",
       "      <td>0</td>\n",
       "      <td>1</td>\n",
       "      <td>0</td>\n",
       "      <td>-0.464205</td>\n",
       "      <td>-0.373862</td>\n",
       "      <td>1</td>\n",
       "      <td>0</td>\n",
       "      <td>0</td>\n",
       "      <td>0</td>\n",
       "      <td>1</td>\n",
       "      <td>1</td>\n",
       "      <td>0</td>\n",
       "      <td>0</td>\n",
       "      <td>1</td>\n",
       "      <td>0</td>\n",
       "      <td>0</td>\n",
       "      <td>0</td>\n",
       "      <td>0</td>\n",
       "      <td>1</td>\n",
       "      <td>0</td>\n",
       "      <td>0</td>\n",
       "      <td>1</td>\n",
       "      <td>0</td>\n",
       "      <td>0</td>\n",
       "      <td>0</td>\n",
       "      <td>1</td>\n",
       "      <td>0</td>\n",
       "      <td>0</td>\n",
       "    </tr>\n",
       "    <tr>\n",
       "      <th>2793</th>\n",
       "      <td>1</td>\n",
       "      <td>0</td>\n",
       "      <td>0</td>\n",
       "      <td>0</td>\n",
       "      <td>1</td>\n",
       "      <td>0</td>\n",
       "      <td>0</td>\n",
       "      <td>0</td>\n",
       "      <td>1</td>\n",
       "      <td>0</td>\n",
       "      <td>0</td>\n",
       "      <td>1.424987</td>\n",
       "      <td>2.276469</td>\n",
       "      <td>0</td>\n",
       "      <td>1</td>\n",
       "      <td>0</td>\n",
       "      <td>0</td>\n",
       "      <td>1</td>\n",
       "      <td>1</td>\n",
       "      <td>0</td>\n",
       "      <td>0</td>\n",
       "      <td>1</td>\n",
       "      <td>0</td>\n",
       "      <td>0</td>\n",
       "      <td>1</td>\n",
       "      <td>0</td>\n",
       "      <td>0</td>\n",
       "      <td>0</td>\n",
       "      <td>0</td>\n",
       "      <td>1</td>\n",
       "      <td>0</td>\n",
       "      <td>0</td>\n",
       "      <td>0</td>\n",
       "      <td>1</td>\n",
       "      <td>0</td>\n",
       "      <td>0</td>\n",
       "    </tr>\n",
       "    <tr>\n",
       "      <th>787</th>\n",
       "      <td>1</td>\n",
       "      <td>0</td>\n",
       "      <td>0</td>\n",
       "      <td>0</td>\n",
       "      <td>0</td>\n",
       "      <td>1</td>\n",
       "      <td>0</td>\n",
       "      <td>0</td>\n",
       "      <td>1</td>\n",
       "      <td>0</td>\n",
       "      <td>0</td>\n",
       "      <td>-0.464205</td>\n",
       "      <td>-0.373862</td>\n",
       "      <td>1</td>\n",
       "      <td>0</td>\n",
       "      <td>0</td>\n",
       "      <td>0</td>\n",
       "      <td>1</td>\n",
       "      <td>1</td>\n",
       "      <td>0</td>\n",
       "      <td>0</td>\n",
       "      <td>0</td>\n",
       "      <td>1</td>\n",
       "      <td>0</td>\n",
       "      <td>0</td>\n",
       "      <td>1</td>\n",
       "      <td>0</td>\n",
       "      <td>0</td>\n",
       "      <td>0</td>\n",
       "      <td>0</td>\n",
       "      <td>1</td>\n",
       "      <td>0</td>\n",
       "      <td>0</td>\n",
       "      <td>0</td>\n",
       "      <td>1</td>\n",
       "      <td>0</td>\n",
       "    </tr>\n",
       "    <tr>\n",
       "      <th>2046</th>\n",
       "      <td>1</td>\n",
       "      <td>0</td>\n",
       "      <td>0</td>\n",
       "      <td>0</td>\n",
       "      <td>0</td>\n",
       "      <td>1</td>\n",
       "      <td>0</td>\n",
       "      <td>0</td>\n",
       "      <td>1</td>\n",
       "      <td>0</td>\n",
       "      <td>0</td>\n",
       "      <td>-0.464205</td>\n",
       "      <td>-0.373862</td>\n",
       "      <td>1</td>\n",
       "      <td>0</td>\n",
       "      <td>0</td>\n",
       "      <td>0</td>\n",
       "      <td>1</td>\n",
       "      <td>0</td>\n",
       "      <td>1</td>\n",
       "      <td>0</td>\n",
       "      <td>0</td>\n",
       "      <td>0</td>\n",
       "      <td>1</td>\n",
       "      <td>0</td>\n",
       "      <td>0</td>\n",
       "      <td>0</td>\n",
       "      <td>1</td>\n",
       "      <td>0</td>\n",
       "      <td>0</td>\n",
       "      <td>1</td>\n",
       "      <td>0</td>\n",
       "      <td>0</td>\n",
       "      <td>1</td>\n",
       "      <td>0</td>\n",
       "      <td>0</td>\n",
       "    </tr>\n",
       "    <tr>\n",
       "      <th>739</th>\n",
       "      <td>0</td>\n",
       "      <td>0</td>\n",
       "      <td>1</td>\n",
       "      <td>1</td>\n",
       "      <td>0</td>\n",
       "      <td>0</td>\n",
       "      <td>1</td>\n",
       "      <td>0</td>\n",
       "      <td>0</td>\n",
       "      <td>1</td>\n",
       "      <td>0</td>\n",
       "      <td>-0.464205</td>\n",
       "      <td>-0.373862</td>\n",
       "      <td>1</td>\n",
       "      <td>0</td>\n",
       "      <td>0</td>\n",
       "      <td>0</td>\n",
       "      <td>1</td>\n",
       "      <td>1</td>\n",
       "      <td>0</td>\n",
       "      <td>0</td>\n",
       "      <td>1</td>\n",
       "      <td>0</td>\n",
       "      <td>0</td>\n",
       "      <td>1</td>\n",
       "      <td>0</td>\n",
       "      <td>0</td>\n",
       "      <td>0</td>\n",
       "      <td>0</td>\n",
       "      <td>1</td>\n",
       "      <td>0</td>\n",
       "      <td>0</td>\n",
       "      <td>0</td>\n",
       "      <td>0</td>\n",
       "      <td>1</td>\n",
       "      <td>0</td>\n",
       "    </tr>\n",
       "    <tr>\n",
       "      <th>2149</th>\n",
       "      <td>0</td>\n",
       "      <td>0</td>\n",
       "      <td>1</td>\n",
       "      <td>1</td>\n",
       "      <td>0</td>\n",
       "      <td>0</td>\n",
       "      <td>1</td>\n",
       "      <td>0</td>\n",
       "      <td>0</td>\n",
       "      <td>1</td>\n",
       "      <td>0</td>\n",
       "      <td>-0.464205</td>\n",
       "      <td>-0.373862</td>\n",
       "      <td>1</td>\n",
       "      <td>0</td>\n",
       "      <td>0</td>\n",
       "      <td>0</td>\n",
       "      <td>1</td>\n",
       "      <td>1</td>\n",
       "      <td>0</td>\n",
       "      <td>0</td>\n",
       "      <td>1</td>\n",
       "      <td>0</td>\n",
       "      <td>0</td>\n",
       "      <td>0</td>\n",
       "      <td>0</td>\n",
       "      <td>1</td>\n",
       "      <td>0</td>\n",
       "      <td>0</td>\n",
       "      <td>1</td>\n",
       "      <td>0</td>\n",
       "      <td>0</td>\n",
       "      <td>0</td>\n",
       "      <td>1</td>\n",
       "      <td>0</td>\n",
       "      <td>0</td>\n",
       "    </tr>\n",
       "    <tr>\n",
       "      <th>3369</th>\n",
       "      <td>0</td>\n",
       "      <td>1</td>\n",
       "      <td>0</td>\n",
       "      <td>0</td>\n",
       "      <td>1</td>\n",
       "      <td>0</td>\n",
       "      <td>0</td>\n",
       "      <td>0</td>\n",
       "      <td>1</td>\n",
       "      <td>0</td>\n",
       "      <td>0</td>\n",
       "      <td>-0.464205</td>\n",
       "      <td>-0.373862</td>\n",
       "      <td>1</td>\n",
       "      <td>0</td>\n",
       "      <td>0</td>\n",
       "      <td>0</td>\n",
       "      <td>1</td>\n",
       "      <td>1</td>\n",
       "      <td>0</td>\n",
       "      <td>0</td>\n",
       "      <td>1</td>\n",
       "      <td>0</td>\n",
       "      <td>0</td>\n",
       "      <td>1</td>\n",
       "      <td>0</td>\n",
       "      <td>0</td>\n",
       "      <td>0</td>\n",
       "      <td>0</td>\n",
       "      <td>1</td>\n",
       "      <td>0</td>\n",
       "      <td>0</td>\n",
       "      <td>0</td>\n",
       "      <td>0</td>\n",
       "      <td>0</td>\n",
       "      <td>1</td>\n",
       "    </tr>\n",
       "    <tr>\n",
       "      <th>3492</th>\n",
       "      <td>0</td>\n",
       "      <td>0</td>\n",
       "      <td>1</td>\n",
       "      <td>1</td>\n",
       "      <td>0</td>\n",
       "      <td>0</td>\n",
       "      <td>1</td>\n",
       "      <td>1</td>\n",
       "      <td>1</td>\n",
       "      <td>0</td>\n",
       "      <td>0</td>\n",
       "      <td>-0.464205</td>\n",
       "      <td>-0.373862</td>\n",
       "      <td>1</td>\n",
       "      <td>0</td>\n",
       "      <td>0</td>\n",
       "      <td>0</td>\n",
       "      <td>1</td>\n",
       "      <td>0</td>\n",
       "      <td>1</td>\n",
       "      <td>0</td>\n",
       "      <td>0</td>\n",
       "      <td>1</td>\n",
       "      <td>0</td>\n",
       "      <td>1</td>\n",
       "      <td>0</td>\n",
       "      <td>0</td>\n",
       "      <td>0</td>\n",
       "      <td>0</td>\n",
       "      <td>1</td>\n",
       "      <td>0</td>\n",
       "      <td>0</td>\n",
       "      <td>0</td>\n",
       "      <td>1</td>\n",
       "      <td>0</td>\n",
       "      <td>0</td>\n",
       "    </tr>\n",
       "  </tbody>\n",
       "</table>\n",
       "</div>"
      ],
      "text/plain": [
       "      Marital_1  Marital_2  Marital_3  Education_1  Education_2  Education_3  HHInsurance  CarLoan  Communication_1  Communication_2  Communication_3  DaysPassed  PrevAttempts  Outcome_1  Outcome_2  Outcome_3  Outcome_4  IsPreviouslyContacted  LastContactQuadrimester_1  LastContactQuadrimester_2  LastContactQuadrimester_3  JobCategory_1  JobCategory_2  JobCategory_3  AgeCategory_1  AgeCategory_2  AgeCategory_3  AgeCategory_4  AgeCategory_5  CallDurationCategory_1  CallDurationCategory_2  CallDurationCategory_3  CallDurationCategory_4  NoOfContactsCategory_1  NoOfContactsCategory_2  NoOfContactsCategory_3\n",
       "2996          1          0          0            1            0            0            0        0                1                0                0   -0.464205     -0.373862          1          0          0          0                      1                          1                          0                          0              1              0              0              1              0              0              0              0                       1                       0                       0                       0                       1                       0                       0\n",
       "3295          1          0          0            1            0            0            1        0                1                0                0   -0.464205     -0.373862          1          0          0          0                      1                          1                          0                          0              0              1              0              0              1              0              0              0                       1                       0                       0                       0                       1                       0                       0\n",
       "2284          0          1          0            0            1            0            1        0                0                1                0   -0.464205     -0.373862          1          0          0          0                      1                          1                          0                          0              1              0              0              0              0              1              0              0                       1                       0                       0                       0                       1                       0                       0\n",
       "2793          1          0          0            0            1            0            0        0                1                0                0    1.424987      2.276469          0          1          0          0                      1                          1                          0                          0              1              0              0              1              0              0              0              0                       1                       0                       0                       0                       1                       0                       0\n",
       "787           1          0          0            0            0            1            0        0                1                0                0   -0.464205     -0.373862          1          0          0          0                      1                          1                          0                          0              0              1              0              0              1              0              0              0                       0                       1                       0                       0                       0                       1                       0\n",
       "2046          1          0          0            0            0            1            0        0                1                0                0   -0.464205     -0.373862          1          0          0          0                      1                          0                          1                          0              0              0              1              0              0              0              1              0                       0                       1                       0                       0                       1                       0                       0\n",
       "739           0          0          1            1            0            0            1        0                0                1                0   -0.464205     -0.373862          1          0          0          0                      1                          1                          0                          0              1              0              0              1              0              0              0              0                       1                       0                       0                       0                       0                       1                       0\n",
       "2149          0          0          1            1            0            0            1        0                0                1                0   -0.464205     -0.373862          1          0          0          0                      1                          1                          0                          0              1              0              0              0              0              1              0              0                       1                       0                       0                       0                       1                       0                       0\n",
       "3369          0          1          0            0            1            0            0        0                1                0                0   -0.464205     -0.373862          1          0          0          0                      1                          1                          0                          0              1              0              0              1              0              0              0              0                       1                       0                       0                       0                       0                       0                       1\n",
       "3492          0          0          1            1            0            0            1        1                1                0                0   -0.464205     -0.373862          1          0          0          0                      1                          0                          1                          0              0              1              0              1              0              0              0              0                       1                       0                       0                       0                       1                       0                       0"
      ]
     },
     "execution_count": 326,
     "metadata": {},
     "output_type": "execute_result"
    }
   ],
   "source": [
    "X_train_features[0:10]"
   ]
  },
  {
   "cell_type": "markdown",
   "metadata": {},
   "source": [
    "# Create a logistic regression model and performing cross validation using training dataset"
   ]
  },
  {
   "cell_type": "code",
   "execution_count": 327,
   "metadata": {},
   "outputs": [],
   "source": [
    "from sklearn.linear_model import LogisticRegression\n",
    "from sklearn.model_selection import cross_val_score\n",
    "from sklearn.metrics import accuracy_score, precision_score, recall_score"
   ]
  },
  {
   "cell_type": "code",
   "execution_count": 328,
   "metadata": {},
   "outputs": [],
   "source": [
    "lg = LogisticRegression(max_iter=500)"
   ]
  },
  {
   "cell_type": "code",
   "execution_count": null,
   "metadata": {},
   "outputs": [],
   "source": []
  },
  {
   "cell_type": "code",
   "execution_count": 331,
   "metadata": {},
   "outputs": [
    {
     "name": "stdout",
     "output_type": "stream",
     "text": [
      "Fitting 3 folds for each of 4 candidates, totalling 12 fits\n"
     ]
    },
    {
     "name": "stderr",
     "output_type": "stream",
     "text": [
      "[Parallel(n_jobs=8)]: Using backend LokyBackend with 8 concurrent workers.\n",
      "[Parallel(n_jobs=8)]: Done  10 out of  12 | elapsed:    0.1s remaining:    0.0s\n",
      "[Parallel(n_jobs=8)]: Done  12 out of  12 | elapsed:    0.1s finished\n"
     ]
    }
   ],
   "source": [
    "from sklearn.model_selection import GridSearchCV\n",
    "param_grid = {\n",
    "   'C': [0.001, 0.01, 0.1, 1]\n",
    "    }\n",
    "search = GridSearchCV(lg, param_grid, cv=3, scoring='accuracy', verbose=1, n_jobs=8).fit(X_train_features, y_train)"
   ]
  },
  {
   "cell_type": "code",
   "execution_count": 332,
   "metadata": {},
   "outputs": [
    {
     "data": {
      "text/plain": [
       "LogisticRegression(C=0.1, max_iter=500)"
      ]
     },
     "execution_count": 332,
     "metadata": {},
     "output_type": "execute_result"
    }
   ],
   "source": [
    "search.best_estimator_"
   ]
  },
  {
   "cell_type": "markdown",
   "metadata": {},
   "source": [
    "# Create a random forest model and performing cross validation using training dataset"
   ]
  },
  {
   "cell_type": "code",
   "execution_count": 333,
   "metadata": {},
   "outputs": [],
   "source": [
    "from sklearn.ensemble import RandomForestClassifier\n",
    "from sklearn.model_selection import cross_val_score"
   ]
  },
  {
   "cell_type": "code",
   "execution_count": 334,
   "metadata": {},
   "outputs": [],
   "source": [
    "rf = RandomForestClassifier()"
   ]
  },
  {
   "cell_type": "code",
   "execution_count": 335,
   "metadata": {},
   "outputs": [
    {
     "name": "stdout",
     "output_type": "stream",
     "text": [
      "Fitting 3 folds for each of 100 candidates, totalling 300 fits\n"
     ]
    },
    {
     "name": "stderr",
     "output_type": "stream",
     "text": [
      "[Parallel(n_jobs=8)]: Using backend LokyBackend with 8 concurrent workers.\n",
      "[Parallel(n_jobs=8)]: Done  56 tasks      | elapsed:    0.8s\n",
      "[Parallel(n_jobs=8)]: Done 285 out of 300 | elapsed:    3.6s remaining:    0.2s\n",
      "[Parallel(n_jobs=8)]: Done 300 out of 300 | elapsed:    3.8s finished\n"
     ]
    }
   ],
   "source": [
    "from sklearn.model_selection import GridSearchCV\n",
    "param_grid = {\n",
    "   'n_estimators': [5, 10, 20, 30, 50],\n",
    "   'max_depth': [5, 10, 15, 20],\n",
    "   'min_samples_split': [20, 30, 50, 70, 100]\n",
    "    }\n",
    "search = GridSearchCV(rf, param_grid, cv=3, scoring='accuracy', verbose=1, n_jobs=8).fit(X_train_features, y_train)"
   ]
  },
  {
   "cell_type": "code",
   "execution_count": 336,
   "metadata": {},
   "outputs": [
    {
     "data": {
      "text/plain": [
       "RandomForestClassifier(max_depth=15, min_samples_split=20, n_estimators=20)"
      ]
     },
     "execution_count": 336,
     "metadata": {},
     "output_type": "execute_result"
    }
   ],
   "source": [
    "search.best_estimator_"
   ]
  },
  {
   "cell_type": "code",
   "execution_count": 337,
   "metadata": {},
   "outputs": [],
   "source": [
    "rf = RandomForestClassifier()"
   ]
  },
  {
   "cell_type": "code",
   "execution_count": 338,
   "metadata": {},
   "outputs": [
    {
     "data": {
      "text/plain": [
       "array([0.77135678, 0.72009569, 0.73658537])"
      ]
     },
     "execution_count": 338,
     "metadata": {},
     "output_type": "execute_result"
    }
   ],
   "source": [
    "cross_val_score(rf, X_train_features, y_train, cv=3, scoring='precision')"
   ]
  },
  {
   "cell_type": "code",
   "execution_count": null,
   "metadata": {},
   "outputs": [],
   "source": []
  },
  {
   "cell_type": "code",
   "execution_count": null,
   "metadata": {},
   "outputs": [],
   "source": []
  },
  {
   "cell_type": "markdown",
   "metadata": {},
   "source": [
    "# Create a gradient boosting model and performing cross validation using training dataset"
   ]
  },
  {
   "cell_type": "code",
   "execution_count": 339,
   "metadata": {},
   "outputs": [],
   "source": [
    "from sklearn.ensemble import GradientBoostingClassifier\n",
    "from sklearn.model_selection import cross_val_score"
   ]
  },
  {
   "cell_type": "code",
   "execution_count": 340,
   "metadata": {},
   "outputs": [],
   "source": [
    "gd = GradientBoostingClassifier()"
   ]
  },
  {
   "cell_type": "code",
   "execution_count": 196,
   "metadata": {},
   "outputs": [],
   "source": [
    "gd_precision_scores = cross_val_score(gd, X_train_features, y_train, cv=3, scoring='precision')"
   ]
  },
  {
   "cell_type": "code",
   "execution_count": 197,
   "metadata": {},
   "outputs": [
    {
     "data": {
      "text/plain": [
       "array([0.79108635, 0.7840617 , 0.79569892])"
      ]
     },
     "execution_count": 197,
     "metadata": {},
     "output_type": "execute_result"
    }
   ],
   "source": [
    "gd_precision_scores"
   ]
  },
  {
   "cell_type": "code",
   "execution_count": 382,
   "metadata": {},
   "outputs": [
    {
     "name": "stdout",
     "output_type": "stream",
     "text": [
      "Fitting 3 folds for each of 300 candidates, totalling 900 fits\n"
     ]
    },
    {
     "name": "stderr",
     "output_type": "stream",
     "text": [
      "[Parallel(n_jobs=8)]: Using backend LokyBackend with 8 concurrent workers.\n",
      "[Parallel(n_jobs=8)]: Done  52 tasks      | elapsed:    1.1s\n",
      "[Parallel(n_jobs=8)]: Done 288 tasks      | elapsed:   11.3s\n",
      "[Parallel(n_jobs=8)]: Done 538 tasks      | elapsed:   22.0s\n",
      "[Parallel(n_jobs=8)]: Done 900 out of 900 | elapsed:   39.4s finished\n"
     ]
    }
   ],
   "source": [
    "from sklearn.model_selection import GridSearchCV\n",
    "param_grid = {\n",
    "   'n_estimators': [5, 10, 20, 30, 50],\n",
    "   'max_depth': [5, 10, 15, 20],\n",
    "   'min_samples_split': [20, 30, 50, 70, 100],\n",
    "   'learning_rate': [0.001, 0.01, 0.1]\n",
    "    }\n",
    "search = GridSearchCV(gd, param_grid, cv=3, scoring='accuracy', verbose=1, n_jobs=8).fit(X_train_features, y_train)"
   ]
  },
  {
   "cell_type": "code",
   "execution_count": 383,
   "metadata": {},
   "outputs": [
    {
     "data": {
      "text/plain": [
       "GradientBoostingClassifier(max_depth=5, min_samples_split=50, n_estimators=50)"
      ]
     },
     "execution_count": 383,
     "metadata": {},
     "output_type": "execute_result"
    }
   ],
   "source": [
    "search.best_estimator_"
   ]
  },
  {
   "cell_type": "code",
   "execution_count": 384,
   "metadata": {},
   "outputs": [
    {
     "data": {
      "text/plain": [
       "{'learning_rate': 0.1,\n",
       " 'max_depth': 5,\n",
       " 'min_samples_split': 50,\n",
       " 'n_estimators': 50}"
      ]
     },
     "execution_count": 384,
     "metadata": {},
     "output_type": "execute_result"
    }
   ],
   "source": [
    "search.best_params_"
   ]
  },
  {
   "cell_type": "code",
   "execution_count": null,
   "metadata": {},
   "outputs": [],
   "source": []
  },
  {
   "cell_type": "code",
   "execution_count": null,
   "metadata": {},
   "outputs": [],
   "source": []
  },
  {
   "cell_type": "code",
   "execution_count": null,
   "metadata": {},
   "outputs": [],
   "source": []
  },
  {
   "cell_type": "code",
   "execution_count": null,
   "metadata": {},
   "outputs": [],
   "source": []
  },
  {
   "cell_type": "markdown",
   "metadata": {},
   "source": [
    "# Apply pipeline on test dataset"
   ]
  },
  {
   "cell_type": "code",
   "execution_count": 343,
   "metadata": {},
   "outputs": [],
   "source": [
    "# X_test['Balance'] = X_test.Balance.apply(lambda x : 0 if x<0 else x)\n",
    "# X_test['IsPreviouslyContacted'] = X_test.DaysPassed.apply(lambda x : 0 if x==-1 else 1)\n",
    "# X_test['DaysPassed'] = X_test.DaysPassed.apply(lambda x : 0 if x==-1 else x)\n",
    "# X_test['LastContactQuadrimester'] = X_test.LastContactMonth.apply(lambda x : quarter_month(x))\n",
    "# X_test['Job'] = X_test['Job'].fillna('missing')\n",
    "# X_test['JobCategory'] = X_test.Job.apply(lambda x : job_categories(x))\n",
    "# X_test['AgeCategory'] = X_test.Age.apply(lambda x : age_group(x))\n",
    "# X_train['CallDurationCategory'] = X_train.call_duration.apply(lambda x : duration_category(x/60))\n",
    "# X_test_1 = log_transformer.transform(X_test)\n",
    "# X_test_2 = standard_scaler.transform(X_test_1)\n",
    "# X_test_3 = fill_imX_train['JobCategory'] = X_train.Job.apply(lambda x : job_categories(x))puter.transform(X_test_2)\n",
    "# X_test_4 = knn_imputer.transform(X_test_3)\n",
    "# X_test_5 = one_hot_encoder.transform(X_test_4)\n",
    "\n",
    "############### converted negative balance to zero\n",
    "X_test['Balance'] = X_test.Balance.apply(lambda x : 0 if x<0 else x)\n",
    "\n",
    "############### create a new variable for indicting whether a client is previously contacted - Boolean\n",
    "X_test['IsPreviouslyContacted'] = X_test.DaysPassed.apply(lambda x : 0 if x==-1 else 1)\n",
    "\n",
    "############### convert -ve values for days passed\n",
    "X_test['DaysPassed'] = X_test.DaysPassed.apply(lambda x : 0 if x==-1 else x)\n",
    "\n",
    "############### convert month to quadrimester\n",
    "X_test['LastContactQuadrimester'] = X_test.LastContactMonth.apply(lambda x : quarter_month(x))\n",
    "\n",
    "X_test['Job'] = X_test['Job'].fillna('missing')\n",
    "X_test['JobCategory'] = X_test.Job.apply(lambda x : job_categories(x))\n",
    "X_test['AgeCategory'] = X_test.Age.apply(lambda x : age_group(x))\n",
    "X_test['CallDurationCategory'] = X_test.call_duration.apply(lambda x : duration_category(x/60))\n",
    "X_test['NoOfContactsCategory'] = X_test.NoOfContacts.apply(lambda x : no_of_contacts_category(x))\n",
    "\n",
    "\n",
    "X_test_features = pipe.transform(X_test)\n",
    "X_test_features = X_test_features.drop(['NoOfContacts', 'LastContactMonth', 'Job', 'Age', 'call_duration', 'Balance'], axis=1)"
   ]
  },
  {
   "cell_type": "code",
   "execution_count": 344,
   "metadata": {},
   "outputs": [
    {
     "data": {
      "text/html": [
       "<div>\n",
       "<style scoped>\n",
       "    .dataframe tbody tr th:only-of-type {\n",
       "        vertical-align: middle;\n",
       "    }\n",
       "\n",
       "    .dataframe tbody tr th {\n",
       "        vertical-align: top;\n",
       "    }\n",
       "\n",
       "    .dataframe thead th {\n",
       "        text-align: right;\n",
       "    }\n",
       "</style>\n",
       "<table border=\"1\" class=\"dataframe\">\n",
       "  <thead>\n",
       "    <tr style=\"text-align: right;\">\n",
       "      <th></th>\n",
       "      <th>Marital_1</th>\n",
       "      <th>Marital_2</th>\n",
       "      <th>Marital_3</th>\n",
       "      <th>Education_1</th>\n",
       "      <th>Education_2</th>\n",
       "      <th>Education_3</th>\n",
       "      <th>HHInsurance</th>\n",
       "      <th>CarLoan</th>\n",
       "      <th>Communication_1</th>\n",
       "      <th>Communication_2</th>\n",
       "      <th>Communication_3</th>\n",
       "      <th>DaysPassed</th>\n",
       "      <th>PrevAttempts</th>\n",
       "      <th>Outcome_1</th>\n",
       "      <th>Outcome_2</th>\n",
       "      <th>Outcome_3</th>\n",
       "      <th>Outcome_4</th>\n",
       "      <th>IsPreviouslyContacted</th>\n",
       "      <th>LastContactQuadrimester_1</th>\n",
       "      <th>LastContactQuadrimester_2</th>\n",
       "      <th>LastContactQuadrimester_3</th>\n",
       "      <th>JobCategory_1</th>\n",
       "      <th>JobCategory_2</th>\n",
       "      <th>JobCategory_3</th>\n",
       "      <th>AgeCategory_1</th>\n",
       "      <th>AgeCategory_2</th>\n",
       "      <th>AgeCategory_3</th>\n",
       "      <th>AgeCategory_4</th>\n",
       "      <th>AgeCategory_5</th>\n",
       "      <th>CallDurationCategory_1</th>\n",
       "      <th>CallDurationCategory_2</th>\n",
       "      <th>CallDurationCategory_3</th>\n",
       "      <th>CallDurationCategory_4</th>\n",
       "      <th>NoOfContactsCategory_1</th>\n",
       "      <th>NoOfContactsCategory_2</th>\n",
       "      <th>NoOfContactsCategory_3</th>\n",
       "    </tr>\n",
       "  </thead>\n",
       "  <tbody>\n",
       "    <tr>\n",
       "      <th>200</th>\n",
       "      <td>1</td>\n",
       "      <td>0</td>\n",
       "      <td>0</td>\n",
       "      <td>0</td>\n",
       "      <td>0</td>\n",
       "      <td>1</td>\n",
       "      <td>0</td>\n",
       "      <td>0</td>\n",
       "      <td>1</td>\n",
       "      <td>0</td>\n",
       "      <td>0</td>\n",
       "      <td>-0.464205</td>\n",
       "      <td>-0.373862</td>\n",
       "      <td>1</td>\n",
       "      <td>0</td>\n",
       "      <td>0</td>\n",
       "      <td>0</td>\n",
       "      <td>1</td>\n",
       "      <td>1</td>\n",
       "      <td>0</td>\n",
       "      <td>0</td>\n",
       "      <td>0</td>\n",
       "      <td>1</td>\n",
       "      <td>0</td>\n",
       "      <td>0</td>\n",
       "      <td>1</td>\n",
       "      <td>0</td>\n",
       "      <td>0</td>\n",
       "      <td>0</td>\n",
       "      <td>0</td>\n",
       "      <td>0</td>\n",
       "      <td>1</td>\n",
       "      <td>0</td>\n",
       "      <td>0</td>\n",
       "      <td>1</td>\n",
       "      <td>0</td>\n",
       "    </tr>\n",
       "    <tr>\n",
       "      <th>1078</th>\n",
       "      <td>1</td>\n",
       "      <td>0</td>\n",
       "      <td>0</td>\n",
       "      <td>0</td>\n",
       "      <td>1</td>\n",
       "      <td>0</td>\n",
       "      <td>0</td>\n",
       "      <td>0</td>\n",
       "      <td>1</td>\n",
       "      <td>0</td>\n",
       "      <td>0</td>\n",
       "      <td>-0.464205</td>\n",
       "      <td>-0.373862</td>\n",
       "      <td>1</td>\n",
       "      <td>0</td>\n",
       "      <td>0</td>\n",
       "      <td>0</td>\n",
       "      <td>1</td>\n",
       "      <td>1</td>\n",
       "      <td>0</td>\n",
       "      <td>0</td>\n",
       "      <td>1</td>\n",
       "      <td>0</td>\n",
       "      <td>0</td>\n",
       "      <td>1</td>\n",
       "      <td>0</td>\n",
       "      <td>0</td>\n",
       "      <td>0</td>\n",
       "      <td>0</td>\n",
       "      <td>1</td>\n",
       "      <td>0</td>\n",
       "      <td>0</td>\n",
       "      <td>0</td>\n",
       "      <td>1</td>\n",
       "      <td>0</td>\n",
       "      <td>0</td>\n",
       "    </tr>\n",
       "    <tr>\n",
       "      <th>610</th>\n",
       "      <td>1</td>\n",
       "      <td>0</td>\n",
       "      <td>0</td>\n",
       "      <td>1</td>\n",
       "      <td>0</td>\n",
       "      <td>0</td>\n",
       "      <td>0</td>\n",
       "      <td>1</td>\n",
       "      <td>1</td>\n",
       "      <td>0</td>\n",
       "      <td>0</td>\n",
       "      <td>-0.464205</td>\n",
       "      <td>-0.373862</td>\n",
       "      <td>1</td>\n",
       "      <td>0</td>\n",
       "      <td>0</td>\n",
       "      <td>0</td>\n",
       "      <td>1</td>\n",
       "      <td>1</td>\n",
       "      <td>0</td>\n",
       "      <td>0</td>\n",
       "      <td>0</td>\n",
       "      <td>1</td>\n",
       "      <td>0</td>\n",
       "      <td>0</td>\n",
       "      <td>1</td>\n",
       "      <td>0</td>\n",
       "      <td>0</td>\n",
       "      <td>0</td>\n",
       "      <td>1</td>\n",
       "      <td>0</td>\n",
       "      <td>0</td>\n",
       "      <td>0</td>\n",
       "      <td>0</td>\n",
       "      <td>1</td>\n",
       "      <td>0</td>\n",
       "    </tr>\n",
       "    <tr>\n",
       "      <th>2159</th>\n",
       "      <td>0</td>\n",
       "      <td>1</td>\n",
       "      <td>0</td>\n",
       "      <td>0</td>\n",
       "      <td>0</td>\n",
       "      <td>1</td>\n",
       "      <td>1</td>\n",
       "      <td>0</td>\n",
       "      <td>1</td>\n",
       "      <td>0</td>\n",
       "      <td>0</td>\n",
       "      <td>-0.464205</td>\n",
       "      <td>-0.373862</td>\n",
       "      <td>1</td>\n",
       "      <td>0</td>\n",
       "      <td>0</td>\n",
       "      <td>0</td>\n",
       "      <td>1</td>\n",
       "      <td>1</td>\n",
       "      <td>0</td>\n",
       "      <td>0</td>\n",
       "      <td>0</td>\n",
       "      <td>1</td>\n",
       "      <td>0</td>\n",
       "      <td>0</td>\n",
       "      <td>0</td>\n",
       "      <td>1</td>\n",
       "      <td>0</td>\n",
       "      <td>0</td>\n",
       "      <td>0</td>\n",
       "      <td>1</td>\n",
       "      <td>0</td>\n",
       "      <td>0</td>\n",
       "      <td>1</td>\n",
       "      <td>0</td>\n",
       "      <td>0</td>\n",
       "    </tr>\n",
       "    <tr>\n",
       "      <th>1169</th>\n",
       "      <td>1</td>\n",
       "      <td>0</td>\n",
       "      <td>0</td>\n",
       "      <td>1</td>\n",
       "      <td>0</td>\n",
       "      <td>0</td>\n",
       "      <td>0</td>\n",
       "      <td>0</td>\n",
       "      <td>1</td>\n",
       "      <td>0</td>\n",
       "      <td>0</td>\n",
       "      <td>-0.464205</td>\n",
       "      <td>-0.373862</td>\n",
       "      <td>1</td>\n",
       "      <td>0</td>\n",
       "      <td>0</td>\n",
       "      <td>0</td>\n",
       "      <td>1</td>\n",
       "      <td>1</td>\n",
       "      <td>0</td>\n",
       "      <td>0</td>\n",
       "      <td>1</td>\n",
       "      <td>0</td>\n",
       "      <td>0</td>\n",
       "      <td>0</td>\n",
       "      <td>1</td>\n",
       "      <td>0</td>\n",
       "      <td>0</td>\n",
       "      <td>0</td>\n",
       "      <td>1</td>\n",
       "      <td>0</td>\n",
       "      <td>0</td>\n",
       "      <td>0</td>\n",
       "      <td>0</td>\n",
       "      <td>1</td>\n",
       "      <td>0</td>\n",
       "    </tr>\n",
       "  </tbody>\n",
       "</table>\n",
       "</div>"
      ],
      "text/plain": [
       "      Marital_1  Marital_2  Marital_3  Education_1  Education_2  Education_3  HHInsurance  CarLoan  Communication_1  Communication_2  Communication_3  DaysPassed  PrevAttempts  Outcome_1  Outcome_2  Outcome_3  Outcome_4  IsPreviouslyContacted  LastContactQuadrimester_1  LastContactQuadrimester_2  LastContactQuadrimester_3  JobCategory_1  JobCategory_2  JobCategory_3  AgeCategory_1  AgeCategory_2  AgeCategory_3  AgeCategory_4  AgeCategory_5  CallDurationCategory_1  CallDurationCategory_2  CallDurationCategory_3  CallDurationCategory_4  NoOfContactsCategory_1  NoOfContactsCategory_2  NoOfContactsCategory_3\n",
       "200           1          0          0            0            0            1            0        0                1                0                0   -0.464205     -0.373862          1          0          0          0                      1                          1                          0                          0              0              1              0              0              1              0              0              0                       0                       0                       1                       0                       0                       1                       0\n",
       "1078          1          0          0            0            1            0            0        0                1                0                0   -0.464205     -0.373862          1          0          0          0                      1                          1                          0                          0              1              0              0              1              0              0              0              0                       1                       0                       0                       0                       1                       0                       0\n",
       "610           1          0          0            1            0            0            0        1                1                0                0   -0.464205     -0.373862          1          0          0          0                      1                          1                          0                          0              0              1              0              0              1              0              0              0                       1                       0                       0                       0                       0                       1                       0\n",
       "2159          0          1          0            0            0            1            1        0                1                0                0   -0.464205     -0.373862          1          0          0          0                      1                          1                          0                          0              0              1              0              0              0              1              0              0                       0                       1                       0                       0                       1                       0                       0\n",
       "1169          1          0          0            1            0            0            0        0                1                0                0   -0.464205     -0.373862          1          0          0          0                      1                          1                          0                          0              1              0              0              0              1              0              0              0                       1                       0                       0                       0                       0                       1                       0"
      ]
     },
     "execution_count": 344,
     "metadata": {},
     "output_type": "execute_result"
    }
   ],
   "source": [
    "X_test_features[0:5]"
   ]
  },
  {
   "cell_type": "markdown",
   "metadata": {},
   "source": [
    "# Fit the logistic regression model on train dataset and predict on test dataset"
   ]
  },
  {
   "cell_type": "code",
   "execution_count": 345,
   "metadata": {},
   "outputs": [
    {
     "data": {
      "text/plain": [
       "LogisticRegression(C=0.1, max_iter=500)"
      ]
     },
     "execution_count": 345,
     "metadata": {},
     "output_type": "execute_result"
    }
   ],
   "source": [
    "lg = LogisticRegression(C=0.1, max_iter=500)\n",
    "lg.fit(X_train_features, y_train)"
   ]
  },
  {
   "cell_type": "code",
   "execution_count": 346,
   "metadata": {},
   "outputs": [],
   "source": [
    "lg_pred_train = lg.predict(X_train_features)"
   ]
  },
  {
   "cell_type": "code",
   "execution_count": 347,
   "metadata": {},
   "outputs": [
    {
     "data": {
      "text/plain": [
       "0.7909375"
      ]
     },
     "execution_count": 347,
     "metadata": {},
     "output_type": "execute_result"
    }
   ],
   "source": [
    "accuracy_score(y_train, lg_pred_train)"
   ]
  },
  {
   "cell_type": "code",
   "execution_count": 348,
   "metadata": {},
   "outputs": [
    {
     "data": {
      "text/plain": [
       "0.7980861244019138"
      ]
     },
     "execution_count": 348,
     "metadata": {},
     "output_type": "execute_result"
    }
   ],
   "source": [
    "precision_score(y_train, lg_pred_train)"
   ]
  },
  {
   "cell_type": "code",
   "execution_count": 349,
   "metadata": {},
   "outputs": [
    {
     "data": {
      "text/plain": [
       "0.6455108359133127"
      ]
     },
     "execution_count": 349,
     "metadata": {},
     "output_type": "execute_result"
    }
   ],
   "source": [
    "recall_score(y_train, lg_pred_train)"
   ]
  },
  {
   "cell_type": "code",
   "execution_count": null,
   "metadata": {},
   "outputs": [],
   "source": []
  },
  {
   "cell_type": "code",
   "execution_count": 350,
   "metadata": {},
   "outputs": [],
   "source": [
    "lg_pred = lg.predict(X_test_features)"
   ]
  },
  {
   "cell_type": "code",
   "execution_count": 351,
   "metadata": {},
   "outputs": [
    {
     "data": {
      "text/plain": [
       "0.7975"
      ]
     },
     "execution_count": 351,
     "metadata": {},
     "output_type": "execute_result"
    }
   ],
   "source": [
    "accuracy_score(y_test, lg_pred)"
   ]
  },
  {
   "cell_type": "code",
   "execution_count": 352,
   "metadata": {},
   "outputs": [
    {
     "data": {
      "text/plain": [
       "0.7798507462686567"
      ]
     },
     "execution_count": 352,
     "metadata": {},
     "output_type": "execute_result"
    }
   ],
   "source": [
    "precision_score(y_test, lg_pred)"
   ]
  },
  {
   "cell_type": "code",
   "execution_count": 353,
   "metadata": {},
   "outputs": [
    {
     "data": {
      "text/plain": [
       "0.6698717948717948"
      ]
     },
     "execution_count": 353,
     "metadata": {},
     "output_type": "execute_result"
    }
   ],
   "source": [
    "recall_score(y_test, lg_pred)"
   ]
  },
  {
   "cell_type": "code",
   "execution_count": null,
   "metadata": {},
   "outputs": [],
   "source": []
  },
  {
   "cell_type": "markdown",
   "metadata": {},
   "source": [
    "# Fit the random forest model on train dataset and predict on test dataset"
   ]
  },
  {
   "cell_type": "code",
   "execution_count": 354,
   "metadata": {},
   "outputs": [
    {
     "data": {
      "text/plain": [
       "RandomForestClassifier(max_depth=15, min_samples_split=20, n_estimators=20)"
      ]
     },
     "execution_count": 354,
     "metadata": {},
     "output_type": "execute_result"
    }
   ],
   "source": [
    "rf = RandomForestClassifier(max_depth=15, min_samples_split=20, n_estimators=20)\n",
    "rf.fit(X_train_features, y_train)"
   ]
  },
  {
   "cell_type": "code",
   "execution_count": 355,
   "metadata": {},
   "outputs": [
    {
     "data": {
      "text/plain": [
       "array([0.01534925, 0.01146278, 0.00876435, 0.00783097, 0.00991637,\n",
       "       0.01007904, 0.06872557, 0.01685202, 0.02711436, 0.03139232,\n",
       "       0.00332624, 0.0529709 , 0.04958244, 0.02478031, 0.00660981,\n",
       "       0.0861526 , 0.01317549, 0.        , 0.04788527, 0.01597685,\n",
       "       0.01274597, 0.00729829, 0.01551576, 0.02055622, 0.01085288,\n",
       "       0.00983135, 0.00648791, 0.01947525, 0.00912385, 0.17559961,\n",
       "       0.13106333, 0.04211049, 0.00516573, 0.00879814, 0.00953914,\n",
       "       0.00788914])"
      ]
     },
     "execution_count": 355,
     "metadata": {},
     "output_type": "execute_result"
    }
   ],
   "source": [
    "rf.feature_importances_"
   ]
  },
  {
   "cell_type": "code",
   "execution_count": 356,
   "metadata": {},
   "outputs": [],
   "source": [
    "feature_imp_arr = pd.DataFrame({'columns': X_train_features.columns, 'feature_importances': rf.feature_importances_})"
   ]
  },
  {
   "cell_type": "code",
   "execution_count": 357,
   "metadata": {},
   "outputs": [],
   "source": [
    "rf_pred_train = rf.predict(X_train_features)"
   ]
  },
  {
   "cell_type": "code",
   "execution_count": 358,
   "metadata": {},
   "outputs": [
    {
     "data": {
      "text/plain": [
       "0.834375"
      ]
     },
     "execution_count": 358,
     "metadata": {},
     "output_type": "execute_result"
    }
   ],
   "source": [
    "accuracy_score(y_train, rf_pred_train)"
   ]
  },
  {
   "cell_type": "code",
   "execution_count": 359,
   "metadata": {},
   "outputs": [
    {
     "data": {
      "text/plain": [
       "0.8250853242320819"
      ]
     },
     "execution_count": 359,
     "metadata": {},
     "output_type": "execute_result"
    }
   ],
   "source": [
    "precision_score(y_train, rf_pred_train)"
   ]
  },
  {
   "cell_type": "code",
   "execution_count": 360,
   "metadata": {},
   "outputs": [
    {
     "data": {
      "text/plain": [
       "0.7484520123839009"
      ]
     },
     "execution_count": 360,
     "metadata": {},
     "output_type": "execute_result"
    }
   ],
   "source": [
    "recall_score(y_train, rf_pred_train)"
   ]
  },
  {
   "cell_type": "code",
   "execution_count": null,
   "metadata": {},
   "outputs": [],
   "source": []
  },
  {
   "cell_type": "code",
   "execution_count": null,
   "metadata": {},
   "outputs": [],
   "source": []
  },
  {
   "cell_type": "code",
   "execution_count": 361,
   "metadata": {},
   "outputs": [],
   "source": [
    "rf_pred = rf.predict(X_test_features)"
   ]
  },
  {
   "cell_type": "code",
   "execution_count": 362,
   "metadata": {},
   "outputs": [
    {
     "data": {
      "text/plain": [
       "0.8125"
      ]
     },
     "execution_count": 362,
     "metadata": {},
     "output_type": "execute_result"
    }
   ],
   "source": [
    "accuracy_score(y_test, rf_pred)"
   ]
  },
  {
   "cell_type": "code",
   "execution_count": 363,
   "metadata": {},
   "outputs": [
    {
     "data": {
      "text/plain": [
       "0.7773972602739726"
      ]
     },
     "execution_count": 363,
     "metadata": {},
     "output_type": "execute_result"
    }
   ],
   "source": [
    "precision_score(y_test, rf_pred)"
   ]
  },
  {
   "cell_type": "code",
   "execution_count": 364,
   "metadata": {},
   "outputs": [
    {
     "data": {
      "text/plain": [
       "0.7275641025641025"
      ]
     },
     "execution_count": 364,
     "metadata": {},
     "output_type": "execute_result"
    }
   ],
   "source": [
    "recall_score(y_test, rf_pred)"
   ]
  },
  {
   "cell_type": "code",
   "execution_count": null,
   "metadata": {},
   "outputs": [],
   "source": []
  },
  {
   "cell_type": "code",
   "execution_count": null,
   "metadata": {},
   "outputs": [],
   "source": []
  },
  {
   "cell_type": "markdown",
   "metadata": {},
   "source": [
    "# Fit the gradient boosting model on train dataset and predict on test dataset"
   ]
  },
  {
   "cell_type": "code",
   "execution_count": 385,
   "metadata": {},
   "outputs": [
    {
     "data": {
      "text/plain": [
       "GradientBoostingClassifier(max_depth=5, min_samples_split=50, n_estimators=50)"
      ]
     },
     "execution_count": 385,
     "metadata": {},
     "output_type": "execute_result"
    }
   ],
   "source": [
    "gb = GradientBoostingClassifier(max_depth=5, min_samples_split=50, n_estimators=50, learning_rate=0.1)\n",
    "gb.fit(X_train_features, y_train)"
   ]
  },
  {
   "cell_type": "code",
   "execution_count": 386,
   "metadata": {},
   "outputs": [],
   "source": [
    "gb_train = rf.predict(X_train_features)"
   ]
  },
  {
   "cell_type": "code",
   "execution_count": 387,
   "metadata": {},
   "outputs": [
    {
     "data": {
      "text/plain": [
       "0.834375"
      ]
     },
     "execution_count": 387,
     "metadata": {},
     "output_type": "execute_result"
    }
   ],
   "source": [
    "accuracy_score(y_train, gb_train)"
   ]
  },
  {
   "cell_type": "code",
   "execution_count": 388,
   "metadata": {},
   "outputs": [
    {
     "data": {
      "text/plain": [
       "0.8250853242320819"
      ]
     },
     "execution_count": 388,
     "metadata": {},
     "output_type": "execute_result"
    }
   ],
   "source": [
    "precision_score(y_train, gb_train)"
   ]
  },
  {
   "cell_type": "code",
   "execution_count": 389,
   "metadata": {},
   "outputs": [
    {
     "data": {
      "text/plain": [
       "0.7484520123839009"
      ]
     },
     "execution_count": 389,
     "metadata": {},
     "output_type": "execute_result"
    }
   ],
   "source": [
    "recall_score(y_train, gb_train)"
   ]
  },
  {
   "cell_type": "code",
   "execution_count": null,
   "metadata": {},
   "outputs": [],
   "source": []
  },
  {
   "cell_type": "code",
   "execution_count": 390,
   "metadata": {},
   "outputs": [],
   "source": [
    "gb_pred = gb.predict(X_test_features)"
   ]
  },
  {
   "cell_type": "code",
   "execution_count": 391,
   "metadata": {},
   "outputs": [
    {
     "data": {
      "text/plain": [
       "0.815"
      ]
     },
     "execution_count": 391,
     "metadata": {},
     "output_type": "execute_result"
    }
   ],
   "source": [
    "accuracy_score(y_test, gb_pred)"
   ]
  },
  {
   "cell_type": "code",
   "execution_count": 392,
   "metadata": {},
   "outputs": [
    {
     "data": {
      "text/plain": [
       "0.7907801418439716"
      ]
     },
     "execution_count": 392,
     "metadata": {},
     "output_type": "execute_result"
    }
   ],
   "source": [
    "precision_score(y_test, gb_pred)"
   ]
  },
  {
   "cell_type": "code",
   "execution_count": 393,
   "metadata": {},
   "outputs": [
    {
     "data": {
      "text/plain": [
       "0.7147435897435898"
      ]
     },
     "execution_count": 393,
     "metadata": {},
     "output_type": "execute_result"
    }
   ],
   "source": [
    "recall_score(y_test, gb_pred)"
   ]
  },
  {
   "cell_type": "code",
   "execution_count": null,
   "metadata": {},
   "outputs": [],
   "source": []
  },
  {
   "cell_type": "code",
   "execution_count": null,
   "metadata": {},
   "outputs": [],
   "source": []
  },
  {
   "cell_type": "code",
   "execution_count": null,
   "metadata": {},
   "outputs": [],
   "source": []
  },
  {
   "cell_type": "code",
   "execution_count": null,
   "metadata": {},
   "outputs": [],
   "source": []
  }
 ],
 "metadata": {
  "kernelspec": {
   "display_name": "Python 3",
   "language": "python",
   "name": "python3"
  },
  "language_info": {
   "codemirror_mode": {
    "name": "ipython",
    "version": 3
   },
   "file_extension": ".py",
   "mimetype": "text/x-python",
   "name": "python",
   "nbconvert_exporter": "python",
   "pygments_lexer": "ipython3",
   "version": "3.6.5"
  }
 },
 "nbformat": 4,
 "nbformat_minor": 2
}
