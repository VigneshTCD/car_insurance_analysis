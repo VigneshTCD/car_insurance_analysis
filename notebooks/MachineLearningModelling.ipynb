{
 "cells": [
  {
   "cell_type": "code",
   "execution_count": 1,
   "metadata": {},
   "outputs": [],
   "source": [
    "import pandas as pd\n",
    "import matplotlib.pyplot as plt\n",
    "import seaborn as sns\n",
    "import datetime as dt\n",
    "from sklearn.impute import KNNImputer\n",
    "from sklearn.preprocessing import StandardScaler\n",
    "from sklearn.neighbors import KNeighborsClassifier\n",
    "import category_encoders as ce   # version 1.2.8\n",
    "import numpy as np\n",
    "from sklearn.pipeline import Pipeline"
   ]
  },
  {
   "cell_type": "code",
   "execution_count": 2,
   "metadata": {},
   "outputs": [],
   "source": [
    "pd.set_option('display.max_rows', 500)\n",
    "pd.set_option('display.max_columns', 500)\n",
    "pd.set_option('display.width', 1000)"
   ]
  },
  {
   "cell_type": "code",
   "execution_count": 3,
   "metadata": {},
   "outputs": [
    {
     "name": "stderr",
     "output_type": "stream",
     "text": [
      "/home/vignesh/.local/lib/python3.6/site-packages/tensorflow/python/framework/dtypes.py:526: FutureWarning: Passing (type, 1) or '1type' as a synonym of type is deprecated; in a future version of numpy, it will be understood as (type, (1,)) / '(1,)type'.\n",
      "  _np_qint8 = np.dtype([(\"qint8\", np.int8, 1)])\n",
      "/home/vignesh/.local/lib/python3.6/site-packages/tensorflow/python/framework/dtypes.py:527: FutureWarning: Passing (type, 1) or '1type' as a synonym of type is deprecated; in a future version of numpy, it will be understood as (type, (1,)) / '(1,)type'.\n",
      "  _np_quint8 = np.dtype([(\"quint8\", np.uint8, 1)])\n",
      "/home/vignesh/.local/lib/python3.6/site-packages/tensorflow/python/framework/dtypes.py:528: FutureWarning: Passing (type, 1) or '1type' as a synonym of type is deprecated; in a future version of numpy, it will be understood as (type, (1,)) / '(1,)type'.\n",
      "  _np_qint16 = np.dtype([(\"qint16\", np.int16, 1)])\n",
      "/home/vignesh/.local/lib/python3.6/site-packages/tensorflow/python/framework/dtypes.py:529: FutureWarning: Passing (type, 1) or '1type' as a synonym of type is deprecated; in a future version of numpy, it will be understood as (type, (1,)) / '(1,)type'.\n",
      "  _np_quint16 = np.dtype([(\"quint16\", np.uint16, 1)])\n",
      "/home/vignesh/.local/lib/python3.6/site-packages/tensorflow/python/framework/dtypes.py:530: FutureWarning: Passing (type, 1) or '1type' as a synonym of type is deprecated; in a future version of numpy, it will be understood as (type, (1,)) / '(1,)type'.\n",
      "  _np_qint32 = np.dtype([(\"qint32\", np.int32, 1)])\n",
      "/home/vignesh/.local/lib/python3.6/site-packages/tensorflow/python/framework/dtypes.py:535: FutureWarning: Passing (type, 1) or '1type' as a synonym of type is deprecated; in a future version of numpy, it will be understood as (type, (1,)) / '(1,)type'.\n",
      "  np_resource = np.dtype([(\"resource\", np.ubyte, 1)])\n"
     ]
    }
   ],
   "source": [
    "import lightgbm as lgb\n",
    "import tensorflow"
   ]
  },
  {
   "cell_type": "markdown",
   "metadata": {},
   "source": [
    "# Read data"
   ]
  },
  {
   "cell_type": "code",
   "execution_count": 4,
   "metadata": {},
   "outputs": [],
   "source": [
    "data = pd.read_csv('../data/carInsurance_train.csv')"
   ]
  },
  {
   "cell_type": "code",
   "execution_count": 5,
   "metadata": {},
   "outputs": [],
   "source": [
    "from sklearn.model_selection import train_test_split"
   ]
  },
  {
   "cell_type": "markdown",
   "metadata": {},
   "source": [
    "# Holding out 20% of the sample for test dataset\n",
    "\n",
    "* Performing stratified sampling\n",
    "* X_train, y_train - training dataset\n",
    "* X_test, y_test - test dataset (hold-out)"
   ]
  },
  {
   "cell_type": "code",
   "execution_count": 6,
   "metadata": {},
   "outputs": [],
   "source": [
    "X = data.drop('CarInsurance', axis=1)\n",
    "target = data['CarInsurance']\n",
    "X_train, X_test, y_train, y_test = train_test_split(X, target,  test_size=0.2, random_state=1)"
   ]
  },
  {
   "cell_type": "markdown",
   "metadata": {},
   "source": [
    "# CallStart and CallEnd is converted to call duration"
   ]
  },
  {
   "cell_type": "code",
   "execution_count": 7,
   "metadata": {},
   "outputs": [
    {
     "name": "stderr",
     "output_type": "stream",
     "text": [
      "/home/vignesh/anaconda3/lib/python3.6/site-packages/ipykernel_launcher.py:20: SettingWithCopyWarning: \n",
      "A value is trying to be set on a copy of a slice from a DataFrame.\n",
      "Try using .loc[row_indexer,col_indexer] = value instead\n",
      "\n",
      "See the caveats in the documentation: http://pandas.pydata.org/pandas-docs/stable/indexing.html#indexing-view-versus-copy\n",
      "/home/vignesh/anaconda3/lib/python3.6/site-packages/ipykernel_launcher.py:41: SettingWithCopyWarning: \n",
      "A value is trying to be set on a copy of a slice from a DataFrame.\n",
      "Try using .loc[row_indexer,col_indexer] = value instead\n",
      "\n",
      "See the caveats in the documentation: http://pandas.pydata.org/pandas-docs/stable/indexing.html#indexing-view-versus-copy\n"
     ]
    }
   ],
   "source": [
    "call_duration_arr = []\n",
    "for index, row in X_train.iterrows():\n",
    "    \n",
    "    call_start = row['CallStart'] \n",
    "    call_end = row['CallEnd']\n",
    "    call_start_hr = call_start.split(':')[0]\n",
    "    call_start_min = call_start.split(':')[1]\n",
    "    call_start_sec = call_start.split(':')[2]\n",
    "    \n",
    "    call_end_hr = call_end.split(':')[0]\n",
    "    call_end_min = call_end.split(':')[1]\n",
    "    call_end_sec = call_end.split(':')[2]\n",
    "    \n",
    "    call_start_dt = dt.datetime(2013,12,30,int(call_start_hr),int(call_start_min),int(call_start_sec))\n",
    "    call_end_dt = dt.datetime(2013,12,30,int(call_end_hr),int(call_end_min),int(call_end_sec))\n",
    "\n",
    "    call_duration = (call_end_dt-call_start_dt).total_seconds()\n",
    "    call_duration_arr.append(call_duration)\n",
    "    \n",
    "X_train['call_duration'] = call_duration_arr\n",
    "\n",
    "call_duration_arr = []\n",
    "for index, row in X_test.iterrows():\n",
    "    \n",
    "    call_start = row['CallStart'] \n",
    "    call_end = row['CallEnd']\n",
    "    call_start_hr = call_start.split(':')[0]\n",
    "    call_start_min = call_start.split(':')[1]\n",
    "    call_start_sec = call_start.split(':')[2]\n",
    "    \n",
    "    call_end_hr = call_end.split(':')[0]\n",
    "    call_end_min = call_end.split(':')[1]\n",
    "    call_end_sec = call_end.split(':')[2]\n",
    "    \n",
    "    call_start_dt = dt.datetime(2013,12,30,int(call_start_hr),int(call_start_min),int(call_start_sec))\n",
    "    call_end_dt = dt.datetime(2013,12,30,int(call_end_hr),int(call_end_min),int(call_end_sec))\n",
    "\n",
    "    call_duration = (call_end_dt-call_start_dt).total_seconds()\n",
    "    call_duration_arr.append(call_duration)\n",
    "    \n",
    "X_test['call_duration'] = call_duration_arr"
   ]
  },
  {
   "cell_type": "markdown",
   "metadata": {},
   "source": [
    "# Removing unneccessary columns - ID, CallStart, CallEnd, LastContactDay, Default"
   ]
  },
  {
   "cell_type": "code",
   "execution_count": 8,
   "metadata": {},
   "outputs": [],
   "source": [
    "\n",
    "if len(set(['Id', 'CallStart', 'CallEnd', 'LastContactDay']) - set(list(X_train.columns)))<1:\n",
    "    X_train = X_train.drop(['Id', 'CallStart', 'CallEnd', 'LastContactDay', 'Default'], axis=1)\n",
    "    \n",
    "if len(set(['Id', 'CallStart', 'CallEnd', 'LastContactDay']) - set(list(X_test.columns)))<1:\n",
    "    X_test = X_test.drop(['Id', 'CallStart', 'CallEnd', 'LastContactDay', 'Default'], axis=1)"
   ]
  },
  {
   "cell_type": "code",
   "execution_count": 9,
   "metadata": {},
   "outputs": [
    {
     "data": {
      "text/plain": [
       "Age                    0\n",
       "Job                   16\n",
       "Marital                0\n",
       "Education            130\n",
       "Balance                0\n",
       "HHInsurance            0\n",
       "CarLoan                0\n",
       "Communication        724\n",
       "LastContactMonth       0\n",
       "NoOfContacts           0\n",
       "DaysPassed             0\n",
       "PrevAttempts           0\n",
       "Outcome             2434\n",
       "call_duration          0\n",
       "dtype: int64"
      ]
     },
     "execution_count": 9,
     "metadata": {},
     "output_type": "execute_result"
    }
   ],
   "source": [
    "X_train.isnull().sum()"
   ]
  },
  {
   "cell_type": "code",
   "execution_count": 10,
   "metadata": {},
   "outputs": [],
   "source": [
    "from sklearn.base import BaseEstimator\n",
    "from sklearn.base import TransformerMixin\n"
   ]
  },
  {
   "cell_type": "markdown",
   "metadata": {},
   "source": [
    "# Custom Transformer functions\n",
    "\n",
    "* Imputation\n",
    "* Log Transformation\n",
    "* Normalization"
   ]
  },
  {
   "cell_type": "code",
   "execution_count": 11,
   "metadata": {},
   "outputs": [],
   "source": [
    "class FillImputer(BaseEstimator, TransformerMixin):\n",
    "    def __init__(self, fill_dict):\n",
    "        super().__init__()\n",
    "        self.fill_dict = fill_dict\n",
    "\n",
    "    def fit(self, X, y=None):\n",
    "\n",
    "        return self\n",
    "\n",
    "    def transform(self, X, y=None):\n",
    "#         X[:] = (X.to_numpy() - self.means_) / self.std_\n",
    "\n",
    "        X_copy = X.copy()\n",
    "        X_copy = X_copy.fillna(self.fill_dict)\n",
    "\n",
    "        return X_copy\n",
    "    \n",
    "class kNNImputer(BaseEstimator, TransformerMixin):\n",
    "    def __init__(self):\n",
    "        super().__init__()\n",
    "        self.kneigh = KNeighborsClassifier(n_neighbors=3)\n",
    "        self.ce_one_hot = ce.OneHotEncoder(cols = ['Job','Marital'])\n",
    "        self.ce_one_hot_model = None\n",
    "\n",
    "    def fit(self, X, y=None):\n",
    "#         X = X.to_numpy()\n",
    "#         self.means_ = X.mean(axis=0, keepdims=True)\n",
    "#         self.std_ = X.std(axis=0, keepdims=True)\n",
    "        imputation_features_non_missing = X[~X.Education.isnull()][['Job', 'Marital', 'Age']]\n",
    "        education_non_missing = X[~X.Education.isnull()]['Education']\n",
    "        \n",
    "        self.ce_one_hot_model = self.ce_one_hot.fit(imputation_features_non_missing)\n",
    "        imputation_features_non_missing_encoded = self.ce_one_hot_model.transform(imputation_features_non_missing)\n",
    "        \n",
    "        self.kneigh.fit(X=imputation_features_non_missing_encoded, y=education_non_missing)\n",
    "    \n",
    "        return self\n",
    "    \n",
    "\n",
    "    def transform(self, X, y=None):\n",
    "#         X[:] = (X.to_numpy() - self.means_) / self.std_\n",
    "    \n",
    "#         non_missing = X[~X.Education.isnull()]\n",
    "#         missing = X[X.Education.isnull()]\n",
    "\n",
    "        X_copy = X.copy()\n",
    "    \n",
    "        missing_ind = X_copy[X_copy.Education.isnull()].index\n",
    "        education = X_copy.Education.copy()\n",
    "       \n",
    "        imputation_features_missing = X_copy[X_copy.Education.isnull()][['Job', 'Marital', 'Age']]\n",
    "        education_missing = X_copy[X_copy.Education.isnull()]['Education']\n",
    "                \n",
    "        imputation_features_missing_encoded = self.ce_one_hot_model.transform(imputation_features_missing)\n",
    "        missing_values_pred = self.kneigh.predict(imputation_features_missing_encoded)\n",
    "\n",
    "        counter = 0\n",
    "        for index in missing_ind:\n",
    "            education[index] = missing_values_pred[counter]\n",
    "            counter+=1\n",
    "        \n",
    "        X_copy['Education'] = education\n",
    "\n",
    "        return X_copy"
   ]
  },
  {
   "cell_type": "code",
   "execution_count": 12,
   "metadata": {},
   "outputs": [],
   "source": [
    "from sklearn.preprocessing import MinMaxScaler as min_max\n",
    "from sklearn.preprocessing import StandardScaler\n",
    "\n",
    "class LogTransformer(BaseEstimator, TransformerMixin):\n",
    "    def __init__(self, columns):\n",
    "        super().__init__()\n",
    "        self.columns = columns\n",
    "\n",
    "    def fit(self, X, y=None):\n",
    "\n",
    "        return self\n",
    "\n",
    "    def transform(self, X, y=None):\n",
    "        \n",
    "        X_copy = X.copy()\n",
    "\n",
    "        for col in self.columns:\n",
    "            X_copy[col] = np.log(X_copy[col]+1)\n",
    "        \n",
    "\n",
    "        return X_copy\n",
    "\n",
    "class MinMaxScalarMultiple(BaseEstimator, TransformerMixin):\n",
    "    def __init__(self, columns):\n",
    "        super().__init__()\n",
    "        self.columns = columns\n",
    "        self.normalizer = None\n",
    "\n",
    "    def fit(self, X, y=None):\n",
    "        self.normalizer = min_max()\n",
    "        self.normalizer.fit(X[self.columns])\n",
    "\n",
    "        return self\n",
    "\n",
    "    def transform(self, X, y=None):\n",
    "        \n",
    "        X_copy = X.copy()\n",
    "\n",
    "        normalized_vals = self.normalizer.transform(X[self.columns])\n",
    "        \n",
    "        for i in range(0, len(self.columns)):\n",
    "            col = [row[i] for row in normalized_vals]\n",
    "            X_copy[self.columns[i]] = col\n",
    "        \n",
    "\n",
    "        return X_copy\n",
    "    \n",
    "class StandardScalarMultiple(BaseEstimator, TransformerMixin):\n",
    "    def __init__(self, columns):\n",
    "        super().__init__()\n",
    "        self.columns = columns\n",
    "        self.normalizer = None\n",
    "\n",
    "    def fit(self, X, y=None):\n",
    "        self.normalizer = StandardScaler()\n",
    "        self.normalizer.fit(X[self.columns])\n",
    "\n",
    "        return self\n",
    "\n",
    "    def transform(self, X, y=None):\n",
    "        \n",
    "        X_copy = X.copy()\n",
    "\n",
    "        normalized_vals = self.normalizer.transform(X[self.columns])\n",
    "        \n",
    "        for i in range(0, len(self.columns)):\n",
    "            col = [row[i] for row in normalized_vals]\n",
    "            X_copy[self.columns[i]] = col\n",
    "        \n",
    "\n",
    "        return X_copy"
   ]
  },
  {
   "cell_type": "code",
   "execution_count": 13,
   "metadata": {},
   "outputs": [],
   "source": [
    "def quarter_month(x):\n",
    "    if x in ['jan', 'feb', 'mar', 'apr']:\n",
    "        return '1'\n",
    "    elif x in ['may', 'jun', 'jul', 'aug']:\n",
    "        return '2'\n",
    "    elif x in ['sep', 'oct', 'nov', 'dec']:\n",
    "        return '3'\n",
    "    \n",
    "def job_categories(x):\n",
    "    if x in ['blue-collar', 'entrepreneur', 'housemaid']:\n",
    "        return 'job1'\n",
    "    elif x in ['services', 'self-employed', 'admin.', 'technician', 'management', 'missing']:\n",
    "        return 'job2'\n",
    "    elif x in ['unemployed', 'retired', 'student']:\n",
    "        return 'job3'\n",
    "    else:\n",
    "        return 'no_group'\n",
    "    \n",
    "def age_group(x):\n",
    "    if x>=18 and x<=30:\n",
    "        return '18-30'\n",
    "    elif x>30 and x<=40:\n",
    "        return '31-40'\n",
    "    elif x>40 and x<=50:\n",
    "        return '41-50'\n",
    "    elif x>50 and x<=60:\n",
    "        return '51-60'\n",
    "    elif x>60:\n",
    "        return '>60'\n",
    "    \n",
    "def duration_category(x):\n",
    "    \n",
    "    if (x>0) and (x<=10):\n",
    "        return '0-10'\n",
    "    elif (x>10) and (x<=20):\n",
    "        return '10-20'\n",
    "    elif (x>20) and (x<=30):\n",
    "        return '20-30'\n",
    "    elif (x>30):\n",
    "        return '>30'\n",
    "    \n",
    "def no_of_contacts_category(x):\n",
    "    \n",
    "    \n",
    "    if (x>0 and x<=3):\n",
    "        return 'c1'\n",
    "    elif (x>3 and x<=8):\n",
    "        return 'c2'\n",
    "    else:\n",
    "        return 'c3'\n",
    "\n",
    "# def duration_category(x):\n",
    "    \n",
    "#     if (x>0) and (x<=10):\n",
    "#         return '0-10'\n",
    "#     else: return '>10'\n",
    "    "
   ]
  },
  {
   "cell_type": "code",
   "execution_count": 14,
   "metadata": {},
   "outputs": [],
   "source": [
    "############### converted negative balance to zero\n",
    "X_train['Balance'] = X_train.Balance.apply(lambda x : 0 if x<0 else x)\n",
    "\n",
    "############### create a new variable for indicting whether a client is previously contacted - Boolean\n",
    "X_train['IsPreviouslyContacted'] = X_train.DaysPassed.apply(lambda x : 0 if x==-1 else 1)\n",
    "\n",
    "############### convert -ve values for days passed\n",
    "X_train['DaysPassed'] = X_train.DaysPassed.apply(lambda x : 0 if x==-1 else x)\n",
    "\n",
    "############### convert month to quadrimester\n",
    "X_train['LastContactQuadrimester'] = X_train.LastContactMonth.apply(lambda x : quarter_month(x))\n",
    "\n",
    "X_train['Job'] = X_train['Job'].fillna('missing')\n",
    "X_train['JobCategory'] = X_train.Job.apply(lambda x : job_categories(x))\n",
    "X_train['AgeCategory'] = X_train.Age.apply(lambda x : age_group(x))\n",
    "X_train['CallDurationCategory'] = X_train.call_duration.apply(lambda x : duration_category(x/60))\n",
    "X_train['NoOfContactsCategory'] = X_train.NoOfContacts.apply(lambda x : no_of_contacts_category(x))\n"
   ]
  },
  {
   "cell_type": "code",
   "execution_count": 15,
   "metadata": {},
   "outputs": [
    {
     "data": {
      "text/plain": [
       "array(['c1', 'c2', 'c3'], dtype=object)"
      ]
     },
     "execution_count": 15,
     "metadata": {},
     "output_type": "execute_result"
    }
   ],
   "source": [
    "X_train.NoOfContactsCategory.unique()"
   ]
  },
  {
   "cell_type": "markdown",
   "metadata": {},
   "source": [
    "# Create a sklearn pipeline for feature engineering - imputation, encoding, scaling"
   ]
  },
  {
   "cell_type": "code",
   "execution_count": 16,
   "metadata": {},
   "outputs": [],
   "source": [
    "log_transformer = LogTransformer(columns=['call_duration'])\n",
    "standard_scaler = StandardScalarMultiple(columns=['Age', 'Balance', 'NoOfContacts', 'PrevAttempts', 'DaysPassed'])\n",
    "fill_imputer = FillImputer(fill_dict={'Communication': 'missing', 'Job' : 'missing', 'Outcome' : 'not_contacted'})\n",
    "knn_imputer = kNNImputer()\n",
    "one_hot_encoder = ce.OneHotEncoder(cols=['NoOfContactsCategory','CallDurationCategory','JobCategory', 'AgeCategory', 'Marital', 'Education', 'Outcome', 'Communication', 'LastContactQuadrimester'])\n",
    "\n",
    "\n",
    "pipe = Pipeline([('log_transformer', log_transformer), \n",
    "                 ('standard_scaler', standard_scaler),\n",
    "                 ('fill_imputer', fill_imputer),\n",
    "                 ('knn_imputer', knn_imputer),\n",
    "                 ('one_hot_encoder', one_hot_encoder)])\n",
    "\n",
    "pipe.fit(X_train)\n",
    "X_train_features = pipe.transform(X_train)\n",
    "X_train_features = X_train_features.drop(['NoOfContacts', 'LastContactMonth', 'Job', 'Age', 'call_duration', 'Balance'], axis=1)"
   ]
  },
  {
   "cell_type": "code",
   "execution_count": 17,
   "metadata": {},
   "outputs": [
    {
     "data": {
      "text/html": [
       "<div>\n",
       "<style scoped>\n",
       "    .dataframe tbody tr th:only-of-type {\n",
       "        vertical-align: middle;\n",
       "    }\n",
       "\n",
       "    .dataframe tbody tr th {\n",
       "        vertical-align: top;\n",
       "    }\n",
       "\n",
       "    .dataframe thead th {\n",
       "        text-align: right;\n",
       "    }\n",
       "</style>\n",
       "<table border=\"1\" class=\"dataframe\">\n",
       "  <thead>\n",
       "    <tr style=\"text-align: right;\">\n",
       "      <th></th>\n",
       "      <th>Marital_1</th>\n",
       "      <th>Marital_2</th>\n",
       "      <th>Marital_3</th>\n",
       "      <th>Education_1</th>\n",
       "      <th>Education_2</th>\n",
       "      <th>Education_3</th>\n",
       "      <th>HHInsurance</th>\n",
       "      <th>CarLoan</th>\n",
       "      <th>Communication_1</th>\n",
       "      <th>Communication_2</th>\n",
       "      <th>Communication_3</th>\n",
       "      <th>DaysPassed</th>\n",
       "      <th>PrevAttempts</th>\n",
       "      <th>Outcome_1</th>\n",
       "      <th>Outcome_2</th>\n",
       "      <th>Outcome_3</th>\n",
       "      <th>Outcome_4</th>\n",
       "      <th>IsPreviouslyContacted</th>\n",
       "      <th>LastContactQuadrimester_1</th>\n",
       "      <th>LastContactQuadrimester_2</th>\n",
       "      <th>LastContactQuadrimester_3</th>\n",
       "      <th>JobCategory_1</th>\n",
       "      <th>JobCategory_2</th>\n",
       "      <th>JobCategory_3</th>\n",
       "      <th>AgeCategory_1</th>\n",
       "      <th>AgeCategory_2</th>\n",
       "      <th>AgeCategory_3</th>\n",
       "      <th>AgeCategory_4</th>\n",
       "      <th>AgeCategory_5</th>\n",
       "      <th>CallDurationCategory_1</th>\n",
       "      <th>CallDurationCategory_2</th>\n",
       "      <th>CallDurationCategory_3</th>\n",
       "      <th>CallDurationCategory_4</th>\n",
       "      <th>NoOfContactsCategory_1</th>\n",
       "      <th>NoOfContactsCategory_2</th>\n",
       "      <th>NoOfContactsCategory_3</th>\n",
       "    </tr>\n",
       "  </thead>\n",
       "  <tbody>\n",
       "    <tr>\n",
       "      <th>2996</th>\n",
       "      <td>1</td>\n",
       "      <td>0</td>\n",
       "      <td>0</td>\n",
       "      <td>1</td>\n",
       "      <td>0</td>\n",
       "      <td>0</td>\n",
       "      <td>0</td>\n",
       "      <td>0</td>\n",
       "      <td>1</td>\n",
       "      <td>0</td>\n",
       "      <td>0</td>\n",
       "      <td>-0.464205</td>\n",
       "      <td>-0.373862</td>\n",
       "      <td>1</td>\n",
       "      <td>0</td>\n",
       "      <td>0</td>\n",
       "      <td>0</td>\n",
       "      <td>0</td>\n",
       "      <td>1</td>\n",
       "      <td>0</td>\n",
       "      <td>0</td>\n",
       "      <td>1</td>\n",
       "      <td>0</td>\n",
       "      <td>0</td>\n",
       "      <td>1</td>\n",
       "      <td>0</td>\n",
       "      <td>0</td>\n",
       "      <td>0</td>\n",
       "      <td>0</td>\n",
       "      <td>1</td>\n",
       "      <td>0</td>\n",
       "      <td>0</td>\n",
       "      <td>0</td>\n",
       "      <td>1</td>\n",
       "      <td>0</td>\n",
       "      <td>0</td>\n",
       "    </tr>\n",
       "    <tr>\n",
       "      <th>3295</th>\n",
       "      <td>1</td>\n",
       "      <td>0</td>\n",
       "      <td>0</td>\n",
       "      <td>1</td>\n",
       "      <td>0</td>\n",
       "      <td>0</td>\n",
       "      <td>1</td>\n",
       "      <td>0</td>\n",
       "      <td>1</td>\n",
       "      <td>0</td>\n",
       "      <td>0</td>\n",
       "      <td>-0.464205</td>\n",
       "      <td>-0.373862</td>\n",
       "      <td>1</td>\n",
       "      <td>0</td>\n",
       "      <td>0</td>\n",
       "      <td>0</td>\n",
       "      <td>0</td>\n",
       "      <td>1</td>\n",
       "      <td>0</td>\n",
       "      <td>0</td>\n",
       "      <td>0</td>\n",
       "      <td>1</td>\n",
       "      <td>0</td>\n",
       "      <td>0</td>\n",
       "      <td>1</td>\n",
       "      <td>0</td>\n",
       "      <td>0</td>\n",
       "      <td>0</td>\n",
       "      <td>1</td>\n",
       "      <td>0</td>\n",
       "      <td>0</td>\n",
       "      <td>0</td>\n",
       "      <td>1</td>\n",
       "      <td>0</td>\n",
       "      <td>0</td>\n",
       "    </tr>\n",
       "    <tr>\n",
       "      <th>2284</th>\n",
       "      <td>0</td>\n",
       "      <td>1</td>\n",
       "      <td>0</td>\n",
       "      <td>0</td>\n",
       "      <td>1</td>\n",
       "      <td>0</td>\n",
       "      <td>1</td>\n",
       "      <td>0</td>\n",
       "      <td>0</td>\n",
       "      <td>1</td>\n",
       "      <td>0</td>\n",
       "      <td>-0.464205</td>\n",
       "      <td>-0.373862</td>\n",
       "      <td>1</td>\n",
       "      <td>0</td>\n",
       "      <td>0</td>\n",
       "      <td>0</td>\n",
       "      <td>0</td>\n",
       "      <td>1</td>\n",
       "      <td>0</td>\n",
       "      <td>0</td>\n",
       "      <td>1</td>\n",
       "      <td>0</td>\n",
       "      <td>0</td>\n",
       "      <td>0</td>\n",
       "      <td>0</td>\n",
       "      <td>1</td>\n",
       "      <td>0</td>\n",
       "      <td>0</td>\n",
       "      <td>1</td>\n",
       "      <td>0</td>\n",
       "      <td>0</td>\n",
       "      <td>0</td>\n",
       "      <td>1</td>\n",
       "      <td>0</td>\n",
       "      <td>0</td>\n",
       "    </tr>\n",
       "    <tr>\n",
       "      <th>2793</th>\n",
       "      <td>1</td>\n",
       "      <td>0</td>\n",
       "      <td>0</td>\n",
       "      <td>0</td>\n",
       "      <td>1</td>\n",
       "      <td>0</td>\n",
       "      <td>0</td>\n",
       "      <td>0</td>\n",
       "      <td>1</td>\n",
       "      <td>0</td>\n",
       "      <td>0</td>\n",
       "      <td>1.424987</td>\n",
       "      <td>2.276469</td>\n",
       "      <td>0</td>\n",
       "      <td>1</td>\n",
       "      <td>0</td>\n",
       "      <td>0</td>\n",
       "      <td>1</td>\n",
       "      <td>1</td>\n",
       "      <td>0</td>\n",
       "      <td>0</td>\n",
       "      <td>1</td>\n",
       "      <td>0</td>\n",
       "      <td>0</td>\n",
       "      <td>1</td>\n",
       "      <td>0</td>\n",
       "      <td>0</td>\n",
       "      <td>0</td>\n",
       "      <td>0</td>\n",
       "      <td>1</td>\n",
       "      <td>0</td>\n",
       "      <td>0</td>\n",
       "      <td>0</td>\n",
       "      <td>1</td>\n",
       "      <td>0</td>\n",
       "      <td>0</td>\n",
       "    </tr>\n",
       "    <tr>\n",
       "      <th>787</th>\n",
       "      <td>1</td>\n",
       "      <td>0</td>\n",
       "      <td>0</td>\n",
       "      <td>0</td>\n",
       "      <td>0</td>\n",
       "      <td>1</td>\n",
       "      <td>0</td>\n",
       "      <td>0</td>\n",
       "      <td>1</td>\n",
       "      <td>0</td>\n",
       "      <td>0</td>\n",
       "      <td>-0.464205</td>\n",
       "      <td>-0.373862</td>\n",
       "      <td>1</td>\n",
       "      <td>0</td>\n",
       "      <td>0</td>\n",
       "      <td>0</td>\n",
       "      <td>0</td>\n",
       "      <td>1</td>\n",
       "      <td>0</td>\n",
       "      <td>0</td>\n",
       "      <td>0</td>\n",
       "      <td>1</td>\n",
       "      <td>0</td>\n",
       "      <td>0</td>\n",
       "      <td>1</td>\n",
       "      <td>0</td>\n",
       "      <td>0</td>\n",
       "      <td>0</td>\n",
       "      <td>0</td>\n",
       "      <td>1</td>\n",
       "      <td>0</td>\n",
       "      <td>0</td>\n",
       "      <td>0</td>\n",
       "      <td>1</td>\n",
       "      <td>0</td>\n",
       "    </tr>\n",
       "    <tr>\n",
       "      <th>2046</th>\n",
       "      <td>1</td>\n",
       "      <td>0</td>\n",
       "      <td>0</td>\n",
       "      <td>0</td>\n",
       "      <td>0</td>\n",
       "      <td>1</td>\n",
       "      <td>0</td>\n",
       "      <td>0</td>\n",
       "      <td>1</td>\n",
       "      <td>0</td>\n",
       "      <td>0</td>\n",
       "      <td>-0.464205</td>\n",
       "      <td>-0.373862</td>\n",
       "      <td>1</td>\n",
       "      <td>0</td>\n",
       "      <td>0</td>\n",
       "      <td>0</td>\n",
       "      <td>0</td>\n",
       "      <td>0</td>\n",
       "      <td>1</td>\n",
       "      <td>0</td>\n",
       "      <td>0</td>\n",
       "      <td>0</td>\n",
       "      <td>1</td>\n",
       "      <td>0</td>\n",
       "      <td>0</td>\n",
       "      <td>0</td>\n",
       "      <td>1</td>\n",
       "      <td>0</td>\n",
       "      <td>0</td>\n",
       "      <td>1</td>\n",
       "      <td>0</td>\n",
       "      <td>0</td>\n",
       "      <td>1</td>\n",
       "      <td>0</td>\n",
       "      <td>0</td>\n",
       "    </tr>\n",
       "    <tr>\n",
       "      <th>739</th>\n",
       "      <td>0</td>\n",
       "      <td>0</td>\n",
       "      <td>1</td>\n",
       "      <td>1</td>\n",
       "      <td>0</td>\n",
       "      <td>0</td>\n",
       "      <td>1</td>\n",
       "      <td>0</td>\n",
       "      <td>0</td>\n",
       "      <td>1</td>\n",
       "      <td>0</td>\n",
       "      <td>-0.464205</td>\n",
       "      <td>-0.373862</td>\n",
       "      <td>1</td>\n",
       "      <td>0</td>\n",
       "      <td>0</td>\n",
       "      <td>0</td>\n",
       "      <td>0</td>\n",
       "      <td>1</td>\n",
       "      <td>0</td>\n",
       "      <td>0</td>\n",
       "      <td>1</td>\n",
       "      <td>0</td>\n",
       "      <td>0</td>\n",
       "      <td>1</td>\n",
       "      <td>0</td>\n",
       "      <td>0</td>\n",
       "      <td>0</td>\n",
       "      <td>0</td>\n",
       "      <td>1</td>\n",
       "      <td>0</td>\n",
       "      <td>0</td>\n",
       "      <td>0</td>\n",
       "      <td>0</td>\n",
       "      <td>1</td>\n",
       "      <td>0</td>\n",
       "    </tr>\n",
       "    <tr>\n",
       "      <th>2149</th>\n",
       "      <td>0</td>\n",
       "      <td>0</td>\n",
       "      <td>1</td>\n",
       "      <td>1</td>\n",
       "      <td>0</td>\n",
       "      <td>0</td>\n",
       "      <td>1</td>\n",
       "      <td>0</td>\n",
       "      <td>0</td>\n",
       "      <td>1</td>\n",
       "      <td>0</td>\n",
       "      <td>-0.464205</td>\n",
       "      <td>-0.373862</td>\n",
       "      <td>1</td>\n",
       "      <td>0</td>\n",
       "      <td>0</td>\n",
       "      <td>0</td>\n",
       "      <td>0</td>\n",
       "      <td>1</td>\n",
       "      <td>0</td>\n",
       "      <td>0</td>\n",
       "      <td>1</td>\n",
       "      <td>0</td>\n",
       "      <td>0</td>\n",
       "      <td>0</td>\n",
       "      <td>0</td>\n",
       "      <td>1</td>\n",
       "      <td>0</td>\n",
       "      <td>0</td>\n",
       "      <td>1</td>\n",
       "      <td>0</td>\n",
       "      <td>0</td>\n",
       "      <td>0</td>\n",
       "      <td>1</td>\n",
       "      <td>0</td>\n",
       "      <td>0</td>\n",
       "    </tr>\n",
       "    <tr>\n",
       "      <th>3369</th>\n",
       "      <td>0</td>\n",
       "      <td>1</td>\n",
       "      <td>0</td>\n",
       "      <td>0</td>\n",
       "      <td>1</td>\n",
       "      <td>0</td>\n",
       "      <td>0</td>\n",
       "      <td>0</td>\n",
       "      <td>1</td>\n",
       "      <td>0</td>\n",
       "      <td>0</td>\n",
       "      <td>-0.464205</td>\n",
       "      <td>-0.373862</td>\n",
       "      <td>1</td>\n",
       "      <td>0</td>\n",
       "      <td>0</td>\n",
       "      <td>0</td>\n",
       "      <td>0</td>\n",
       "      <td>1</td>\n",
       "      <td>0</td>\n",
       "      <td>0</td>\n",
       "      <td>1</td>\n",
       "      <td>0</td>\n",
       "      <td>0</td>\n",
       "      <td>1</td>\n",
       "      <td>0</td>\n",
       "      <td>0</td>\n",
       "      <td>0</td>\n",
       "      <td>0</td>\n",
       "      <td>1</td>\n",
       "      <td>0</td>\n",
       "      <td>0</td>\n",
       "      <td>0</td>\n",
       "      <td>0</td>\n",
       "      <td>0</td>\n",
       "      <td>1</td>\n",
       "    </tr>\n",
       "    <tr>\n",
       "      <th>3492</th>\n",
       "      <td>0</td>\n",
       "      <td>0</td>\n",
       "      <td>1</td>\n",
       "      <td>1</td>\n",
       "      <td>0</td>\n",
       "      <td>0</td>\n",
       "      <td>1</td>\n",
       "      <td>1</td>\n",
       "      <td>1</td>\n",
       "      <td>0</td>\n",
       "      <td>0</td>\n",
       "      <td>-0.464205</td>\n",
       "      <td>-0.373862</td>\n",
       "      <td>1</td>\n",
       "      <td>0</td>\n",
       "      <td>0</td>\n",
       "      <td>0</td>\n",
       "      <td>0</td>\n",
       "      <td>0</td>\n",
       "      <td>1</td>\n",
       "      <td>0</td>\n",
       "      <td>0</td>\n",
       "      <td>1</td>\n",
       "      <td>0</td>\n",
       "      <td>1</td>\n",
       "      <td>0</td>\n",
       "      <td>0</td>\n",
       "      <td>0</td>\n",
       "      <td>0</td>\n",
       "      <td>1</td>\n",
       "      <td>0</td>\n",
       "      <td>0</td>\n",
       "      <td>0</td>\n",
       "      <td>1</td>\n",
       "      <td>0</td>\n",
       "      <td>0</td>\n",
       "    </tr>\n",
       "  </tbody>\n",
       "</table>\n",
       "</div>"
      ],
      "text/plain": [
       "      Marital_1  Marital_2  Marital_3  Education_1  Education_2  Education_3  HHInsurance  CarLoan  Communication_1  Communication_2  Communication_3  DaysPassed  PrevAttempts  Outcome_1  Outcome_2  Outcome_3  Outcome_4  IsPreviouslyContacted  LastContactQuadrimester_1  LastContactQuadrimester_2  LastContactQuadrimester_3  JobCategory_1  JobCategory_2  JobCategory_3  AgeCategory_1  AgeCategory_2  AgeCategory_3  AgeCategory_4  AgeCategory_5  CallDurationCategory_1  CallDurationCategory_2  CallDurationCategory_3  CallDurationCategory_4  NoOfContactsCategory_1  NoOfContactsCategory_2  NoOfContactsCategory_3\n",
       "2996          1          0          0            1            0            0            0        0                1                0                0   -0.464205     -0.373862          1          0          0          0                      0                          1                          0                          0              1              0              0              1              0              0              0              0                       1                       0                       0                       0                       1                       0                       0\n",
       "3295          1          0          0            1            0            0            1        0                1                0                0   -0.464205     -0.373862          1          0          0          0                      0                          1                          0                          0              0              1              0              0              1              0              0              0                       1                       0                       0                       0                       1                       0                       0\n",
       "2284          0          1          0            0            1            0            1        0                0                1                0   -0.464205     -0.373862          1          0          0          0                      0                          1                          0                          0              1              0              0              0              0              1              0              0                       1                       0                       0                       0                       1                       0                       0\n",
       "2793          1          0          0            0            1            0            0        0                1                0                0    1.424987      2.276469          0          1          0          0                      1                          1                          0                          0              1              0              0              1              0              0              0              0                       1                       0                       0                       0                       1                       0                       0\n",
       "787           1          0          0            0            0            1            0        0                1                0                0   -0.464205     -0.373862          1          0          0          0                      0                          1                          0                          0              0              1              0              0              1              0              0              0                       0                       1                       0                       0                       0                       1                       0\n",
       "2046          1          0          0            0            0            1            0        0                1                0                0   -0.464205     -0.373862          1          0          0          0                      0                          0                          1                          0              0              0              1              0              0              0              1              0                       0                       1                       0                       0                       1                       0                       0\n",
       "739           0          0          1            1            0            0            1        0                0                1                0   -0.464205     -0.373862          1          0          0          0                      0                          1                          0                          0              1              0              0              1              0              0              0              0                       1                       0                       0                       0                       0                       1                       0\n",
       "2149          0          0          1            1            0            0            1        0                0                1                0   -0.464205     -0.373862          1          0          0          0                      0                          1                          0                          0              1              0              0              0              0              1              0              0                       1                       0                       0                       0                       1                       0                       0\n",
       "3369          0          1          0            0            1            0            0        0                1                0                0   -0.464205     -0.373862          1          0          0          0                      0                          1                          0                          0              1              0              0              1              0              0              0              0                       1                       0                       0                       0                       0                       0                       1\n",
       "3492          0          0          1            1            0            0            1        1                1                0                0   -0.464205     -0.373862          1          0          0          0                      0                          0                          1                          0              0              1              0              1              0              0              0              0                       1                       0                       0                       0                       1                       0                       0"
      ]
     },
     "execution_count": 17,
     "metadata": {},
     "output_type": "execute_result"
    }
   ],
   "source": [
    "X_train_features[0:10]"
   ]
  },
  {
   "cell_type": "markdown",
   "metadata": {},
   "source": [
    "# Create a logistic regression model and performing cross validation using training dataset"
   ]
  },
  {
   "cell_type": "code",
   "execution_count": 18,
   "metadata": {},
   "outputs": [],
   "source": [
    "from sklearn.linear_model import LogisticRegression\n",
    "from sklearn.model_selection import cross_val_score\n",
    "from sklearn.metrics import accuracy_score, precision_score, recall_score\n",
    "from sklearn.model_selection import StratifiedKFold"
   ]
  },
  {
   "cell_type": "code",
   "execution_count": 19,
   "metadata": {},
   "outputs": [],
   "source": [
    "lg = LogisticRegression(max_iter=500)"
   ]
  },
  {
   "cell_type": "code",
   "execution_count": null,
   "metadata": {},
   "outputs": [],
   "source": []
  },
  {
   "cell_type": "code",
   "execution_count": 25,
   "metadata": {},
   "outputs": [
    {
     "name": "stdout",
     "output_type": "stream",
     "text": [
      "Fitting 3 folds for each of 4 candidates, totalling 12 fits\n"
     ]
    },
    {
     "name": "stderr",
     "output_type": "stream",
     "text": [
      "[Parallel(n_jobs=1)]: Using backend SequentialBackend with 1 concurrent workers.\n",
      "[Parallel(n_jobs=1)]: Done  12 out of  12 | elapsed:    0.6s finished\n"
     ]
    }
   ],
   "source": [
    "from sklearn.model_selection import GridSearchCV\n",
    "param_grid = {\n",
    "   'C': [0.001, 0.01, 0.1, 1]\n",
    "    }\n",
    "kfold = StratifiedKFold(n_splits=3, shuffle=True, random_state=7)\n",
    "search = GridSearchCV(lg, param_grid, cv=kfold, scoring='accuracy', verbose=1).fit(X_train_features, y_train)"
   ]
  },
  {
   "cell_type": "code",
   "execution_count": 26,
   "metadata": {},
   "outputs": [
    {
     "data": {
      "text/plain": [
       "LogisticRegression(C=1, max_iter=500)"
      ]
     },
     "execution_count": 26,
     "metadata": {},
     "output_type": "execute_result"
    }
   ],
   "source": [
    "search.best_estimator_"
   ]
  },
  {
   "cell_type": "code",
   "execution_count": 28,
   "metadata": {},
   "outputs": [
    {
     "data": {
      "text/plain": [
       "{'mean_fit_time': array([0.12554979, 0.01365956, 0.02231868, 0.03621626]),\n",
       " 'std_fit_time': array([0.1604686 , 0.0005213 , 0.00064338, 0.00281851]),\n",
       " 'mean_score_time': array([0.00296871, 0.00243076, 0.00228842, 0.00242201]),\n",
       " 'std_score_time': array([5.53898181e-04, 3.04020825e-05, 5.71652429e-06, 4.15634699e-05]),\n",
       " 'param_C': masked_array(data=[0.001, 0.01, 0.1, 1],\n",
       "              mask=[False, False, False, False],\n",
       "        fill_value='?',\n",
       "             dtype=object),\n",
       " 'params': [{'C': 0.001}, {'C': 0.01}, {'C': 0.1}, {'C': 1}],\n",
       " 'split0_test_score': array([0.66260544, 0.78163074, 0.79943768, 0.80131209]),\n",
       " 'split1_test_score': array([0.65229616, 0.76101218, 0.78537957, 0.7900656 ]),\n",
       " 'split2_test_score': array([0.63977486, 0.74765478, 0.77579737, 0.77861163]),\n",
       " 'mean_test_score': array([0.65155882, 0.76343257, 0.78687154, 0.78999644]),\n",
       " 'std_test_score': array([0.00933512, 0.01397581, 0.0097086 , 0.00926755]),\n",
       " 'rank_test_score': array([4, 3, 2, 1], dtype=int32)}"
      ]
     },
     "execution_count": 28,
     "metadata": {},
     "output_type": "execute_result"
    }
   ],
   "source": [
    "search.cv_results_"
   ]
  },
  {
   "cell_type": "code",
   "execution_count": 60,
   "metadata": {},
   "outputs": [
    {
     "data": {
      "text/plain": [
       "array([0.80131209, 0.7900656 , 0.77861163])"
      ]
     },
     "execution_count": 60,
     "metadata": {},
     "output_type": "execute_result"
    }
   ],
   "source": [
    "cross_val_score(LogisticRegression(C=1, max_iter=500), X_train_features, y_train, cv=kfold, scoring='accuracy')"
   ]
  },
  {
   "cell_type": "code",
   "execution_count": 63,
   "metadata": {},
   "outputs": [
    {
     "data": {
      "text/plain": [
       "0.7899964422468823"
      ]
     },
     "execution_count": 63,
     "metadata": {},
     "output_type": "execute_result"
    }
   ],
   "source": [
    "np.mean(cross_val_score(LogisticRegression(C=1, max_iter=500), X_train_features, y_train, cv=kfold, scoring='accuracy'))"
   ]
  },
  {
   "cell_type": "code",
   "execution_count": 64,
   "metadata": {},
   "outputs": [
    {
     "data": {
      "text/plain": [
       "0.009267552087062812"
      ]
     },
     "execution_count": 64,
     "metadata": {},
     "output_type": "execute_result"
    }
   ],
   "source": [
    "np.std(cross_val_score(LogisticRegression(C=1, max_iter=500), X_train_features, y_train, cv=kfold, scoring='accuracy'))"
   ]
  },
  {
   "cell_type": "code",
   "execution_count": 61,
   "metadata": {},
   "outputs": [
    {
     "data": {
      "text/plain": [
       "array([0.82686567, 0.7965616 , 0.77094972])"
      ]
     },
     "execution_count": 61,
     "metadata": {},
     "output_type": "execute_result"
    }
   ],
   "source": [
    "cross_val_score(LogisticRegression(C=1, max_iter=500), X_train_features, y_train, cv=kfold, scoring='precision')"
   ]
  },
  {
   "cell_type": "code",
   "execution_count": 65,
   "metadata": {},
   "outputs": [
    {
     "data": {
      "text/plain": [
       "0.7981256656322365"
      ]
     },
     "execution_count": 65,
     "metadata": {},
     "output_type": "execute_result"
    }
   ],
   "source": [
    "np.mean(cross_val_score(LogisticRegression(C=1, max_iter=500), X_train_features, y_train, cv=kfold, scoring='precision'))"
   ]
  },
  {
   "cell_type": "code",
   "execution_count": 67,
   "metadata": {},
   "outputs": [
    {
     "data": {
      "text/plain": [
       "0.022854366591962588"
      ]
     },
     "execution_count": 67,
     "metadata": {},
     "output_type": "execute_result"
    }
   ],
   "source": [
    "np.std(cross_val_score(LogisticRegression(C=1, max_iter=500), X_train_features, y_train, cv=kfold, scoring='precision'))"
   ]
  },
  {
   "cell_type": "code",
   "execution_count": 62,
   "metadata": {},
   "outputs": [
    {
     "data": {
      "text/plain": [
       "array([0.64269142, 0.6450116 , 0.64186047])"
      ]
     },
     "execution_count": 62,
     "metadata": {},
     "output_type": "execute_result"
    }
   ],
   "source": [
    "cross_val_score(LogisticRegression(C=1, max_iter=500), X_train_features, y_train, cv=kfold, scoring='recall')"
   ]
  },
  {
   "cell_type": "code",
   "execution_count": 68,
   "metadata": {},
   "outputs": [
    {
     "data": {
      "text/plain": [
       "0.6431878271191928"
      ]
     },
     "execution_count": 68,
     "metadata": {},
     "output_type": "execute_result"
    }
   ],
   "source": [
    "np.mean(cross_val_score(LogisticRegression(C=1, max_iter=500), X_train_features, y_train, cv=kfold, scoring='recall'))"
   ]
  },
  {
   "cell_type": "code",
   "execution_count": 69,
   "metadata": {},
   "outputs": [
    {
     "data": {
      "text/plain": [
       "0.0013334748433879"
      ]
     },
     "execution_count": 69,
     "metadata": {},
     "output_type": "execute_result"
    }
   ],
   "source": [
    "np.std(cross_val_score(LogisticRegression(C=1, max_iter=500), X_train_features, y_train, cv=kfold, scoring='recall'))"
   ]
  },
  {
   "cell_type": "code",
   "execution_count": null,
   "metadata": {},
   "outputs": [],
   "source": []
  },
  {
   "cell_type": "code",
   "execution_count": null,
   "metadata": {},
   "outputs": [],
   "source": []
  },
  {
   "cell_type": "code",
   "execution_count": null,
   "metadata": {},
   "outputs": [],
   "source": []
  },
  {
   "cell_type": "code",
   "execution_count": null,
   "metadata": {},
   "outputs": [],
   "source": []
  },
  {
   "cell_type": "markdown",
   "metadata": {},
   "source": [
    "# Create a random forest model and performing cross validation using training dataset"
   ]
  },
  {
   "cell_type": "code",
   "execution_count": 29,
   "metadata": {},
   "outputs": [],
   "source": [
    "from sklearn.ensemble import RandomForestClassifier\n",
    "from sklearn.model_selection import cross_val_score"
   ]
  },
  {
   "cell_type": "code",
   "execution_count": 30,
   "metadata": {},
   "outputs": [],
   "source": [
    "rf = RandomForestClassifier()"
   ]
  },
  {
   "cell_type": "code",
   "execution_count": 31,
   "metadata": {},
   "outputs": [
    {
     "name": "stdout",
     "output_type": "stream",
     "text": [
      "Fitting 3 folds for each of 100 candidates, totalling 300 fits\n"
     ]
    },
    {
     "name": "stderr",
     "output_type": "stream",
     "text": [
      "[Parallel(n_jobs=-1)]: Using backend LokyBackend with 8 concurrent workers.\n",
      "[Parallel(n_jobs=-1)]: Done  34 tasks      | elapsed:    1.9s\n",
      "[Parallel(n_jobs=-1)]: Done 285 out of 300 | elapsed:    4.9s remaining:    0.3s\n",
      "[Parallel(n_jobs=-1)]: Done 300 out of 300 | elapsed:    5.1s finished\n"
     ]
    }
   ],
   "source": [
    "from sklearn.model_selection import GridSearchCV\n",
    "param_grid = {\n",
    "   'n_estimators': [5, 10, 20, 30, 50],\n",
    "   'max_depth': [5, 10, 15, 20],\n",
    "   'min_samples_split': [20, 30, 50, 70, 100]\n",
    "    }\n",
    "search = GridSearchCV(rf, param_grid, cv=kfold, scoring='accuracy', verbose=1, n_jobs=-1).fit(X_train_features, y_train)"
   ]
  },
  {
   "cell_type": "code",
   "execution_count": 32,
   "metadata": {},
   "outputs": [
    {
     "data": {
      "text/plain": [
       "RandomForestClassifier(max_depth=15, min_samples_split=20, n_estimators=50)"
      ]
     },
     "execution_count": 32,
     "metadata": {},
     "output_type": "execute_result"
    }
   ],
   "source": [
    "search.best_estimator_"
   ]
  },
  {
   "cell_type": "code",
   "execution_count": 34,
   "metadata": {},
   "outputs": [
    {
     "data": {
      "text/plain": [
       "{'mean_fit_time': array([0.16650565, 0.08850074, 0.08676346, 0.11090302, 0.16735848,\n",
       "        0.02290948, 0.03607376, 0.0682656 , 0.09455522, 0.15596644,\n",
       "        0.0215021 , 0.03594033, 0.06527376, 0.0946389 , 0.17840552,\n",
       "        0.02253111, 0.03564755, 0.06888207, 0.10276063, 0.16561484,\n",
       "        0.02933486, 0.03710055, 0.06604894, 0.09430957, 0.15201521,\n",
       "        0.02286617, 0.04375688, 0.07468748, 0.10799432, 0.17381279,\n",
       "        0.02251554, 0.03958734, 0.07230377, 0.10559956, 0.16882173,\n",
       "        0.02172375, 0.03782837, 0.06917842, 0.10086354, 0.16517862,\n",
       "        0.02178176, 0.03790339, 0.06849575, 0.09832899, 0.16105851,\n",
       "        0.02302694, 0.03631973, 0.066751  , 0.09790389, 0.1585168 ,\n",
       "        0.02297457, 0.04007292, 0.07441608, 0.11047459, 0.180094  ,\n",
       "        0.02287579, 0.03883457, 0.07351557, 0.1075712 , 0.17293421,\n",
       "        0.02215632, 0.03851088, 0.07072147, 0.10251943, 0.16765475,\n",
       "        0.02188897, 0.03728787, 0.06904475, 0.10008144, 0.16391587,\n",
       "        0.02124357, 0.0362529 , 0.0676779 , 0.09780812, 0.16039085,\n",
       "        0.02340849, 0.03995514, 0.07639058, 0.11095802, 0.18212779,\n",
       "        0.02305102, 0.04902808, 0.07352948, 0.10663462, 0.17519148,\n",
       "        0.02209568, 0.03806329, 0.07037433, 0.10223118, 0.16835022,\n",
       "        0.02165627, 0.03714291, 0.06857379, 0.10197067, 0.13610888,\n",
       "        0.02127067, 0.03610587, 0.07020195, 0.10608435, 0.1410559 ]),\n",
       " 'std_fit_time': array([3.52047408e-02, 2.27791543e-02, 2.31107005e-03, 1.49225068e-03,\n",
       "        9.27520844e-04, 2.54792504e-03, 1.77594100e-03, 2.50094077e-03,\n",
       "        1.14401712e-03, 5.83104725e-04, 1.48205782e-04, 6.95033583e-04,\n",
       "        1.89847373e-03, 2.40985345e-03, 2.01350969e-02, 2.16919630e-03,\n",
       "        8.54947668e-04, 1.56744483e-03, 2.55127802e-03, 4.04109611e-03,\n",
       "        5.83461600e-03, 1.67195220e-03, 8.33173600e-04, 4.18221845e-04,\n",
       "        2.71439780e-03, 3.31727580e-04, 4.87155917e-03, 8.81830644e-04,\n",
       "        7.18535137e-04, 1.72572856e-03, 3.01156359e-04, 3.48622064e-04,\n",
       "        8.11321224e-04, 6.26260889e-04, 1.97661781e-03, 5.27417357e-04,\n",
       "        2.14340056e-04, 4.61709642e-04, 1.04387812e-03, 8.97081164e-04,\n",
       "        3.26474895e-04, 4.80363101e-04, 1.16186931e-03, 4.28731779e-04,\n",
       "        1.00144061e-03, 2.53859259e-03, 4.91787239e-04, 6.94917347e-04,\n",
       "        1.75963025e-03, 5.76478748e-04, 6.18334600e-05, 2.66766632e-04,\n",
       "        6.61808644e-04, 5.27769670e-04, 1.17661331e-03, 2.61917974e-04,\n",
       "        1.50839404e-04, 9.64165959e-04, 1.01628048e-03, 1.39826443e-03,\n",
       "        4.57487517e-04, 4.54605376e-04, 1.59982337e-03, 8.16236985e-04,\n",
       "        5.79633699e-04, 4.38550395e-04, 5.35162047e-04, 8.64609198e-05,\n",
       "        2.12020751e-04, 7.88128114e-04, 4.64726311e-04, 7.43116974e-04,\n",
       "        4.52366498e-04, 5.26756953e-04, 1.12002184e-03, 6.52905534e-04,\n",
       "        2.20858580e-04, 1.10017022e-03, 2.14702557e-03, 1.61584292e-04,\n",
       "        1.99536933e-04, 1.28721668e-02, 1.47975982e-03, 9.94239741e-04,\n",
       "        1.10488123e-03, 2.14059790e-04, 3.38770737e-04, 3.11341214e-04,\n",
       "        3.65692617e-05, 1.03810707e-03, 7.08922240e-04, 3.24062355e-04,\n",
       "        2.59396078e-04, 1.27672245e-03, 3.02250229e-02, 2.13716809e-04,\n",
       "        2.64128477e-04, 2.69580135e-03, 1.65266580e-03, 4.85409364e-03]),\n",
       " 'mean_score_time': array([0.00609287, 0.00868781, 0.0113918 , 0.01120607, 0.01576169,\n",
       "        0.00516017, 0.00563415, 0.00851409, 0.01112652, 0.01593773,\n",
       "        0.00514197, 0.00629878, 0.00897368, 0.01076953, 0.01665433,\n",
       "        0.00508078, 0.00636999, 0.00867033, 0.01146722, 0.0154531 ,\n",
       "        0.00553632, 0.00644398, 0.00837135, 0.01059071, 0.01497348,\n",
       "        0.00523488, 0.00684086, 0.00924301, 0.01202075, 0.01763566,\n",
       "        0.00538158, 0.00659863, 0.00891376, 0.01146555, 0.01698335,\n",
       "        0.00498668, 0.00651892, 0.0087413 , 0.0120972 , 0.01622351,\n",
       "        0.00500147, 0.006483  , 0.0089457 , 0.0111781 , 0.01615548,\n",
       "        0.00490467, 0.00617623, 0.00875314, 0.0109938 , 0.01588472,\n",
       "        0.00521255, 0.00650462, 0.00954326, 0.01218049, 0.01800418,\n",
       "        0.00505106, 0.00661325, 0.00930707, 0.01244998, 0.01747974,\n",
       "        0.00529154, 0.0064524 , 0.00894427, 0.01175658, 0.01730696,\n",
       "        0.00510859, 0.00640392, 0.0087688 , 0.01134149, 0.01644572,\n",
       "        0.0051132 , 0.00625451, 0.00866612, 0.01114766, 0.0159297 ,\n",
       "        0.0054241 , 0.00669098, 0.00941936, 0.01246953, 0.01819579,\n",
       "        0.00521286, 0.00653148, 0.00975815, 0.01211603, 0.01736689,\n",
       "        0.00502618, 0.0063715 , 0.00895429, 0.01159016, 0.0175372 ,\n",
       "        0.00519244, 0.0063502 , 0.00881449, 0.01142661, 0.01258294,\n",
       "        0.00526357, 0.00614937, 0.00925358, 0.00984359, 0.0101699 ]),\n",
       " 'std_score_time': array([9.72113241e-05, 6.55341316e-05, 1.98290040e-03, 1.70188824e-04,\n",
       "        3.05415182e-04, 3.23431087e-04, 8.72881261e-04, 4.04721669e-04,\n",
       "        1.02427907e-04, 1.38964744e-04, 1.12123841e-04, 1.24014947e-04,\n",
       "        1.83131165e-04, 2.21391589e-04, 5.53086478e-04, 2.75366291e-05,\n",
       "        1.51656749e-04, 7.30082875e-04, 6.49095388e-04, 2.37009734e-04,\n",
       "        2.33470432e-04, 5.39704994e-04, 6.92065798e-05, 6.72549846e-05,\n",
       "        6.18953285e-05, 8.97341851e-05, 2.31571940e-04, 2.43782502e-04,\n",
       "        3.94271689e-04, 4.95767815e-04, 6.61378467e-05, 3.10556915e-05,\n",
       "        9.98515682e-05, 1.58814098e-04, 2.51482544e-04, 1.19114096e-04,\n",
       "        1.53838725e-04, 1.01680299e-04, 2.07396971e-04, 1.02641775e-04,\n",
       "        1.37383223e-04, 8.32519837e-05, 1.80711532e-04, 2.41594801e-04,\n",
       "        2.57123651e-04, 7.62080497e-05, 1.63922902e-04, 3.31467588e-04,\n",
       "        1.38167675e-04, 2.48592147e-04, 7.90200846e-05, 6.12169075e-05,\n",
       "        1.54636623e-04, 6.69302099e-05, 6.08267803e-04, 4.50723932e-05,\n",
       "        1.50034951e-04, 1.96423761e-04, 5.43878297e-04, 4.52987618e-04,\n",
       "        1.91551025e-05, 1.82846620e-04, 1.05781033e-04, 2.70479570e-04,\n",
       "        6.32017939e-04, 7.78153343e-05, 1.86523293e-04, 1.92003501e-04,\n",
       "        5.05208663e-05, 1.41269575e-04, 3.05126438e-04, 1.62184033e-04,\n",
       "        1.67943434e-04, 4.60376351e-04, 2.46553478e-04, 1.43541229e-04,\n",
       "        1.53461948e-04, 5.96346250e-05, 4.84689940e-04, 3.82497136e-04,\n",
       "        1.28047327e-04, 1.08795355e-04, 5.53916790e-04, 2.21729307e-04,\n",
       "        2.62346470e-04, 5.06347528e-05, 8.99930395e-05, 1.10190832e-04,\n",
       "        1.91785218e-04, 3.20313347e-04, 1.99246654e-04, 8.93002686e-05,\n",
       "        1.73967524e-04, 2.21108893e-04, 3.13145072e-03, 4.54666710e-04,\n",
       "        1.06096952e-04, 8.95102399e-04, 1.57373323e-03, 3.89018098e-04]),\n",
       " 'param_max_depth': masked_array(data=[5, 5, 5, 5, 5, 5, 5, 5, 5, 5, 5, 5, 5, 5, 5, 5, 5, 5,\n",
       "                    5, 5, 5, 5, 5, 5, 5, 10, 10, 10, 10, 10, 10, 10, 10,\n",
       "                    10, 10, 10, 10, 10, 10, 10, 10, 10, 10, 10, 10, 10, 10,\n",
       "                    10, 10, 10, 15, 15, 15, 15, 15, 15, 15, 15, 15, 15, 15,\n",
       "                    15, 15, 15, 15, 15, 15, 15, 15, 15, 15, 15, 15, 15, 15,\n",
       "                    20, 20, 20, 20, 20, 20, 20, 20, 20, 20, 20, 20, 20, 20,\n",
       "                    20, 20, 20, 20, 20, 20, 20, 20, 20, 20, 20],\n",
       "              mask=[False, False, False, False, False, False, False, False,\n",
       "                    False, False, False, False, False, False, False, False,\n",
       "                    False, False, False, False, False, False, False, False,\n",
       "                    False, False, False, False, False, False, False, False,\n",
       "                    False, False, False, False, False, False, False, False,\n",
       "                    False, False, False, False, False, False, False, False,\n",
       "                    False, False, False, False, False, False, False, False,\n",
       "                    False, False, False, False, False, False, False, False,\n",
       "                    False, False, False, False, False, False, False, False,\n",
       "                    False, False, False, False, False, False, False, False,\n",
       "                    False, False, False, False, False, False, False, False,\n",
       "                    False, False, False, False, False, False, False, False,\n",
       "                    False, False, False, False],\n",
       "        fill_value='?',\n",
       "             dtype=object),\n",
       " 'param_min_samples_split': masked_array(data=[20, 20, 20, 20, 20, 30, 30, 30, 30, 30, 50, 50, 50, 50,\n",
       "                    50, 70, 70, 70, 70, 70, 100, 100, 100, 100, 100, 20,\n",
       "                    20, 20, 20, 20, 30, 30, 30, 30, 30, 50, 50, 50, 50, 50,\n",
       "                    70, 70, 70, 70, 70, 100, 100, 100, 100, 100, 20, 20,\n",
       "                    20, 20, 20, 30, 30, 30, 30, 30, 50, 50, 50, 50, 50, 70,\n",
       "                    70, 70, 70, 70, 100, 100, 100, 100, 100, 20, 20, 20,\n",
       "                    20, 20, 30, 30, 30, 30, 30, 50, 50, 50, 50, 50, 70, 70,\n",
       "                    70, 70, 70, 100, 100, 100, 100, 100],\n",
       "              mask=[False, False, False, False, False, False, False, False,\n",
       "                    False, False, False, False, False, False, False, False,\n",
       "                    False, False, False, False, False, False, False, False,\n",
       "                    False, False, False, False, False, False, False, False,\n",
       "                    False, False, False, False, False, False, False, False,\n",
       "                    False, False, False, False, False, False, False, False,\n",
       "                    False, False, False, False, False, False, False, False,\n",
       "                    False, False, False, False, False, False, False, False,\n",
       "                    False, False, False, False, False, False, False, False,\n",
       "                    False, False, False, False, False, False, False, False,\n",
       "                    False, False, False, False, False, False, False, False,\n",
       "                    False, False, False, False, False, False, False, False,\n",
       "                    False, False, False, False],\n",
       "        fill_value='?',\n",
       "             dtype=object),\n",
       " 'param_n_estimators': masked_array(data=[5, 10, 20, 30, 50, 5, 10, 20, 30, 50, 5, 10, 20, 30,\n",
       "                    50, 5, 10, 20, 30, 50, 5, 10, 20, 30, 50, 5, 10, 20,\n",
       "                    30, 50, 5, 10, 20, 30, 50, 5, 10, 20, 30, 50, 5, 10,\n",
       "                    20, 30, 50, 5, 10, 20, 30, 50, 5, 10, 20, 30, 50, 5,\n",
       "                    10, 20, 30, 50, 5, 10, 20, 30, 50, 5, 10, 20, 30, 50,\n",
       "                    5, 10, 20, 30, 50, 5, 10, 20, 30, 50, 5, 10, 20, 30,\n",
       "                    50, 5, 10, 20, 30, 50, 5, 10, 20, 30, 50, 5, 10, 20,\n",
       "                    30, 50],\n",
       "              mask=[False, False, False, False, False, False, False, False,\n",
       "                    False, False, False, False, False, False, False, False,\n",
       "                    False, False, False, False, False, False, False, False,\n",
       "                    False, False, False, False, False, False, False, False,\n",
       "                    False, False, False, False, False, False, False, False,\n",
       "                    False, False, False, False, False, False, False, False,\n",
       "                    False, False, False, False, False, False, False, False,\n",
       "                    False, False, False, False, False, False, False, False,\n",
       "                    False, False, False, False, False, False, False, False,\n",
       "                    False, False, False, False, False, False, False, False,\n",
       "                    False, False, False, False, False, False, False, False,\n",
       "                    False, False, False, False, False, False, False, False,\n",
       "                    False, False, False, False],\n",
       "        fill_value='?',\n",
       "             dtype=object),\n",
       " 'params': [{'max_depth': 5, 'min_samples_split': 20, 'n_estimators': 5},\n",
       "  {'max_depth': 5, 'min_samples_split': 20, 'n_estimators': 10},\n",
       "  {'max_depth': 5, 'min_samples_split': 20, 'n_estimators': 20},\n",
       "  {'max_depth': 5, 'min_samples_split': 20, 'n_estimators': 30},\n",
       "  {'max_depth': 5, 'min_samples_split': 20, 'n_estimators': 50},\n",
       "  {'max_depth': 5, 'min_samples_split': 30, 'n_estimators': 5},\n",
       "  {'max_depth': 5, 'min_samples_split': 30, 'n_estimators': 10},\n",
       "  {'max_depth': 5, 'min_samples_split': 30, 'n_estimators': 20},\n",
       "  {'max_depth': 5, 'min_samples_split': 30, 'n_estimators': 30},\n",
       "  {'max_depth': 5, 'min_samples_split': 30, 'n_estimators': 50},\n",
       "  {'max_depth': 5, 'min_samples_split': 50, 'n_estimators': 5},\n",
       "  {'max_depth': 5, 'min_samples_split': 50, 'n_estimators': 10},\n",
       "  {'max_depth': 5, 'min_samples_split': 50, 'n_estimators': 20},\n",
       "  {'max_depth': 5, 'min_samples_split': 50, 'n_estimators': 30},\n",
       "  {'max_depth': 5, 'min_samples_split': 50, 'n_estimators': 50},\n",
       "  {'max_depth': 5, 'min_samples_split': 70, 'n_estimators': 5},\n",
       "  {'max_depth': 5, 'min_samples_split': 70, 'n_estimators': 10},\n",
       "  {'max_depth': 5, 'min_samples_split': 70, 'n_estimators': 20},\n",
       "  {'max_depth': 5, 'min_samples_split': 70, 'n_estimators': 30},\n",
       "  {'max_depth': 5, 'min_samples_split': 70, 'n_estimators': 50},\n",
       "  {'max_depth': 5, 'min_samples_split': 100, 'n_estimators': 5},\n",
       "  {'max_depth': 5, 'min_samples_split': 100, 'n_estimators': 10},\n",
       "  {'max_depth': 5, 'min_samples_split': 100, 'n_estimators': 20},\n",
       "  {'max_depth': 5, 'min_samples_split': 100, 'n_estimators': 30},\n",
       "  {'max_depth': 5, 'min_samples_split': 100, 'n_estimators': 50},\n",
       "  {'max_depth': 10, 'min_samples_split': 20, 'n_estimators': 5},\n",
       "  {'max_depth': 10, 'min_samples_split': 20, 'n_estimators': 10},\n",
       "  {'max_depth': 10, 'min_samples_split': 20, 'n_estimators': 20},\n",
       "  {'max_depth': 10, 'min_samples_split': 20, 'n_estimators': 30},\n",
       "  {'max_depth': 10, 'min_samples_split': 20, 'n_estimators': 50},\n",
       "  {'max_depth': 10, 'min_samples_split': 30, 'n_estimators': 5},\n",
       "  {'max_depth': 10, 'min_samples_split': 30, 'n_estimators': 10},\n",
       "  {'max_depth': 10, 'min_samples_split': 30, 'n_estimators': 20},\n",
       "  {'max_depth': 10, 'min_samples_split': 30, 'n_estimators': 30},\n",
       "  {'max_depth': 10, 'min_samples_split': 30, 'n_estimators': 50},\n",
       "  {'max_depth': 10, 'min_samples_split': 50, 'n_estimators': 5},\n",
       "  {'max_depth': 10, 'min_samples_split': 50, 'n_estimators': 10},\n",
       "  {'max_depth': 10, 'min_samples_split': 50, 'n_estimators': 20},\n",
       "  {'max_depth': 10, 'min_samples_split': 50, 'n_estimators': 30},\n",
       "  {'max_depth': 10, 'min_samples_split': 50, 'n_estimators': 50},\n",
       "  {'max_depth': 10, 'min_samples_split': 70, 'n_estimators': 5},\n",
       "  {'max_depth': 10, 'min_samples_split': 70, 'n_estimators': 10},\n",
       "  {'max_depth': 10, 'min_samples_split': 70, 'n_estimators': 20},\n",
       "  {'max_depth': 10, 'min_samples_split': 70, 'n_estimators': 30},\n",
       "  {'max_depth': 10, 'min_samples_split': 70, 'n_estimators': 50},\n",
       "  {'max_depth': 10, 'min_samples_split': 100, 'n_estimators': 5},\n",
       "  {'max_depth': 10, 'min_samples_split': 100, 'n_estimators': 10},\n",
       "  {'max_depth': 10, 'min_samples_split': 100, 'n_estimators': 20},\n",
       "  {'max_depth': 10, 'min_samples_split': 100, 'n_estimators': 30},\n",
       "  {'max_depth': 10, 'min_samples_split': 100, 'n_estimators': 50},\n",
       "  {'max_depth': 15, 'min_samples_split': 20, 'n_estimators': 5},\n",
       "  {'max_depth': 15, 'min_samples_split': 20, 'n_estimators': 10},\n",
       "  {'max_depth': 15, 'min_samples_split': 20, 'n_estimators': 20},\n",
       "  {'max_depth': 15, 'min_samples_split': 20, 'n_estimators': 30},\n",
       "  {'max_depth': 15, 'min_samples_split': 20, 'n_estimators': 50},\n",
       "  {'max_depth': 15, 'min_samples_split': 30, 'n_estimators': 5},\n",
       "  {'max_depth': 15, 'min_samples_split': 30, 'n_estimators': 10},\n",
       "  {'max_depth': 15, 'min_samples_split': 30, 'n_estimators': 20},\n",
       "  {'max_depth': 15, 'min_samples_split': 30, 'n_estimators': 30},\n",
       "  {'max_depth': 15, 'min_samples_split': 30, 'n_estimators': 50},\n",
       "  {'max_depth': 15, 'min_samples_split': 50, 'n_estimators': 5},\n",
       "  {'max_depth': 15, 'min_samples_split': 50, 'n_estimators': 10},\n",
       "  {'max_depth': 15, 'min_samples_split': 50, 'n_estimators': 20},\n",
       "  {'max_depth': 15, 'min_samples_split': 50, 'n_estimators': 30},\n",
       "  {'max_depth': 15, 'min_samples_split': 50, 'n_estimators': 50},\n",
       "  {'max_depth': 15, 'min_samples_split': 70, 'n_estimators': 5},\n",
       "  {'max_depth': 15, 'min_samples_split': 70, 'n_estimators': 10},\n",
       "  {'max_depth': 15, 'min_samples_split': 70, 'n_estimators': 20},\n",
       "  {'max_depth': 15, 'min_samples_split': 70, 'n_estimators': 30},\n",
       "  {'max_depth': 15, 'min_samples_split': 70, 'n_estimators': 50},\n",
       "  {'max_depth': 15, 'min_samples_split': 100, 'n_estimators': 5},\n",
       "  {'max_depth': 15, 'min_samples_split': 100, 'n_estimators': 10},\n",
       "  {'max_depth': 15, 'min_samples_split': 100, 'n_estimators': 20},\n",
       "  {'max_depth': 15, 'min_samples_split': 100, 'n_estimators': 30},\n",
       "  {'max_depth': 15, 'min_samples_split': 100, 'n_estimators': 50},\n",
       "  {'max_depth': 20, 'min_samples_split': 20, 'n_estimators': 5},\n",
       "  {'max_depth': 20, 'min_samples_split': 20, 'n_estimators': 10},\n",
       "  {'max_depth': 20, 'min_samples_split': 20, 'n_estimators': 20},\n",
       "  {'max_depth': 20, 'min_samples_split': 20, 'n_estimators': 30},\n",
       "  {'max_depth': 20, 'min_samples_split': 20, 'n_estimators': 50},\n",
       "  {'max_depth': 20, 'min_samples_split': 30, 'n_estimators': 5},\n",
       "  {'max_depth': 20, 'min_samples_split': 30, 'n_estimators': 10},\n",
       "  {'max_depth': 20, 'min_samples_split': 30, 'n_estimators': 20},\n",
       "  {'max_depth': 20, 'min_samples_split': 30, 'n_estimators': 30},\n",
       "  {'max_depth': 20, 'min_samples_split': 30, 'n_estimators': 50},\n",
       "  {'max_depth': 20, 'min_samples_split': 50, 'n_estimators': 5},\n",
       "  {'max_depth': 20, 'min_samples_split': 50, 'n_estimators': 10},\n",
       "  {'max_depth': 20, 'min_samples_split': 50, 'n_estimators': 20},\n",
       "  {'max_depth': 20, 'min_samples_split': 50, 'n_estimators': 30},\n",
       "  {'max_depth': 20, 'min_samples_split': 50, 'n_estimators': 50},\n",
       "  {'max_depth': 20, 'min_samples_split': 70, 'n_estimators': 5},\n",
       "  {'max_depth': 20, 'min_samples_split': 70, 'n_estimators': 10},\n",
       "  {'max_depth': 20, 'min_samples_split': 70, 'n_estimators': 20},\n",
       "  {'max_depth': 20, 'min_samples_split': 70, 'n_estimators': 30},\n",
       "  {'max_depth': 20, 'min_samples_split': 70, 'n_estimators': 50},\n",
       "  {'max_depth': 20, 'min_samples_split': 100, 'n_estimators': 5},\n",
       "  {'max_depth': 20, 'min_samples_split': 100, 'n_estimators': 10},\n",
       "  {'max_depth': 20, 'min_samples_split': 100, 'n_estimators': 20},\n",
       "  {'max_depth': 20, 'min_samples_split': 100, 'n_estimators': 30},\n",
       "  {'max_depth': 20, 'min_samples_split': 100, 'n_estimators': 50}],\n",
       " 'split0_test_score': array([0.78537957, 0.79850047, 0.80693533, 0.8022493 , 0.80506092,\n",
       "        0.79287723, 0.79850047, 0.80037488, 0.79943768, 0.8022493 ,\n",
       "        0.78163074, 0.79756326, 0.80506092, 0.80506092, 0.8022493 ,\n",
       "        0.79475164, 0.80412371, 0.79943768, 0.80599813, 0.8031865 ,\n",
       "        0.79194002, 0.80506092, 0.79662605, 0.80037488, 0.80412371,\n",
       "        0.81162137, 0.80412371, 0.81349578, 0.80599813, 0.81818182,\n",
       "        0.79850047, 0.80880975, 0.81162137, 0.81724461, 0.81255858,\n",
       "        0.80412371, 0.81443299, 0.80693533, 0.80880975, 0.81349578,\n",
       "        0.81443299, 0.80880975, 0.80880975, 0.82005623, 0.81068416,\n",
       "        0.81068416, 0.80974695, 0.81255858, 0.8153702 , 0.81255858,\n",
       "        0.79194002, 0.8031865 , 0.80974695, 0.81255858, 0.81911903,\n",
       "        0.80037488, 0.80506092, 0.81068416, 0.80787254, 0.81162137,\n",
       "        0.80506092, 0.8031865 , 0.81068416, 0.80880975, 0.80974695,\n",
       "        0.8031865 , 0.80787254, 0.8153702 , 0.81162137, 0.81162137,\n",
       "        0.80412371, 0.81068416, 0.80880975, 0.8031865 , 0.8163074 ,\n",
       "        0.79381443, 0.80599813, 0.81255858, 0.81255858, 0.8163074 ,\n",
       "        0.81162137, 0.81068416, 0.80787254, 0.8031865 , 0.81349578,\n",
       "        0.80131209, 0.81349578, 0.8163074 , 0.8163074 , 0.8163074 ,\n",
       "        0.8022493 , 0.81162137, 0.81068416, 0.80880975, 0.81349578,\n",
       "        0.80787254, 0.80599813, 0.81255858, 0.80787254, 0.80787254]),\n",
       " 'split1_test_score': array([0.78256795, 0.76944705, 0.7900656 , 0.79100281, 0.78069353,\n",
       "        0.75726336, 0.77975633, 0.78819119, 0.77975633, 0.77881912,\n",
       "        0.76476101, 0.78819119, 0.78725398, 0.7891284 , 0.78350515,\n",
       "        0.7769447 , 0.78537957, 0.78350515, 0.78725398, 0.78631678,\n",
       "        0.77319588, 0.77881912, 0.78444236, 0.79100281, 0.78631678,\n",
       "        0.78725398, 0.79381443, 0.79568885, 0.79475164, 0.80131209,\n",
       "        0.79100281, 0.80037488, 0.79662605, 0.78725398, 0.79568885,\n",
       "        0.8031865 , 0.79381443, 0.79850047, 0.80131209, 0.79568885,\n",
       "        0.78819119, 0.79287723, 0.7891284 , 0.79568885, 0.79100281,\n",
       "        0.78725398, 0.78819119, 0.79194002, 0.78350515, 0.78631678,\n",
       "        0.78725398, 0.80037488, 0.79662605, 0.80412371, 0.80506092,\n",
       "        0.79568885, 0.79568885, 0.7900656 , 0.79475164, 0.79943768,\n",
       "        0.79381443, 0.79194002, 0.7900656 , 0.8022493 , 0.80037488,\n",
       "        0.79943768, 0.79850047, 0.78819119, 0.79850047, 0.78631678,\n",
       "        0.79756326, 0.7891284 , 0.79381443, 0.79194002, 0.79568885,\n",
       "        0.79475164, 0.79662605, 0.79756326, 0.81349578, 0.79943768,\n",
       "        0.79756326, 0.7891284 , 0.79194002, 0.79756326, 0.79756326,\n",
       "        0.79662605, 0.7891284 , 0.79662605, 0.7891284 , 0.79568885,\n",
       "        0.78537957, 0.80599813, 0.79662605, 0.79662605, 0.7900656 ,\n",
       "        0.77975633, 0.79662605, 0.79287723, 0.78631678, 0.78725398]),\n",
       " 'split2_test_score': array([0.76454034, 0.76266417, 0.78611632, 0.77298311, 0.77673546,\n",
       "        0.77767355, 0.7673546 , 0.78330206, 0.77861163, 0.77016886,\n",
       "        0.76547842, 0.77485929, 0.76454034, 0.77204503, 0.76829268,\n",
       "        0.77485929, 0.75984991, 0.77579737, 0.77485929, 0.77298311,\n",
       "        0.77016886, 0.77954972, 0.77204503, 0.77110694, 0.77016886,\n",
       "        0.7804878 , 0.78893058, 0.77954972, 0.79268293, 0.78986867,\n",
       "        0.7879925 , 0.78611632, 0.7879925 , 0.79549719, 0.7945591 ,\n",
       "        0.77298311, 0.78236398, 0.78986867, 0.79268293, 0.79549719,\n",
       "        0.79362101, 0.7879925 , 0.78611632, 0.78893058, 0.78986867,\n",
       "        0.78142589, 0.78893058, 0.79737336, 0.79268293, 0.78517824,\n",
       "        0.77767355, 0.7804878 , 0.79080675, 0.78424015, 0.79549719,\n",
       "        0.78236398, 0.78236398, 0.78705441, 0.79174484, 0.78986867,\n",
       "        0.7739212 , 0.79268293, 0.78705441, 0.7945591 , 0.78986867,\n",
       "        0.78611632, 0.7804878 , 0.79362101, 0.79643527, 0.7945591 ,\n",
       "        0.7804878 , 0.78424015, 0.78517824, 0.77954972, 0.79549719,\n",
       "        0.7739212 , 0.78424015, 0.79080675, 0.78236398, 0.7879925 ,\n",
       "        0.76829268, 0.79268293, 0.7879925 , 0.79268293, 0.7945591 ,\n",
       "        0.78517824, 0.77954972, 0.78611632, 0.78611632, 0.79174484,\n",
       "        0.78705441, 0.78330206, 0.7879925 , 0.79174484, 0.79831144,\n",
       "        0.78142589, 0.78517824, 0.79174484, 0.78330206, 0.79362101]),\n",
       " 'mean_test_score': array([0.77749595, 0.77687056, 0.79437242, 0.78874507, 0.78749664,\n",
       "        0.77593804, 0.78187046, 0.79062271, 0.78593521, 0.78374576,\n",
       "        0.77062339, 0.78687125, 0.78561841, 0.78874478, 0.78468238,\n",
       "        0.78218521, 0.78311773, 0.78624673, 0.78937047, 0.78749546,\n",
       "        0.77843492, 0.78780992, 0.78437115, 0.78749488, 0.78686978,\n",
       "        0.79312105, 0.79562291, 0.79624478, 0.7978109 , 0.80312086,\n",
       "        0.79249859, 0.79843365, 0.79874664, 0.79999859, 0.80093551,\n",
       "        0.79343111, 0.79687047, 0.79843482, 0.80093492, 0.80156061,\n",
       "        0.7987484 , 0.79655982, 0.79468482, 0.80155855, 0.79718521,\n",
       "        0.79312135, 0.79562291, 0.80062398, 0.79718609, 0.79468453,\n",
       "        0.78562252, 0.79468306, 0.79905992, 0.80030748, 0.80655904,\n",
       "        0.79280924, 0.79437125, 0.79593472, 0.79812301, 0.80030924,\n",
       "        0.79093218, 0.79593648, 0.79593472, 0.80187271, 0.79999683,\n",
       "        0.79624683, 0.79562027, 0.7990608 , 0.8021857 , 0.79749908,\n",
       "        0.79405826, 0.79468424, 0.79593414, 0.79155875, 0.80249781,\n",
       "        0.78749576, 0.79562144, 0.80030953, 0.80280611, 0.80124586,\n",
       "        0.79249244, 0.7974985 , 0.79593502, 0.7978109 , 0.80187271,\n",
       "        0.79437213, 0.79405797, 0.79968326, 0.79718404, 0.80124703,\n",
       "        0.79156109, 0.80030719, 0.79843424, 0.79906021, 0.80062428,\n",
       "        0.78968492, 0.79593414, 0.79906021, 0.79249713, 0.79624918]),\n",
       " 'std_test_score': array([0.00923263, 0.01554331, 0.00902845, 0.01205406, 0.0125245 ,\n",
       "        0.014591  , 0.01280283, 0.00717888, 0.00955911, 0.01355218,\n",
       "        0.00778888, 0.00931573, 0.01658284, 0.01348141, 0.0138877 ,\n",
       "        0.0089265 , 0.01814533, 0.00984389, 0.01280017, 0.01235862,\n",
       "        0.00962918, 0.01220194, 0.01003529, 0.01220334, 0.01386753,\n",
       "        0.01337015, 0.00633302, 0.013864  , 0.00585052, 0.01162934,\n",
       "        0.00441833, 0.00936569, 0.00976229, 0.0126506 , 0.00823168,\n",
       "        0.01446398, 0.01326926, 0.00696759, 0.00658915, 0.00843981,\n",
       "        0.01131004, 0.00888859, 0.01006324, 0.01336766, 0.00955642,\n",
       "        0.01264466, 0.00999177, 0.00872568, 0.01339289, 0.0126474 ,\n",
       "        0.00593741, 0.01010298, 0.00792151, 0.0118717 , 0.00970158,\n",
       "        0.00762965, 0.00931271, 0.01050163, 0.00700239, 0.00890186,\n",
       "        0.01287507, 0.0051355 , 0.01050163, 0.00582389, 0.00811968,\n",
       "        0.00732502, 0.01136376, 0.0117436 , 0.00672508, 0.01053765,\n",
       "        0.00996252, 0.01148831, 0.00976326, 0.00965344, 0.00976517,\n",
       "        0.00960628, 0.00891102, 0.00908999, 0.01445983, 0.01163001,\n",
       "        0.01804861, 0.00943592, 0.00859357, 0.00429164, 0.00830975,\n",
       "        0.0067767 , 0.01429007, 0.0125136 , 0.01357806, 0.01077033,\n",
       "        0.00758857, 0.01224162, 0.00935165, 0.00717619, 0.00970413,\n",
       "        0.01287864, 0.00851375, 0.00955597, 0.0109415 , 0.0086202 ]),\n",
       " 'rank_test_score': array([ 97,  98,  59,  77,  80,  99,  95,  74,  87,  92, 100,  84,  89,\n",
       "         78,  90,  94,  93,  86,  76,  82,  96,  79,  91,  83,  85,  66,\n",
       "         51,  44,  33,   2,  68,  31,  28,  20,  12,  64,  40,  29,  13,\n",
       "          8,  27,  41,  55,   9,  38,  65,  51,  15,  37,  56,  88,  58,\n",
       "         26,  18,   1,  67,  61,  47,  32,  17,  73,  45,  47,   7,  21,\n",
       "         43,  54,  23,   5,  35,  62,  57,  49,  72,   4,  81,  53,  16,\n",
       "          3,  11,  70,  36,  46,  33,   6,  60,  63,  22,  39,  10,  71,\n",
       "         19,  30,  24,  14,  75,  49,  24,  69,  42], dtype=int32)}"
      ]
     },
     "execution_count": 34,
     "metadata": {},
     "output_type": "execute_result"
    }
   ],
   "source": [
    "search.cv_results_"
   ]
  },
  {
   "cell_type": "code",
   "execution_count": 37,
   "metadata": {},
   "outputs": [
    {
     "data": {
      "text/plain": [
       "0.8065590431695536"
      ]
     },
     "execution_count": 37,
     "metadata": {},
     "output_type": "execute_result"
    }
   ],
   "source": [
    "search.best_score_"
   ]
  },
  {
   "cell_type": "code",
   "execution_count": 54,
   "metadata": {},
   "outputs": [],
   "source": [
    "rf = RandomForestClassifier(max_depth=15, min_samples_split=20, n_estimators=50)"
   ]
  },
  {
   "cell_type": "code",
   "execution_count": 55,
   "metadata": {},
   "outputs": [
    {
     "data": {
      "text/plain": [
       "array([0.80787254, 0.79850047, 0.79174484])"
      ]
     },
     "execution_count": 55,
     "metadata": {},
     "output_type": "execute_result"
    }
   ],
   "source": [
    "cross_val_score(search.best_estimator_, X_train_features, y_train, cv=kfold, scoring='accuracy')"
   ]
  },
  {
   "cell_type": "code",
   "execution_count": 70,
   "metadata": {},
   "outputs": [
    {
     "name": "stdout",
     "output_type": "stream",
     "text": [
      "0.7993726163200642\n"
     ]
    }
   ],
   "source": [
    "print(np.mean(cross_val_score(search.best_estimator_, X_train_features, y_train, cv=kfold, scoring='accuracy')))"
   ]
  },
  {
   "cell_type": "code",
   "execution_count": 71,
   "metadata": {},
   "outputs": [
    {
     "name": "stdout",
     "output_type": "stream",
     "text": [
      "0.00661292433827033\n"
     ]
    }
   ],
   "source": [
    "print(np.std(cross_val_score(search.best_estimator_, X_train_features, y_train, cv=kfold, scoring='accuracy')))"
   ]
  },
  {
   "cell_type": "code",
   "execution_count": 78,
   "metadata": {},
   "outputs": [],
   "source": [
    "score = cross_val_score(search.best_estimator_, X_train_features, y_train, cv=kfold, scoring='precision')"
   ]
  },
  {
   "cell_type": "code",
   "execution_count": 79,
   "metadata": {},
   "outputs": [
    {
     "name": "stdout",
     "output_type": "stream",
     "text": [
      "0.7921855921855921\n"
     ]
    }
   ],
   "source": [
    "print(np.mean(score))"
   ]
  },
  {
   "cell_type": "code",
   "execution_count": 80,
   "metadata": {},
   "outputs": [
    {
     "name": "stdout",
     "output_type": "stream",
     "text": [
      "0.018593928406149166\n"
     ]
    }
   ],
   "source": [
    "print(np.std(score))"
   ]
  },
  {
   "cell_type": "code",
   "execution_count": 84,
   "metadata": {},
   "outputs": [],
   "source": [
    "score = cross_val_score(search.best_estimator_, X_train_features, y_train, cv=kfold, scoring='recall')"
   ]
  },
  {
   "cell_type": "code",
   "execution_count": 85,
   "metadata": {},
   "outputs": [
    {
     "name": "stdout",
     "output_type": "stream",
     "text": [
      "0.683445745427076\n"
     ]
    }
   ],
   "source": [
    "print(np.mean(score))"
   ]
  },
  {
   "cell_type": "code",
   "execution_count": 86,
   "metadata": {},
   "outputs": [
    {
     "name": "stdout",
     "output_type": "stream",
     "text": [
      "0.010155853716560201\n"
     ]
    }
   ],
   "source": [
    "print(np.std(score))"
   ]
  },
  {
   "cell_type": "markdown",
   "metadata": {},
   "source": [
    "# Create a gradient boosting model and performing cross validation using training dataset"
   ]
  },
  {
   "cell_type": "code",
   "execution_count": 45,
   "metadata": {},
   "outputs": [],
   "source": [
    "from sklearn.ensemble import GradientBoostingClassifier\n",
    "from sklearn.model_selection import cross_val_score"
   ]
  },
  {
   "cell_type": "code",
   "execution_count": 46,
   "metadata": {},
   "outputs": [],
   "source": [
    "gd = GradientBoostingClassifier()"
   ]
  },
  {
   "cell_type": "code",
   "execution_count": 47,
   "metadata": {},
   "outputs": [],
   "source": [
    "gd_precision_scores = cross_val_score(gd, X_train_features, y_train, cv=kfold, scoring='precision')"
   ]
  },
  {
   "cell_type": "code",
   "execution_count": 48,
   "metadata": {},
   "outputs": [
    {
     "data": {
      "text/plain": [
       "array([0.8032345 , 0.80779944, 0.77142857])"
      ]
     },
     "execution_count": 48,
     "metadata": {},
     "output_type": "execute_result"
    }
   ],
   "source": [
    "gd_precision_scores"
   ]
  },
  {
   "cell_type": "code",
   "execution_count": 49,
   "metadata": {},
   "outputs": [
    {
     "name": "stdout",
     "output_type": "stream",
     "text": [
      "Fitting 3 folds for each of 300 candidates, totalling 900 fits\n"
     ]
    },
    {
     "name": "stderr",
     "output_type": "stream",
     "text": [
      "[Parallel(n_jobs=-1)]: Using backend LokyBackend with 8 concurrent workers.\n",
      "[Parallel(n_jobs=-1)]: Done  34 tasks      | elapsed:    2.0s\n",
      "[Parallel(n_jobs=-1)]: Done 184 tasks      | elapsed:    7.9s\n",
      "[Parallel(n_jobs=-1)]: Done 434 tasks      | elapsed:   18.8s\n",
      "[Parallel(n_jobs=-1)]: Done 784 tasks      | elapsed:   35.9s\n",
      "[Parallel(n_jobs=-1)]: Done 900 out of 900 | elapsed:   42.7s finished\n"
     ]
    }
   ],
   "source": [
    "from sklearn.model_selection import GridSearchCV\n",
    "param_grid = {\n",
    "   'n_estimators': [5, 10, 20, 30, 50],\n",
    "   'max_depth': [5, 10, 15, 20],\n",
    "   'min_samples_split': [20, 30, 50, 70, 100],\n",
    "   'learning_rate': [0.001, 0.01, 0.1]\n",
    "    }\n",
    "search = GridSearchCV(gd, param_grid, cv=3, scoring='accuracy', verbose=1, n_jobs=-1).fit(X_train_features, y_train)"
   ]
  },
  {
   "cell_type": "code",
   "execution_count": 50,
   "metadata": {},
   "outputs": [
    {
     "data": {
      "text/plain": [
       "GradientBoostingClassifier(max_depth=5, min_samples_split=50, n_estimators=50)"
      ]
     },
     "execution_count": 50,
     "metadata": {},
     "output_type": "execute_result"
    }
   ],
   "source": [
    "search.best_estimator_"
   ]
  },
  {
   "cell_type": "code",
   "execution_count": 51,
   "metadata": {},
   "outputs": [
    {
     "data": {
      "text/plain": [
       "{'learning_rate': 0.1,\n",
       " 'max_depth': 5,\n",
       " 'min_samples_split': 50,\n",
       " 'n_estimators': 50}"
      ]
     },
     "execution_count": 51,
     "metadata": {},
     "output_type": "execute_result"
    }
   ],
   "source": [
    "search.best_params_"
   ]
  },
  {
   "cell_type": "code",
   "execution_count": 52,
   "metadata": {},
   "outputs": [],
   "source": [
    "gb = GradientBoostingClassifier(max_depth=5, min_samples_split=50, n_estimators=50, learning_rate=0.1)"
   ]
  },
  {
   "cell_type": "code",
   "execution_count": 96,
   "metadata": {},
   "outputs": [],
   "source": [
    "score = cross_val_score(gb, X_train_features, y_train, cv=kfold, scoring='accuracy')"
   ]
  },
  {
   "cell_type": "code",
   "execution_count": 97,
   "metadata": {},
   "outputs": [
    {
     "data": {
      "text/plain": [
       "0.7999974210685803"
      ]
     },
     "execution_count": 97,
     "metadata": {},
     "output_type": "execute_result"
    }
   ],
   "source": [
    "np.mean(score)"
   ]
  },
  {
   "cell_type": "code",
   "execution_count": 98,
   "metadata": {},
   "outputs": [
    {
     "data": {
      "text/plain": [
       "0.006589513349395979"
      ]
     },
     "execution_count": 98,
     "metadata": {},
     "output_type": "execute_result"
    }
   ],
   "source": [
    "np.std(score)"
   ]
  },
  {
   "cell_type": "code",
   "execution_count": 99,
   "metadata": {},
   "outputs": [],
   "source": [
    "score = cross_val_score(gb, X_train_features, y_train, cv=kfold, scoring='precision')"
   ]
  },
  {
   "cell_type": "code",
   "execution_count": 100,
   "metadata": {},
   "outputs": [
    {
     "data": {
      "text/plain": [
       "0.7920014329105238"
      ]
     },
     "execution_count": 100,
     "metadata": {},
     "output_type": "execute_result"
    }
   ],
   "source": [
    "np.mean(score)"
   ]
  },
  {
   "cell_type": "code",
   "execution_count": 101,
   "metadata": {},
   "outputs": [
    {
     "data": {
      "text/plain": [
       "0.018523665520721152"
      ]
     },
     "execution_count": 101,
     "metadata": {},
     "output_type": "execute_result"
    }
   ],
   "source": [
    "np.std(score)"
   ]
  },
  {
   "cell_type": "code",
   "execution_count": 102,
   "metadata": {},
   "outputs": [],
   "source": [
    "score = cross_val_score(gb, X_train_features, y_train, cv=kfold, scoring='recall')"
   ]
  },
  {
   "cell_type": "code",
   "execution_count": 103,
   "metadata": {},
   "outputs": [
    {
     "data": {
      "text/plain": [
       "0.6849925358369755"
      ]
     },
     "execution_count": 103,
     "metadata": {},
     "output_type": "execute_result"
    }
   ],
   "source": [
    "np.mean(score)"
   ]
  },
  {
   "cell_type": "code",
   "execution_count": 104,
   "metadata": {},
   "outputs": [
    {
     "data": {
      "text/plain": [
       "0.00824511082340141"
      ]
     },
     "execution_count": 104,
     "metadata": {},
     "output_type": "execute_result"
    }
   ],
   "source": [
    "np.std(score)"
   ]
  },
  {
   "cell_type": "code",
   "execution_count": null,
   "metadata": {},
   "outputs": [],
   "source": []
  },
  {
   "cell_type": "markdown",
   "metadata": {},
   "source": [
    "# Apply pipeline on test dataset"
   ]
  },
  {
   "cell_type": "code",
   "execution_count": 24,
   "metadata": {},
   "outputs": [],
   "source": [
    "# X_test['Balance'] = X_test.Balance.apply(lambda x : 0 if x<0 else x)\n",
    "# X_test['IsPreviouslyContacted'] = X_test.DaysPassed.apply(lambda x : 0 if x==-1 else 1)\n",
    "# X_test['DaysPassed'] = X_test.DaysPassed.apply(lambda x : 0 if x==-1 else x)\n",
    "# X_test['LastContactQuadrimester'] = X_test.LastContactMonth.apply(lambda x : quarter_month(x))\n",
    "# X_test['Job'] = X_test['Job'].fillna('missing')\n",
    "# X_test['JobCategory'] = X_test.Job.apply(lambda x : job_categories(x))\n",
    "# X_test['AgeCategory'] = X_test.Age.apply(lambda x : age_group(x))\n",
    "# X_train['CallDurationCategory'] = X_train.call_duration.apply(lambda x : duration_category(x/60))\n",
    "# X_test_1 = log_transformer.transform(X_test)\n",
    "# X_test_2 = standard_scaler.transform(X_test_1)\n",
    "# X_test_3 = fill_imX_train['JobCategory'] = X_train.Job.apply(lambda x : job_categories(x))puter.transform(X_test_2)\n",
    "# X_test_4 = knn_imputer.transform(X_test_3)\n",
    "# X_test_5 = one_hot_encoder.transform(X_test_4)\n",
    "\n",
    "############### converted negative balance to zero\n",
    "X_test['Balance'] = X_test.Balance.apply(lambda x : 0 if x<0 else x)\n",
    "\n",
    "############### create a new variable for indicting whether a client is previously contacted - Boolean\n",
    "X_test['IsPreviouslyContacted'] = X_test.DaysPassed.apply(lambda x : 0 if x==-1 else 1)\n",
    "\n",
    "############### convert -ve values for days passed\n",
    "X_test['DaysPassed'] = X_test.DaysPassed.apply(lambda x : 0 if x==-1 else x)\n",
    "\n",
    "############### convert month to quadrimester\n",
    "X_test['LastContactQuadrimester'] = X_test.LastContactMonth.apply(lambda x : quarter_month(x))\n",
    "\n",
    "X_test['Job'] = X_test['Job'].fillna('missing')\n",
    "X_test['JobCategory'] = X_test.Job.apply(lambda x : job_categories(x))\n",
    "X_test['AgeCategory'] = X_test.Age.apply(lambda x : age_group(x))\n",
    "X_test['CallDurationCategory'] = X_test.call_duration.apply(lambda x : duration_category(x/60))\n",
    "X_test['NoOfContactsCategory'] = X_test.NoOfContacts.apply(lambda x : no_of_contacts_category(x))\n",
    "\n",
    "\n",
    "X_test_features = pipe.transform(X_test)\n",
    "X_test_features = X_test_features.drop(['NoOfContacts', 'LastContactMonth', 'Job', 'Age', 'call_duration', 'Balance'], axis=1)"
   ]
  },
  {
   "cell_type": "code",
   "execution_count": 495,
   "metadata": {},
   "outputs": [
    {
     "data": {
      "text/html": [
       "<div>\n",
       "<style scoped>\n",
       "    .dataframe tbody tr th:only-of-type {\n",
       "        vertical-align: middle;\n",
       "    }\n",
       "\n",
       "    .dataframe tbody tr th {\n",
       "        vertical-align: top;\n",
       "    }\n",
       "\n",
       "    .dataframe thead th {\n",
       "        text-align: right;\n",
       "    }\n",
       "</style>\n",
       "<table border=\"1\" class=\"dataframe\">\n",
       "  <thead>\n",
       "    <tr style=\"text-align: right;\">\n",
       "      <th></th>\n",
       "      <th>Marital_1</th>\n",
       "      <th>Marital_2</th>\n",
       "      <th>Marital_3</th>\n",
       "      <th>Education_1</th>\n",
       "      <th>Education_2</th>\n",
       "      <th>Education_3</th>\n",
       "      <th>HHInsurance</th>\n",
       "      <th>CarLoan</th>\n",
       "      <th>Communication_1</th>\n",
       "      <th>Communication_2</th>\n",
       "      <th>Communication_3</th>\n",
       "      <th>DaysPassed</th>\n",
       "      <th>PrevAttempts</th>\n",
       "      <th>Outcome_1</th>\n",
       "      <th>Outcome_2</th>\n",
       "      <th>Outcome_3</th>\n",
       "      <th>Outcome_4</th>\n",
       "      <th>IsPreviouslyContacted</th>\n",
       "      <th>LastContactQuadrimester_1</th>\n",
       "      <th>LastContactQuadrimester_2</th>\n",
       "      <th>LastContactQuadrimester_3</th>\n",
       "      <th>JobCategory_1</th>\n",
       "      <th>JobCategory_2</th>\n",
       "      <th>JobCategory_3</th>\n",
       "      <th>AgeCategory_1</th>\n",
       "      <th>AgeCategory_2</th>\n",
       "      <th>AgeCategory_3</th>\n",
       "      <th>AgeCategory_4</th>\n",
       "      <th>AgeCategory_5</th>\n",
       "      <th>CallDurationCategory_1</th>\n",
       "      <th>CallDurationCategory_2</th>\n",
       "      <th>CallDurationCategory_3</th>\n",
       "      <th>CallDurationCategory_4</th>\n",
       "      <th>NoOfContactsCategory_1</th>\n",
       "      <th>NoOfContactsCategory_2</th>\n",
       "      <th>NoOfContactsCategory_3</th>\n",
       "    </tr>\n",
       "  </thead>\n",
       "  <tbody>\n",
       "    <tr>\n",
       "      <th>200</th>\n",
       "      <td>1</td>\n",
       "      <td>0</td>\n",
       "      <td>0</td>\n",
       "      <td>0</td>\n",
       "      <td>0</td>\n",
       "      <td>1</td>\n",
       "      <td>0</td>\n",
       "      <td>0</td>\n",
       "      <td>1</td>\n",
       "      <td>0</td>\n",
       "      <td>0</td>\n",
       "      <td>-0.464205</td>\n",
       "      <td>-0.373862</td>\n",
       "      <td>1</td>\n",
       "      <td>0</td>\n",
       "      <td>0</td>\n",
       "      <td>0</td>\n",
       "      <td>0</td>\n",
       "      <td>1</td>\n",
       "      <td>0</td>\n",
       "      <td>0</td>\n",
       "      <td>0</td>\n",
       "      <td>1</td>\n",
       "      <td>0</td>\n",
       "      <td>0</td>\n",
       "      <td>1</td>\n",
       "      <td>0</td>\n",
       "      <td>0</td>\n",
       "      <td>0</td>\n",
       "      <td>0</td>\n",
       "      <td>0</td>\n",
       "      <td>1</td>\n",
       "      <td>0</td>\n",
       "      <td>0</td>\n",
       "      <td>1</td>\n",
       "      <td>0</td>\n",
       "    </tr>\n",
       "    <tr>\n",
       "      <th>1078</th>\n",
       "      <td>1</td>\n",
       "      <td>0</td>\n",
       "      <td>0</td>\n",
       "      <td>0</td>\n",
       "      <td>1</td>\n",
       "      <td>0</td>\n",
       "      <td>0</td>\n",
       "      <td>0</td>\n",
       "      <td>1</td>\n",
       "      <td>0</td>\n",
       "      <td>0</td>\n",
       "      <td>-0.464205</td>\n",
       "      <td>-0.373862</td>\n",
       "      <td>1</td>\n",
       "      <td>0</td>\n",
       "      <td>0</td>\n",
       "      <td>0</td>\n",
       "      <td>0</td>\n",
       "      <td>1</td>\n",
       "      <td>0</td>\n",
       "      <td>0</td>\n",
       "      <td>1</td>\n",
       "      <td>0</td>\n",
       "      <td>0</td>\n",
       "      <td>1</td>\n",
       "      <td>0</td>\n",
       "      <td>0</td>\n",
       "      <td>0</td>\n",
       "      <td>0</td>\n",
       "      <td>1</td>\n",
       "      <td>0</td>\n",
       "      <td>0</td>\n",
       "      <td>0</td>\n",
       "      <td>1</td>\n",
       "      <td>0</td>\n",
       "      <td>0</td>\n",
       "    </tr>\n",
       "    <tr>\n",
       "      <th>610</th>\n",
       "      <td>1</td>\n",
       "      <td>0</td>\n",
       "      <td>0</td>\n",
       "      <td>1</td>\n",
       "      <td>0</td>\n",
       "      <td>0</td>\n",
       "      <td>0</td>\n",
       "      <td>1</td>\n",
       "      <td>1</td>\n",
       "      <td>0</td>\n",
       "      <td>0</td>\n",
       "      <td>-0.464205</td>\n",
       "      <td>-0.373862</td>\n",
       "      <td>1</td>\n",
       "      <td>0</td>\n",
       "      <td>0</td>\n",
       "      <td>0</td>\n",
       "      <td>0</td>\n",
       "      <td>1</td>\n",
       "      <td>0</td>\n",
       "      <td>0</td>\n",
       "      <td>0</td>\n",
       "      <td>1</td>\n",
       "      <td>0</td>\n",
       "      <td>0</td>\n",
       "      <td>1</td>\n",
       "      <td>0</td>\n",
       "      <td>0</td>\n",
       "      <td>0</td>\n",
       "      <td>1</td>\n",
       "      <td>0</td>\n",
       "      <td>0</td>\n",
       "      <td>0</td>\n",
       "      <td>0</td>\n",
       "      <td>1</td>\n",
       "      <td>0</td>\n",
       "    </tr>\n",
       "    <tr>\n",
       "      <th>2159</th>\n",
       "      <td>0</td>\n",
       "      <td>1</td>\n",
       "      <td>0</td>\n",
       "      <td>0</td>\n",
       "      <td>0</td>\n",
       "      <td>1</td>\n",
       "      <td>1</td>\n",
       "      <td>0</td>\n",
       "      <td>1</td>\n",
       "      <td>0</td>\n",
       "      <td>0</td>\n",
       "      <td>-0.464205</td>\n",
       "      <td>-0.373862</td>\n",
       "      <td>1</td>\n",
       "      <td>0</td>\n",
       "      <td>0</td>\n",
       "      <td>0</td>\n",
       "      <td>0</td>\n",
       "      <td>1</td>\n",
       "      <td>0</td>\n",
       "      <td>0</td>\n",
       "      <td>0</td>\n",
       "      <td>1</td>\n",
       "      <td>0</td>\n",
       "      <td>0</td>\n",
       "      <td>0</td>\n",
       "      <td>1</td>\n",
       "      <td>0</td>\n",
       "      <td>0</td>\n",
       "      <td>0</td>\n",
       "      <td>1</td>\n",
       "      <td>0</td>\n",
       "      <td>0</td>\n",
       "      <td>1</td>\n",
       "      <td>0</td>\n",
       "      <td>0</td>\n",
       "    </tr>\n",
       "    <tr>\n",
       "      <th>1169</th>\n",
       "      <td>1</td>\n",
       "      <td>0</td>\n",
       "      <td>0</td>\n",
       "      <td>1</td>\n",
       "      <td>0</td>\n",
       "      <td>0</td>\n",
       "      <td>0</td>\n",
       "      <td>0</td>\n",
       "      <td>1</td>\n",
       "      <td>0</td>\n",
       "      <td>0</td>\n",
       "      <td>-0.464205</td>\n",
       "      <td>-0.373862</td>\n",
       "      <td>1</td>\n",
       "      <td>0</td>\n",
       "      <td>0</td>\n",
       "      <td>0</td>\n",
       "      <td>0</td>\n",
       "      <td>1</td>\n",
       "      <td>0</td>\n",
       "      <td>0</td>\n",
       "      <td>1</td>\n",
       "      <td>0</td>\n",
       "      <td>0</td>\n",
       "      <td>0</td>\n",
       "      <td>1</td>\n",
       "      <td>0</td>\n",
       "      <td>0</td>\n",
       "      <td>0</td>\n",
       "      <td>1</td>\n",
       "      <td>0</td>\n",
       "      <td>0</td>\n",
       "      <td>0</td>\n",
       "      <td>0</td>\n",
       "      <td>1</td>\n",
       "      <td>0</td>\n",
       "    </tr>\n",
       "  </tbody>\n",
       "</table>\n",
       "</div>"
      ],
      "text/plain": [
       "      Marital_1  Marital_2  Marital_3  Education_1  Education_2  Education_3  HHInsurance  CarLoan  Communication_1  Communication_2  Communication_3  DaysPassed  PrevAttempts  Outcome_1  Outcome_2  Outcome_3  Outcome_4  IsPreviouslyContacted  LastContactQuadrimester_1  LastContactQuadrimester_2  LastContactQuadrimester_3  JobCategory_1  JobCategory_2  JobCategory_3  AgeCategory_1  AgeCategory_2  AgeCategory_3  AgeCategory_4  AgeCategory_5  CallDurationCategory_1  CallDurationCategory_2  CallDurationCategory_3  CallDurationCategory_4  NoOfContactsCategory_1  NoOfContactsCategory_2  NoOfContactsCategory_3\n",
       "200           1          0          0            0            0            1            0        0                1                0                0   -0.464205     -0.373862          1          0          0          0                      0                          1                          0                          0              0              1              0              0              1              0              0              0                       0                       0                       1                       0                       0                       1                       0\n",
       "1078          1          0          0            0            1            0            0        0                1                0                0   -0.464205     -0.373862          1          0          0          0                      0                          1                          0                          0              1              0              0              1              0              0              0              0                       1                       0                       0                       0                       1                       0                       0\n",
       "610           1          0          0            1            0            0            0        1                1                0                0   -0.464205     -0.373862          1          0          0          0                      0                          1                          0                          0              0              1              0              0              1              0              0              0                       1                       0                       0                       0                       0                       1                       0\n",
       "2159          0          1          0            0            0            1            1        0                1                0                0   -0.464205     -0.373862          1          0          0          0                      0                          1                          0                          0              0              1              0              0              0              1              0              0                       0                       1                       0                       0                       1                       0                       0\n",
       "1169          1          0          0            1            0            0            0        0                1                0                0   -0.464205     -0.373862          1          0          0          0                      0                          1                          0                          0              1              0              0              0              1              0              0              0                       1                       0                       0                       0                       0                       1                       0"
      ]
     },
     "execution_count": 495,
     "metadata": {},
     "output_type": "execute_result"
    }
   ],
   "source": [
    "X_test_features[0:5]"
   ]
  },
  {
   "cell_type": "markdown",
   "metadata": {},
   "source": [
    "# Fit the logistic regression model on train dataset and predict on test dataset"
   ]
  },
  {
   "cell_type": "code",
   "execution_count": 139,
   "metadata": {},
   "outputs": [
    {
     "data": {
      "text/plain": [
       "LogisticRegression(C=1, max_iter=500)"
      ]
     },
     "execution_count": 139,
     "metadata": {},
     "output_type": "execute_result"
    }
   ],
   "source": [
    "lg = LogisticRegression(C=1, max_iter=500)\n",
    "lg.fit(X_train_features, y_train)"
   ]
  },
  {
   "cell_type": "code",
   "execution_count": 497,
   "metadata": {},
   "outputs": [],
   "source": [
    "lg_pred_train = lg.predict(X_train_features)"
   ]
  },
  {
   "cell_type": "code",
   "execution_count": 498,
   "metadata": {},
   "outputs": [
    {
     "data": {
      "text/plain": [
       "0.7921875"
      ]
     },
     "execution_count": 498,
     "metadata": {},
     "output_type": "execute_result"
    }
   ],
   "source": [
    "accuracy_score(y_train, lg_pred_train)"
   ]
  },
  {
   "cell_type": "code",
   "execution_count": 499,
   "metadata": {},
   "outputs": [
    {
     "data": {
      "text/plain": [
       "0.7994269340974212"
      ]
     },
     "execution_count": 499,
     "metadata": {},
     "output_type": "execute_result"
    }
   ],
   "source": [
    "precision_score(y_train, lg_pred_train)"
   ]
  },
  {
   "cell_type": "code",
   "execution_count": 500,
   "metadata": {},
   "outputs": [
    {
     "data": {
      "text/plain": [
       "0.6478328173374613"
      ]
     },
     "execution_count": 500,
     "metadata": {},
     "output_type": "execute_result"
    }
   ],
   "source": [
    "recall_score(y_train, lg_pred_train)"
   ]
  },
  {
   "cell_type": "code",
   "execution_count": null,
   "metadata": {},
   "outputs": [],
   "source": []
  },
  {
   "cell_type": "code",
   "execution_count": 501,
   "metadata": {},
   "outputs": [],
   "source": [
    "lg_pred = lg.predict(X_test_features)"
   ]
  },
  {
   "cell_type": "code",
   "execution_count": 502,
   "metadata": {},
   "outputs": [
    {
     "data": {
      "text/plain": [
       "0.79875"
      ]
     },
     "execution_count": 502,
     "metadata": {},
     "output_type": "execute_result"
    }
   ],
   "source": [
    "accuracy_score(y_test, lg_pred)"
   ]
  },
  {
   "cell_type": "code",
   "execution_count": 503,
   "metadata": {},
   "outputs": [
    {
     "data": {
      "text/plain": [
       "0.7870722433460076"
      ]
     },
     "execution_count": 503,
     "metadata": {},
     "output_type": "execute_result"
    }
   ],
   "source": [
    "precision_score(y_test, lg_pred)"
   ]
  },
  {
   "cell_type": "code",
   "execution_count": 504,
   "metadata": {},
   "outputs": [
    {
     "data": {
      "text/plain": [
       "0.6634615384615384"
      ]
     },
     "execution_count": 504,
     "metadata": {},
     "output_type": "execute_result"
    }
   ],
   "source": [
    "recall_score(y_test, lg_pred)"
   ]
  },
  {
   "cell_type": "code",
   "execution_count": 140,
   "metadata": {},
   "outputs": [
    {
     "data": {
      "text/plain": [
       "0.8553554539722572"
      ]
     },
     "execution_count": 140,
     "metadata": {},
     "output_type": "execute_result"
    }
   ],
   "source": [
    "from sklearn.metrics import *\n",
    "\n",
    "prob = lg.predict_proba(X_test_features)\n",
    "pos_prob = [x[1] for x in prob]\n",
    "fpr, tpr, thresholds = roc_curve(y_test, pos_prob, pos_label=1.0)\n",
    "auc(fpr, tpr)"
   ]
  },
  {
   "cell_type": "code",
   "execution_count": null,
   "metadata": {},
   "outputs": [],
   "source": []
  },
  {
   "cell_type": "code",
   "execution_count": null,
   "metadata": {},
   "outputs": [],
   "source": []
  },
  {
   "cell_type": "code",
   "execution_count": null,
   "metadata": {},
   "outputs": [],
   "source": []
  },
  {
   "cell_type": "markdown",
   "metadata": {},
   "source": [
    "# Fit the random forest model on train dataset and predict on test dataset"
   ]
  },
  {
   "cell_type": "code",
   "execution_count": 137,
   "metadata": {},
   "outputs": [
    {
     "data": {
      "text/plain": [
       "RandomForestClassifier(max_depth=10, min_samples_split=20, n_estimators=30)"
      ]
     },
     "execution_count": 137,
     "metadata": {},
     "output_type": "execute_result"
    }
   ],
   "source": [
    "rf = RandomForestClassifier(max_depth=10, min_samples_split=20, n_estimators=30)\n",
    "rf.fit(X_train_features, y_train)"
   ]
  },
  {
   "cell_type": "code",
   "execution_count": 506,
   "metadata": {},
   "outputs": [
    {
     "data": {
      "text/plain": [
       "array([0.01171582, 0.0114638 , 0.0048381 , 0.00665555, 0.00778227,\n",
       "       0.00647527, 0.06730325, 0.01225666, 0.02690486, 0.04368494,\n",
       "       0.0048447 , 0.05685492, 0.0339294 , 0.00764378, 0.00501795,\n",
       "       0.10261575, 0.01155212, 0.0200451 , 0.03020254, 0.0194455 ,\n",
       "       0.00816723, 0.00870224, 0.01276433, 0.02436204, 0.00585091,\n",
       "       0.00640065, 0.00492067, 0.03375776, 0.00964141, 0.21966326,\n",
       "       0.11663543, 0.03012641, 0.0046567 , 0.0110368 , 0.00722997,\n",
       "       0.00485191])"
      ]
     },
     "execution_count": 506,
     "metadata": {},
     "output_type": "execute_result"
    }
   ],
   "source": [
    "rf.feature_importances_"
   ]
  },
  {
   "cell_type": "code",
   "execution_count": 507,
   "metadata": {},
   "outputs": [],
   "source": [
    "feature_imp_arr = pd.DataFrame({'columns': X_train_features.columns, 'feature_importances': rf.feature_importances_})"
   ]
  },
  {
   "cell_type": "code",
   "execution_count": 508,
   "metadata": {},
   "outputs": [],
   "source": [
    "rf_pred_train = rf.predict(X_train_features)"
   ]
  },
  {
   "cell_type": "code",
   "execution_count": 509,
   "metadata": {},
   "outputs": [
    {
     "data": {
      "text/plain": [
       "0.825"
      ]
     },
     "execution_count": 509,
     "metadata": {},
     "output_type": "execute_result"
    }
   ],
   "source": [
    "accuracy_score(y_train, rf_pred_train)"
   ]
  },
  {
   "cell_type": "code",
   "execution_count": 510,
   "metadata": {},
   "outputs": [
    {
     "data": {
      "text/plain": [
       "0.833941605839416"
      ]
     },
     "execution_count": 510,
     "metadata": {},
     "output_type": "execute_result"
    }
   ],
   "source": [
    "precision_score(y_train, rf_pred_train)"
   ]
  },
  {
   "cell_type": "code",
   "execution_count": 511,
   "metadata": {},
   "outputs": [
    {
     "data": {
      "text/plain": [
       "0.7074303405572755"
      ]
     },
     "execution_count": 511,
     "metadata": {},
     "output_type": "execute_result"
    }
   ],
   "source": [
    "recall_score(y_train, rf_pred_train)"
   ]
  },
  {
   "cell_type": "code",
   "execution_count": null,
   "metadata": {},
   "outputs": [],
   "source": []
  },
  {
   "cell_type": "code",
   "execution_count": null,
   "metadata": {},
   "outputs": [],
   "source": []
  },
  {
   "cell_type": "code",
   "execution_count": 512,
   "metadata": {},
   "outputs": [],
   "source": [
    "rf_pred = rf.predict(X_test_features)"
   ]
  },
  {
   "cell_type": "code",
   "execution_count": 513,
   "metadata": {},
   "outputs": [
    {
     "data": {
      "text/plain": [
       "0.8075"
      ]
     },
     "execution_count": 513,
     "metadata": {},
     "output_type": "execute_result"
    }
   ],
   "source": [
    "accuracy_score(y_test, rf_pred)"
   ]
  },
  {
   "cell_type": "code",
   "execution_count": 514,
   "metadata": {},
   "outputs": [
    {
     "data": {
      "text/plain": [
       "0.7904411764705882"
      ]
     },
     "execution_count": 514,
     "metadata": {},
     "output_type": "execute_result"
    }
   ],
   "source": [
    "precision_score(y_test, rf_pred)"
   ]
  },
  {
   "cell_type": "code",
   "execution_count": 515,
   "metadata": {},
   "outputs": [
    {
     "data": {
      "text/plain": [
       "0.6891025641025641"
      ]
     },
     "execution_count": 515,
     "metadata": {},
     "output_type": "execute_result"
    }
   ],
   "source": [
    "recall_score(y_test, rf_pred)"
   ]
  },
  {
   "cell_type": "code",
   "execution_count": 138,
   "metadata": {},
   "outputs": [
    {
     "data": {
      "text/plain": [
       "0.8728720050441361"
      ]
     },
     "execution_count": 138,
     "metadata": {},
     "output_type": "execute_result"
    }
   ],
   "source": [
    "from sklearn.metrics import *\n",
    "\n",
    "prob = rf.predict_proba(X_test_features)\n",
    "pos_prob = [x[1] for x in prob]\n",
    "fpr, tpr, thresholds = roc_curve(y_test, pos_prob, pos_label=1.0)\n",
    "auc(fpr, tpr)"
   ]
  },
  {
   "cell_type": "code",
   "execution_count": null,
   "metadata": {},
   "outputs": [],
   "source": []
  },
  {
   "cell_type": "markdown",
   "metadata": {},
   "source": [
    "# Fit the gradient boosting model on train dataset and predict on test dataset"
   ]
  },
  {
   "cell_type": "code",
   "execution_count": 115,
   "metadata": {},
   "outputs": [
    {
     "data": {
      "text/plain": [
       "GradientBoostingClassifier(max_depth=5, min_samples_split=50, n_estimators=50)"
      ]
     },
     "execution_count": 115,
     "metadata": {},
     "output_type": "execute_result"
    }
   ],
   "source": [
    "gb = GradientBoostingClassifier(max_depth=5, min_samples_split=50, n_estimators=50, learning_rate=0.1)\n",
    "gb.fit(X_train_features, y_train)"
   ]
  },
  {
   "cell_type": "code",
   "execution_count": 116,
   "metadata": {},
   "outputs": [],
   "source": [
    "gb_train = gb.predict(X_train_features)"
   ]
  },
  {
   "cell_type": "code",
   "execution_count": 117,
   "metadata": {},
   "outputs": [
    {
     "data": {
      "text/plain": [
       "0.826875"
      ]
     },
     "execution_count": 117,
     "metadata": {},
     "output_type": "execute_result"
    }
   ],
   "source": [
    "accuracy_score(y_train, gb_train)"
   ]
  },
  {
   "cell_type": "code",
   "execution_count": 118,
   "metadata": {},
   "outputs": [
    {
     "data": {
      "text/plain": [
       "0.8253968253968254"
      ]
     },
     "execution_count": 118,
     "metadata": {},
     "output_type": "execute_result"
    }
   ],
   "source": [
    "precision_score(y_train, gb_train)"
   ]
  },
  {
   "cell_type": "code",
   "execution_count": 119,
   "metadata": {},
   "outputs": [
    {
     "data": {
      "text/plain": [
       "0.7244582043343654"
      ]
     },
     "execution_count": 119,
     "metadata": {},
     "output_type": "execute_result"
    }
   ],
   "source": [
    "recall_score(y_train, gb_train)"
   ]
  },
  {
   "cell_type": "code",
   "execution_count": null,
   "metadata": {},
   "outputs": [],
   "source": []
  },
  {
   "cell_type": "code",
   "execution_count": 120,
   "metadata": {},
   "outputs": [],
   "source": [
    "gb_pred = gb.predict(X_test_features)"
   ]
  },
  {
   "cell_type": "code",
   "execution_count": 121,
   "metadata": {},
   "outputs": [
    {
     "data": {
      "text/plain": [
       "0.815"
      ]
     },
     "execution_count": 121,
     "metadata": {},
     "output_type": "execute_result"
    }
   ],
   "source": [
    "accuracy_score(y_test, gb_pred)"
   ]
  },
  {
   "cell_type": "code",
   "execution_count": 122,
   "metadata": {},
   "outputs": [
    {
     "data": {
      "text/plain": [
       "0.7907801418439716"
      ]
     },
     "execution_count": 122,
     "metadata": {},
     "output_type": "execute_result"
    }
   ],
   "source": [
    "precision_score(y_test, gb_pred)"
   ]
  },
  {
   "cell_type": "code",
   "execution_count": 123,
   "metadata": {},
   "outputs": [
    {
     "data": {
      "text/plain": [
       "0.7147435897435898"
      ]
     },
     "execution_count": 123,
     "metadata": {},
     "output_type": "execute_result"
    }
   ],
   "source": [
    "recall_score(y_test, gb_pred)"
   ]
  },
  {
   "cell_type": "code",
   "execution_count": 124,
   "metadata": {},
   "outputs": [],
   "source": [
    "prob = gb.predict_proba(X_test_features)"
   ]
  },
  {
   "cell_type": "code",
   "execution_count": 134,
   "metadata": {},
   "outputs": [],
   "source": [
    "pos_prob = [x[1] for x in prob]"
   ]
  },
  {
   "cell_type": "code",
   "execution_count": 135,
   "metadata": {},
   "outputs": [],
   "source": [
    "from sklearn.metrics import *\n",
    "fpr, tpr, thresholds = roc_curve(y_test, pos_prob, pos_label=1.0)"
   ]
  },
  {
   "cell_type": "code",
   "execution_count": 136,
   "metadata": {},
   "outputs": [
    {
     "data": {
      "text/plain": [
       "0.8662712799495587"
      ]
     },
     "execution_count": 136,
     "metadata": {},
     "output_type": "execute_result"
    }
   ],
   "source": [
    "auc(fpr, tpr)"
   ]
  },
  {
   "cell_type": "code",
   "execution_count": null,
   "metadata": {},
   "outputs": [],
   "source": []
  },
  {
   "cell_type": "code",
   "execution_count": null,
   "metadata": {},
   "outputs": [],
   "source": []
  },
  {
   "cell_type": "code",
   "execution_count": 105,
   "metadata": {},
   "outputs": [],
   "source": [
    "from sklearn.dummy import DummyClassifier"
   ]
  },
  {
   "cell_type": "code",
   "execution_count": 107,
   "metadata": {},
   "outputs": [],
   "source": [
    "dummy_clf = DummyClassifier(strategy=\"uniform\")\n",
    "dummy_clf.fit(X_train_features, y_train)\n",
    "\n",
    "dummy_pred = dummy_clf.predict(X_test_features)"
   ]
  },
  {
   "cell_type": "code",
   "execution_count": 108,
   "metadata": {},
   "outputs": [
    {
     "data": {
      "text/plain": [
       "0.51"
      ]
     },
     "execution_count": 108,
     "metadata": {},
     "output_type": "execute_result"
    }
   ],
   "source": [
    "accuracy_score(y_test, dummy_pred)"
   ]
  },
  {
   "cell_type": "code",
   "execution_count": 109,
   "metadata": {},
   "outputs": [
    {
     "data": {
      "text/plain": [
       "0.39690721649484534"
      ]
     },
     "execution_count": 109,
     "metadata": {},
     "output_type": "execute_result"
    }
   ],
   "source": [
    "precision_score(y_test, dummy_pred)"
   ]
  },
  {
   "cell_type": "code",
   "execution_count": 110,
   "metadata": {},
   "outputs": [
    {
     "data": {
      "text/plain": [
       "0.4935897435897436"
      ]
     },
     "execution_count": 110,
     "metadata": {},
     "output_type": "execute_result"
    }
   ],
   "source": [
    "recall_score(y_test, dummy_pred)"
   ]
  },
  {
   "cell_type": "code",
   "execution_count": null,
   "metadata": {},
   "outputs": [],
   "source": []
  }
 ],
 "metadata": {
  "kernelspec": {
   "display_name": "Python 3",
   "language": "python",
   "name": "python3"
  },
  "language_info": {
   "codemirror_mode": {
    "name": "ipython",
    "version": 3
   },
   "file_extension": ".py",
   "mimetype": "text/x-python",
   "name": "python",
   "nbconvert_exporter": "python",
   "pygments_lexer": "ipython3",
   "version": "3.6.5"
  }
 },
 "nbformat": 4,
 "nbformat_minor": 2
}
