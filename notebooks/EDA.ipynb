{
 "cells": [
  {
   "cell_type": "markdown",
   "metadata": {},
   "source": [
    "# Import libraries"
   ]
  },
  {
   "cell_type": "code",
   "execution_count": 426,
   "metadata": {},
   "outputs": [],
   "source": [
    "import pandas as pd\n",
    "import matplotlib.pyplot as plt\n",
    "import seaborn as sns"
   ]
  },
  {
   "cell_type": "code",
   "execution_count": 427,
   "metadata": {},
   "outputs": [],
   "source": [
    "data = pd.read_csv('../data/carInsurance_train.csv')"
   ]
  },
  {
   "cell_type": "code",
   "execution_count": 428,
   "metadata": {},
   "outputs": [
    {
     "data": {
      "text/html": [
       "<div>\n",
       "<style scoped>\n",
       "    .dataframe tbody tr th:only-of-type {\n",
       "        vertical-align: middle;\n",
       "    }\n",
       "\n",
       "    .dataframe tbody tr th {\n",
       "        vertical-align: top;\n",
       "    }\n",
       "\n",
       "    .dataframe thead th {\n",
       "        text-align: right;\n",
       "    }\n",
       "</style>\n",
       "<table border=\"1\" class=\"dataframe\">\n",
       "  <thead>\n",
       "    <tr style=\"text-align: right;\">\n",
       "      <th></th>\n",
       "      <th>Id</th>\n",
       "      <th>Age</th>\n",
       "      <th>Job</th>\n",
       "      <th>Marital</th>\n",
       "      <th>Education</th>\n",
       "      <th>Default</th>\n",
       "      <th>Balance</th>\n",
       "      <th>HHInsurance</th>\n",
       "      <th>CarLoan</th>\n",
       "      <th>Communication</th>\n",
       "      <th>LastContactDay</th>\n",
       "      <th>LastContactMonth</th>\n",
       "      <th>NoOfContacts</th>\n",
       "      <th>DaysPassed</th>\n",
       "      <th>PrevAttempts</th>\n",
       "      <th>Outcome</th>\n",
       "      <th>CallStart</th>\n",
       "      <th>CallEnd</th>\n",
       "      <th>CarInsurance</th>\n",
       "    </tr>\n",
       "  </thead>\n",
       "  <tbody>\n",
       "    <tr>\n",
       "      <th>0</th>\n",
       "      <td>1</td>\n",
       "      <td>32</td>\n",
       "      <td>management</td>\n",
       "      <td>single</td>\n",
       "      <td>tertiary</td>\n",
       "      <td>0</td>\n",
       "      <td>1218</td>\n",
       "      <td>1</td>\n",
       "      <td>0</td>\n",
       "      <td>telephone</td>\n",
       "      <td>28</td>\n",
       "      <td>jan</td>\n",
       "      <td>2</td>\n",
       "      <td>-1</td>\n",
       "      <td>0</td>\n",
       "      <td>NaN</td>\n",
       "      <td>13:45:20</td>\n",
       "      <td>13:46:30</td>\n",
       "      <td>0</td>\n",
       "    </tr>\n",
       "    <tr>\n",
       "      <th>1</th>\n",
       "      <td>2</td>\n",
       "      <td>32</td>\n",
       "      <td>blue-collar</td>\n",
       "      <td>married</td>\n",
       "      <td>primary</td>\n",
       "      <td>0</td>\n",
       "      <td>1156</td>\n",
       "      <td>1</td>\n",
       "      <td>0</td>\n",
       "      <td>NaN</td>\n",
       "      <td>26</td>\n",
       "      <td>may</td>\n",
       "      <td>5</td>\n",
       "      <td>-1</td>\n",
       "      <td>0</td>\n",
       "      <td>NaN</td>\n",
       "      <td>14:49:03</td>\n",
       "      <td>14:52:08</td>\n",
       "      <td>0</td>\n",
       "    </tr>\n",
       "    <tr>\n",
       "      <th>2</th>\n",
       "      <td>3</td>\n",
       "      <td>29</td>\n",
       "      <td>management</td>\n",
       "      <td>single</td>\n",
       "      <td>tertiary</td>\n",
       "      <td>0</td>\n",
       "      <td>637</td>\n",
       "      <td>1</td>\n",
       "      <td>0</td>\n",
       "      <td>cellular</td>\n",
       "      <td>3</td>\n",
       "      <td>jun</td>\n",
       "      <td>1</td>\n",
       "      <td>119</td>\n",
       "      <td>1</td>\n",
       "      <td>failure</td>\n",
       "      <td>16:30:24</td>\n",
       "      <td>16:36:04</td>\n",
       "      <td>1</td>\n",
       "    </tr>\n",
       "    <tr>\n",
       "      <th>3</th>\n",
       "      <td>4</td>\n",
       "      <td>25</td>\n",
       "      <td>student</td>\n",
       "      <td>single</td>\n",
       "      <td>primary</td>\n",
       "      <td>0</td>\n",
       "      <td>373</td>\n",
       "      <td>1</td>\n",
       "      <td>0</td>\n",
       "      <td>cellular</td>\n",
       "      <td>11</td>\n",
       "      <td>may</td>\n",
       "      <td>2</td>\n",
       "      <td>-1</td>\n",
       "      <td>0</td>\n",
       "      <td>NaN</td>\n",
       "      <td>12:06:43</td>\n",
       "      <td>12:20:22</td>\n",
       "      <td>1</td>\n",
       "    </tr>\n",
       "    <tr>\n",
       "      <th>4</th>\n",
       "      <td>5</td>\n",
       "      <td>30</td>\n",
       "      <td>management</td>\n",
       "      <td>married</td>\n",
       "      <td>tertiary</td>\n",
       "      <td>0</td>\n",
       "      <td>2694</td>\n",
       "      <td>0</td>\n",
       "      <td>0</td>\n",
       "      <td>cellular</td>\n",
       "      <td>3</td>\n",
       "      <td>jun</td>\n",
       "      <td>1</td>\n",
       "      <td>-1</td>\n",
       "      <td>0</td>\n",
       "      <td>NaN</td>\n",
       "      <td>14:35:44</td>\n",
       "      <td>14:38:56</td>\n",
       "      <td>0</td>\n",
       "    </tr>\n",
       "    <tr>\n",
       "      <th>5</th>\n",
       "      <td>6</td>\n",
       "      <td>32</td>\n",
       "      <td>technician</td>\n",
       "      <td>single</td>\n",
       "      <td>tertiary</td>\n",
       "      <td>0</td>\n",
       "      <td>1625</td>\n",
       "      <td>0</td>\n",
       "      <td>0</td>\n",
       "      <td>cellular</td>\n",
       "      <td>22</td>\n",
       "      <td>may</td>\n",
       "      <td>1</td>\n",
       "      <td>109</td>\n",
       "      <td>1</td>\n",
       "      <td>failure</td>\n",
       "      <td>14:58:08</td>\n",
       "      <td>15:11:24</td>\n",
       "      <td>1</td>\n",
       "    </tr>\n",
       "    <tr>\n",
       "      <th>6</th>\n",
       "      <td>7</td>\n",
       "      <td>37</td>\n",
       "      <td>admin.</td>\n",
       "      <td>single</td>\n",
       "      <td>tertiary</td>\n",
       "      <td>0</td>\n",
       "      <td>1000</td>\n",
       "      <td>1</td>\n",
       "      <td>0</td>\n",
       "      <td>cellular</td>\n",
       "      <td>17</td>\n",
       "      <td>mar</td>\n",
       "      <td>1</td>\n",
       "      <td>-1</td>\n",
       "      <td>0</td>\n",
       "      <td>NaN</td>\n",
       "      <td>13:00:02</td>\n",
       "      <td>13:03:17</td>\n",
       "      <td>1</td>\n",
       "    </tr>\n",
       "    <tr>\n",
       "      <th>7</th>\n",
       "      <td>8</td>\n",
       "      <td>35</td>\n",
       "      <td>management</td>\n",
       "      <td>divorced</td>\n",
       "      <td>tertiary</td>\n",
       "      <td>0</td>\n",
       "      <td>538</td>\n",
       "      <td>1</td>\n",
       "      <td>0</td>\n",
       "      <td>NaN</td>\n",
       "      <td>12</td>\n",
       "      <td>may</td>\n",
       "      <td>4</td>\n",
       "      <td>-1</td>\n",
       "      <td>0</td>\n",
       "      <td>NaN</td>\n",
       "      <td>15:39:43</td>\n",
       "      <td>15:40:49</td>\n",
       "      <td>0</td>\n",
       "    </tr>\n",
       "    <tr>\n",
       "      <th>8</th>\n",
       "      <td>9</td>\n",
       "      <td>30</td>\n",
       "      <td>admin.</td>\n",
       "      <td>married</td>\n",
       "      <td>secondary</td>\n",
       "      <td>0</td>\n",
       "      <td>187</td>\n",
       "      <td>1</td>\n",
       "      <td>0</td>\n",
       "      <td>cellular</td>\n",
       "      <td>18</td>\n",
       "      <td>nov</td>\n",
       "      <td>1</td>\n",
       "      <td>-1</td>\n",
       "      <td>0</td>\n",
       "      <td>NaN</td>\n",
       "      <td>12:20:56</td>\n",
       "      <td>12:22:42</td>\n",
       "      <td>0</td>\n",
       "    </tr>\n",
       "    <tr>\n",
       "      <th>9</th>\n",
       "      <td>10</td>\n",
       "      <td>30</td>\n",
       "      <td>blue-collar</td>\n",
       "      <td>married</td>\n",
       "      <td>secondary</td>\n",
       "      <td>0</td>\n",
       "      <td>3</td>\n",
       "      <td>1</td>\n",
       "      <td>1</td>\n",
       "      <td>cellular</td>\n",
       "      <td>12</td>\n",
       "      <td>may</td>\n",
       "      <td>2</td>\n",
       "      <td>-1</td>\n",
       "      <td>0</td>\n",
       "      <td>NaN</td>\n",
       "      <td>09:22:20</td>\n",
       "      <td>09:27:46</td>\n",
       "      <td>0</td>\n",
       "    </tr>\n",
       "  </tbody>\n",
       "</table>\n",
       "</div>"
      ],
      "text/plain": [
       "   Id  Age          Job   Marital  Education  Default  Balance  HHInsurance  \\\n",
       "0   1   32   management    single   tertiary        0     1218            1   \n",
       "1   2   32  blue-collar   married    primary        0     1156            1   \n",
       "2   3   29   management    single   tertiary        0      637            1   \n",
       "3   4   25      student    single    primary        0      373            1   \n",
       "4   5   30   management   married   tertiary        0     2694            0   \n",
       "5   6   32   technician    single   tertiary        0     1625            0   \n",
       "6   7   37       admin.    single   tertiary        0     1000            1   \n",
       "7   8   35   management  divorced   tertiary        0      538            1   \n",
       "8   9   30       admin.   married  secondary        0      187            1   \n",
       "9  10   30  blue-collar   married  secondary        0        3            1   \n",
       "\n",
       "   CarLoan Communication  LastContactDay LastContactMonth  NoOfContacts  \\\n",
       "0        0     telephone              28              jan             2   \n",
       "1        0           NaN              26              may             5   \n",
       "2        0      cellular               3              jun             1   \n",
       "3        0      cellular              11              may             2   \n",
       "4        0      cellular               3              jun             1   \n",
       "5        0      cellular              22              may             1   \n",
       "6        0      cellular              17              mar             1   \n",
       "7        0           NaN              12              may             4   \n",
       "8        0      cellular              18              nov             1   \n",
       "9        1      cellular              12              may             2   \n",
       "\n",
       "   DaysPassed  PrevAttempts  Outcome CallStart   CallEnd  CarInsurance  \n",
       "0          -1             0      NaN  13:45:20  13:46:30             0  \n",
       "1          -1             0      NaN  14:49:03  14:52:08             0  \n",
       "2         119             1  failure  16:30:24  16:36:04             1  \n",
       "3          -1             0      NaN  12:06:43  12:20:22             1  \n",
       "4          -1             0      NaN  14:35:44  14:38:56             0  \n",
       "5         109             1  failure  14:58:08  15:11:24             1  \n",
       "6          -1             0      NaN  13:00:02  13:03:17             1  \n",
       "7          -1             0      NaN  15:39:43  15:40:49             0  \n",
       "8          -1             0      NaN  12:20:56  12:22:42             0  \n",
       "9          -1             0      NaN  09:22:20  09:27:46             0  "
      ]
     },
     "execution_count": 428,
     "metadata": {},
     "output_type": "execute_result"
    }
   ],
   "source": [
    "data[0:10]"
   ]
  },
  {
   "cell_type": "code",
   "execution_count": 429,
   "metadata": {},
   "outputs": [
    {
     "data": {
      "text/plain": [
       "4000"
      ]
     },
     "execution_count": 429,
     "metadata": {},
     "output_type": "execute_result"
    }
   ],
   "source": [
    "len(data)"
   ]
  },
  {
   "cell_type": "code",
   "execution_count": 430,
   "metadata": {},
   "outputs": [
    {
     "data": {
      "text/plain": [
       "19"
      ]
     },
     "execution_count": 430,
     "metadata": {},
     "output_type": "execute_result"
    }
   ],
   "source": [
    "len(data.columns)"
   ]
  },
  {
   "cell_type": "markdown",
   "metadata": {},
   "source": [
    "# Distribution of target variables\n",
    "\n",
    "* Number of positive examples accounts for 40% of the overall data and negative samples accounts for 60% of the data\n",
    "* There is no class imbalance in the dataset\n"
   ]
  },
  {
   "cell_type": "code",
   "execution_count": 431,
   "metadata": {},
   "outputs": [
    {
     "name": "stdout",
     "output_type": "stream",
     "text": [
      "CarInsurance\n",
      "0    2396\n",
      "1    1604\n",
      "dtype: int64\n",
      "CarInsurance\n",
      "0    59.9\n",
      "1    40.1\n",
      "dtype: float64\n"
     ]
    }
   ],
   "source": [
    "print(data.groupby('CarInsurance').size())\n",
    "print((data.groupby('CarInsurance').size()/len(data))*100)"
   ]
  },
  {
   "cell_type": "markdown",
   "metadata": {},
   "source": [
    "# Holding out 20% of the sample for test dataset\n",
    "\n",
    "* Performing stratified sampling\n",
    "* X_train, y_train - training dataset\n",
    "* X_test, y_test - test dataset (hold-out)"
   ]
  },
  {
   "cell_type": "code",
   "execution_count": 432,
   "metadata": {},
   "outputs": [],
   "source": [
    "from sklearn.model_selection import train_test_split"
   ]
  },
  {
   "cell_type": "code",
   "execution_count": 433,
   "metadata": {},
   "outputs": [],
   "source": [
    "X = data.drop('CarInsurance', axis=1)\n",
    "target = data['CarInsurance']\n",
    "X_train, X_test, y_train, y_test = train_test_split(X, target,  test_size=0.2, random_state=1)"
   ]
  },
  {
   "cell_type": "code",
   "execution_count": 434,
   "metadata": {},
   "outputs": [
    {
     "data": {
      "text/plain": [
       "3200"
      ]
     },
     "execution_count": 434,
     "metadata": {},
     "output_type": "execute_result"
    }
   ],
   "source": [
    "len(X_train)"
   ]
  },
  {
   "cell_type": "code",
   "execution_count": 435,
   "metadata": {},
   "outputs": [
    {
     "data": {
      "text/plain": [
       "800"
      ]
     },
     "execution_count": 435,
     "metadata": {},
     "output_type": "execute_result"
    }
   ],
   "source": [
    "len(X_test)"
   ]
  },
  {
   "cell_type": "code",
   "execution_count": 436,
   "metadata": {},
   "outputs": [
    {
     "data": {
      "text/html": [
       "<div>\n",
       "<style scoped>\n",
       "    .dataframe tbody tr th:only-of-type {\n",
       "        vertical-align: middle;\n",
       "    }\n",
       "\n",
       "    .dataframe tbody tr th {\n",
       "        vertical-align: top;\n",
       "    }\n",
       "\n",
       "    .dataframe thead th {\n",
       "        text-align: right;\n",
       "    }\n",
       "</style>\n",
       "<table border=\"1\" class=\"dataframe\">\n",
       "  <thead>\n",
       "    <tr style=\"text-align: right;\">\n",
       "      <th></th>\n",
       "      <th>Id</th>\n",
       "      <th>Age</th>\n",
       "      <th>Default</th>\n",
       "      <th>Balance</th>\n",
       "      <th>HHInsurance</th>\n",
       "      <th>CarLoan</th>\n",
       "      <th>LastContactDay</th>\n",
       "      <th>NoOfContacts</th>\n",
       "      <th>DaysPassed</th>\n",
       "      <th>PrevAttempts</th>\n",
       "    </tr>\n",
       "  </thead>\n",
       "  <tbody>\n",
       "    <tr>\n",
       "      <th>count</th>\n",
       "      <td>3200.000000</td>\n",
       "      <td>3200.000000</td>\n",
       "      <td>3200.000000</td>\n",
       "      <td>3200.000000</td>\n",
       "      <td>3200.000000</td>\n",
       "      <td>3200.000000</td>\n",
       "      <td>3200.000000</td>\n",
       "      <td>3200.000000</td>\n",
       "      <td>3200.000000</td>\n",
       "      <td>3200.000000</td>\n",
       "    </tr>\n",
       "    <tr>\n",
       "      <th>mean</th>\n",
       "      <td>2013.002187</td>\n",
       "      <td>41.267500</td>\n",
       "      <td>0.014063</td>\n",
       "      <td>1490.068750</td>\n",
       "      <td>0.491250</td>\n",
       "      <td>0.130938</td>\n",
       "      <td>15.758750</td>\n",
       "      <td>2.604062</td>\n",
       "      <td>48.874063</td>\n",
       "      <td>0.705313</td>\n",
       "    </tr>\n",
       "    <tr>\n",
       "      <th>std</th>\n",
       "      <td>1158.532555</td>\n",
       "      <td>11.601045</td>\n",
       "      <td>0.117767</td>\n",
       "      <td>3128.974436</td>\n",
       "      <td>0.500002</td>\n",
       "      <td>0.337385</td>\n",
       "      <td>8.481297</td>\n",
       "      <td>3.078800</td>\n",
       "      <td>107.294135</td>\n",
       "      <td>1.886852</td>\n",
       "    </tr>\n",
       "    <tr>\n",
       "      <th>min</th>\n",
       "      <td>1.000000</td>\n",
       "      <td>18.000000</td>\n",
       "      <td>0.000000</td>\n",
       "      <td>-3058.000000</td>\n",
       "      <td>0.000000</td>\n",
       "      <td>0.000000</td>\n",
       "      <td>1.000000</td>\n",
       "      <td>1.000000</td>\n",
       "      <td>-1.000000</td>\n",
       "      <td>0.000000</td>\n",
       "    </tr>\n",
       "    <tr>\n",
       "      <th>25%</th>\n",
       "      <td>1008.750000</td>\n",
       "      <td>32.000000</td>\n",
       "      <td>0.000000</td>\n",
       "      <td>112.500000</td>\n",
       "      <td>0.000000</td>\n",
       "      <td>0.000000</td>\n",
       "      <td>8.000000</td>\n",
       "      <td>1.000000</td>\n",
       "      <td>-1.000000</td>\n",
       "      <td>0.000000</td>\n",
       "    </tr>\n",
       "    <tr>\n",
       "      <th>50%</th>\n",
       "      <td>2025.000000</td>\n",
       "      <td>39.000000</td>\n",
       "      <td>0.000000</td>\n",
       "      <td>537.000000</td>\n",
       "      <td>0.000000</td>\n",
       "      <td>0.000000</td>\n",
       "      <td>16.000000</td>\n",
       "      <td>2.000000</td>\n",
       "      <td>-1.000000</td>\n",
       "      <td>0.000000</td>\n",
       "    </tr>\n",
       "    <tr>\n",
       "      <th>75%</th>\n",
       "      <td>3021.250000</td>\n",
       "      <td>49.000000</td>\n",
       "      <td>0.000000</td>\n",
       "      <td>1610.500000</td>\n",
       "      <td>1.000000</td>\n",
       "      <td>0.000000</td>\n",
       "      <td>22.000000</td>\n",
       "      <td>3.000000</td>\n",
       "      <td>-1.000000</td>\n",
       "      <td>0.000000</td>\n",
       "    </tr>\n",
       "    <tr>\n",
       "      <th>max</th>\n",
       "      <td>4000.000000</td>\n",
       "      <td>95.000000</td>\n",
       "      <td>1.000000</td>\n",
       "      <td>52587.000000</td>\n",
       "      <td>1.000000</td>\n",
       "      <td>1.000000</td>\n",
       "      <td>31.000000</td>\n",
       "      <td>43.000000</td>\n",
       "      <td>842.000000</td>\n",
       "      <td>30.000000</td>\n",
       "    </tr>\n",
       "  </tbody>\n",
       "</table>\n",
       "</div>"
      ],
      "text/plain": [
       "                Id          Age      Default       Balance  HHInsurance  \\\n",
       "count  3200.000000  3200.000000  3200.000000   3200.000000  3200.000000   \n",
       "mean   2013.002187    41.267500     0.014063   1490.068750     0.491250   \n",
       "std    1158.532555    11.601045     0.117767   3128.974436     0.500002   \n",
       "min       1.000000    18.000000     0.000000  -3058.000000     0.000000   \n",
       "25%    1008.750000    32.000000     0.000000    112.500000     0.000000   \n",
       "50%    2025.000000    39.000000     0.000000    537.000000     0.000000   \n",
       "75%    3021.250000    49.000000     0.000000   1610.500000     1.000000   \n",
       "max    4000.000000    95.000000     1.000000  52587.000000     1.000000   \n",
       "\n",
       "           CarLoan  LastContactDay  NoOfContacts   DaysPassed  PrevAttempts  \n",
       "count  3200.000000     3200.000000   3200.000000  3200.000000   3200.000000  \n",
       "mean      0.130938       15.758750      2.604062    48.874063      0.705313  \n",
       "std       0.337385        8.481297      3.078800   107.294135      1.886852  \n",
       "min       0.000000        1.000000      1.000000    -1.000000      0.000000  \n",
       "25%       0.000000        8.000000      1.000000    -1.000000      0.000000  \n",
       "50%       0.000000       16.000000      2.000000    -1.000000      0.000000  \n",
       "75%       0.000000       22.000000      3.000000    -1.000000      0.000000  \n",
       "max       1.000000       31.000000     43.000000   842.000000     30.000000  "
      ]
     },
     "execution_count": 436,
     "metadata": {},
     "output_type": "execute_result"
    }
   ],
   "source": [
    "X_train.describe()"
   ]
  },
  {
   "cell_type": "code",
   "execution_count": 437,
   "metadata": {},
   "outputs": [
    {
     "data": {
      "text/plain": [
       "array([0])"
      ]
     },
     "execution_count": 437,
     "metadata": {},
     "output_type": "execute_result"
    }
   ],
   "source": [
    "X_train[X_train.DaysPassed<0]['PrevAttempts'].unique()"
   ]
  },
  {
   "cell_type": "markdown",
   "metadata": {},
   "source": [
    "# CallStart and CallEnd is converted to call duration\n"
   ]
  },
  {
   "cell_type": "code",
   "execution_count": 438,
   "metadata": {},
   "outputs": [],
   "source": [
    "import datetime as dt\n"
   ]
  },
  {
   "cell_type": "code",
   "execution_count": 439,
   "metadata": {},
   "outputs": [
    {
     "name": "stderr",
     "output_type": "stream",
     "text": [
      "/home/vignesh/anaconda3/lib/python3.6/site-packages/ipykernel_launcher.py:20: SettingWithCopyWarning: \n",
      "A value is trying to be set on a copy of a slice from a DataFrame.\n",
      "Try using .loc[row_indexer,col_indexer] = value instead\n",
      "\n",
      "See the caveats in the documentation: http://pandas.pydata.org/pandas-docs/stable/indexing.html#indexing-view-versus-copy\n"
     ]
    }
   ],
   "source": [
    "call_duration_arr = []\n",
    "for index, row in X_train.iterrows():\n",
    "    \n",
    "    call_start = row['CallStart'] \n",
    "    call_end = row['CallEnd']\n",
    "    call_start_hr = call_start.split(':')[0]\n",
    "    call_start_min = call_start.split(':')[1]\n",
    "    call_start_sec = call_start.split(':')[2]\n",
    "    \n",
    "    call_end_hr = call_end.split(':')[0]\n",
    "    call_end_min = call_end.split(':')[1]\n",
    "    call_end_sec = call_end.split(':')[2]\n",
    "    \n",
    "    call_start_dt = dt.datetime(2013,12,30,int(call_start_hr),int(call_start_min),int(call_start_sec))\n",
    "    call_end_dt = dt.datetime(2013,12,30,int(call_end_hr),int(call_end_min),int(call_end_sec))\n",
    "\n",
    "    call_duration = (call_end_dt-call_start_dt).total_seconds()\n",
    "    call_duration_arr.append(call_duration)\n",
    "    \n",
    "X_train['call_duration'] = call_duration_arr"
   ]
  },
  {
   "cell_type": "code",
   "execution_count": 440,
   "metadata": {},
   "outputs": [
    {
     "data": {
      "text/plain": [
       "Index(['Id', 'Age', 'Job', 'Marital', 'Education', 'Default', 'Balance',\n",
       "       'HHInsurance', 'CarLoan', 'Communication', 'LastContactDay',\n",
       "       'LastContactMonth', 'NoOfContacts', 'DaysPassed', 'PrevAttempts',\n",
       "       'Outcome', 'CallStart', 'CallEnd', 'call_duration'],\n",
       "      dtype='object')"
      ]
     },
     "execution_count": 440,
     "metadata": {},
     "output_type": "execute_result"
    }
   ],
   "source": [
    "X_train.columns"
   ]
  },
  {
   "cell_type": "markdown",
   "metadata": {},
   "source": [
    "# Removing ID, CallStart and CallEnd column\n",
    "\n",
    "* CallStart and CallEnd is already being converted to call_duration"
   ]
  },
  {
   "cell_type": "code",
   "execution_count": 441,
   "metadata": {},
   "outputs": [],
   "source": [
    "\n",
    "if len(set(['Id', 'CallStart', 'CallEnd']) - set(list(X_train.columns)))<1:\n",
    "    X_train = X_train.drop(['Id', 'CallStart', 'CallEnd'], axis=1)"
   ]
  },
  {
   "cell_type": "code",
   "execution_count": 442,
   "metadata": {},
   "outputs": [
    {
     "data": {
      "text/plain": [
       "Index(['Age', 'Job', 'Marital', 'Education', 'Default', 'Balance',\n",
       "       'HHInsurance', 'CarLoan', 'Communication', 'LastContactDay',\n",
       "       'LastContactMonth', 'NoOfContacts', 'DaysPassed', 'PrevAttempts',\n",
       "       'Outcome', 'call_duration'],\n",
       "      dtype='object')"
      ]
     },
     "execution_count": 442,
     "metadata": {},
     "output_type": "execute_result"
    }
   ],
   "source": [
    "X_train.columns"
   ]
  },
  {
   "cell_type": "markdown",
   "metadata": {},
   "source": [
    "# Missing value Counts"
   ]
  },
  {
   "cell_type": "code",
   "execution_count": 443,
   "metadata": {},
   "outputs": [
    {
     "name": "stdout",
     "output_type": "stream",
     "text": [
      "Age                    0\n",
      "Job                   16\n",
      "Marital                0\n",
      "Education            130\n",
      "Default                0\n",
      "Balance                0\n",
      "HHInsurance            0\n",
      "CarLoan                0\n",
      "Communication        724\n",
      "LastContactDay         0\n",
      "LastContactMonth       0\n",
      "NoOfContacts           0\n",
      "DaysPassed             0\n",
      "PrevAttempts           0\n",
      "Outcome             2434\n",
      "call_duration          0\n",
      "dtype: int64\n",
      "Age                 0.000000\n",
      "Job                 0.005000\n",
      "Marital             0.000000\n",
      "Education           0.040625\n",
      "Default             0.000000\n",
      "Balance             0.000000\n",
      "HHInsurance         0.000000\n",
      "CarLoan             0.000000\n",
      "Communication       0.226250\n",
      "LastContactDay      0.000000\n",
      "LastContactMonth    0.000000\n",
      "NoOfContacts        0.000000\n",
      "DaysPassed          0.000000\n",
      "PrevAttempts        0.000000\n",
      "Outcome             0.760625\n",
      "call_duration       0.000000\n",
      "dtype: float64\n"
     ]
    }
   ],
   "source": [
    "print(X_train.isnull().sum())\n",
    "print(X_train.isnull().sum()/len(X_train))"
   ]
  },
  {
   "cell_type": "code",
   "execution_count": 445,
   "metadata": {},
   "outputs": [
    {
     "data": {
      "text/plain": [
       "array([nan, 'other', 'success', 'failure'], dtype=object)"
      ]
     },
     "execution_count": 445,
     "metadata": {},
     "output_type": "execute_result"
    }
   ],
   "source": [
    "X_train.Outcome.unique()"
   ]
  },
  {
   "cell_type": "code",
   "execution_count": 450,
   "metadata": {},
   "outputs": [],
   "source": [
    "X_train['target'] = y_train"
   ]
  },
  {
   "cell_type": "markdown",
   "metadata": {},
   "source": [
    "# People more likely purchase when their previous marketing campaign is successful"
   ]
  },
  {
   "cell_type": "code",
   "execution_count": null,
   "metadata": {},
   "outputs": [],
   "source": []
  },
  {
   "cell_type": "code",
   "execution_count": 448,
   "metadata": {},
   "outputs": [
    {
     "data": {
      "text/html": [
       "<div>\n",
       "<style scoped>\n",
       "    .dataframe tbody tr th:only-of-type {\n",
       "        vertical-align: middle;\n",
       "    }\n",
       "\n",
       "    .dataframe tbody tr th {\n",
       "        vertical-align: top;\n",
       "    }\n",
       "\n",
       "    .dataframe thead th {\n",
       "        text-align: right;\n",
       "    }\n",
       "</style>\n",
       "<table border=\"1\" class=\"dataframe\">\n",
       "  <thead>\n",
       "    <tr style=\"text-align: right;\">\n",
       "      <th>CarInsurance</th>\n",
       "      <th>0</th>\n",
       "      <th>1</th>\n",
       "    </tr>\n",
       "    <tr>\n",
       "      <th>Outcome</th>\n",
       "      <th></th>\n",
       "      <th></th>\n",
       "    </tr>\n",
       "  </thead>\n",
       "  <tbody>\n",
       "    <tr>\n",
       "      <th>failure</th>\n",
       "      <td>200</td>\n",
       "      <td>144</td>\n",
       "    </tr>\n",
       "    <tr>\n",
       "      <th>other</th>\n",
       "      <td>83</td>\n",
       "      <td>73</td>\n",
       "    </tr>\n",
       "    <tr>\n",
       "      <th>success</th>\n",
       "      <td>29</td>\n",
       "      <td>237</td>\n",
       "    </tr>\n",
       "  </tbody>\n",
       "</table>\n",
       "</div>"
      ],
      "text/plain": [
       "CarInsurance    0    1\n",
       "Outcome               \n",
       "failure       200  144\n",
       "other          83   73\n",
       "success        29  237"
      ]
     },
     "execution_count": 448,
     "metadata": {},
     "output_type": "execute_result"
    }
   ],
   "source": [
    "pd.crosstab(X_train.Outcome, y_train)"
   ]
  },
  {
   "cell_type": "code",
   "execution_count": 451,
   "metadata": {},
   "outputs": [
    {
     "data": {
      "text/plain": [
       "target\n",
       "0    1596\n",
       "1     838\n",
       "dtype: int64"
      ]
     },
     "execution_count": 451,
     "metadata": {},
     "output_type": "execute_result"
    }
   ],
   "source": [
    "X_train[X_train.Outcome.isnull()].groupby('target').size()"
   ]
  },
  {
   "cell_type": "code",
   "execution_count": 479,
   "metadata": {},
   "outputs": [
    {
     "data": {
      "text/plain": [
       "PrevAttempts  DaysPassed\n",
       "0             -1            2434\n",
       "dtype: int64"
      ]
     },
     "execution_count": 479,
     "metadata": {},
     "output_type": "execute_result"
    }
   ],
   "source": [
    "X_train[X_train.Outcome.isnull()][['PrevAttempts', 'DaysPassed']].groupby(['PrevAttempts', 'DaysPassed']).size()"
   ]
  },
  {
   "cell_type": "code",
   "execution_count": 370,
   "metadata": {},
   "outputs": [
    {
     "data": {
      "text/plain": [
       "array(['jun', 'may', 'aug', 'mar', 'apr', 'jul', 'nov', 'sep', 'jan',\n",
       "       'feb', 'dec', 'oct'], dtype=object)"
      ]
     },
     "execution_count": 370,
     "metadata": {},
     "output_type": "execute_result"
    }
   ],
   "source": [
    "X_train.LastContactMonth.unique()"
   ]
  },
  {
   "cell_type": "code",
   "execution_count": 452,
   "metadata": {},
   "outputs": [],
   "source": [
    "def month(x):\n",
    "    if x=='jan':\n",
    "        return 1\n",
    "    elif x=='feb':\n",
    "        return 2\n",
    "    elif x=='mar':\n",
    "        return 3\n",
    "    elif x=='apr':\n",
    "        return 4\n",
    "    elif x=='may':\n",
    "        return 5\n",
    "    elif x=='jun':\n",
    "        return 6\n",
    "    elif x=='jul':\n",
    "        return 7\n",
    "    elif x=='aug':\n",
    "        return 8\n",
    "    elif x=='sep':\n",
    "        return 9\n",
    "    elif x=='oct':\n",
    "        return 10\n",
    "    elif x=='nov':\n",
    "        return 11\n",
    "    elif x=='dec':\n",
    "        return 12\n",
    "    else: return x\n",
    "    \n",
    "def quarter_month(x):\n",
    "    if x>=1 and x<=4:\n",
    "        return '1'\n",
    "    elif x>=4 and x<=8:\n",
    "        return '2'\n",
    "    elif x>=8 and x<=12:\n",
    "        return '3'\n",
    "    \n",
    "def week_of_day(x):\n",
    "    if x>=1 and x<=7:\n",
    "        return '1'\n",
    "    elif x>=8 and x<=14:\n",
    "        return '2'\n",
    "    elif x>=15 and x<=21:\n",
    "        return '3'\n",
    "    elif x>=21 and x<=28:\n",
    "        return '4'\n",
    "    elif x>=28:\n",
    "        return '5'\n",
    "    else: return x\n",
    "    \n",
    "\n",
    "X_train['LastContactMonth'] = X_train.LastContactMonth.apply(lambda x : month(x))\n",
    "\n",
    "X_train['LastContactQuarter'] = X_train.LastContactMonth.apply(lambda x : quarter_month(x))\n",
    "\n",
    "X_train['LastContactWeek'] = X_train.LastContactDay.apply(lambda x : week_of_day(x))\n",
    "\n"
   ]
  },
  {
   "cell_type": "markdown",
   "metadata": {},
   "source": [
    "# Using mode imputation on Job since there are only 16 missing values"
   ]
  },
  {
   "cell_type": "code",
   "execution_count": 453,
   "metadata": {},
   "outputs": [],
   "source": [
    "most_frequent_job = X_train['Job'].mode()"
   ]
  },
  {
   "cell_type": "code",
   "execution_count": 454,
   "metadata": {},
   "outputs": [
    {
     "data": {
      "text/plain": [
       "0    management\n",
       "dtype: object"
      ]
     },
     "execution_count": 454,
     "metadata": {},
     "output_type": "execute_result"
    }
   ],
   "source": [
    "most_frequent_job"
   ]
  },
  {
   "cell_type": "code",
   "execution_count": 455,
   "metadata": {},
   "outputs": [],
   "source": [
    "X_train['Job'] = X_train['Job'].fillna(str(most_frequent_job))"
   ]
  },
  {
   "cell_type": "code",
   "execution_count": 456,
   "metadata": {},
   "outputs": [
    {
     "data": {
      "text/html": [
       "<div>\n",
       "<style scoped>\n",
       "    .dataframe tbody tr th:only-of-type {\n",
       "        vertical-align: middle;\n",
       "    }\n",
       "\n",
       "    .dataframe tbody tr th {\n",
       "        vertical-align: top;\n",
       "    }\n",
       "\n",
       "    .dataframe thead th {\n",
       "        text-align: right;\n",
       "    }\n",
       "</style>\n",
       "<table border=\"1\" class=\"dataframe\">\n",
       "  <thead>\n",
       "    <tr style=\"text-align: right;\">\n",
       "      <th></th>\n",
       "      <th>Age</th>\n",
       "      <th>Job</th>\n",
       "      <th>Marital</th>\n",
       "      <th>Education</th>\n",
       "      <th>Default</th>\n",
       "      <th>Balance</th>\n",
       "      <th>HHInsurance</th>\n",
       "      <th>CarLoan</th>\n",
       "      <th>Communication</th>\n",
       "      <th>LastContactDay</th>\n",
       "      <th>LastContactMonth</th>\n",
       "      <th>NoOfContacts</th>\n",
       "      <th>DaysPassed</th>\n",
       "      <th>PrevAttempts</th>\n",
       "      <th>Outcome</th>\n",
       "      <th>call_duration</th>\n",
       "      <th>target</th>\n",
       "      <th>LastContactQuarter</th>\n",
       "      <th>LastContactWeek</th>\n",
       "    </tr>\n",
       "  </thead>\n",
       "  <tbody>\n",
       "  </tbody>\n",
       "</table>\n",
       "</div>"
      ],
      "text/plain": [
       "Empty DataFrame\n",
       "Columns: [Age, Job, Marital, Education, Default, Balance, HHInsurance, CarLoan, Communication, LastContactDay, LastContactMonth, NoOfContacts, DaysPassed, PrevAttempts, Outcome, call_duration, target, LastContactQuarter, LastContactWeek]\n",
       "Index: []"
      ]
     },
     "execution_count": 456,
     "metadata": {},
     "output_type": "execute_result"
    }
   ],
   "source": [
    "X_train[X_train.Job.isnull()]"
   ]
  },
  {
   "cell_type": "code",
   "execution_count": 457,
   "metadata": {},
   "outputs": [
    {
     "data": {
      "text/plain": [
       "array(['technician', 'blue-collar', 'self-employed', 'management',\n",
       "       'retired', 'services', 'admin.', 'housemaid', 'entrepreneur',\n",
       "       'student', 'unemployed', '0    management\\ndtype: object'],\n",
       "      dtype=object)"
      ]
     },
     "execution_count": 457,
     "metadata": {},
     "output_type": "execute_result"
    }
   ],
   "source": [
    "X_train.Job.unique()"
   ]
  },
  {
   "cell_type": "code",
   "execution_count": 458,
   "metadata": {},
   "outputs": [
    {
     "data": {
      "text/plain": [
       "Age                      0\n",
       "Job                      0\n",
       "Marital                  0\n",
       "Education              130\n",
       "Default                  0\n",
       "Balance                  0\n",
       "HHInsurance              0\n",
       "CarLoan                  0\n",
       "Communication          724\n",
       "LastContactDay           0\n",
       "LastContactMonth         0\n",
       "NoOfContacts             0\n",
       "DaysPassed               0\n",
       "PrevAttempts             0\n",
       "Outcome               2434\n",
       "call_duration            0\n",
       "target                   0\n",
       "LastContactQuarter       0\n",
       "LastContactWeek          0\n",
       "dtype: int64"
      ]
     },
     "execution_count": 458,
     "metadata": {},
     "output_type": "execute_result"
    }
   ],
   "source": [
    "X_train.isnull().sum()"
   ]
  },
  {
   "cell_type": "code",
   "execution_count": 459,
   "metadata": {},
   "outputs": [],
   "source": [
    "def convert_education_to_numeric(x):\n",
    "    if x=='primary':\n",
    "        return 1.0\n",
    "    elif x=='secondary':\n",
    "        return 2.0\n",
    "    elif x=='tertiary':\n",
    "        return 3.0\n",
    "    else:\n",
    "        return x\n",
    "    \n",
    "def education_numeric_to_original(x):\n",
    "    if x==1.0:\n",
    "        return 'primary'\n",
    "    elif x==2.0:\n",
    "        return 'secondary'\n",
    "    elif x==3.0:\n",
    "        return 'tertiary'\n",
    "    else:\n",
    "        return x"
   ]
  },
  {
   "cell_type": "markdown",
   "metadata": {},
   "source": [
    "# Imputing the Education variable using KNN"
   ]
  },
  {
   "cell_type": "code",
   "execution_count": 460,
   "metadata": {},
   "outputs": [
    {
     "name": "stderr",
     "output_type": "stream",
     "text": [
      "/home/vignesh/anaconda3/lib/python3.6/site-packages/ipykernel_launcher.py:33: SettingWithCopyWarning: \n",
      "A value is trying to be set on a copy of a slice from a DataFrame.\n",
      "Try using .loc[row_indexer,col_indexer] = value instead\n",
      "\n",
      "See the caveats in the documentation: http://pandas.pydata.org/pandas-docs/stable/indexing.html#indexing-view-versus-copy\n"
     ]
    }
   ],
   "source": [
    "from sklearn.impute import KNNImputer\n",
    "from sklearn.preprocessing import StandardScaler\n",
    "from sklearn.neighbors import KNeighborsClassifier\n",
    "import category_encoders as ce   # version 1.2.8\n",
    "scaler = StandardScaler()\n",
    "\n",
    "X_train['Education'] = X_train.Education.apply(lambda x : convert_education_to_numeric(x))\n",
    "non_missing = X_train[~X_train.Education.isnull()]\n",
    "missing = X_train[X_train.Education.isnull()]\n",
    "\n",
    "\n",
    "imputation_features_non_missing = X_train[~X_train.Education.isnull()][['Job', 'Marital', 'Age']]\n",
    "education_non_missing = X_train[~X_train.Education.isnull()]['Education']\n",
    "\n",
    "imputation_features_missing = X_train[X_train.Education.isnull()][['Job', 'Marital', 'Age']]\n",
    "education_missing = X_train[X_train.Education.isnull()]['Education']\n",
    "\n",
    "\n",
    "scaler.fit(imputation_features_non_missing[['Age']])\n",
    "imputation_features_non_missing['Age'] = scaler.transform(imputation_features_non_missing[['Age']]).reshape(1,-1)[0]\n",
    "imputation_features_missing['Age'] = scaler.transform(imputation_features_missing[['Age']]).reshape(1,-1)[0]\n",
    "\n",
    "\n",
    "# imputation_features_non_missing_encoded = pd.get_dummies(imputation_features_non_missing)\n",
    "ce_one_hot = ce.OneHotEncoder(cols = ['Job','Marital'])\n",
    "ce_one_hot_model = ce_one_hot.fit(imputation_features_non_missing)\n",
    "imputation_features_non_missing_encoded = ce_one_hot_model.transform(imputation_features_non_missing)\n",
    "imputation_features_missing_encoded = ce_one_hot_model.transform(imputation_features_missing)\n",
    "\n",
    "\n",
    "kneigh = KNeighborsClassifier()\n",
    "kneigh.fit(X=imputation_features_non_missing_encoded, y=education_non_missing)\n",
    "missing['Education'] = kneigh.predict(imputation_features_missing_encoded)\n",
    "\n",
    "X_train = pd.concat([missing, non_missing])\n",
    "\n",
    "X_train['Education'] = X_train.Education.apply(lambda x : education_numeric_to_original(x))\n"
   ]
  },
  {
   "cell_type": "code",
   "execution_count": 461,
   "metadata": {},
   "outputs": [
    {
     "data": {
      "text/plain": [
       "Age                      0\n",
       "Job                      0\n",
       "Marital                  0\n",
       "Education                0\n",
       "Default                  0\n",
       "Balance                  0\n",
       "HHInsurance              0\n",
       "CarLoan                  0\n",
       "Communication          724\n",
       "LastContactDay           0\n",
       "LastContactMonth         0\n",
       "NoOfContacts             0\n",
       "DaysPassed               0\n",
       "PrevAttempts             0\n",
       "Outcome               2434\n",
       "call_duration            0\n",
       "target                   0\n",
       "LastContactQuarter       0\n",
       "LastContactWeek          0\n",
       "dtype: int64"
      ]
     },
     "execution_count": 461,
     "metadata": {},
     "output_type": "execute_result"
    }
   ],
   "source": [
    "X_train.isnull().sum()"
   ]
  },
  {
   "cell_type": "code",
   "execution_count": 462,
   "metadata": {},
   "outputs": [],
   "source": [
    "# from sklearn.impute import KNNImputer\n",
    "# ordinal_encoder = ce.OrdinalEncoder(cols=['Job', 'Marital', 'Education'], handle_missing='return_nan', handle_unknown='return_nan')\n",
    "# X_train_transformed = ordinal_encoder.fit_transform(X_train[['Job', 'Marital', 'Education', 'Age']])\n",
    "# knn = KNNImputer(n_neighbors=3)\n",
    "# knn_imputed = knn.fit_transform(X_train_transformed[['Job', 'Marital', 'Education', 'Age']])\n",
    "# knn_imputed_df = pd.DataFrame(knn_imputed, columns=['Job', 'Marital', 'Education', 'Age'])\n",
    "# # ordinal_encoder.inverse_transform(knn_imputed_df)\n",
    "# # X_train_transformed\n",
    "# knn_imputed_df"
   ]
  },
  {
   "cell_type": "markdown",
   "metadata": {},
   "source": [
    "# Replace the missing values in the Communication with a constant"
   ]
  },
  {
   "cell_type": "code",
   "execution_count": 463,
   "metadata": {},
   "outputs": [],
   "source": [
    "X_train['Communication'] = X_train['Communication'].fillna('missing')"
   ]
  },
  {
   "cell_type": "code",
   "execution_count": null,
   "metadata": {},
   "outputs": [],
   "source": []
  },
  {
   "cell_type": "code",
   "execution_count": 464,
   "metadata": {},
   "outputs": [
    {
     "data": {
      "text/plain": [
       "<matplotlib.axes._subplots.AxesSubplot at 0x7ff9d66b7cc0>"
      ]
     },
     "execution_count": 464,
     "metadata": {},
     "output_type": "execute_result"
    },
    {
     "data": {
      "image/png": "[encoded data removed]",
      "text/plain": [
       "<Figure size 432x288 with 1 Axes>"
      ]
     },
     "metadata": {},
     "output_type": "display_data"
    }
   ],
   "source": [
    "sns.boxplot(X_train['Communication'], X_train['call_duration'], )"
   ]
  },
  {
   "cell_type": "code",
   "execution_count": 465,
   "metadata": {},
   "outputs": [
    {
     "data": {
      "text/plain": [
       "<matplotlib.axes._subplots.AxesSubplot at 0x7ff9d6687cc0>"
      ]
     },
     "execution_count": 465,
     "metadata": {},
     "output_type": "execute_result"
    },
    {
     "data": {
      "image/png": "[encoded data removed]",
      "text/plain": [
       "<Figure size 432x288 with 1 Axes>"
      ]
     },
     "metadata": {},
     "output_type": "display_data"
    }
   ],
   "source": [
    "sns.boxplot(X_train['Communication'], X_train['Age'], )"
   ]
  },
  {
   "cell_type": "code",
   "execution_count": 466,
   "metadata": {},
   "outputs": [
    {
     "name": "stderr",
     "output_type": "stream",
     "text": [
      "/home/vignesh/.local/lib/python3.6/site-packages/matplotlib/axes/_axes.py:6521: MatplotlibDeprecationWarning: \n",
      "The 'normed' kwarg was deprecated in Matplotlib 2.1 and will be removed in 3.1. Use 'density' instead.\n",
      "  alternative=\"'density'\", removal=\"3.1\")\n"
     ]
    },
    {
     "data": {
      "text/plain": [
       "<matplotlib.axes._subplots.AxesSubplot at 0x7ff9d74278d0>"
      ]
     },
     "execution_count": 466,
     "metadata": {},
     "output_type": "execute_result"
    },
    {
     "data": {
      "image/png": "[encoded data removed]",
      "text/plain": [
       "<Figure size 432x288 with 1 Axes>"
      ]
     },
     "metadata": {},
     "output_type": "display_data"
    }
   ],
   "source": [
    "sns.distplot(X_train[X_train.Communication=='telephone'].Age)"
   ]
  },
  {
   "cell_type": "code",
   "execution_count": 467,
   "metadata": {},
   "outputs": [
    {
     "name": "stderr",
     "output_type": "stream",
     "text": [
      "/home/vignesh/.local/lib/python3.6/site-packages/matplotlib/axes/_axes.py:6521: MatplotlibDeprecationWarning: \n",
      "The 'normed' kwarg was deprecated in Matplotlib 2.1 and will be removed in 3.1. Use 'density' instead.\n",
      "  alternative=\"'density'\", removal=\"3.1\")\n"
     ]
    },
    {
     "data": {
      "text/plain": [
       "<matplotlib.axes._subplots.AxesSubplot at 0x7ff9d745c588>"
      ]
     },
     "execution_count": 467,
     "metadata": {},
     "output_type": "execute_result"
    },
    {
     "data": {
      "image/png": "[encoded data removed]",
      "text/plain": [
       "<Figure size 432x288 with 1 Axes>"
      ]
     },
     "metadata": {},
     "output_type": "display_data"
    }
   ],
   "source": [
    "sns.distplot(X_train[X_train.Communication=='cellular'].Age)"
   ]
  },
  {
   "cell_type": "code",
   "execution_count": 468,
   "metadata": {},
   "outputs": [
    {
     "data": {
      "text/plain": [
       "(array([131., 829., 860., 548., 456., 283.,  38.,  37.,  16.,   2.]),\n",
       " array([18. , 25.7, 33.4, 41.1, 48.8, 56.5, 64.2, 71.9, 79.6, 87.3, 95. ]),\n",
       " <a list of 10 Patch objects>)"
      ]
     },
     "execution_count": 468,
     "metadata": {},
     "output_type": "execute_result"
    },
    {
     "data": {
      "image/png": "[encoded data removed]",
      "text/plain": [
       "<Figure size 432x288 with 1 Axes>"
      ]
     },
     "metadata": {},
     "output_type": "display_data"
    }
   ],
   "source": [
    "plt.hist(X_train['Age'])"
   ]
  },
  {
   "cell_type": "code",
   "execution_count": 469,
   "metadata": {},
   "outputs": [
    {
     "data": {
      "text/plain": [
       "(array([2.036e+03, 7.160e+02, 2.530e+02, 1.120e+02, 5.200e+01, 1.700e+01,\n",
       "        1.000e+01, 2.000e+00, 1.000e+00, 1.000e+00]),\n",
       " array([   5. ,  329.8,  654.6,  979.4, 1304.2, 1629. , 1953.8, 2278.6,\n",
       "        2603.4, 2928.2, 3253. ]),\n",
       " <a list of 10 Patch objects>)"
      ]
     },
     "execution_count": 469,
     "metadata": {},
     "output_type": "execute_result"
    },
    {
     "data": {
      "image/png": "[encoded data removed]",
      "text/plain": [
       "<Figure size 432x288 with 1 Axes>"
      ]
     },
     "metadata": {},
     "output_type": "display_data"
    }
   ],
   "source": [
    "plt.hist(X_train['call_duration'])"
   ]
  },
  {
   "cell_type": "code",
   "execution_count": 470,
   "metadata": {},
   "outputs": [
    {
     "data": {
      "text/plain": [
       "<matplotlib.axes._subplots.AxesSubplot at 0x7ff9d755f518>"
      ]
     },
     "execution_count": 470,
     "metadata": {},
     "output_type": "execute_result"
    },
    {
     "data": {
      "image/png": "[encoded data removed]",
      "text/plain": [
       "<Figure size 432x288 with 1 Axes>"
      ]
     },
     "metadata": {},
     "output_type": "display_data"
    }
   ],
   "source": [
    "sns.boxplot(X_train['Communication'], X_train['call_duration'], )"
   ]
  },
  {
   "cell_type": "code",
   "execution_count": 471,
   "metadata": {},
   "outputs": [
    {
     "data": {
      "text/html": [
       "<div>\n",
       "<style scoped>\n",
       "    .dataframe tbody tr th:only-of-type {\n",
       "        vertical-align: middle;\n",
       "    }\n",
       "\n",
       "    .dataframe tbody tr th {\n",
       "        vertical-align: top;\n",
       "    }\n",
       "\n",
       "    .dataframe thead th {\n",
       "        text-align: right;\n",
       "    }\n",
       "</style>\n",
       "<table border=\"1\" class=\"dataframe\">\n",
       "  <thead>\n",
       "    <tr style=\"text-align: right;\">\n",
       "      <th>Communication</th>\n",
       "      <th>cellular</th>\n",
       "      <th>missing</th>\n",
       "      <th>telephone</th>\n",
       "    </tr>\n",
       "    <tr>\n",
       "      <th>Job</th>\n",
       "      <th></th>\n",
       "      <th></th>\n",
       "      <th></th>\n",
       "    </tr>\n",
       "  </thead>\n",
       "  <tbody>\n",
       "    <tr>\n",
       "      <th>0    management\\ndtype: object</th>\n",
       "      <td>10</td>\n",
       "      <td>3</td>\n",
       "      <td>3</td>\n",
       "    </tr>\n",
       "    <tr>\n",
       "      <th>admin.</th>\n",
       "      <td>267</td>\n",
       "      <td>87</td>\n",
       "      <td>26</td>\n",
       "    </tr>\n",
       "    <tr>\n",
       "      <th>blue-collar</th>\n",
       "      <td>346</td>\n",
       "      <td>224</td>\n",
       "      <td>29</td>\n",
       "    </tr>\n",
       "    <tr>\n",
       "      <th>entrepreneur</th>\n",
       "      <td>68</td>\n",
       "      <td>18</td>\n",
       "      <td>11</td>\n",
       "    </tr>\n",
       "    <tr>\n",
       "      <th>housemaid</th>\n",
       "      <td>52</td>\n",
       "      <td>19</td>\n",
       "      <td>13</td>\n",
       "    </tr>\n",
       "    <tr>\n",
       "      <th>management</th>\n",
       "      <td>580</td>\n",
       "      <td>95</td>\n",
       "      <td>31</td>\n",
       "    </tr>\n",
       "    <tr>\n",
       "      <th>retired</th>\n",
       "      <td>136</td>\n",
       "      <td>24</td>\n",
       "      <td>48</td>\n",
       "    </tr>\n",
       "    <tr>\n",
       "      <th>self-employed</th>\n",
       "      <td>77</td>\n",
       "      <td>31</td>\n",
       "      <td>7</td>\n",
       "    </tr>\n",
       "    <tr>\n",
       "      <th>services</th>\n",
       "      <td>168</td>\n",
       "      <td>80</td>\n",
       "      <td>12</td>\n",
       "    </tr>\n",
       "    <tr>\n",
       "      <th>student</th>\n",
       "      <td>85</td>\n",
       "      <td>8</td>\n",
       "      <td>9</td>\n",
       "    </tr>\n",
       "    <tr>\n",
       "      <th>technician</th>\n",
       "      <td>381</td>\n",
       "      <td>120</td>\n",
       "      <td>26</td>\n",
       "    </tr>\n",
       "    <tr>\n",
       "      <th>unemployed</th>\n",
       "      <td>87</td>\n",
       "      <td>15</td>\n",
       "      <td>4</td>\n",
       "    </tr>\n",
       "  </tbody>\n",
       "</table>\n",
       "</div>"
      ],
      "text/plain": [
       "Communication                   cellular  missing  telephone\n",
       "Job                                                         \n",
       "0    management\\ndtype: object        10        3          3\n",
       "admin.                               267       87         26\n",
       "blue-collar                          346      224         29\n",
       "entrepreneur                          68       18         11\n",
       "housemaid                             52       19         13\n",
       "management                           580       95         31\n",
       "retired                              136       24         48\n",
       "self-employed                         77       31          7\n",
       "services                             168       80         12\n",
       "student                               85        8          9\n",
       "technician                           381      120         26\n",
       "unemployed                            87       15          4"
      ]
     },
     "execution_count": 471,
     "metadata": {},
     "output_type": "execute_result"
    }
   ],
   "source": [
    "pd.crosstab(X_train['Job'], X_train['Communication'])"
   ]
  },
  {
   "cell_type": "code",
   "execution_count": 472,
   "metadata": {},
   "outputs": [
    {
     "data": {
      "text/plain": [
       "array(['secondary', 'tertiary', 'primary'], dtype=object)"
      ]
     },
     "execution_count": 472,
     "metadata": {},
     "output_type": "execute_result"
    }
   ],
   "source": [
    "X_train['Education'].unique()"
   ]
  },
  {
   "cell_type": "code",
   "execution_count": 473,
   "metadata": {},
   "outputs": [
    {
     "data": {
      "text/plain": [
       "array(['technician', 'self-employed', 'management', 'services', 'student',\n",
       "       'admin.', 'retired', '0    management\\ndtype: object',\n",
       "       'blue-collar', 'housemaid', 'entrepreneur', 'unemployed'],\n",
       "      dtype=object)"
      ]
     },
     "execution_count": 473,
     "metadata": {},
     "output_type": "execute_result"
    }
   ],
   "source": [
    "X_train['Job'].unique()"
   ]
  },
  {
   "cell_type": "code",
   "execution_count": null,
   "metadata": {},
   "outputs": [],
   "source": []
  },
  {
   "cell_type": "markdown",
   "metadata": {},
   "source": [
    "# Distribution of target by different categorical features\n",
    "* Default feature can be removed"
   ]
  },
  {
   "cell_type": "code",
   "execution_count": 480,
   "metadata": {},
   "outputs": [
    {
     "data": {
      "image/png": "[encoded data removed]",
      "text/plain": [
       "<Figure size 1152x1008 with 6 Axes>"
      ]
     },
     "metadata": {},
     "output_type": "display_data"
    }
   ],
   "source": [
    "cat_features = ['Education', 'Communication', 'Marital', 'HHInsurance', 'CarLoan', 'Default']\n",
    "palette_6 = sns.color_palette('RdYlBu')\n",
    "plt.figure(figsize=(16, 14))\n",
    "sns.set(font_scale= 1.2)\n",
    "sns.set_style('ticks')\n",
    "X_train['target'] = y_train\n",
    "\n",
    "for i, feature in enumerate(cat_features):\n",
    "    plt.subplot(2, 3, i+1)\n",
    "    sns.countplot(data=X_train, x=feature, hue='target', palette=palette_6)  \n",
    "    \n",
    "sns.despine()\n"
   ]
  },
  {
   "cell_type": "code",
   "execution_count": 481,
   "metadata": {},
   "outputs": [
    {
     "data": {
      "text/plain": [
       "<matplotlib.axes._subplots.AxesSubplot at 0x7ff9d4ce4400>"
      ]
     },
     "execution_count": 481,
     "metadata": {},
     "output_type": "execute_result"
    },
    {
     "data": {
      "image/png": "[encoded data removed]",
      "text/plain": [
       "<Figure size 1152x1008 with 1 Axes>"
      ]
     },
     "metadata": {},
     "output_type": "display_data"
    }
   ],
   "source": [
    "plt.figure(figsize=(16, 14))\n",
    "sns.set(font_scale= 1.2)\n",
    "sns.countplot(data=X_train, x='Job', hue='target')"
   ]
  },
  {
   "cell_type": "markdown",
   "metadata": {},
   "source": [
    "# Last four months have high rate of insurance purchase though very few calls during that period"
   ]
  },
  {
   "cell_type": "code",
   "execution_count": 482,
   "metadata": {},
   "outputs": [
    {
     "data": {
      "text/plain": [
       "<matplotlib.axes._subplots.AxesSubplot at 0x7ff9d4d7dbe0>"
      ]
     },
     "execution_count": 482,
     "metadata": {},
     "output_type": "execute_result"
    },
    {
     "data": {
      "image/png": "[encoded data removed]",
      "text/plain": [
       "<Figure size 1152x1008 with 1 Axes>"
      ]
     },
     "metadata": {},
     "output_type": "display_data"
    }
   ],
   "source": [
    "plt.figure(figsize=(16, 14))\n",
    "sns.set(font_scale= 1.2)\n",
    "sns.countplot(data=X_train, x='LastContactMonth', hue='target')"
   ]
  },
  {
   "cell_type": "code",
   "execution_count": 483,
   "metadata": {},
   "outputs": [],
   "source": [
    "# Third quarter"
   ]
  },
  {
   "cell_type": "code",
   "execution_count": 484,
   "metadata": {},
   "outputs": [
    {
     "data": {
      "text/plain": [
       "<matplotlib.axes._subplots.AxesSubplot at 0x7ff9d4b96278>"
      ]
     },
     "execution_count": 484,
     "metadata": {},
     "output_type": "execute_result"
    },
    {
     "data": {
      "image/png": "[encoded data removed]",
      "text/plain": [
       "<Figure size 720x720 with 1 Axes>"
      ]
     },
     "metadata": {},
     "output_type": "display_data"
    }
   ],
   "source": [
    "plt.figure(figsize=(10, 10))\n",
    "sns.set(font_scale= 1.2)\n",
    "sns.countplot(data=X_train, x='LastContactQuarter', hue='target')"
   ]
  },
  {
   "cell_type": "code",
   "execution_count": 485,
   "metadata": {},
   "outputs": [
    {
     "data": {
      "text/plain": [
       "<matplotlib.axes._subplots.AxesSubplot at 0x7ff9d4b90470>"
      ]
     },
     "execution_count": 485,
     "metadata": {},
     "output_type": "execute_result"
    },
    {
     "data": {
      "image/png": "[encoded data removed]",
      "text/plain": [
       "<Figure size 720x720 with 1 Axes>"
      ]
     },
     "metadata": {},
     "output_type": "display_data"
    }
   ],
   "source": [
    "plt.figure(figsize=(10, 10))\n",
    "sns.set(font_scale= 1.2)\n",
    "sns.countplot(data=X_train, x='LastContactWeek', hue='target')"
   ]
  },
  {
   "cell_type": "code",
   "execution_count": 486,
   "metadata": {},
   "outputs": [],
   "source": [
    "# X_train.columns\n",
    "\n",
    "# Index(['Id', 'Age', 'Job', 'Marital', 'Education', 'Default', 'Balance',\n",
    "#        'HHInsurance', 'CarLoan', 'Communication', 'LastContactDay',\n",
    "#        'LastContactMonth', 'NoOfContacts', 'DaysPassed', 'PrevAttempts',\n",
    "#        'Outcome', 'CallStart', 'CallEnd', 'call_duration']"
   ]
  },
  {
   "cell_type": "code",
   "execution_count": 487,
   "metadata": {},
   "outputs": [
    {
     "data": {
      "text/plain": [
       "2434"
      ]
     },
     "execution_count": 487,
     "metadata": {},
     "output_type": "execute_result"
    }
   ],
   "source": [
    "len(X_train[X_train['DaysPassed']<0]['DaysPassed'])"
   ]
  },
  {
   "cell_type": "code",
   "execution_count": 488,
   "metadata": {},
   "outputs": [
    {
     "data": {
      "text/plain": [
       "766"
      ]
     },
     "execution_count": 488,
     "metadata": {},
     "output_type": "execute_result"
    }
   ],
   "source": [
    "len(X_train[X_train['DaysPassed']>0]['DaysPassed'])"
   ]
  },
  {
   "cell_type": "code",
   "execution_count": 489,
   "metadata": {},
   "outputs": [
    {
     "data": {
      "text/plain": [
       "(array([2482.,  250.,  217.,  114.,  106.,   18.,    5.,    0.,    3.,\n",
       "           5.]),\n",
       " array([ -1. ,  83.3, 167.6, 251.9, 336.2, 420.5, 504.8, 589.1, 673.4,\n",
       "        757.7, 842. ]),\n",
       " <a list of 10 Patch objects>)"
      ]
     },
     "execution_count": 489,
     "metadata": {},
     "output_type": "execute_result"
    },
    {
     "data": {
      "image/png": "[encoded data removed]",
      "text/plain": [
       "<Figure size 432x288 with 1 Axes>"
      ]
     },
     "metadata": {},
     "output_type": "display_data"
    }
   ],
   "source": [
    "plt.hist(X_train['DaysPassed'])"
   ]
  },
  {
   "cell_type": "code",
   "execution_count": 490,
   "metadata": {},
   "outputs": [
    {
     "data": {
      "text/plain": [
       "(array([2.902e+03, 2.120e+02, 5.200e+01, 1.800e+01, 1.000e+01, 0.000e+00,\n",
       "        4.000e+00, 1.000e+00, 0.000e+00, 1.000e+00]),\n",
       " array([ 0.,  3.,  6.,  9., 12., 15., 18., 21., 24., 27., 30.]),\n",
       " <a list of 10 Patch objects>)"
      ]
     },
     "execution_count": 490,
     "metadata": {},
     "output_type": "execute_result"
    },
    {
     "data": {
      "image/png": "[encoded data removed]",
      "text/plain": [
       "<Figure size 432x288 with 1 Axes>"
      ]
     },
     "metadata": {},
     "output_type": "display_data"
    }
   ],
   "source": [
    "plt.hist(X_train['PrevAttempts'])"
   ]
  },
  {
   "cell_type": "code",
   "execution_count": 491,
   "metadata": {},
   "outputs": [
    {
     "data": {
      "text/plain": [
       "2434"
      ]
     },
     "execution_count": 491,
     "metadata": {},
     "output_type": "execute_result"
    }
   ],
   "source": [
    "len(X_train[X_train['PrevAttempts']==0]['PrevAttempts'])"
   ]
  },
  {
   "cell_type": "markdown",
   "metadata": {},
   "source": [
    "# Distribution plots for numerical variables\n",
    "* Most of the variables follow a skewed distribution"
   ]
  },
  {
   "cell_type": "code",
   "execution_count": 492,
   "metadata": {},
   "outputs": [
    {
     "name": "stderr",
     "output_type": "stream",
     "text": [
      "/home/vignesh/.local/lib/python3.6/site-packages/matplotlib/axes/_axes.py:6521: MatplotlibDeprecationWarning: \n",
      "The 'normed' kwarg was deprecated in Matplotlib 2.1 and will be removed in 3.1. Use 'density' instead.\n",
      "  alternative=\"'density'\", removal=\"3.1\")\n"
     ]
    },
    {
     "data": {
      "image/png": "[encoded data removed]",
      "text/plain": [
       "<Figure size 1152x1008 with 4 Axes>"
      ]
     },
     "metadata": {},
     "output_type": "display_data"
    }
   ],
   "source": [
    "cat_features = ['Age', 'Balance', 'NoOfContacts', 'call_duration']\n",
    "palette_6 = sns.color_palette('RdYlBu')\n",
    "plt.figure(figsize=(16, 14))\n",
    "sns.set(font_scale= 1.2)\n",
    "sns.set_style('ticks')\n",
    "X_train['target'] = y_train\n",
    "\n",
    "for i, feature in enumerate(cat_features):\n",
    "    plt.subplot(2, 3, i+1)\n",
    "    sns.distplot(X_train[feature])  \n",
    "    \n",
    "sns.despine()\n"
   ]
  },
  {
   "cell_type": "code",
   "execution_count": 493,
   "metadata": {},
   "outputs": [
    {
     "data": {
      "text/plain": [
       "target\n",
       "0    92\n",
       "1    16\n",
       "dtype: int64"
      ]
     },
     "execution_count": 493,
     "metadata": {},
     "output_type": "execute_result"
    }
   ],
   "source": [
    "X_train[X_train['NoOfContacts']>8].groupby('target').size()"
   ]
  },
  {
   "cell_type": "markdown",
   "metadata": {},
   "source": [
    "# People are not interested to buy insurance if the number of calls exceed 8 \n"
   ]
  },
  {
   "cell_type": "code",
   "execution_count": 494,
   "metadata": {},
   "outputs": [
    {
     "data": {
      "text/plain": [
       "NoOfContacts  target\n",
       "1             0         738\n",
       "              1         626\n",
       "2             0         531\n",
       "              1         332\n",
       "3             0         241\n",
       "              1         171\n",
       "4             0         115\n",
       "              1          60\n",
       "5             0          91\n",
       "              1          42\n",
       "6             0          51\n",
       "              1          23\n",
       "7             0          25\n",
       "              1          11\n",
       "8             0          24\n",
       "              1          11\n",
       "9             0          15\n",
       "              1           1\n",
       "10            0          12\n",
       "              1           2\n",
       "11            0           5\n",
       "              1           7\n",
       "12            0           9\n",
       "13            0           5\n",
       "              1           1\n",
       "14            0           5\n",
       "15            0           2\n",
       "              1           1\n",
       "16            0           3\n",
       "17            0           8\n",
       "              1           2\n",
       "18            0           2\n",
       "19            0           3\n",
       "20            0           4\n",
       "21            0           2\n",
       "              1           1\n",
       "22            0           2\n",
       "23            0           3\n",
       "24            0           2\n",
       "              1           1\n",
       "25            0           3\n",
       "27            0           1\n",
       "28            0           1\n",
       "30            0           1\n",
       "32            0           1\n",
       "34            0           1\n",
       "41            0           1\n",
       "43            0           1\n",
       "dtype: int64"
      ]
     },
     "execution_count": 494,
     "metadata": {},
     "output_type": "execute_result"
    }
   ],
   "source": [
    "X_train.groupby(['NoOfContacts','target']).size()"
   ]
  },
  {
   "cell_type": "markdown",
   "metadata": {},
   "source": [
    "# Higher the call duration, more likely the customer is likely to purchase "
   ]
  },
  {
   "cell_type": "code",
   "execution_count": 495,
   "metadata": {},
   "outputs": [
    {
     "data": {
      "text/plain": [
       "<matplotlib.axes._subplots.AxesSubplot at 0x7ff9d465df98>"
      ]
     },
     "execution_count": 495,
     "metadata": {},
     "output_type": "execute_result"
    },
    {
     "data": {
      "image/png": "[encoded data removed]",
      "text/plain": [
       "<Figure size 432x288 with 1 Axes>"
      ]
     },
     "metadata": {},
     "output_type": "display_data"
    }
   ],
   "source": [
    "sns.boxplot(X_train['target'], X_train['call_duration'])"
   ]
  },
  {
   "cell_type": "code",
   "execution_count": 496,
   "metadata": {},
   "outputs": [
    {
     "data": {
      "text/plain": [
       "<matplotlib.axes._subplots.AxesSubplot at 0x7ff9d4418550>"
      ]
     },
     "execution_count": 496,
     "metadata": {},
     "output_type": "execute_result"
    },
    {
     "data": {
      "image/png": "[encoded data removed]",
      "text/plain": [
       "<Figure size 432x288 with 1 Axes>"
      ]
     },
     "metadata": {},
     "output_type": "display_data"
    }
   ],
   "source": [
    "sns.boxplot(X_train['target'], X_train['Age'])"
   ]
  },
  {
   "cell_type": "code",
   "execution_count": 497,
   "metadata": {},
   "outputs": [
    {
     "data": {
      "text/plain": [
       "target\n",
       "0    165\n",
       "1     46\n",
       "dtype: int64"
      ]
     },
     "execution_count": 497,
     "metadata": {},
     "output_type": "execute_result"
    }
   ],
   "source": [
    "X_train[X_train['Balance']<0].groupby('target').size()"
   ]
  },
  {
   "cell_type": "code",
   "execution_count": 498,
   "metadata": {},
   "outputs": [
    {
     "name": "stderr",
     "output_type": "stream",
     "text": [
      "/home/vignesh/.local/lib/python3.6/site-packages/matplotlib/axes/_axes.py:6521: MatplotlibDeprecationWarning: \n",
      "The 'normed' kwarg was deprecated in Matplotlib 2.1 and will be removed in 3.1. Use 'density' instead.\n",
      "  alternative=\"'density'\", removal=\"3.1\")\n"
     ]
    },
    {
     "data": {
      "text/plain": [
       "<matplotlib.axes._subplots.AxesSubplot at 0x7ff9d43334e0>"
      ]
     },
     "execution_count": 498,
     "metadata": {},
     "output_type": "execute_result"
    },
    {
     "data": {
      "image/png": "[encoded data removed]",
      "text/plain": [
       "<Figure size 432x288 with 1 Axes>"
      ]
     },
     "metadata": {},
     "output_type": "display_data"
    }
   ],
   "source": [
    "X_train['Non_neg_Balance'] = X_train['Balance'].apply(lambda x : 0 if x<0 else x)\n",
    "sns.distplot(X_train['Non_neg_Balance'])"
   ]
  },
  {
   "cell_type": "markdown",
   "metadata": {},
   "source": [
    "# Balance has no relation with the car insurance purchase directly\n",
    "\n",
    "## No distribution change with the customers having low, medium and high balance"
   ]
  },
  {
   "cell_type": "code",
   "execution_count": 499,
   "metadata": {},
   "outputs": [
    {
     "name": "stdout",
     "output_type": "stream",
     "text": [
      "------- Low balance   460\n",
      "target\n",
      "0    994\n",
      "1    553\n",
      "dtype: int64\n",
      "------- medium balance   1547\n",
      "target\n",
      "0    678\n",
      "1    540\n",
      "dtype: int64\n",
      "------- high balance   1218\n",
      "target\n",
      "0    235\n",
      "1    199\n",
      "dtype: int64\n"
     ]
    }
   ],
   "source": [
    "print('------- Low balance  ', len(X_train[X_train['Non_neg_Balance']==0]))\n",
    "low_balance = X_train[X_train['Non_neg_Balance']<500]\n",
    "print(low_balance.groupby('target').size())\n",
    "\n",
    "print('------- medium balance  ', len(X_train[X_train['Non_neg_Balance']<500]))\n",
    "med_balance = X_train[(X_train['Non_neg_Balance']>500) & (X_train['Non_neg_Balance']<3000)]\n",
    "print(med_balance.groupby('target').size())\n",
    "\n",
    "print('------- high balance  ', len(X_train[(X_train['Non_neg_Balance']>500) & (X_train['Non_neg_Balance']<3000)]))\n",
    "high_balance = X_train[X_train['Non_neg_Balance']>3000]\n",
    "print(high_balance.groupby('target').size())"
   ]
  },
  {
   "cell_type": "code",
   "execution_count": 500,
   "metadata": {},
   "outputs": [],
   "source": [
    "non_previously_contacted_clients = X_train[X_train['PrevAttempts']==0]\n",
    "previously_contacted_clients = X_train[X_train['PrevAttempts']>0]"
   ]
  },
  {
   "cell_type": "code",
   "execution_count": 501,
   "metadata": {},
   "outputs": [
    {
     "data": {
      "text/plain": [
       "target\n",
       "0    1596\n",
       "1     838\n",
       "dtype: int64"
      ]
     },
     "execution_count": 501,
     "metadata": {},
     "output_type": "execute_result"
    }
   ],
   "source": [
    "non_previously_contacted_clients.groupby('target').size()"
   ]
  },
  {
   "cell_type": "code",
   "execution_count": 502,
   "metadata": {},
   "outputs": [
    {
     "data": {
      "text/plain": [
       "target\n",
       "0    312\n",
       "1    454\n",
       "dtype: int64"
      ]
     },
     "execution_count": 502,
     "metadata": {},
     "output_type": "execute_result"
    }
   ],
   "source": [
    "previously_contacted_clients.groupby('target').size()"
   ]
  },
  {
   "cell_type": "markdown",
   "metadata": {},
   "source": [
    "# Marginal distributional change in the dayspassed in the purchased and non purchased customers\n",
    "\n",
    "* Maybe target recent customers"
   ]
  },
  {
   "cell_type": "code",
   "execution_count": 503,
   "metadata": {},
   "outputs": [
    {
     "data": {
      "text/plain": [
       "<matplotlib.axes._subplots.AxesSubplot at 0x7ff9d4436630>"
      ]
     },
     "execution_count": 503,
     "metadata": {},
     "output_type": "execute_result"
    },
    {
     "data": {
      "image/png": "[encoded data removed]",
      "text/plain": [
       "<Figure size 432x288 with 1 Axes>"
      ]
     },
     "metadata": {},
     "output_type": "display_data"
    }
   ],
   "source": [
    "sns.boxplot(previously_contacted_clients['target'], previously_contacted_clients['DaysPassed'])"
   ]
  },
  {
   "cell_type": "code",
   "execution_count": 504,
   "metadata": {},
   "outputs": [
    {
     "data": {
      "text/plain": [
       "<matplotlib.axes._subplots.AxesSubplot at 0x7ff9d5706c88>"
      ]
     },
     "execution_count": 504,
     "metadata": {},
     "output_type": "execute_result"
    },
    {
     "data": {
      "image/png": "[encoded data removed]",
      "text/plain": [
       "<Figure size 432x288 with 1 Axes>"
      ]
     },
     "metadata": {},
     "output_type": "display_data"
    }
   ],
   "source": [
    "sns.boxplot(previously_contacted_clients['target'], previously_contacted_clients['PrevAttempts'])"
   ]
  },
  {
   "cell_type": "code",
   "execution_count": 509,
   "metadata": {},
   "outputs": [
    {
     "name": "stderr",
     "output_type": "stream",
     "text": [
      "/home/vignesh/.local/lib/python3.6/site-packages/matplotlib/axes/_axes.py:6521: MatplotlibDeprecationWarning: \n",
      "The 'normed' kwarg was deprecated in Matplotlib 2.1 and will be removed in 3.1. Use 'density' instead.\n",
      "  alternative=\"'density'\", removal=\"3.1\")\n"
     ]
    },
    {
     "data": {
      "text/plain": [
       "<matplotlib.axes._subplots.AxesSubplot at 0x7ff9d596f9b0>"
      ]
     },
     "execution_count": 509,
     "metadata": {},
     "output_type": "execute_result"
    },
    {
     "data": {
      "image/png": "[encoded data removed]",
      "text/plain": [
       "<Figure size 432x288 with 1 Axes>"
      ]
     },
     "metadata": {},
     "output_type": "display_data"
    }
   ],
   "source": [
    "sns.distplot(previously_contacted_clients['DaysPassed'])"
   ]
  },
  {
   "cell_type": "code",
   "execution_count": 510,
   "metadata": {},
   "outputs": [
    {
     "name": "stderr",
     "output_type": "stream",
     "text": [
      "/home/vignesh/.local/lib/python3.6/site-packages/matplotlib/axes/_axes.py:6521: MatplotlibDeprecationWarning: \n",
      "The 'normed' kwarg was deprecated in Matplotlib 2.1 and will be removed in 3.1. Use 'density' instead.\n",
      "  alternative=\"'density'\", removal=\"3.1\")\n"
     ]
    },
    {
     "data": {
      "text/plain": [
       "<matplotlib.axes._subplots.AxesSubplot at 0x7ff9d57dd438>"
      ]
     },
     "execution_count": 510,
     "metadata": {},
     "output_type": "execute_result"
    },
    {
     "data": {
      "image/png": "[encoded data removed]",
      "text/plain": [
       "<Figure size 432x288 with 1 Axes>"
      ]
     },
     "metadata": {},
     "output_type": "display_data"
    }
   ],
   "source": [
    "sns.distplot(previously_contacted_clients['PrevAttempts'])"
   ]
  },
  {
   "cell_type": "code",
   "execution_count": null,
   "metadata": {},
   "outputs": [],
   "source": [
    "sns.distplot(previously_contacted_clients['PrevAttempts'])"
   ]
  },
  {
   "cell_type": "code",
   "execution_count": 515,
   "metadata": {},
   "outputs": [
    {
     "name": "stderr",
     "output_type": "stream",
     "text": [
      "/home/vignesh/.local/lib/python3.6/site-packages/matplotlib/axes/_axes.py:6521: MatplotlibDeprecationWarning: \n",
      "The 'normed' kwarg was deprecated in Matplotlib 2.1 and will be removed in 3.1. Use 'density' instead.\n",
      "  alternative=\"'density'\", removal=\"3.1\")\n"
     ]
    },
    {
     "data": {
      "text/plain": [
       "<matplotlib.axes._subplots.AxesSubplot at 0x7ff9d448fcf8>"
      ]
     },
     "execution_count": 515,
     "metadata": {},
     "output_type": "execute_result"
    },
    {
     "data": {
      "image/png": "[encoded data removed]",
      "text/plain": [
       "<Figure size 432x288 with 1 Axes>"
      ]
     },
     "metadata": {},
     "output_type": "display_data"
    }
   ],
   "source": [
    "sns.distplot(np.log(previously_contacted_clients[previously_contacted_clients.Balance>0]['Balance']))"
   ]
  },
  {
   "cell_type": "code",
   "execution_count": 505,
   "metadata": {},
   "outputs": [
    {
     "data": {
      "text/html": [
       "<div>\n",
       "<style scoped>\n",
       "    .dataframe tbody tr th:only-of-type {\n",
       "        vertical-align: middle;\n",
       "    }\n",
       "\n",
       "    .dataframe tbody tr th {\n",
       "        vertical-align: top;\n",
       "    }\n",
       "\n",
       "    .dataframe thead th {\n",
       "        text-align: right;\n",
       "    }\n",
       "</style>\n",
       "<table border=\"1\" class=\"dataframe\">\n",
       "  <thead>\n",
       "    <tr style=\"text-align: right;\">\n",
       "      <th></th>\n",
       "      <th>Age</th>\n",
       "      <th>Default</th>\n",
       "      <th>Balance</th>\n",
       "      <th>HHInsurance</th>\n",
       "      <th>CarLoan</th>\n",
       "      <th>LastContactDay</th>\n",
       "      <th>LastContactMonth</th>\n",
       "      <th>NoOfContacts</th>\n",
       "      <th>DaysPassed</th>\n",
       "      <th>PrevAttempts</th>\n",
       "      <th>call_duration</th>\n",
       "      <th>target</th>\n",
       "      <th>Non_neg_Balance</th>\n",
       "    </tr>\n",
       "  </thead>\n",
       "  <tbody>\n",
       "    <tr>\n",
       "      <th>count</th>\n",
       "      <td>766.000000</td>\n",
       "      <td>766.000000</td>\n",
       "      <td>766.000000</td>\n",
       "      <td>766.000000</td>\n",
       "      <td>766.000000</td>\n",
       "      <td>766.000000</td>\n",
       "      <td>766.000000</td>\n",
       "      <td>766.000000</td>\n",
       "      <td>766.000000</td>\n",
       "      <td>766.000000</td>\n",
       "      <td>766.000000</td>\n",
       "      <td>766.000000</td>\n",
       "      <td>766.000000</td>\n",
       "    </tr>\n",
       "    <tr>\n",
       "      <th>mean</th>\n",
       "      <td>41.492167</td>\n",
       "      <td>0.002611</td>\n",
       "      <td>1735.917755</td>\n",
       "      <td>0.502611</td>\n",
       "      <td>0.090078</td>\n",
       "      <td>14.503916</td>\n",
       "      <td>6.304178</td>\n",
       "      <td>1.892950</td>\n",
       "      <td>207.351175</td>\n",
       "      <td>2.946475</td>\n",
       "      <td>333.567885</td>\n",
       "      <td>0.592689</td>\n",
       "      <td>1743.334204</td>\n",
       "    </tr>\n",
       "    <tr>\n",
       "      <th>std</th>\n",
       "      <td>12.495304</td>\n",
       "      <td>0.051064</td>\n",
       "      <td>3414.933226</td>\n",
       "      <td>0.500320</td>\n",
       "      <td>0.286481</td>\n",
       "      <td>8.303199</td>\n",
       "      <td>3.125298</td>\n",
       "      <td>1.353389</td>\n",
       "      <td>122.791691</td>\n",
       "      <td>2.876728</td>\n",
       "      <td>297.559502</td>\n",
       "      <td>0.491655</td>\n",
       "      <td>3410.777465</td>\n",
       "    </tr>\n",
       "    <tr>\n",
       "      <th>min</th>\n",
       "      <td>18.000000</td>\n",
       "      <td>0.000000</td>\n",
       "      <td>-522.000000</td>\n",
       "      <td>0.000000</td>\n",
       "      <td>0.000000</td>\n",
       "      <td>1.000000</td>\n",
       "      <td>1.000000</td>\n",
       "      <td>1.000000</td>\n",
       "      <td>1.000000</td>\n",
       "      <td>1.000000</td>\n",
       "      <td>5.000000</td>\n",
       "      <td>0.000000</td>\n",
       "      <td>0.000000</td>\n",
       "    </tr>\n",
       "    <tr>\n",
       "      <th>25%</th>\n",
       "      <td>32.000000</td>\n",
       "      <td>0.000000</td>\n",
       "      <td>238.000000</td>\n",
       "      <td>0.000000</td>\n",
       "      <td>0.000000</td>\n",
       "      <td>7.000000</td>\n",
       "      <td>4.000000</td>\n",
       "      <td>1.000000</td>\n",
       "      <td>101.250000</td>\n",
       "      <td>1.000000</td>\n",
       "      <td>150.000000</td>\n",
       "      <td>0.000000</td>\n",
       "      <td>238.000000</td>\n",
       "    </tr>\n",
       "    <tr>\n",
       "      <th>50%</th>\n",
       "      <td>38.000000</td>\n",
       "      <td>0.000000</td>\n",
       "      <td>729.000000</td>\n",
       "      <td>1.000000</td>\n",
       "      <td>0.000000</td>\n",
       "      <td>14.000000</td>\n",
       "      <td>5.000000</td>\n",
       "      <td>1.000000</td>\n",
       "      <td>182.000000</td>\n",
       "      <td>2.000000</td>\n",
       "      <td>250.500000</td>\n",
       "      <td>1.000000</td>\n",
       "      <td>729.000000</td>\n",
       "    </tr>\n",
       "    <tr>\n",
       "      <th>75%</th>\n",
       "      <td>49.000000</td>\n",
       "      <td>0.000000</td>\n",
       "      <td>1856.500000</td>\n",
       "      <td>1.000000</td>\n",
       "      <td>0.000000</td>\n",
       "      <td>20.000000</td>\n",
       "      <td>9.000000</td>\n",
       "      <td>2.000000</td>\n",
       "      <td>294.000000</td>\n",
       "      <td>4.000000</td>\n",
       "      <td>410.750000</td>\n",
       "      <td>1.000000</td>\n",
       "      <td>1856.500000</td>\n",
       "    </tr>\n",
       "    <tr>\n",
       "      <th>max</th>\n",
       "      <td>82.000000</td>\n",
       "      <td>1.000000</td>\n",
       "      <td>52587.000000</td>\n",
       "      <td>1.000000</td>\n",
       "      <td>1.000000</td>\n",
       "      <td>31.000000</td>\n",
       "      <td>12.000000</td>\n",
       "      <td>12.000000</td>\n",
       "      <td>842.000000</td>\n",
       "      <td>30.000000</td>\n",
       "      <td>2184.000000</td>\n",
       "      <td>1.000000</td>\n",
       "      <td>52587.000000</td>\n",
       "    </tr>\n",
       "  </tbody>\n",
       "</table>\n",
       "</div>"
      ],
      "text/plain": [
       "              Age     Default       Balance  HHInsurance     CarLoan  \\\n",
       "count  766.000000  766.000000    766.000000   766.000000  766.000000   \n",
       "mean    41.492167    0.002611   1735.917755     0.502611    0.090078   \n",
       "std     12.495304    0.051064   3414.933226     0.500320    0.286481   \n",
       "min     18.000000    0.000000   -522.000000     0.000000    0.000000   \n",
       "25%     32.000000    0.000000    238.000000     0.000000    0.000000   \n",
       "50%     38.000000    0.000000    729.000000     1.000000    0.000000   \n",
       "75%     49.000000    0.000000   1856.500000     1.000000    0.000000   \n",
       "max     82.000000    1.000000  52587.000000     1.000000    1.000000   \n",
       "\n",
       "       LastContactDay  LastContactMonth  NoOfContacts  DaysPassed  \\\n",
       "count      766.000000        766.000000    766.000000  766.000000   \n",
       "mean        14.503916          6.304178      1.892950  207.351175   \n",
       "std          8.303199          3.125298      1.353389  122.791691   \n",
       "min          1.000000          1.000000      1.000000    1.000000   \n",
       "25%          7.000000          4.000000      1.000000  101.250000   \n",
       "50%         14.000000          5.000000      1.000000  182.000000   \n",
       "75%         20.000000          9.000000      2.000000  294.000000   \n",
       "max         31.000000         12.000000     12.000000  842.000000   \n",
       "\n",
       "       PrevAttempts  call_duration      target  Non_neg_Balance  \n",
       "count    766.000000     766.000000  766.000000       766.000000  \n",
       "mean       2.946475     333.567885    0.592689      1743.334204  \n",
       "std        2.876728     297.559502    0.491655      3410.777465  \n",
       "min        1.000000       5.000000    0.000000         0.000000  \n",
       "25%        1.000000     150.000000    0.000000       238.000000  \n",
       "50%        2.000000     250.500000    1.000000       729.000000  \n",
       "75%        4.000000     410.750000    1.000000      1856.500000  \n",
       "max       30.000000    2184.000000    1.000000     52587.000000  "
      ]
     },
     "execution_count": 505,
     "metadata": {},
     "output_type": "execute_result"
    }
   ],
   "source": [
    "previously_contacted_clients.describe()"
   ]
  },
  {
   "cell_type": "code",
   "execution_count": 507,
   "metadata": {},
   "outputs": [
    {
     "data": {
      "text/html": [
       "<div>\n",
       "<style scoped>\n",
       "    .dataframe tbody tr th:only-of-type {\n",
       "        vertical-align: middle;\n",
       "    }\n",
       "\n",
       "    .dataframe tbody tr th {\n",
       "        vertical-align: top;\n",
       "    }\n",
       "\n",
       "    .dataframe thead th {\n",
       "        text-align: right;\n",
       "    }\n",
       "</style>\n",
       "<table border=\"1\" class=\"dataframe\">\n",
       "  <thead>\n",
       "    <tr style=\"text-align: right;\">\n",
       "      <th></th>\n",
       "      <th>Age</th>\n",
       "      <th>Default</th>\n",
       "      <th>Balance</th>\n",
       "      <th>HHInsurance</th>\n",
       "      <th>CarLoan</th>\n",
       "      <th>LastContactDay</th>\n",
       "      <th>LastContactMonth</th>\n",
       "      <th>NoOfContacts</th>\n",
       "      <th>DaysPassed</th>\n",
       "      <th>PrevAttempts</th>\n",
       "      <th>call_duration</th>\n",
       "      <th>target</th>\n",
       "      <th>Non_neg_Balance</th>\n",
       "    </tr>\n",
       "  </thead>\n",
       "  <tbody>\n",
       "    <tr>\n",
       "      <th>count</th>\n",
       "      <td>2434.000000</td>\n",
       "      <td>2434.000000</td>\n",
       "      <td>2434.000000</td>\n",
       "      <td>2434.000000</td>\n",
       "      <td>2434.000000</td>\n",
       "      <td>2434.000000</td>\n",
       "      <td>2434.000000</td>\n",
       "      <td>2434.000000</td>\n",
       "      <td>2434.0</td>\n",
       "      <td>2434.0</td>\n",
       "      <td>2434.000000</td>\n",
       "      <td>2434.000000</td>\n",
       "      <td>2434.000000</td>\n",
       "    </tr>\n",
       "    <tr>\n",
       "      <th>mean</th>\n",
       "      <td>41.196795</td>\n",
       "      <td>0.017666</td>\n",
       "      <td>1412.698028</td>\n",
       "      <td>0.487675</td>\n",
       "      <td>0.143796</td>\n",
       "      <td>16.153657</td>\n",
       "      <td>6.189400</td>\n",
       "      <td>2.827855</td>\n",
       "      <td>-1.0</td>\n",
       "      <td>0.0</td>\n",
       "      <td>355.484388</td>\n",
       "      <td>0.344289</td>\n",
       "      <td>1435.535333</td>\n",
       "    </tr>\n",
       "    <tr>\n",
       "      <th>std</th>\n",
       "      <td>11.306781</td>\n",
       "      <td>0.131763</td>\n",
       "      <td>3030.033708</td>\n",
       "      <td>0.499951</td>\n",
       "      <td>0.350955</td>\n",
       "      <td>8.500007</td>\n",
       "      <td>2.326573</td>\n",
       "      <td>3.417327</td>\n",
       "      <td>0.0</td>\n",
       "      <td>0.0</td>\n",
       "      <td>353.544812</td>\n",
       "      <td>0.475234</td>\n",
       "      <td>3016.667162</td>\n",
       "    </tr>\n",
       "    <tr>\n",
       "      <th>min</th>\n",
       "      <td>18.000000</td>\n",
       "      <td>0.000000</td>\n",
       "      <td>-3058.000000</td>\n",
       "      <td>0.000000</td>\n",
       "      <td>0.000000</td>\n",
       "      <td>1.000000</td>\n",
       "      <td>1.000000</td>\n",
       "      <td>1.000000</td>\n",
       "      <td>-1.0</td>\n",
       "      <td>0.0</td>\n",
       "      <td>5.000000</td>\n",
       "      <td>0.000000</td>\n",
       "      <td>0.000000</td>\n",
       "    </tr>\n",
       "    <tr>\n",
       "      <th>25%</th>\n",
       "      <td>32.000000</td>\n",
       "      <td>0.000000</td>\n",
       "      <td>79.250000</td>\n",
       "      <td>0.000000</td>\n",
       "      <td>0.000000</td>\n",
       "      <td>9.000000</td>\n",
       "      <td>5.000000</td>\n",
       "      <td>1.000000</td>\n",
       "      <td>-1.0</td>\n",
       "      <td>0.0</td>\n",
       "      <td>119.000000</td>\n",
       "      <td>0.000000</td>\n",
       "      <td>79.250000</td>\n",
       "    </tr>\n",
       "    <tr>\n",
       "      <th>50%</th>\n",
       "      <td>39.000000</td>\n",
       "      <td>0.000000</td>\n",
       "      <td>462.000000</td>\n",
       "      <td>0.000000</td>\n",
       "      <td>0.000000</td>\n",
       "      <td>16.000000</td>\n",
       "      <td>6.000000</td>\n",
       "      <td>2.000000</td>\n",
       "      <td>-1.0</td>\n",
       "      <td>0.0</td>\n",
       "      <td>228.000000</td>\n",
       "      <td>0.000000</td>\n",
       "      <td>462.000000</td>\n",
       "    </tr>\n",
       "    <tr>\n",
       "      <th>75%</th>\n",
       "      <td>49.000000</td>\n",
       "      <td>0.000000</td>\n",
       "      <td>1471.500000</td>\n",
       "      <td>1.000000</td>\n",
       "      <td>0.000000</td>\n",
       "      <td>23.000000</td>\n",
       "      <td>8.000000</td>\n",
       "      <td>3.000000</td>\n",
       "      <td>-1.0</td>\n",
       "      <td>0.0</td>\n",
       "      <td>479.000000</td>\n",
       "      <td>1.000000</td>\n",
       "      <td>1471.500000</td>\n",
       "    </tr>\n",
       "    <tr>\n",
       "      <th>max</th>\n",
       "      <td>95.000000</td>\n",
       "      <td>1.000000</td>\n",
       "      <td>45248.000000</td>\n",
       "      <td>1.000000</td>\n",
       "      <td>1.000000</td>\n",
       "      <td>31.000000</td>\n",
       "      <td>12.000000</td>\n",
       "      <td>43.000000</td>\n",
       "      <td>-1.0</td>\n",
       "      <td>0.0</td>\n",
       "      <td>3253.000000</td>\n",
       "      <td>1.000000</td>\n",
       "      <td>45248.000000</td>\n",
       "    </tr>\n",
       "  </tbody>\n",
       "</table>\n",
       "</div>"
      ],
      "text/plain": [
       "               Age      Default       Balance  HHInsurance      CarLoan  \\\n",
       "count  2434.000000  2434.000000   2434.000000  2434.000000  2434.000000   \n",
       "mean     41.196795     0.017666   1412.698028     0.487675     0.143796   \n",
       "std      11.306781     0.131763   3030.033708     0.499951     0.350955   \n",
       "min      18.000000     0.000000  -3058.000000     0.000000     0.000000   \n",
       "25%      32.000000     0.000000     79.250000     0.000000     0.000000   \n",
       "50%      39.000000     0.000000    462.000000     0.000000     0.000000   \n",
       "75%      49.000000     0.000000   1471.500000     1.000000     0.000000   \n",
       "max      95.000000     1.000000  45248.000000     1.000000     1.000000   \n",
       "\n",
       "       LastContactDay  LastContactMonth  NoOfContacts  DaysPassed  \\\n",
       "count     2434.000000       2434.000000   2434.000000      2434.0   \n",
       "mean        16.153657          6.189400      2.827855        -1.0   \n",
       "std          8.500007          2.326573      3.417327         0.0   \n",
       "min          1.000000          1.000000      1.000000        -1.0   \n",
       "25%          9.000000          5.000000      1.000000        -1.0   \n",
       "50%         16.000000          6.000000      2.000000        -1.0   \n",
       "75%         23.000000          8.000000      3.000000        -1.0   \n",
       "max         31.000000         12.000000     43.000000        -1.0   \n",
       "\n",
       "       PrevAttempts  call_duration       target  Non_neg_Balance  \n",
       "count        2434.0    2434.000000  2434.000000      2434.000000  \n",
       "mean            0.0     355.484388     0.344289      1435.535333  \n",
       "std             0.0     353.544812     0.475234      3016.667162  \n",
       "min             0.0       5.000000     0.000000         0.000000  \n",
       "25%             0.0     119.000000     0.000000        79.250000  \n",
       "50%             0.0     228.000000     0.000000       462.000000  \n",
       "75%             0.0     479.000000     1.000000      1471.500000  \n",
       "max             0.0    3253.000000     1.000000     45248.000000  "
      ]
     },
     "execution_count": 507,
     "metadata": {},
     "output_type": "execute_result"
    }
   ],
   "source": [
    "non_previously_contacted_clients.describe()"
   ]
  },
  {
   "cell_type": "code",
   "execution_count": 517,
   "metadata": {},
   "outputs": [
    {
     "name": "stderr",
     "output_type": "stream",
     "text": [
      "/home/vignesh/.local/lib/python3.6/site-packages/matplotlib/axes/_axes.py:6521: MatplotlibDeprecationWarning: \n",
      "The 'normed' kwarg was deprecated in Matplotlib 2.1 and will be removed in 3.1. Use 'density' instead.\n",
      "  alternative=\"'density'\", removal=\"3.1\")\n"
     ]
    },
    {
     "data": {
      "text/plain": [
       "<matplotlib.axes._subplots.AxesSubplot at 0x7ff9d595f978>"
      ]
     },
     "execution_count": 517,
     "metadata": {},
     "output_type": "execute_result"
    },
    {
     "data": {
      "image/png": "[encoded data removed]",
      "text/plain": [
       "<Figure size 432x288 with 1 Axes>"
      ]
     },
     "metadata": {},
     "output_type": "display_data"
    }
   ],
   "source": [
    "sns.distplot(np.log(X_train['call_duration']))"
   ]
  },
  {
   "cell_type": "code",
   "execution_count": null,
   "metadata": {},
   "outputs": [],
   "source": []
  }
 ],
 "metadata": {
  "kernelspec": {
   "display_name": "Python 3",
   "language": "python",
   "name": "python3"
  },
  "language_info": {
   "codemirror_mode": {
    "name": "ipython",
    "version": 3
   },
   "file_extension": ".py",
   "mimetype": "text/x-python",
   "name": "python",
   "nbconvert_exporter": "python",
   "pygments_lexer": "ipython3",
   "version": "3.6.5"
  }
 },
 "nbformat": 4,
 "nbformat_minor": 2
}
