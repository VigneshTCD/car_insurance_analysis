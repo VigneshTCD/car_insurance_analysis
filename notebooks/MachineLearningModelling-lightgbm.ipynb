{
 "cells": [
  {
   "cell_type": "code",
   "execution_count": 39,
   "metadata": {},
   "outputs": [],
   "source": [
    "import pandas as pd\n",
    "import matplotlib.pyplot as plt\n",
    "import seaborn as sns\n",
    "import datetime as dt\n",
    "from sklearn.impute import KNNImputer\n",
    "from sklearn.preprocessing import StandardScaler\n",
    "from sklearn.neighbors import KNeighborsClassifier\n",
    "import category_encoders as ce   # version 1.2.8\n",
    "import numpy as np\n",
    "from sklearn.pipeline import Pipeline\n",
    "import lightgbm as lgb\n",
    "from sklearn.metrics import *"
   ]
  },
  {
   "cell_type": "code",
   "execution_count": 2,
   "metadata": {},
   "outputs": [],
   "source": [
    "pd.set_option('display.max_rows', 500)\n",
    "pd.set_option('display.max_columns', 500)\n",
    "pd.set_option('display.width', 1000)"
   ]
  },
  {
   "cell_type": "code",
   "execution_count": 3,
   "metadata": {},
   "outputs": [
    {
     "name": "stderr",
     "output_type": "stream",
     "text": [
      "/home/vignesh/.local/lib/python3.6/site-packages/tensorflow/python/framework/dtypes.py:526: FutureWarning: Passing (type, 1) or '1type' as a synonym of type is deprecated; in a future version of numpy, it will be understood as (type, (1,)) / '(1,)type'.\n",
      "  _np_qint8 = np.dtype([(\"qint8\", np.int8, 1)])\n",
      "/home/vignesh/.local/lib/python3.6/site-packages/tensorflow/python/framework/dtypes.py:527: FutureWarning: Passing (type, 1) or '1type' as a synonym of type is deprecated; in a future version of numpy, it will be understood as (type, (1,)) / '(1,)type'.\n",
      "  _np_quint8 = np.dtype([(\"quint8\", np.uint8, 1)])\n",
      "/home/vignesh/.local/lib/python3.6/site-packages/tensorflow/python/framework/dtypes.py:528: FutureWarning: Passing (type, 1) or '1type' as a synonym of type is deprecated; in a future version of numpy, it will be understood as (type, (1,)) / '(1,)type'.\n",
      "  _np_qint16 = np.dtype([(\"qint16\", np.int16, 1)])\n",
      "/home/vignesh/.local/lib/python3.6/site-packages/tensorflow/python/framework/dtypes.py:529: FutureWarning: Passing (type, 1) or '1type' as a synonym of type is deprecated; in a future version of numpy, it will be understood as (type, (1,)) / '(1,)type'.\n",
      "  _np_quint16 = np.dtype([(\"quint16\", np.uint16, 1)])\n",
      "/home/vignesh/.local/lib/python3.6/site-packages/tensorflow/python/framework/dtypes.py:530: FutureWarning: Passing (type, 1) or '1type' as a synonym of type is deprecated; in a future version of numpy, it will be understood as (type, (1,)) / '(1,)type'.\n",
      "  _np_qint32 = np.dtype([(\"qint32\", np.int32, 1)])\n",
      "/home/vignesh/.local/lib/python3.6/site-packages/tensorflow/python/framework/dtypes.py:535: FutureWarning: Passing (type, 1) or '1type' as a synonym of type is deprecated; in a future version of numpy, it will be understood as (type, (1,)) / '(1,)type'.\n",
      "  np_resource = np.dtype([(\"resource\", np.ubyte, 1)])\n"
     ]
    }
   ],
   "source": [
    "import lightgbm as lgb\n",
    "import tensorflow"
   ]
  },
  {
   "cell_type": "markdown",
   "metadata": {},
   "source": [
    "# Read data"
   ]
  },
  {
   "cell_type": "code",
   "execution_count": 4,
   "metadata": {},
   "outputs": [],
   "source": [
    "data = pd.read_csv('../data/carInsurance_train.csv')"
   ]
  },
  {
   "cell_type": "code",
   "execution_count": 5,
   "metadata": {},
   "outputs": [],
   "source": [
    "from sklearn.model_selection import train_test_split"
   ]
  },
  {
   "cell_type": "markdown",
   "metadata": {},
   "source": [
    "# Holding out 20% of the sample for test dataset\n",
    "\n",
    "* Performing stratified sampling\n",
    "* X_train, y_train - training dataset\n",
    "* X_test, y_test - test dataset (hold-out)"
   ]
  },
  {
   "cell_type": "code",
   "execution_count": 6,
   "metadata": {},
   "outputs": [],
   "source": [
    "X = data.drop('CarInsurance', axis=1)\n",
    "target = data['CarInsurance']\n",
    "X_train, X_test, y_train, y_test = train_test_split(X, target,  test_size=0.2, random_state=1)"
   ]
  },
  {
   "cell_type": "markdown",
   "metadata": {},
   "source": [
    "# CallStart and CallEnd is converted to call duration"
   ]
  },
  {
   "cell_type": "code",
   "execution_count": 7,
   "metadata": {},
   "outputs": [
    {
     "name": "stderr",
     "output_type": "stream",
     "text": [
      "/home/vignesh/anaconda3/lib/python3.6/site-packages/ipykernel_launcher.py:20: SettingWithCopyWarning: \n",
      "A value is trying to be set on a copy of a slice from a DataFrame.\n",
      "Try using .loc[row_indexer,col_indexer] = value instead\n",
      "\n",
      "See the caveats in the documentation: http://pandas.pydata.org/pandas-docs/stable/indexing.html#indexing-view-versus-copy\n",
      "/home/vignesh/anaconda3/lib/python3.6/site-packages/ipykernel_launcher.py:41: SettingWithCopyWarning: \n",
      "A value is trying to be set on a copy of a slice from a DataFrame.\n",
      "Try using .loc[row_indexer,col_indexer] = value instead\n",
      "\n",
      "See the caveats in the documentation: http://pandas.pydata.org/pandas-docs/stable/indexing.html#indexing-view-versus-copy\n"
     ]
    }
   ],
   "source": [
    "call_duration_arr = []\n",
    "for index, row in X_train.iterrows():\n",
    "    \n",
    "    call_start = row['CallStart'] \n",
    "    call_end = row['CallEnd']\n",
    "    call_start_hr = call_start.split(':')[0]\n",
    "    call_start_min = call_start.split(':')[1]\n",
    "    call_start_sec = call_start.split(':')[2]\n",
    "    \n",
    "    call_end_hr = call_end.split(':')[0]\n",
    "    call_end_min = call_end.split(':')[1]\n",
    "    call_end_sec = call_end.split(':')[2]\n",
    "    \n",
    "    call_start_dt = dt.datetime(2013,12,30,int(call_start_hr),int(call_start_min),int(call_start_sec))\n",
    "    call_end_dt = dt.datetime(2013,12,30,int(call_end_hr),int(call_end_min),int(call_end_sec))\n",
    "\n",
    "    call_duration = (call_end_dt-call_start_dt).total_seconds()\n",
    "    call_duration_arr.append(call_duration)\n",
    "    \n",
    "X_train['call_duration'] = call_duration_arr\n",
    "\n",
    "call_duration_arr = []\n",
    "for index, row in X_test.iterrows():\n",
    "    \n",
    "    call_start = row['CallStart'] \n",
    "    call_end = row['CallEnd']\n",
    "    call_start_hr = call_start.split(':')[0]\n",
    "    call_start_min = call_start.split(':')[1]\n",
    "    call_start_sec = call_start.split(':')[2]\n",
    "    \n",
    "    call_end_hr = call_end.split(':')[0]\n",
    "    call_end_min = call_end.split(':')[1]\n",
    "    call_end_sec = call_end.split(':')[2]\n",
    "    \n",
    "    call_start_dt = dt.datetime(2013,12,30,int(call_start_hr),int(call_start_min),int(call_start_sec))\n",
    "    call_end_dt = dt.datetime(2013,12,30,int(call_end_hr),int(call_end_min),int(call_end_sec))\n",
    "\n",
    "    call_duration = (call_end_dt-call_start_dt).total_seconds()\n",
    "    call_duration_arr.append(call_duration)\n",
    "    \n",
    "X_test['call_duration'] = call_duration_arr"
   ]
  },
  {
   "cell_type": "markdown",
   "metadata": {},
   "source": [
    "# Removing unneccessary columns - ID, CallStart, CallEnd, LastContactDay, Default"
   ]
  },
  {
   "cell_type": "code",
   "execution_count": 8,
   "metadata": {},
   "outputs": [],
   "source": [
    "\n",
    "if len(set(['Id', 'CallStart', 'CallEnd', 'LastContactDay']) - set(list(X_train.columns)))<1:\n",
    "    X_train = X_train.drop(['Id', 'CallStart', 'CallEnd', 'LastContactDay', 'Default'], axis=1)\n",
    "    \n",
    "if len(set(['Id', 'CallStart', 'CallEnd', 'LastContactDay']) - set(list(X_test.columns)))<1:\n",
    "    X_test = X_test.drop(['Id', 'CallStart', 'CallEnd', 'LastContactDay', 'Default'], axis=1)"
   ]
  },
  {
   "cell_type": "code",
   "execution_count": 9,
   "metadata": {},
   "outputs": [
    {
     "data": {
      "text/plain": [
       "Age                    0\n",
       "Job                   16\n",
       "Marital                0\n",
       "Education            130\n",
       "Balance                0\n",
       "HHInsurance            0\n",
       "CarLoan                0\n",
       "Communication        724\n",
       "LastContactMonth       0\n",
       "NoOfContacts           0\n",
       "DaysPassed             0\n",
       "PrevAttempts           0\n",
       "Outcome             2434\n",
       "call_duration          0\n",
       "dtype: int64"
      ]
     },
     "execution_count": 9,
     "metadata": {},
     "output_type": "execute_result"
    }
   ],
   "source": [
    "X_train.isnull().sum()"
   ]
  },
  {
   "cell_type": "code",
   "execution_count": 10,
   "metadata": {},
   "outputs": [],
   "source": [
    "from sklearn.base import BaseEstimator\n",
    "from sklearn.base import TransformerMixin\n"
   ]
  },
  {
   "cell_type": "markdown",
   "metadata": {},
   "source": [
    "# Custom Transformer functions\n",
    "\n",
    "* Imputation\n",
    "* Log Transformation\n",
    "* Normalization"
   ]
  },
  {
   "cell_type": "code",
   "execution_count": 11,
   "metadata": {},
   "outputs": [],
   "source": [
    "class FillImputer(BaseEstimator, TransformerMixin):\n",
    "    def __init__(self, fill_dict):\n",
    "        super().__init__()\n",
    "        self.fill_dict = fill_dict\n",
    "\n",
    "    def fit(self, X, y=None):\n",
    "\n",
    "        return self\n",
    "\n",
    "    def transform(self, X, y=None):\n",
    "#         X[:] = (X.to_numpy() - self.means_) / self.std_\n",
    "\n",
    "        X_copy = X.copy()\n",
    "        X_copy = X_copy.fillna(self.fill_dict)\n",
    "\n",
    "        return X_copy\n",
    "    \n",
    "class kNNImputer(BaseEstimator, TransformerMixin):\n",
    "    def __init__(self):\n",
    "        super().__init__()\n",
    "        self.kneigh = KNeighborsClassifier(n_neighbors=3)\n",
    "        self.ce_one_hot = ce.OneHotEncoder(cols = ['Job','Marital'])\n",
    "        self.ce_one_hot_model = None\n",
    "\n",
    "    def fit(self, X, y=None):\n",
    "#         X = X.to_numpy()\n",
    "#         self.means_ = X.mean(axis=0, keepdims=True)\n",
    "#         self.std_ = X.std(axis=0, keepdims=True)\n",
    "        imputation_features_non_missing = X[~X.Education.isnull()][['Job', 'Marital', 'Age']]\n",
    "        education_non_missing = X[~X.Education.isnull()]['Education']\n",
    "        \n",
    "        self.ce_one_hot_model = self.ce_one_hot.fit(imputation_features_non_missing)\n",
    "        imputation_features_non_missing_encoded = self.ce_one_hot_model.transform(imputation_features_non_missing)\n",
    "        \n",
    "        self.kneigh.fit(X=imputation_features_non_missing_encoded, y=education_non_missing)\n",
    "    \n",
    "        return self\n",
    "    \n",
    "\n",
    "    def transform(self, X, y=None):\n",
    "#         X[:] = (X.to_numpy() - self.means_) / self.std_\n",
    "    \n",
    "#         non_missing = X[~X.Education.isnull()]\n",
    "#         missing = X[X.Education.isnull()]\n",
    "\n",
    "        X_copy = X.copy()\n",
    "    \n",
    "        missing_ind = X_copy[X_copy.Education.isnull()].index\n",
    "        education = X_copy.Education.copy()\n",
    "       \n",
    "        imputation_features_missing = X_copy[X_copy.Education.isnull()][['Job', 'Marital', 'Age']]\n",
    "        education_missing = X_copy[X_copy.Education.isnull()]['Education']\n",
    "                \n",
    "        imputation_features_missing_encoded = self.ce_one_hot_model.transform(imputation_features_missing)\n",
    "        missing_values_pred = self.kneigh.predict(imputation_features_missing_encoded)\n",
    "\n",
    "        counter = 0\n",
    "        for index in missing_ind:\n",
    "            education[index] = missing_values_pred[counter]\n",
    "            counter+=1\n",
    "        \n",
    "        X_copy['Education'] = education\n",
    "\n",
    "        return X_copy"
   ]
  },
  {
   "cell_type": "code",
   "execution_count": 12,
   "metadata": {},
   "outputs": [],
   "source": [
    "from sklearn.preprocessing import MinMaxScaler as min_max\n",
    "from sklearn.preprocessing import StandardScaler\n",
    "\n",
    "class LogTransformer(BaseEstimator, TransformerMixin):\n",
    "    def __init__(self, columns):\n",
    "        super().__init__()\n",
    "        self.columns = columns\n",
    "\n",
    "    def fit(self, X, y=None):\n",
    "\n",
    "        return self\n",
    "\n",
    "    def transform(self, X, y=None):\n",
    "        \n",
    "        X_copy = X.copy()\n",
    "\n",
    "        for col in self.columns:\n",
    "            X_copy[col] = np.log(X_copy[col]+1)\n",
    "        \n",
    "\n",
    "        return X_copy\n",
    "\n",
    "class MinMaxScalarMultiple(BaseEstimator, TransformerMixin):\n",
    "    def __init__(self, columns):\n",
    "        super().__init__()\n",
    "        self.columns = columns\n",
    "        self.normalizer = None\n",
    "\n",
    "    def fit(self, X, y=None):\n",
    "        self.normalizer = min_max()\n",
    "        self.normalizer.fit(X[self.columns])\n",
    "\n",
    "        return self\n",
    "\n",
    "    def transform(self, X, y=None):\n",
    "        \n",
    "        X_copy = X.copy()\n",
    "\n",
    "        normalized_vals = self.normalizer.transform(X[self.columns])\n",
    "        \n",
    "        for i in range(0, len(self.columns)):\n",
    "            col = [row[i] for row in normalized_vals]\n",
    "            X_copy[self.columns[i]] = col\n",
    "        \n",
    "\n",
    "        return X_copy\n",
    "    \n",
    "class StandardScalarMultiple(BaseEstimator, TransformerMixin):\n",
    "    def __init__(self, columns):\n",
    "        super().__init__()\n",
    "        self.columns = columns\n",
    "        self.normalizer = None\n",
    "\n",
    "    def fit(self, X, y=None):\n",
    "        self.normalizer = StandardScaler()\n",
    "        self.normalizer.fit(X[self.columns])\n",
    "\n",
    "        return self\n",
    "\n",
    "    def transform(self, X, y=None):\n",
    "        \n",
    "        X_copy = X.copy()\n",
    "\n",
    "        normalized_vals = self.normalizer.transform(X[self.columns])\n",
    "        \n",
    "        for i in range(0, len(self.columns)):\n",
    "            col = [row[i] for row in normalized_vals]\n",
    "            X_copy[self.columns[i]] = col\n",
    "        \n",
    "\n",
    "        return X_copy"
   ]
  },
  {
   "cell_type": "code",
   "execution_count": 13,
   "metadata": {},
   "outputs": [],
   "source": [
    "def quarter_month(x):\n",
    "    if x in ['jan', 'feb', 'mar', 'apr']:\n",
    "        return '1'\n",
    "    elif x in ['may', 'jun', 'jul', 'aug']:\n",
    "        return '2'\n",
    "    elif x in ['sep', 'oct', 'nov', 'dec']:\n",
    "        return '3'\n",
    "    \n",
    "def job_categories(x):\n",
    "    if x in ['blue-collar', 'entrepreneur', 'housemaid']:\n",
    "        return 'job1'\n",
    "    elif x in ['services', 'self-employed', 'admin.', 'technician', 'management', 'missing']:\n",
    "        return 'job2'\n",
    "    elif x in ['unemployed', 'retired', 'student']:\n",
    "        return 'job3'\n",
    "    else:\n",
    "        return 'no_group'\n",
    "    \n",
    "def age_group(x):\n",
    "    if x>=18 and x<=30:\n",
    "        return '18-30'\n",
    "    elif x>30 and x<=40:\n",
    "        return '31-40'\n",
    "    elif x>40 and x<=50:\n",
    "        return '41-50'\n",
    "    elif x>50 and x<=60:\n",
    "        return '51-60'\n",
    "    elif x>60:\n",
    "        return '>60'\n",
    "    \n",
    "def duration_category(x):\n",
    "    \n",
    "    if (x>0) and (x<=10):\n",
    "        return '0-10'\n",
    "    elif (x>10) and (x<=20):\n",
    "        return '10-20'\n",
    "    elif (x>20) and (x<=30):\n",
    "        return '20-30'\n",
    "    elif (x>30):\n",
    "        return '>30'\n",
    "    \n",
    "def no_of_contacts_category(x):\n",
    "    \n",
    "    \n",
    "    if (x>0 and x<=3):\n",
    "        return 'c1'\n",
    "    elif (x>3 and x<=8):\n",
    "        return 'c2'\n",
    "    else:\n",
    "        return 'c3'\n",
    "\n",
    "# def duration_category(x):\n",
    "    \n",
    "#     if (x>0) and (x<=10):\n",
    "#         return '0-10'\n",
    "#     else: return '>10'\n",
    "    "
   ]
  },
  {
   "cell_type": "code",
   "execution_count": 14,
   "metadata": {},
   "outputs": [],
   "source": [
    "############### converted negative balance to zero\n",
    "X_train['Balance'] = X_train.Balance.apply(lambda x : 0 if x<0 else x)\n",
    "\n",
    "############### create a new variable for indicting whether a client is previously contacted - Boolean\n",
    "X_train['IsPreviouslyContacted'] = X_train.DaysPassed.apply(lambda x : 0 if x==-1 else 1)\n",
    "\n",
    "############### convert -ve values for days passed\n",
    "X_train['DaysPassed'] = X_train.DaysPassed.apply(lambda x : 0 if x==-1 else x)\n",
    "\n",
    "############### convert month to quadrimester\n",
    "X_train['LastContactQuadrimester'] = X_train.LastContactMonth.apply(lambda x : quarter_month(x))\n",
    "\n",
    "X_train['Job'] = X_train['Job'].fillna('missing')\n",
    "X_train['JobCategory'] = X_train.Job.apply(lambda x : job_categories(x))\n",
    "X_train['AgeCategory'] = X_train.Age.apply(lambda x : age_group(x))\n",
    "X_train['CallDurationCategory'] = X_train.call_duration.apply(lambda x : duration_category(x/60))\n",
    "X_train['NoOfContactsCategory'] = X_train.NoOfContacts.apply(lambda x : no_of_contacts_category(x))\n"
   ]
  },
  {
   "cell_type": "code",
   "execution_count": 15,
   "metadata": {},
   "outputs": [
    {
     "data": {
      "text/plain": [
       "array(['c1', 'c2', 'c3'], dtype=object)"
      ]
     },
     "execution_count": 15,
     "metadata": {},
     "output_type": "execute_result"
    }
   ],
   "source": [
    "X_train.NoOfContactsCategory.unique()"
   ]
  },
  {
   "cell_type": "markdown",
   "metadata": {},
   "source": [
    "# Create a sklearn pipeline for feature engineering - imputation, encoding, scaling"
   ]
  },
  {
   "cell_type": "code",
   "execution_count": 16,
   "metadata": {},
   "outputs": [],
   "source": [
    "log_transformer = LogTransformer(columns=['call_duration'])\n",
    "standard_scaler = StandardScalarMultiple(columns=['Age', 'Balance', 'NoOfContacts', 'PrevAttempts', 'DaysPassed'])\n",
    "fill_imputer = FillImputer(fill_dict={'Communication': 'missing', 'Job' : 'missing', 'Outcome' : 'not_contacted'})\n",
    "knn_imputer = kNNImputer()\n",
    "one_hot_encoder = ce.OrdinalEncoder(cols=['NoOfContactsCategory','CallDurationCategory','JobCategory', 'AgeCategory', 'Marital', 'Education', 'Outcome', 'Communication', 'LastContactQuadrimester'])\n",
    "\n",
    "\n",
    "pipe = Pipeline([('log_transformer', log_transformer), \n",
    "                 ('standard_scaler', standard_scaler),\n",
    "                 ('fill_imputer', fill_imputer),\n",
    "                 ('knn_imputer', knn_imputer),\n",
    "                 ('one_hot_encoder', one_hot_encoder)])\n",
    "\n",
    "pipe.fit(X_train)\n",
    "X_train_features = pipe.transform(X_train)\n",
    "X_train_features = X_train_features.drop(['NoOfContacts', 'LastContactMonth', 'Job', 'Age', 'call_duration', 'Balance'], axis=1)"
   ]
  },
  {
   "cell_type": "code",
   "execution_count": 17,
   "metadata": {},
   "outputs": [
    {
     "data": {
      "text/html": [
       "<div>\n",
       "<style scoped>\n",
       "    .dataframe tbody tr th:only-of-type {\n",
       "        vertical-align: middle;\n",
       "    }\n",
       "\n",
       "    .dataframe tbody tr th {\n",
       "        vertical-align: top;\n",
       "    }\n",
       "\n",
       "    .dataframe thead th {\n",
       "        text-align: right;\n",
       "    }\n",
       "</style>\n",
       "<table border=\"1\" class=\"dataframe\">\n",
       "  <thead>\n",
       "    <tr style=\"text-align: right;\">\n",
       "      <th></th>\n",
       "      <th>Marital</th>\n",
       "      <th>Education</th>\n",
       "      <th>HHInsurance</th>\n",
       "      <th>CarLoan</th>\n",
       "      <th>Communication</th>\n",
       "      <th>DaysPassed</th>\n",
       "      <th>PrevAttempts</th>\n",
       "      <th>Outcome</th>\n",
       "      <th>IsPreviouslyContacted</th>\n",
       "      <th>LastContactQuadrimester</th>\n",
       "      <th>JobCategory</th>\n",
       "      <th>AgeCategory</th>\n",
       "      <th>CallDurationCategory</th>\n",
       "      <th>NoOfContactsCategory</th>\n",
       "    </tr>\n",
       "  </thead>\n",
       "  <tbody>\n",
       "    <tr>\n",
       "      <th>2996</th>\n",
       "      <td>1</td>\n",
       "      <td>1</td>\n",
       "      <td>0</td>\n",
       "      <td>0</td>\n",
       "      <td>1</td>\n",
       "      <td>-0.464205</td>\n",
       "      <td>-0.373862</td>\n",
       "      <td>1</td>\n",
       "      <td>0</td>\n",
       "      <td>1</td>\n",
       "      <td>1</td>\n",
       "      <td>1</td>\n",
       "      <td>1</td>\n",
       "      <td>1</td>\n",
       "    </tr>\n",
       "    <tr>\n",
       "      <th>3295</th>\n",
       "      <td>1</td>\n",
       "      <td>1</td>\n",
       "      <td>1</td>\n",
       "      <td>0</td>\n",
       "      <td>1</td>\n",
       "      <td>-0.464205</td>\n",
       "      <td>-0.373862</td>\n",
       "      <td>1</td>\n",
       "      <td>0</td>\n",
       "      <td>1</td>\n",
       "      <td>2</td>\n",
       "      <td>2</td>\n",
       "      <td>1</td>\n",
       "      <td>1</td>\n",
       "    </tr>\n",
       "    <tr>\n",
       "      <th>2284</th>\n",
       "      <td>2</td>\n",
       "      <td>2</td>\n",
       "      <td>1</td>\n",
       "      <td>0</td>\n",
       "      <td>2</td>\n",
       "      <td>-0.464205</td>\n",
       "      <td>-0.373862</td>\n",
       "      <td>1</td>\n",
       "      <td>0</td>\n",
       "      <td>1</td>\n",
       "      <td>1</td>\n",
       "      <td>3</td>\n",
       "      <td>1</td>\n",
       "      <td>1</td>\n",
       "    </tr>\n",
       "    <tr>\n",
       "      <th>2793</th>\n",
       "      <td>1</td>\n",
       "      <td>2</td>\n",
       "      <td>0</td>\n",
       "      <td>0</td>\n",
       "      <td>1</td>\n",
       "      <td>1.424987</td>\n",
       "      <td>2.276469</td>\n",
       "      <td>2</td>\n",
       "      <td>1</td>\n",
       "      <td>1</td>\n",
       "      <td>1</td>\n",
       "      <td>1</td>\n",
       "      <td>1</td>\n",
       "      <td>1</td>\n",
       "    </tr>\n",
       "    <tr>\n",
       "      <th>787</th>\n",
       "      <td>1</td>\n",
       "      <td>3</td>\n",
       "      <td>0</td>\n",
       "      <td>0</td>\n",
       "      <td>1</td>\n",
       "      <td>-0.464205</td>\n",
       "      <td>-0.373862</td>\n",
       "      <td>1</td>\n",
       "      <td>0</td>\n",
       "      <td>1</td>\n",
       "      <td>2</td>\n",
       "      <td>2</td>\n",
       "      <td>2</td>\n",
       "      <td>2</td>\n",
       "    </tr>\n",
       "    <tr>\n",
       "      <th>2046</th>\n",
       "      <td>1</td>\n",
       "      <td>3</td>\n",
       "      <td>0</td>\n",
       "      <td>0</td>\n",
       "      <td>1</td>\n",
       "      <td>-0.464205</td>\n",
       "      <td>-0.373862</td>\n",
       "      <td>1</td>\n",
       "      <td>0</td>\n",
       "      <td>2</td>\n",
       "      <td>3</td>\n",
       "      <td>4</td>\n",
       "      <td>2</td>\n",
       "      <td>1</td>\n",
       "    </tr>\n",
       "    <tr>\n",
       "      <th>739</th>\n",
       "      <td>3</td>\n",
       "      <td>1</td>\n",
       "      <td>1</td>\n",
       "      <td>0</td>\n",
       "      <td>2</td>\n",
       "      <td>-0.464205</td>\n",
       "      <td>-0.373862</td>\n",
       "      <td>1</td>\n",
       "      <td>0</td>\n",
       "      <td>1</td>\n",
       "      <td>1</td>\n",
       "      <td>1</td>\n",
       "      <td>1</td>\n",
       "      <td>2</td>\n",
       "    </tr>\n",
       "    <tr>\n",
       "      <th>2149</th>\n",
       "      <td>3</td>\n",
       "      <td>1</td>\n",
       "      <td>1</td>\n",
       "      <td>0</td>\n",
       "      <td>2</td>\n",
       "      <td>-0.464205</td>\n",
       "      <td>-0.373862</td>\n",
       "      <td>1</td>\n",
       "      <td>0</td>\n",
       "      <td>1</td>\n",
       "      <td>1</td>\n",
       "      <td>3</td>\n",
       "      <td>1</td>\n",
       "      <td>1</td>\n",
       "    </tr>\n",
       "    <tr>\n",
       "      <th>3369</th>\n",
       "      <td>2</td>\n",
       "      <td>2</td>\n",
       "      <td>0</td>\n",
       "      <td>0</td>\n",
       "      <td>1</td>\n",
       "      <td>-0.464205</td>\n",
       "      <td>-0.373862</td>\n",
       "      <td>1</td>\n",
       "      <td>0</td>\n",
       "      <td>1</td>\n",
       "      <td>1</td>\n",
       "      <td>1</td>\n",
       "      <td>1</td>\n",
       "      <td>3</td>\n",
       "    </tr>\n",
       "    <tr>\n",
       "      <th>3492</th>\n",
       "      <td>3</td>\n",
       "      <td>1</td>\n",
       "      <td>1</td>\n",
       "      <td>1</td>\n",
       "      <td>1</td>\n",
       "      <td>-0.464205</td>\n",
       "      <td>-0.373862</td>\n",
       "      <td>1</td>\n",
       "      <td>0</td>\n",
       "      <td>2</td>\n",
       "      <td>2</td>\n",
       "      <td>1</td>\n",
       "      <td>1</td>\n",
       "      <td>1</td>\n",
       "    </tr>\n",
       "  </tbody>\n",
       "</table>\n",
       "</div>"
      ],
      "text/plain": [
       "      Marital  Education  HHInsurance  CarLoan  Communication  DaysPassed  PrevAttempts  Outcome  IsPreviouslyContacted  LastContactQuadrimester  JobCategory  AgeCategory  CallDurationCategory  NoOfContactsCategory\n",
       "2996        1          1            0        0              1   -0.464205     -0.373862        1                      0                        1            1            1                     1                     1\n",
       "3295        1          1            1        0              1   -0.464205     -0.373862        1                      0                        1            2            2                     1                     1\n",
       "2284        2          2            1        0              2   -0.464205     -0.373862        1                      0                        1            1            3                     1                     1\n",
       "2793        1          2            0        0              1    1.424987      2.276469        2                      1                        1            1            1                     1                     1\n",
       "787         1          3            0        0              1   -0.464205     -0.373862        1                      0                        1            2            2                     2                     2\n",
       "2046        1          3            0        0              1   -0.464205     -0.373862        1                      0                        2            3            4                     2                     1\n",
       "739         3          1            1        0              2   -0.464205     -0.373862        1                      0                        1            1            1                     1                     2\n",
       "2149        3          1            1        0              2   -0.464205     -0.373862        1                      0                        1            1            3                     1                     1\n",
       "3369        2          2            0        0              1   -0.464205     -0.373862        1                      0                        1            1            1                     1                     3\n",
       "3492        3          1            1        1              1   -0.464205     -0.373862        1                      0                        2            2            1                     1                     1"
      ]
     },
     "execution_count": 17,
     "metadata": {},
     "output_type": "execute_result"
    }
   ],
   "source": [
    "X_train_features[0:10]"
   ]
  },
  {
   "cell_type": "code",
   "execution_count": 35,
   "metadata": {},
   "outputs": [],
   "source": [
    "############### converted negative balance to zero\n",
    "X_test['Balance'] = X_test.Balance.apply(lambda x : 0 if x<0 else x)\n",
    "\n",
    "############### create a new variable for indicting whether a client is previously contacted - Boolean\n",
    "X_test['IsPreviouslyContacted'] = X_test.DaysPassed.apply(lambda x : 0 if x==-1 else 1)\n",
    "\n",
    "############### convert -ve values for days passed\n",
    "X_test['DaysPassed'] = X_test.DaysPassed.apply(lambda x : 0 if x==-1 else x)\n",
    "\n",
    "############### convert month to quadrimester\n",
    "X_test['LastContactQuadrimester'] = X_test.LastContactMonth.apply(lambda x : quarter_month(x))\n",
    "\n",
    "X_test['Job'] = X_test['Job'].fillna('missing')\n",
    "X_test['JobCategory'] = X_test.Job.apply(lambda x : job_categories(x))\n",
    "X_test['AgeCategory'] = X_test.Age.apply(lambda x : age_group(x))\n",
    "X_test['CallDurationCategory'] = X_test.call_duration.apply(lambda x : duration_category(x/60))\n",
    "X_test['NoOfContactsCategory'] = X_test.NoOfContacts.apply(lambda x : no_of_contacts_category(x))\n",
    "\n",
    "\n",
    "X_test_features = pipe.transform(X_test)\n",
    "X_test_features = X_test_features.drop(['NoOfContacts', 'LastContactMonth', 'Job', 'Age', 'call_duration', 'Balance'], axis=1)"
   ]
  },
  {
   "cell_type": "code",
   "execution_count": 36,
   "metadata": {},
   "outputs": [
    {
     "data": {
      "text/html": [
       "<div>\n",
       "<style scoped>\n",
       "    .dataframe tbody tr th:only-of-type {\n",
       "        vertical-align: middle;\n",
       "    }\n",
       "\n",
       "    .dataframe tbody tr th {\n",
       "        vertical-align: top;\n",
       "    }\n",
       "\n",
       "    .dataframe thead th {\n",
       "        text-align: right;\n",
       "    }\n",
       "</style>\n",
       "<table border=\"1\" class=\"dataframe\">\n",
       "  <thead>\n",
       "    <tr style=\"text-align: right;\">\n",
       "      <th></th>\n",
       "      <th>Marital</th>\n",
       "      <th>Education</th>\n",
       "      <th>HHInsurance</th>\n",
       "      <th>CarLoan</th>\n",
       "      <th>Communication</th>\n",
       "      <th>DaysPassed</th>\n",
       "      <th>PrevAttempts</th>\n",
       "      <th>Outcome</th>\n",
       "      <th>IsPreviouslyContacted</th>\n",
       "      <th>LastContactQuadrimester</th>\n",
       "      <th>JobCategory</th>\n",
       "      <th>AgeCategory</th>\n",
       "      <th>CallDurationCategory</th>\n",
       "      <th>NoOfContactsCategory</th>\n",
       "    </tr>\n",
       "  </thead>\n",
       "  <tbody>\n",
       "    <tr>\n",
       "      <th>200</th>\n",
       "      <td>1</td>\n",
       "      <td>3</td>\n",
       "      <td>0</td>\n",
       "      <td>0</td>\n",
       "      <td>1</td>\n",
       "      <td>-0.464205</td>\n",
       "      <td>-0.373862</td>\n",
       "      <td>1</td>\n",
       "      <td>0</td>\n",
       "      <td>1</td>\n",
       "      <td>2</td>\n",
       "      <td>2</td>\n",
       "      <td>3</td>\n",
       "      <td>2</td>\n",
       "    </tr>\n",
       "    <tr>\n",
       "      <th>1078</th>\n",
       "      <td>1</td>\n",
       "      <td>2</td>\n",
       "      <td>0</td>\n",
       "      <td>0</td>\n",
       "      <td>1</td>\n",
       "      <td>-0.464205</td>\n",
       "      <td>-0.373862</td>\n",
       "      <td>1</td>\n",
       "      <td>0</td>\n",
       "      <td>1</td>\n",
       "      <td>1</td>\n",
       "      <td>1</td>\n",
       "      <td>1</td>\n",
       "      <td>1</td>\n",
       "    </tr>\n",
       "    <tr>\n",
       "      <th>610</th>\n",
       "      <td>1</td>\n",
       "      <td>1</td>\n",
       "      <td>0</td>\n",
       "      <td>1</td>\n",
       "      <td>1</td>\n",
       "      <td>-0.464205</td>\n",
       "      <td>-0.373862</td>\n",
       "      <td>1</td>\n",
       "      <td>0</td>\n",
       "      <td>1</td>\n",
       "      <td>2</td>\n",
       "      <td>2</td>\n",
       "      <td>1</td>\n",
       "      <td>2</td>\n",
       "    </tr>\n",
       "    <tr>\n",
       "      <th>2159</th>\n",
       "      <td>2</td>\n",
       "      <td>3</td>\n",
       "      <td>1</td>\n",
       "      <td>0</td>\n",
       "      <td>1</td>\n",
       "      <td>-0.464205</td>\n",
       "      <td>-0.373862</td>\n",
       "      <td>1</td>\n",
       "      <td>0</td>\n",
       "      <td>1</td>\n",
       "      <td>2</td>\n",
       "      <td>3</td>\n",
       "      <td>2</td>\n",
       "      <td>1</td>\n",
       "    </tr>\n",
       "    <tr>\n",
       "      <th>1169</th>\n",
       "      <td>1</td>\n",
       "      <td>1</td>\n",
       "      <td>0</td>\n",
       "      <td>0</td>\n",
       "      <td>1</td>\n",
       "      <td>-0.464205</td>\n",
       "      <td>-0.373862</td>\n",
       "      <td>1</td>\n",
       "      <td>0</td>\n",
       "      <td>1</td>\n",
       "      <td>1</td>\n",
       "      <td>2</td>\n",
       "      <td>1</td>\n",
       "      <td>2</td>\n",
       "    </tr>\n",
       "  </tbody>\n",
       "</table>\n",
       "</div>"
      ],
      "text/plain": [
       "      Marital  Education  HHInsurance  CarLoan  Communication  DaysPassed  PrevAttempts  Outcome  IsPreviouslyContacted  LastContactQuadrimester  JobCategory  AgeCategory  CallDurationCategory  NoOfContactsCategory\n",
       "200         1          3            0        0              1   -0.464205     -0.373862        1                      0                        1            2            2                     3                     2\n",
       "1078        1          2            0        0              1   -0.464205     -0.373862        1                      0                        1            1            1                     1                     1\n",
       "610         1          1            0        1              1   -0.464205     -0.373862        1                      0                        1            2            2                     1                     2\n",
       "2159        2          3            1        0              1   -0.464205     -0.373862        1                      0                        1            2            3                     2                     1\n",
       "1169        1          1            0        0              1   -0.464205     -0.373862        1                      0                        1            1            2                     1                     2"
      ]
     },
     "execution_count": 36,
     "metadata": {},
     "output_type": "execute_result"
    }
   ],
   "source": [
    "X_test_features[0:5]"
   ]
  },
  {
   "cell_type": "code",
   "execution_count": 19,
   "metadata": {},
   "outputs": [],
   "source": [
    "X_train_1, X_val, y_train_1, y_val = train_test_split(X_train_features, y_train,  test_size=0.2, random_state=1)"
   ]
  },
  {
   "cell_type": "code",
   "execution_count": 80,
   "metadata": {},
   "outputs": [],
   "source": [
    "lg = lgb.LGBMClassifier(n_estimators=50, learning_rate=0.1, max_depth=5)"
   ]
  },
  {
   "cell_type": "code",
   "execution_count": 81,
   "metadata": {},
   "outputs": [
    {
     "data": {
      "text/plain": [
       "Index(['Marital', 'Education', 'HHInsurance', 'CarLoan', 'Communication', 'DaysPassed', 'PrevAttempts', 'Outcome', 'IsPreviouslyContacted', 'LastContactQuadrimester', 'JobCategory', 'AgeCategory', 'CallDurationCategory', 'NoOfContactsCategory'], dtype='object')"
      ]
     },
     "execution_count": 81,
     "metadata": {},
     "output_type": "execute_result"
    }
   ],
   "source": [
    "X_train_1.columns"
   ]
  },
  {
   "cell_type": "code",
   "execution_count": 82,
   "metadata": {},
   "outputs": [],
   "source": [
    "categorical_cols = ['Marital', 'Education', 'HHInsurance', 'CarLoan', 'Communication', 'Outcome', 'IsPreviouslyContacted', 'LastContactQuadrimester', 'JobCategory', 'AgeCategory', 'CallDurationCategory', 'NoOfContactsCategory']"
   ]
  },
  {
   "cell_type": "code",
   "execution_count": 83,
   "metadata": {},
   "outputs": [
    {
     "name": "stdout",
     "output_type": "stream",
     "text": [
      "[1]\tvalid_0's binary_logloss: 0.641765\n",
      "Training until validation scores don't improve for 30 rounds\n",
      "[2]\tvalid_0's binary_logloss: 0.614318\n",
      "[3]\tvalid_0's binary_logloss: 0.59114\n",
      "[4]\tvalid_0's binary_logloss: 0.569239\n",
      "[5]\tvalid_0's binary_logloss: 0.553363\n",
      "[6]\tvalid_0's binary_logloss: 0.540015\n",
      "[7]\tvalid_0's binary_logloss: 0.52601\n",
      "[8]\tvalid_0's binary_logloss: 0.515323\n",
      "[9]\tvalid_0's binary_logloss: 0.506423\n",
      "[10]\tvalid_0's binary_logloss: 0.497014\n",
      "[11]\tvalid_0's binary_logloss: 0.491813\n",
      "[12]\tvalid_0's binary_logloss: 0.484724\n",
      "[13]\tvalid_0's binary_logloss: 0.479273\n",
      "[14]\tvalid_0's binary_logloss: 0.474465\n",
      "[15]\tvalid_0's binary_logloss: 0.470144\n",
      "[16]\tvalid_0's binary_logloss: 0.466178\n",
      "[17]\tvalid_0's binary_logloss: 0.462757\n",
      "[18]\tvalid_0's binary_logloss: 0.459603\n",
      "[19]\tvalid_0's binary_logloss: 0.456982\n",
      "[20]\tvalid_0's binary_logloss: 0.45442\n",
      "[21]\tvalid_0's binary_logloss: 0.452387\n",
      "[22]\tvalid_0's binary_logloss: 0.450566\n",
      "[23]\tvalid_0's binary_logloss: 0.448373\n",
      "[24]\tvalid_0's binary_logloss: 0.446824\n",
      "[25]\tvalid_0's binary_logloss: 0.445386\n",
      "[26]\tvalid_0's binary_logloss: 0.444365\n",
      "[27]\tvalid_0's binary_logloss: 0.443382\n",
      "[28]\tvalid_0's binary_logloss: 0.442432\n",
      "[29]\tvalid_0's binary_logloss: 0.44122\n",
      "[30]\tvalid_0's binary_logloss: 0.440629\n",
      "[31]\tvalid_0's binary_logloss: 0.439651\n",
      "[32]\tvalid_0's binary_logloss: 0.438576\n",
      "[33]\tvalid_0's binary_logloss: 0.438234\n",
      "[34]\tvalid_0's binary_logloss: 0.437919\n",
      "[35]\tvalid_0's binary_logloss: 0.437903\n",
      "[36]\tvalid_0's binary_logloss: 0.437615\n",
      "[37]\tvalid_0's binary_logloss: 0.437183\n",
      "[38]\tvalid_0's binary_logloss: 0.437211\n",
      "[39]\tvalid_0's binary_logloss: 0.437087\n",
      "[40]\tvalid_0's binary_logloss: 0.437103\n",
      "[41]\tvalid_0's binary_logloss: 0.436243\n",
      "[42]\tvalid_0's binary_logloss: 0.436341\n",
      "[43]\tvalid_0's binary_logloss: 0.435823\n",
      "[44]\tvalid_0's binary_logloss: 0.436161\n",
      "[45]\tvalid_0's binary_logloss: 0.435843\n",
      "[46]\tvalid_0's binary_logloss: 0.435331\n",
      "[47]\tvalid_0's binary_logloss: 0.435001\n",
      "[48]\tvalid_0's binary_logloss: 0.434537\n",
      "[49]\tvalid_0's binary_logloss: 0.434369\n",
      "[50]\tvalid_0's binary_logloss: 0.43404\n",
      "Did not meet early stopping. Best iteration is:\n",
      "[50]\tvalid_0's binary_logloss: 0.43404\n"
     ]
    },
    {
     "name": "stderr",
     "output_type": "stream",
     "text": [
      "/home/vignesh/anaconda3/lib/python3.6/site-packages/lightgbm/basic.py:1295: UserWarning: categorical_feature in Dataset is overridden.\n",
      "New categorical_feature is ['AgeCategory', 'CallDurationCategory', 'CarLoan', 'Communication', 'Education', 'HHInsurance', 'IsPreviouslyContacted', 'JobCategory', 'LastContactQuadrimester', 'Marital', 'NoOfContactsCategory', 'Outcome']\n",
      "  'New categorical_feature is {}'.format(sorted(list(categorical_feature))))\n"
     ]
    },
    {
     "data": {
      "text/plain": [
       "LGBMClassifier(max_depth=5, n_estimators=50)"
      ]
     },
     "execution_count": 83,
     "metadata": {},
     "output_type": "execute_result"
    }
   ],
   "source": [
    "lg.fit(X_train_1, y_train_1, eval_set=(X_val, y_val),  early_stopping_rounds=30,\n",
    "      feature_name=list(X_train_1.columns), categorical_feature=categorical_cols\n",
    "      )\n"
   ]
  },
  {
   "cell_type": "code",
   "execution_count": 84,
   "metadata": {},
   "outputs": [],
   "source": [
    "lgb_pred_train = lg.predict(X_train_features)"
   ]
  },
  {
   "cell_type": "code",
   "execution_count": 85,
   "metadata": {},
   "outputs": [
    {
     "data": {
      "text/plain": [
       "0.816875"
      ]
     },
     "execution_count": 85,
     "metadata": {},
     "output_type": "execute_result"
    }
   ],
   "source": [
    "accuracy_score(y_train, lgb_pred_train)"
   ]
  },
  {
   "cell_type": "code",
   "execution_count": 86,
   "metadata": {},
   "outputs": [
    {
     "data": {
      "text/plain": [
       "0.7981418918918919"
      ]
     },
     "execution_count": 86,
     "metadata": {},
     "output_type": "execute_result"
    }
   ],
   "source": [
    "precision_score(y_train, lgb_pred_train)"
   ]
  },
  {
   "cell_type": "code",
   "execution_count": 87,
   "metadata": {},
   "outputs": [
    {
     "data": {
      "text/plain": [
       "0.7314241486068112"
      ]
     },
     "execution_count": 87,
     "metadata": {},
     "output_type": "execute_result"
    }
   ],
   "source": [
    "recall_score(y_train, lgb_pred_train)"
   ]
  },
  {
   "cell_type": "code",
   "execution_count": null,
   "metadata": {},
   "outputs": [],
   "source": []
  },
  {
   "cell_type": "code",
   "execution_count": 88,
   "metadata": {},
   "outputs": [],
   "source": [
    "lgb_pred = lg.predict(X_test_features)"
   ]
  },
  {
   "cell_type": "code",
   "execution_count": 89,
   "metadata": {},
   "outputs": [
    {
     "data": {
      "text/plain": [
       "0.8125"
      ]
     },
     "execution_count": 89,
     "metadata": {},
     "output_type": "execute_result"
    }
   ],
   "source": [
    "accuracy_score(y_test, lgb_pred)"
   ]
  },
  {
   "cell_type": "code",
   "execution_count": 90,
   "metadata": {},
   "outputs": [
    {
     "data": {
      "text/plain": [
       "0.7682119205298014"
      ]
     },
     "execution_count": 90,
     "metadata": {},
     "output_type": "execute_result"
    }
   ],
   "source": [
    "precision_score(y_test, lgb_pred)"
   ]
  },
  {
   "cell_type": "code",
   "execution_count": 91,
   "metadata": {},
   "outputs": [
    {
     "data": {
      "text/plain": [
       "0.7435897435897436"
      ]
     },
     "execution_count": 91,
     "metadata": {},
     "output_type": "execute_result"
    }
   ],
   "source": [
    "recall_score(y_test, lgb_pred)"
   ]
  },
  {
   "cell_type": "code",
   "execution_count": null,
   "metadata": {},
   "outputs": [],
   "source": []
  }
 ],
 "metadata": {
  "kernelspec": {
   "display_name": "Python 3",
   "language": "python",
   "name": "python3"
  },
  "language_info": {
   "codemirror_mode": {
    "name": "ipython",
    "version": 3
   },
   "file_extension": ".py",
   "mimetype": "text/x-python",
   "name": "python",
   "nbconvert_exporter": "python",
   "pygments_lexer": "ipython3",
   "version": "3.6.5"
  }
 },
 "nbformat": 4,
 "nbformat_minor": 2
}
