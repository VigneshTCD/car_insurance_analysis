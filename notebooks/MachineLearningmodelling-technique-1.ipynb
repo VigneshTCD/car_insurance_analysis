{
 "cells": [
  {
   "cell_type": "code",
   "execution_count": 112,
   "metadata": {},
   "outputs": [],
   "source": [
    "import pandas as pd\n",
    "import matplotlib.pyplot as plt\n",
    "import seaborn as sns\n",
    "import datetime as dt\n",
    "from sklearn.impute import KNNImputer\n",
    "from sklearn.preprocessing import StandardScaler\n",
    "from sklearn.neighbors import KNeighborsClassifier\n",
    "import category_encoders as ce   # version 1.2.8\n",
    "import numpy as np\n",
    "from sklearn.pipeline import Pipeline"
   ]
  },
  {
   "cell_type": "code",
   "execution_count": 113,
   "metadata": {},
   "outputs": [],
   "source": [
    "pd.set_option('display.max_rows', 500)\n",
    "pd.set_option('display.max_columns', 500)\n",
    "pd.set_option('display.width', 1000)"
   ]
  },
  {
   "cell_type": "code",
   "execution_count": 114,
   "metadata": {},
   "outputs": [],
   "source": [
    "import lightgbm as lgb\n",
    "import tensorflow"
   ]
  },
  {
   "cell_type": "markdown",
   "metadata": {},
   "source": [
    "# Read data"
   ]
  },
  {
   "cell_type": "code",
   "execution_count": 115,
   "metadata": {},
   "outputs": [],
   "source": [
    "data = pd.read_csv('../data/carInsurance_train.csv')"
   ]
  },
  {
   "cell_type": "code",
   "execution_count": 116,
   "metadata": {},
   "outputs": [],
   "source": [
    "from sklearn.model_selection import train_test_split"
   ]
  },
  {
   "cell_type": "markdown",
   "metadata": {},
   "source": [
    "# Holding out 20% of the sample for test dataset\n",
    "\n",
    "* Performing stratified sampling\n",
    "* X_train, y_train - training dataset\n",
    "* X_test, y_test - test dataset (hold-out)"
   ]
  },
  {
   "cell_type": "code",
   "execution_count": 117,
   "metadata": {},
   "outputs": [],
   "source": [
    "X = data.drop('CarInsurance', axis=1)\n",
    "target = data['CarInsurance']\n",
    "X_train, X_test, y_train, y_test = train_test_split(X, target,  test_size=0.2, random_state=1)"
   ]
  },
  {
   "cell_type": "markdown",
   "metadata": {},
   "source": [
    "# CallStart and CallEnd is converted to call duration"
   ]
  },
  {
   "cell_type": "code",
   "execution_count": 118,
   "metadata": {},
   "outputs": [
    {
     "name": "stderr",
     "output_type": "stream",
     "text": [
      "/home/vignesh/anaconda3/lib/python3.6/site-packages/ipykernel_launcher.py:20: SettingWithCopyWarning: \n",
      "A value is trying to be set on a copy of a slice from a DataFrame.\n",
      "Try using .loc[row_indexer,col_indexer] = value instead\n",
      "\n",
      "See the caveats in the documentation: http://pandas.pydata.org/pandas-docs/stable/indexing.html#indexing-view-versus-copy\n",
      "/home/vignesh/anaconda3/lib/python3.6/site-packages/ipykernel_launcher.py:41: SettingWithCopyWarning: \n",
      "A value is trying to be set on a copy of a slice from a DataFrame.\n",
      "Try using .loc[row_indexer,col_indexer] = value instead\n",
      "\n",
      "See the caveats in the documentation: http://pandas.pydata.org/pandas-docs/stable/indexing.html#indexing-view-versus-copy\n"
     ]
    }
   ],
   "source": [
    "call_duration_arr = []\n",
    "for index, row in X_train.iterrows():\n",
    "    \n",
    "    call_start = row['CallStart'] \n",
    "    call_end = row['CallEnd']\n",
    "    call_start_hr = call_start.split(':')[0]\n",
    "    call_start_min = call_start.split(':')[1]\n",
    "    call_start_sec = call_start.split(':')[2]\n",
    "    \n",
    "    call_end_hr = call_end.split(':')[0]\n",
    "    call_end_min = call_end.split(':')[1]\n",
    "    call_end_sec = call_end.split(':')[2]\n",
    "    \n",
    "    call_start_dt = dt.datetime(2013,12,30,int(call_start_hr),int(call_start_min),int(call_start_sec))\n",
    "    call_end_dt = dt.datetime(2013,12,30,int(call_end_hr),int(call_end_min),int(call_end_sec))\n",
    "\n",
    "    call_duration = (call_end_dt-call_start_dt).total_seconds()\n",
    "    call_duration_arr.append(call_duration)\n",
    "    \n",
    "X_train['call_duration'] = call_duration_arr\n",
    "\n",
    "call_duration_arr = []\n",
    "for index, row in X_test.iterrows():\n",
    "    \n",
    "    call_start = row['CallStart'] \n",
    "    call_end = row['CallEnd']\n",
    "    call_start_hr = call_start.split(':')[0]\n",
    "    call_start_min = call_start.split(':')[1]\n",
    "    call_start_sec = call_start.split(':')[2]\n",
    "    \n",
    "    call_end_hr = call_end.split(':')[0]\n",
    "    call_end_min = call_end.split(':')[1]\n",
    "    call_end_sec = call_end.split(':')[2]\n",
    "    \n",
    "    call_start_dt = dt.datetime(2013,12,30,int(call_start_hr),int(call_start_min),int(call_start_sec))\n",
    "    call_end_dt = dt.datetime(2013,12,30,int(call_end_hr),int(call_end_min),int(call_end_sec))\n",
    "\n",
    "    call_duration = (call_end_dt-call_start_dt).total_seconds()\n",
    "    call_duration_arr.append(call_duration)\n",
    "    \n",
    "X_test['call_duration'] = call_duration_arr"
   ]
  },
  {
   "cell_type": "markdown",
   "metadata": {},
   "source": [
    "# Removing unneccessary columns - ID, CallStart, CallEnd, LastContactDay, Default"
   ]
  },
  {
   "cell_type": "code",
   "execution_count": 119,
   "metadata": {},
   "outputs": [],
   "source": [
    "\n",
    "if len(set(['Id', 'CallStart', 'CallEnd', 'LastContactDay']) - set(list(X_train.columns)))<1:\n",
    "    X_train = X_train.drop(['Id', 'CallStart', 'CallEnd', 'LastContactDay', 'Default'], axis=1)\n",
    "    \n",
    "if len(set(['Id', 'CallStart', 'CallEnd', 'LastContactDay']) - set(list(X_test.columns)))<1:\n",
    "    X_test = X_test.drop(['Id', 'CallStart', 'CallEnd', 'LastContactDay', 'Default'], axis=1)"
   ]
  },
  {
   "cell_type": "code",
   "execution_count": 120,
   "metadata": {},
   "outputs": [
    {
     "data": {
      "text/plain": [
       "Age                    0\n",
       "Job                   16\n",
       "Marital                0\n",
       "Education            130\n",
       "Balance                0\n",
       "HHInsurance            0\n",
       "CarLoan                0\n",
       "Communication        724\n",
       "LastContactMonth       0\n",
       "NoOfContacts           0\n",
       "DaysPassed             0\n",
       "PrevAttempts           0\n",
       "Outcome             2434\n",
       "call_duration          0\n",
       "dtype: int64"
      ]
     },
     "execution_count": 120,
     "metadata": {},
     "output_type": "execute_result"
    }
   ],
   "source": [
    "X_train.isnull().sum()"
   ]
  },
  {
   "cell_type": "code",
   "execution_count": 121,
   "metadata": {},
   "outputs": [],
   "source": [
    "from sklearn.base import BaseEstimator\n",
    "from sklearn.base import TransformerMixin\n"
   ]
  },
  {
   "cell_type": "markdown",
   "metadata": {},
   "source": [
    "# Custom Transformer functions\n",
    "\n",
    "* Imputation\n",
    "* Log Transformation\n",
    "* Normalization"
   ]
  },
  {
   "cell_type": "code",
   "execution_count": 122,
   "metadata": {},
   "outputs": [],
   "source": [
    "class FillImputer(BaseEstimator, TransformerMixin):\n",
    "    def __init__(self, fill_dict):\n",
    "        super().__init__()\n",
    "        self.fill_dict = fill_dict\n",
    "\n",
    "    def fit(self, X, y=None):\n",
    "\n",
    "        return self\n",
    "\n",
    "    def transform(self, X, y=None):\n",
    "#         X[:] = (X.to_numpy() - self.means_) / self.std_\n",
    "\n",
    "        X_copy = X.copy()\n",
    "        X_copy = X_copy.fillna(self.fill_dict)\n",
    "\n",
    "        return X_copy\n",
    "    \n",
    "class kNNImputer(BaseEstimator, TransformerMixin):\n",
    "    def __init__(self):\n",
    "        super().__init__()\n",
    "        self.kneigh = KNeighborsClassifier(n_neighbors=3)\n",
    "        self.ce_one_hot = ce.OneHotEncoder(cols = ['Job','Marital'])\n",
    "        self.ce_one_hot_model = None\n",
    "\n",
    "    def fit(self, X, y=None):\n",
    "#         X = X.to_numpy()\n",
    "#         self.means_ = X.mean(axis=0, keepdims=True)\n",
    "#         self.std_ = X.std(axis=0, keepdims=True)\n",
    "        imputation_features_non_missing = X[~X.Education.isnull()][['Job', 'Marital', 'Age']]\n",
    "        education_non_missing = X[~X.Education.isnull()]['Education']\n",
    "        \n",
    "        self.ce_one_hot_model = self.ce_one_hot.fit(imputation_features_non_missing)\n",
    "        imputation_features_non_missing_encoded = self.ce_one_hot_model.transform(imputation_features_non_missing)\n",
    "        \n",
    "        self.kneigh.fit(X=imputation_features_non_missing_encoded, y=education_non_missing)\n",
    "    \n",
    "        return self\n",
    "    \n",
    "\n",
    "    def transform(self, X, y=None):\n",
    "#         X[:] = (X.to_numpy() - self.means_) / self.std_\n",
    "    \n",
    "#         non_missing = X[~X.Education.isnull()]\n",
    "#         missing = X[X.Education.isnull()]\n",
    "\n",
    "        X_copy = X.copy()\n",
    "    \n",
    "        missing_ind = X_copy[X_copy.Education.isnull()].index\n",
    "        education = X_copy.Education.copy()\n",
    "       \n",
    "        imputation_features_missing = X_copy[X_copy.Education.isnull()][['Job', 'Marital', 'Age']]\n",
    "        education_missing = X_copy[X_copy.Education.isnull()]['Education']\n",
    "                \n",
    "        imputation_features_missing_encoded = self.ce_one_hot_model.transform(imputation_features_missing)\n",
    "        missing_values_pred = self.kneigh.predict(imputation_features_missing_encoded)\n",
    "\n",
    "        counter = 0\n",
    "        for index in missing_ind:\n",
    "            education[index] = missing_values_pred[counter]\n",
    "            counter+=1\n",
    "        \n",
    "        X_copy['Education'] = education\n",
    "\n",
    "        return X_copy"
   ]
  },
  {
   "cell_type": "code",
   "execution_count": 123,
   "metadata": {},
   "outputs": [],
   "source": [
    "from sklearn.preprocessing import MinMaxScaler as min_max\n",
    "from sklearn.preprocessing import StandardScaler\n",
    "\n",
    "class LogTransformer(BaseEstimator, TransformerMixin):\n",
    "    def __init__(self, columns):\n",
    "        super().__init__()\n",
    "        self.columns = columns\n",
    "\n",
    "    def fit(self, X, y=None):\n",
    "\n",
    "        return self\n",
    "\n",
    "    def transform(self, X, y=None):\n",
    "        \n",
    "        X_copy = X.copy()\n",
    "\n",
    "        for col in self.columns:\n",
    "            X_copy[col] = np.log(X_copy[col]+1)\n",
    "        \n",
    "\n",
    "        return X_copy\n",
    "\n",
    "class MinMaxScalarMultiple(BaseEstimator, TransformerMixin):\n",
    "    def __init__(self, columns):\n",
    "        super().__init__()\n",
    "        self.columns = columns\n",
    "        self.normalizer = None\n",
    "\n",
    "    def fit(self, X, y=None):\n",
    "        self.normalizer = min_max()\n",
    "        self.normalizer.fit(X[self.columns])\n",
    "\n",
    "        return self\n",
    "\n",
    "    def transform(self, X, y=None):\n",
    "        \n",
    "        X_copy = X.copy()\n",
    "\n",
    "        normalized_vals = self.normalizer.transform(X[self.columns])\n",
    "        \n",
    "        for i in range(0, len(self.columns)):\n",
    "            col = [row[i] for row in normalized_vals]\n",
    "            X_copy[self.columns[i]] = col\n",
    "        \n",
    "\n",
    "        return X_copy\n",
    "    \n",
    "class StandardScalarMultiple(BaseEstimator, TransformerMixin):\n",
    "    def __init__(self, columns):\n",
    "        super().__init__()\n",
    "        self.columns = columns\n",
    "        self.normalizer = None\n",
    "\n",
    "    def fit(self, X, y=None):\n",
    "        self.normalizer = StandardScaler()\n",
    "        self.normalizer.fit(X[self.columns])\n",
    "\n",
    "        return self\n",
    "\n",
    "    def transform(self, X, y=None):\n",
    "        \n",
    "        X_copy = X.copy()\n",
    "\n",
    "        normalized_vals = self.normalizer.transform(X[self.columns])\n",
    "        \n",
    "        for i in range(0, len(self.columns)):\n",
    "            col = [row[i] for row in normalized_vals]\n",
    "            X_copy[self.columns[i]] = col\n",
    "        \n",
    "\n",
    "        return X_copy"
   ]
  },
  {
   "cell_type": "code",
   "execution_count": 124,
   "metadata": {},
   "outputs": [],
   "source": [
    "def quarter_month(x):\n",
    "    if x in ['jan', 'feb', 'mar', 'apr']:\n",
    "        return '1'\n",
    "    elif x in ['may', 'jun', 'jul', 'aug']:\n",
    "        return '2'\n",
    "    elif x in ['sep', 'oct', 'nov', 'dec']:\n",
    "        return '3'"
   ]
  },
  {
   "cell_type": "code",
   "execution_count": 125,
   "metadata": {},
   "outputs": [],
   "source": [
    "############### converted negative balance to zero\n",
    "X_train['Balance'] = X_train.Balance.apply(lambda x : 0 if x<0 else x)\n",
    "\n",
    "############### create a new variable for indicting whether a client is previously contacted - Boolean\n",
    "X_train['IsPreviouslyContacted'] = X_train.DaysPassed.apply(lambda x : 0 if x==-1 else 1)\n",
    "\n",
    "############### convert -ve values for days passed\n",
    "X_train['DaysPassed'] = X_train.DaysPassed.apply(lambda x : 0 if x==-1 else x)\n",
    "\n",
    "############### convert month to quadrimester\n",
    "X_train['LastContactQuadrimester'] = X_train.LastContactMonth.apply(lambda x : quarter_month(x))\n"
   ]
  },
  {
   "cell_type": "markdown",
   "metadata": {},
   "source": [
    "# Create a sklearn pipeline for feature engineering - imputation, encoding, scaling"
   ]
  },
  {
   "cell_type": "code",
   "execution_count": 126,
   "metadata": {},
   "outputs": [],
   "source": [
    "log_transformer = LogTransformer(columns=['call_duration'])\n",
    "standard_scaler = StandardScalarMultiple(columns=['Age', 'Balance', 'NoOfContacts', 'PrevAttempts', 'DaysPassed'])\n",
    "fill_imputer = FillImputer(fill_dict={'Communication': 'missing', 'Job' : 'management', 'Outcome' : 'not_contacted'})\n",
    "knn_imputer = kNNImputer()\n",
    "one_hot_encoder = ce.OneHotEncoder(cols=['Job', 'Marital', 'Education', 'Outcome', 'Communication', 'LastContactQuadrimester'])\n",
    "\n",
    "\n",
    "pipe = Pipeline([('log_transformer', log_transformer), \n",
    "                 ('standard_scaler', standard_scaler),\n",
    "                 ('fill_imputer', fill_imputer),\n",
    "                 ('knn_imputer', knn_imputer),\n",
    "                 ('one_hot_encoder', one_hot_encoder)])\n",
    "\n",
    "pipe.fit(X_train)\n",
    "X_train_features = pipe.transform(X_train)\n",
    "X_train_features = X_train_features.drop('LastContactMonth', axis=1)"
   ]
  },
  {
   "cell_type": "code",
   "execution_count": 127,
   "metadata": {},
   "outputs": [
    {
     "data": {
      "text/html": [
       "<div>\n",
       "<style scoped>\n",
       "    .dataframe tbody tr th:only-of-type {\n",
       "        vertical-align: middle;\n",
       "    }\n",
       "\n",
       "    .dataframe tbody tr th {\n",
       "        vertical-align: top;\n",
       "    }\n",
       "\n",
       "    .dataframe thead th {\n",
       "        text-align: right;\n",
       "    }\n",
       "</style>\n",
       "<table border=\"1\" class=\"dataframe\">\n",
       "  <thead>\n",
       "    <tr style=\"text-align: right;\">\n",
       "      <th></th>\n",
       "      <th>Age</th>\n",
       "      <th>Job_1</th>\n",
       "      <th>Job_2</th>\n",
       "      <th>Job_3</th>\n",
       "      <th>Job_4</th>\n",
       "      <th>Job_5</th>\n",
       "      <th>Job_6</th>\n",
       "      <th>Job_7</th>\n",
       "      <th>Job_8</th>\n",
       "      <th>Job_9</th>\n",
       "      <th>Job_10</th>\n",
       "      <th>Job_11</th>\n",
       "      <th>Marital_1</th>\n",
       "      <th>Marital_2</th>\n",
       "      <th>Marital_3</th>\n",
       "      <th>Education_1</th>\n",
       "      <th>Education_2</th>\n",
       "      <th>Education_3</th>\n",
       "      <th>Balance</th>\n",
       "      <th>HHInsurance</th>\n",
       "      <th>CarLoan</th>\n",
       "      <th>Communication_1</th>\n",
       "      <th>Communication_2</th>\n",
       "      <th>Communication_3</th>\n",
       "      <th>NoOfContacts</th>\n",
       "      <th>DaysPassed</th>\n",
       "      <th>PrevAttempts</th>\n",
       "      <th>Outcome_1</th>\n",
       "      <th>Outcome_2</th>\n",
       "      <th>Outcome_3</th>\n",
       "      <th>Outcome_4</th>\n",
       "      <th>call_duration</th>\n",
       "      <th>IsPreviouslyContacted</th>\n",
       "      <th>LastContactQuadrimester_1</th>\n",
       "      <th>LastContactQuadrimester_2</th>\n",
       "      <th>LastContactQuadrimester_3</th>\n",
       "    </tr>\n",
       "  </thead>\n",
       "  <tbody>\n",
       "    <tr>\n",
       "      <th>2996</th>\n",
       "      <td>-0.367912</td>\n",
       "      <td>1</td>\n",
       "      <td>0</td>\n",
       "      <td>0</td>\n",
       "      <td>0</td>\n",
       "      <td>0</td>\n",
       "      <td>0</td>\n",
       "      <td>0</td>\n",
       "      <td>0</td>\n",
       "      <td>0</td>\n",
       "      <td>0</td>\n",
       "      <td>0</td>\n",
       "      <td>1</td>\n",
       "      <td>0</td>\n",
       "      <td>0</td>\n",
       "      <td>1</td>\n",
       "      <td>0</td>\n",
       "      <td>0</td>\n",
       "      <td>-0.423515</td>\n",
       "      <td>0</td>\n",
       "      <td>0</td>\n",
       "      <td>1</td>\n",
       "      <td>0</td>\n",
       "      <td>0</td>\n",
       "      <td>-0.196231</td>\n",
       "      <td>-0.464205</td>\n",
       "      <td>-0.373862</td>\n",
       "      <td>1</td>\n",
       "      <td>0</td>\n",
       "      <td>0</td>\n",
       "      <td>0</td>\n",
       "      <td>5.093750</td>\n",
       "      <td>0</td>\n",
       "      <td>1</td>\n",
       "      <td>0</td>\n",
       "      <td>0</td>\n",
       "    </tr>\n",
       "    <tr>\n",
       "      <th>3295</th>\n",
       "      <td>1.183915</td>\n",
       "      <td>0</td>\n",
       "      <td>1</td>\n",
       "      <td>0</td>\n",
       "      <td>0</td>\n",
       "      <td>0</td>\n",
       "      <td>0</td>\n",
       "      <td>0</td>\n",
       "      <td>0</td>\n",
       "      <td>0</td>\n",
       "      <td>0</td>\n",
       "      <td>0</td>\n",
       "      <td>1</td>\n",
       "      <td>0</td>\n",
       "      <td>0</td>\n",
       "      <td>1</td>\n",
       "      <td>0</td>\n",
       "      <td>0</td>\n",
       "      <td>0.431397</td>\n",
       "      <td>1</td>\n",
       "      <td>0</td>\n",
       "      <td>1</td>\n",
       "      <td>0</td>\n",
       "      <td>0</td>\n",
       "      <td>-0.521084</td>\n",
       "      <td>-0.464205</td>\n",
       "      <td>-0.373862</td>\n",
       "      <td>1</td>\n",
       "      <td>0</td>\n",
       "      <td>0</td>\n",
       "      <td>0</td>\n",
       "      <td>5.746203</td>\n",
       "      <td>0</td>\n",
       "      <td>1</td>\n",
       "      <td>0</td>\n",
       "      <td>0</td>\n",
       "    </tr>\n",
       "    <tr>\n",
       "      <th>2284</th>\n",
       "      <td>-0.023062</td>\n",
       "      <td>0</td>\n",
       "      <td>0</td>\n",
       "      <td>1</td>\n",
       "      <td>0</td>\n",
       "      <td>0</td>\n",
       "      <td>0</td>\n",
       "      <td>0</td>\n",
       "      <td>0</td>\n",
       "      <td>0</td>\n",
       "      <td>0</td>\n",
       "      <td>0</td>\n",
       "      <td>0</td>\n",
       "      <td>1</td>\n",
       "      <td>0</td>\n",
       "      <td>0</td>\n",
       "      <td>1</td>\n",
       "      <td>0</td>\n",
       "      <td>-0.347487</td>\n",
       "      <td>1</td>\n",
       "      <td>0</td>\n",
       "      <td>0</td>\n",
       "      <td>1</td>\n",
       "      <td>0</td>\n",
       "      <td>-0.521084</td>\n",
       "      <td>-0.464205</td>\n",
       "      <td>-0.373862</td>\n",
       "      <td>1</td>\n",
       "      <td>0</td>\n",
       "      <td>0</td>\n",
       "      <td>0</td>\n",
       "      <td>4.330733</td>\n",
       "      <td>0</td>\n",
       "      <td>1</td>\n",
       "      <td>0</td>\n",
       "      <td>0</td>\n",
       "    </tr>\n",
       "    <tr>\n",
       "      <th>2793</th>\n",
       "      <td>-0.367912</td>\n",
       "      <td>0</td>\n",
       "      <td>0</td>\n",
       "      <td>0</td>\n",
       "      <td>1</td>\n",
       "      <td>0</td>\n",
       "      <td>0</td>\n",
       "      <td>0</td>\n",
       "      <td>0</td>\n",
       "      <td>0</td>\n",
       "      <td>0</td>\n",
       "      <td>0</td>\n",
       "      <td>1</td>\n",
       "      <td>0</td>\n",
       "      <td>0</td>\n",
       "      <td>0</td>\n",
       "      <td>1</td>\n",
       "      <td>0</td>\n",
       "      <td>0.553940</td>\n",
       "      <td>0</td>\n",
       "      <td>0</td>\n",
       "      <td>1</td>\n",
       "      <td>0</td>\n",
       "      <td>0</td>\n",
       "      <td>-0.196231</td>\n",
       "      <td>1.424987</td>\n",
       "      <td>2.276469</td>\n",
       "      <td>0</td>\n",
       "      <td>1</td>\n",
       "      <td>0</td>\n",
       "      <td>0</td>\n",
       "      <td>5.676754</td>\n",
       "      <td>1</td>\n",
       "      <td>1</td>\n",
       "      <td>0</td>\n",
       "      <td>0</td>\n",
       "    </tr>\n",
       "    <tr>\n",
       "      <th>787</th>\n",
       "      <td>1.528765</td>\n",
       "      <td>0</td>\n",
       "      <td>1</td>\n",
       "      <td>0</td>\n",
       "      <td>0</td>\n",
       "      <td>0</td>\n",
       "      <td>0</td>\n",
       "      <td>0</td>\n",
       "      <td>0</td>\n",
       "      <td>0</td>\n",
       "      <td>0</td>\n",
       "      <td>0</td>\n",
       "      <td>1</td>\n",
       "      <td>0</td>\n",
       "      <td>0</td>\n",
       "      <td>0</td>\n",
       "      <td>0</td>\n",
       "      <td>1</td>\n",
       "      <td>-0.484145</td>\n",
       "      <td>0</td>\n",
       "      <td>0</td>\n",
       "      <td>1</td>\n",
       "      <td>0</td>\n",
       "      <td>0</td>\n",
       "      <td>1.103179</td>\n",
       "      <td>-0.464205</td>\n",
       "      <td>-0.373862</td>\n",
       "      <td>1</td>\n",
       "      <td>0</td>\n",
       "      <td>0</td>\n",
       "      <td>0</td>\n",
       "      <td>7.050123</td>\n",
       "      <td>0</td>\n",
       "      <td>1</td>\n",
       "      <td>0</td>\n",
       "      <td>0</td>\n",
       "    </tr>\n",
       "    <tr>\n",
       "      <th>2046</th>\n",
       "      <td>2.477104</td>\n",
       "      <td>0</td>\n",
       "      <td>0</td>\n",
       "      <td>0</td>\n",
       "      <td>0</td>\n",
       "      <td>1</td>\n",
       "      <td>0</td>\n",
       "      <td>0</td>\n",
       "      <td>0</td>\n",
       "      <td>0</td>\n",
       "      <td>0</td>\n",
       "      <td>0</td>\n",
       "      <td>1</td>\n",
       "      <td>0</td>\n",
       "      <td>0</td>\n",
       "      <td>0</td>\n",
       "      <td>0</td>\n",
       "      <td>1</td>\n",
       "      <td>0.729093</td>\n",
       "      <td>0</td>\n",
       "      <td>0</td>\n",
       "      <td>1</td>\n",
       "      <td>0</td>\n",
       "      <td>0</td>\n",
       "      <td>-0.521084</td>\n",
       "      <td>-0.464205</td>\n",
       "      <td>-0.373862</td>\n",
       "      <td>1</td>\n",
       "      <td>0</td>\n",
       "      <td>0</td>\n",
       "      <td>0</td>\n",
       "      <td>6.428105</td>\n",
       "      <td>0</td>\n",
       "      <td>0</td>\n",
       "      <td>1</td>\n",
       "      <td>0</td>\n",
       "    </tr>\n",
       "    <tr>\n",
       "      <th>739</th>\n",
       "      <td>-0.454125</td>\n",
       "      <td>1</td>\n",
       "      <td>0</td>\n",
       "      <td>0</td>\n",
       "      <td>0</td>\n",
       "      <td>0</td>\n",
       "      <td>0</td>\n",
       "      <td>0</td>\n",
       "      <td>0</td>\n",
       "      <td>0</td>\n",
       "      <td>0</td>\n",
       "      <td>0</td>\n",
       "      <td>0</td>\n",
       "      <td>0</td>\n",
       "      <td>1</td>\n",
       "      <td>1</td>\n",
       "      <td>0</td>\n",
       "      <td>0</td>\n",
       "      <td>-0.484145</td>\n",
       "      <td>1</td>\n",
       "      <td>0</td>\n",
       "      <td>0</td>\n",
       "      <td>1</td>\n",
       "      <td>0</td>\n",
       "      <td>1.752885</td>\n",
       "      <td>-0.464205</td>\n",
       "      <td>-0.373862</td>\n",
       "      <td>1</td>\n",
       "      <td>0</td>\n",
       "      <td>0</td>\n",
       "      <td>0</td>\n",
       "      <td>4.454347</td>\n",
       "      <td>0</td>\n",
       "      <td>1</td>\n",
       "      <td>0</td>\n",
       "      <td>0</td>\n",
       "    </tr>\n",
       "    <tr>\n",
       "      <th>2149</th>\n",
       "      <td>0.149363</td>\n",
       "      <td>1</td>\n",
       "      <td>0</td>\n",
       "      <td>0</td>\n",
       "      <td>0</td>\n",
       "      <td>0</td>\n",
       "      <td>0</td>\n",
       "      <td>0</td>\n",
       "      <td>0</td>\n",
       "      <td>0</td>\n",
       "      <td>0</td>\n",
       "      <td>0</td>\n",
       "      <td>0</td>\n",
       "      <td>0</td>\n",
       "      <td>1</td>\n",
       "      <td>1</td>\n",
       "      <td>0</td>\n",
       "      <td>0</td>\n",
       "      <td>-0.367056</td>\n",
       "      <td>1</td>\n",
       "      <td>0</td>\n",
       "      <td>0</td>\n",
       "      <td>1</td>\n",
       "      <td>0</td>\n",
       "      <td>-0.196231</td>\n",
       "      <td>-0.464205</td>\n",
       "      <td>-0.373862</td>\n",
       "      <td>1</td>\n",
       "      <td>0</td>\n",
       "      <td>0</td>\n",
       "      <td>0</td>\n",
       "      <td>6.008813</td>\n",
       "      <td>0</td>\n",
       "      <td>1</td>\n",
       "      <td>0</td>\n",
       "      <td>0</td>\n",
       "    </tr>\n",
       "    <tr>\n",
       "      <th>3369</th>\n",
       "      <td>-0.626550</td>\n",
       "      <td>0</td>\n",
       "      <td>0</td>\n",
       "      <td>0</td>\n",
       "      <td>1</td>\n",
       "      <td>0</td>\n",
       "      <td>0</td>\n",
       "      <td>0</td>\n",
       "      <td>0</td>\n",
       "      <td>0</td>\n",
       "      <td>0</td>\n",
       "      <td>0</td>\n",
       "      <td>0</td>\n",
       "      <td>1</td>\n",
       "      <td>0</td>\n",
       "      <td>0</td>\n",
       "      <td>1</td>\n",
       "      <td>0</td>\n",
       "      <td>0.032973</td>\n",
       "      <td>0</td>\n",
       "      <td>0</td>\n",
       "      <td>1</td>\n",
       "      <td>0</td>\n",
       "      <td>0</td>\n",
       "      <td>6.300822</td>\n",
       "      <td>-0.464205</td>\n",
       "      <td>-0.373862</td>\n",
       "      <td>1</td>\n",
       "      <td>0</td>\n",
       "      <td>0</td>\n",
       "      <td>0</td>\n",
       "      <td>4.691348</td>\n",
       "      <td>0</td>\n",
       "      <td>1</td>\n",
       "      <td>0</td>\n",
       "      <td>0</td>\n",
       "    </tr>\n",
       "    <tr>\n",
       "      <th>3492</th>\n",
       "      <td>-0.454125</td>\n",
       "      <td>0</td>\n",
       "      <td>1</td>\n",
       "      <td>0</td>\n",
       "      <td>0</td>\n",
       "      <td>0</td>\n",
       "      <td>0</td>\n",
       "      <td>0</td>\n",
       "      <td>0</td>\n",
       "      <td>0</td>\n",
       "      <td>0</td>\n",
       "      <td>0</td>\n",
       "      <td>0</td>\n",
       "      <td>0</td>\n",
       "      <td>1</td>\n",
       "      <td>1</td>\n",
       "      <td>0</td>\n",
       "      <td>0</td>\n",
       "      <td>-0.383737</td>\n",
       "      <td>1</td>\n",
       "      <td>1</td>\n",
       "      <td>1</td>\n",
       "      <td>0</td>\n",
       "      <td>0</td>\n",
       "      <td>-0.196231</td>\n",
       "      <td>-0.464205</td>\n",
       "      <td>-0.373862</td>\n",
       "      <td>1</td>\n",
       "      <td>0</td>\n",
       "      <td>0</td>\n",
       "      <td>0</td>\n",
       "      <td>5.579730</td>\n",
       "      <td>0</td>\n",
       "      <td>0</td>\n",
       "      <td>1</td>\n",
       "      <td>0</td>\n",
       "    </tr>\n",
       "  </tbody>\n",
       "</table>\n",
       "</div>"
      ],
      "text/plain": [
       "           Age  Job_1  Job_2  Job_3  Job_4  Job_5  Job_6  Job_7  Job_8  Job_9  Job_10  Job_11  Marital_1  Marital_2  Marital_3  Education_1  Education_2  Education_3   Balance  HHInsurance  CarLoan  Communication_1  Communication_2  Communication_3  NoOfContacts  DaysPassed  PrevAttempts  Outcome_1  Outcome_2  Outcome_3  Outcome_4  call_duration  IsPreviouslyContacted  LastContactQuadrimester_1  LastContactQuadrimester_2  LastContactQuadrimester_3\n",
       "2996 -0.367912      1      0      0      0      0      0      0      0      0       0       0          1          0          0            1            0            0 -0.423515            0        0                1                0                0     -0.196231   -0.464205     -0.373862          1          0          0          0       5.093750                      0                          1                          0                          0\n",
       "3295  1.183915      0      1      0      0      0      0      0      0      0       0       0          1          0          0            1            0            0  0.431397            1        0                1                0                0     -0.521084   -0.464205     -0.373862          1          0          0          0       5.746203                      0                          1                          0                          0\n",
       "2284 -0.023062      0      0      1      0      0      0      0      0      0       0       0          0          1          0            0            1            0 -0.347487            1        0                0                1                0     -0.521084   -0.464205     -0.373862          1          0          0          0       4.330733                      0                          1                          0                          0\n",
       "2793 -0.367912      0      0      0      1      0      0      0      0      0       0       0          1          0          0            0            1            0  0.553940            0        0                1                0                0     -0.196231    1.424987      2.276469          0          1          0          0       5.676754                      1                          1                          0                          0\n",
       "787   1.528765      0      1      0      0      0      0      0      0      0       0       0          1          0          0            0            0            1 -0.484145            0        0                1                0                0      1.103179   -0.464205     -0.373862          1          0          0          0       7.050123                      0                          1                          0                          0\n",
       "2046  2.477104      0      0      0      0      1      0      0      0      0       0       0          1          0          0            0            0            1  0.729093            0        0                1                0                0     -0.521084   -0.464205     -0.373862          1          0          0          0       6.428105                      0                          0                          1                          0\n",
       "739  -0.454125      1      0      0      0      0      0      0      0      0       0       0          0          0          1            1            0            0 -0.484145            1        0                0                1                0      1.752885   -0.464205     -0.373862          1          0          0          0       4.454347                      0                          1                          0                          0\n",
       "2149  0.149363      1      0      0      0      0      0      0      0      0       0       0          0          0          1            1            0            0 -0.367056            1        0                0                1                0     -0.196231   -0.464205     -0.373862          1          0          0          0       6.008813                      0                          1                          0                          0\n",
       "3369 -0.626550      0      0      0      1      0      0      0      0      0       0       0          0          1          0            0            1            0  0.032973            0        0                1                0                0      6.300822   -0.464205     -0.373862          1          0          0          0       4.691348                      0                          1                          0                          0\n",
       "3492 -0.454125      0      1      0      0      0      0      0      0      0       0       0          0          0          1            1            0            0 -0.383737            1        1                1                0                0     -0.196231   -0.464205     -0.373862          1          0          0          0       5.579730                      0                          0                          1                          0"
      ]
     },
     "execution_count": 127,
     "metadata": {},
     "output_type": "execute_result"
    }
   ],
   "source": [
    "X_train_features[0:10]"
   ]
  },
  {
   "cell_type": "code",
   "execution_count": null,
   "metadata": {},
   "outputs": [],
   "source": []
  },
  {
   "cell_type": "code",
   "execution_count": null,
   "metadata": {},
   "outputs": [],
   "source": []
  },
  {
   "cell_type": "markdown",
   "metadata": {},
   "source": [
    "# Apply pipeline on test dataset"
   ]
  },
  {
   "cell_type": "code",
   "execution_count": 128,
   "metadata": {},
   "outputs": [],
   "source": [
    "X_test['Balance'] = X_test.Balance.apply(lambda x : 0 if x<0 else x)\n",
    "X_test['IsPreviouslyContacted'] = X_test.DaysPassed.apply(lambda x : 0 if x==-1 else 1)\n",
    "X_test['DaysPassed'] = X_test.DaysPassed.apply(lambda x : 0 if x==-1 else x)\n",
    "X_test['LastContactQuadrimester'] = X_test.LastContactMonth.apply(lambda x : quarter_month(x))\n",
    "\n",
    "# X_test_1 = log_transformer.transform(X_test)\n",
    "# X_test_2 = standard_scaler.transform(X_test_1)\n",
    "# X_test_3 = fill_imputer.transform(X_test_2)\n",
    "# X_test_4 = knn_imputer.transform(X_test_3)\n",
    "# X_test_5 = one_hot_encoder.transform(X_test_4)\n",
    "\n",
    "X_test_features = pipe.transform(X_test)\n",
    "X_test_features = X_test_features.drop('LastContactMonth', axis=1)"
   ]
  },
  {
   "cell_type": "code",
   "execution_count": 129,
   "metadata": {},
   "outputs": [
    {
     "data": {
      "text/html": [
       "<div>\n",
       "<style scoped>\n",
       "    .dataframe tbody tr th:only-of-type {\n",
       "        vertical-align: middle;\n",
       "    }\n",
       "\n",
       "    .dataframe tbody tr th {\n",
       "        vertical-align: top;\n",
       "    }\n",
       "\n",
       "    .dataframe thead th {\n",
       "        text-align: right;\n",
       "    }\n",
       "</style>\n",
       "<table border=\"1\" class=\"dataframe\">\n",
       "  <thead>\n",
       "    <tr style=\"text-align: right;\">\n",
       "      <th></th>\n",
       "      <th>Age</th>\n",
       "      <th>Job_1</th>\n",
       "      <th>Job_2</th>\n",
       "      <th>Job_3</th>\n",
       "      <th>Job_4</th>\n",
       "      <th>Job_5</th>\n",
       "      <th>Job_6</th>\n",
       "      <th>Job_7</th>\n",
       "      <th>Job_8</th>\n",
       "      <th>Job_9</th>\n",
       "      <th>Job_10</th>\n",
       "      <th>Job_11</th>\n",
       "      <th>Marital_1</th>\n",
       "      <th>Marital_2</th>\n",
       "      <th>Marital_3</th>\n",
       "      <th>Education_1</th>\n",
       "      <th>Education_2</th>\n",
       "      <th>Education_3</th>\n",
       "      <th>Balance</th>\n",
       "      <th>HHInsurance</th>\n",
       "      <th>CarLoan</th>\n",
       "      <th>Communication_1</th>\n",
       "      <th>Communication_2</th>\n",
       "      <th>Communication_3</th>\n",
       "      <th>NoOfContacts</th>\n",
       "      <th>DaysPassed</th>\n",
       "      <th>PrevAttempts</th>\n",
       "      <th>Outcome_1</th>\n",
       "      <th>Outcome_2</th>\n",
       "      <th>Outcome_3</th>\n",
       "      <th>Outcome_4</th>\n",
       "      <th>call_duration</th>\n",
       "      <th>IsPreviouslyContacted</th>\n",
       "      <th>LastContactQuadrimester_1</th>\n",
       "      <th>LastContactQuadrimester_2</th>\n",
       "      <th>LastContactQuadrimester_3</th>\n",
       "    </tr>\n",
       "  </thead>\n",
       "  <tbody>\n",
       "    <tr>\n",
       "      <th>200</th>\n",
       "      <td>1.270127</td>\n",
       "      <td>0</td>\n",
       "      <td>1</td>\n",
       "      <td>0</td>\n",
       "      <td>0</td>\n",
       "      <td>0</td>\n",
       "      <td>0</td>\n",
       "      <td>0</td>\n",
       "      <td>0</td>\n",
       "      <td>0</td>\n",
       "      <td>0</td>\n",
       "      <td>0</td>\n",
       "      <td>1</td>\n",
       "      <td>0</td>\n",
       "      <td>0</td>\n",
       "      <td>0</td>\n",
       "      <td>0</td>\n",
       "      <td>1</td>\n",
       "      <td>2.134486</td>\n",
       "      <td>0</td>\n",
       "      <td>0</td>\n",
       "      <td>1</td>\n",
       "      <td>0</td>\n",
       "      <td>0</td>\n",
       "      <td>0.453474</td>\n",
       "      <td>-0.464205</td>\n",
       "      <td>-0.373862</td>\n",
       "      <td>1</td>\n",
       "      <td>0</td>\n",
       "      <td>0</td>\n",
       "      <td>0</td>\n",
       "      <td>7.116394</td>\n",
       "      <td>0</td>\n",
       "      <td>1</td>\n",
       "      <td>0</td>\n",
       "      <td>0</td>\n",
       "    </tr>\n",
       "    <tr>\n",
       "      <th>1078</th>\n",
       "      <td>-0.798975</td>\n",
       "      <td>0</td>\n",
       "      <td>0</td>\n",
       "      <td>0</td>\n",
       "      <td>1</td>\n",
       "      <td>0</td>\n",
       "      <td>0</td>\n",
       "      <td>0</td>\n",
       "      <td>0</td>\n",
       "      <td>0</td>\n",
       "      <td>0</td>\n",
       "      <td>0</td>\n",
       "      <td>1</td>\n",
       "      <td>0</td>\n",
       "      <td>0</td>\n",
       "      <td>0</td>\n",
       "      <td>1</td>\n",
       "      <td>0</td>\n",
       "      <td>-0.416779</td>\n",
       "      <td>0</td>\n",
       "      <td>0</td>\n",
       "      <td>1</td>\n",
       "      <td>0</td>\n",
       "      <td>0</td>\n",
       "      <td>0.128621</td>\n",
       "      <td>-0.464205</td>\n",
       "      <td>-0.373862</td>\n",
       "      <td>1</td>\n",
       "      <td>0</td>\n",
       "      <td>0</td>\n",
       "      <td>0</td>\n",
       "      <td>4.804021</td>\n",
       "      <td>0</td>\n",
       "      <td>1</td>\n",
       "      <td>0</td>\n",
       "      <td>0</td>\n",
       "    </tr>\n",
       "    <tr>\n",
       "      <th>610</th>\n",
       "      <td>1.528765</td>\n",
       "      <td>0</td>\n",
       "      <td>0</td>\n",
       "      <td>0</td>\n",
       "      <td>0</td>\n",
       "      <td>0</td>\n",
       "      <td>0</td>\n",
       "      <td>0</td>\n",
       "      <td>0</td>\n",
       "      <td>1</td>\n",
       "      <td>0</td>\n",
       "      <td>0</td>\n",
       "      <td>1</td>\n",
       "      <td>0</td>\n",
       "      <td>0</td>\n",
       "      <td>1</td>\n",
       "      <td>0</td>\n",
       "      <td>0</td>\n",
       "      <td>-0.136085</td>\n",
       "      <td>0</td>\n",
       "      <td>1</td>\n",
       "      <td>1</td>\n",
       "      <td>0</td>\n",
       "      <td>0</td>\n",
       "      <td>0.453474</td>\n",
       "      <td>-0.464205</td>\n",
       "      <td>-0.373862</td>\n",
       "      <td>1</td>\n",
       "      <td>0</td>\n",
       "      <td>0</td>\n",
       "      <td>0</td>\n",
       "      <td>4.624973</td>\n",
       "      <td>0</td>\n",
       "      <td>1</td>\n",
       "      <td>0</td>\n",
       "      <td>0</td>\n",
       "    </tr>\n",
       "    <tr>\n",
       "      <th>2159</th>\n",
       "      <td>0.149363</td>\n",
       "      <td>0</td>\n",
       "      <td>0</td>\n",
       "      <td>0</td>\n",
       "      <td>0</td>\n",
       "      <td>0</td>\n",
       "      <td>0</td>\n",
       "      <td>0</td>\n",
       "      <td>1</td>\n",
       "      <td>0</td>\n",
       "      <td>0</td>\n",
       "      <td>0</td>\n",
       "      <td>0</td>\n",
       "      <td>1</td>\n",
       "      <td>0</td>\n",
       "      <td>0</td>\n",
       "      <td>0</td>\n",
       "      <td>1</td>\n",
       "      <td>-0.227511</td>\n",
       "      <td>1</td>\n",
       "      <td>0</td>\n",
       "      <td>1</td>\n",
       "      <td>0</td>\n",
       "      <td>0</td>\n",
       "      <td>-0.521084</td>\n",
       "      <td>-0.464205</td>\n",
       "      <td>-0.373862</td>\n",
       "      <td>1</td>\n",
       "      <td>0</td>\n",
       "      <td>0</td>\n",
       "      <td>0</td>\n",
       "      <td>6.805723</td>\n",
       "      <td>0</td>\n",
       "      <td>1</td>\n",
       "      <td>0</td>\n",
       "      <td>0</td>\n",
       "    </tr>\n",
       "    <tr>\n",
       "      <th>1169</th>\n",
       "      <td>1.270127</td>\n",
       "      <td>1</td>\n",
       "      <td>0</td>\n",
       "      <td>0</td>\n",
       "      <td>0</td>\n",
       "      <td>0</td>\n",
       "      <td>0</td>\n",
       "      <td>0</td>\n",
       "      <td>0</td>\n",
       "      <td>0</td>\n",
       "      <td>0</td>\n",
       "      <td>0</td>\n",
       "      <td>1</td>\n",
       "      <td>0</td>\n",
       "      <td>0</td>\n",
       "      <td>1</td>\n",
       "      <td>0</td>\n",
       "      <td>0</td>\n",
       "      <td>-0.133519</td>\n",
       "      <td>0</td>\n",
       "      <td>0</td>\n",
       "      <td>1</td>\n",
       "      <td>0</td>\n",
       "      <td>0</td>\n",
       "      <td>0.453474</td>\n",
       "      <td>-0.464205</td>\n",
       "      <td>-0.373862</td>\n",
       "      <td>1</td>\n",
       "      <td>0</td>\n",
       "      <td>0</td>\n",
       "      <td>0</td>\n",
       "      <td>4.499810</td>\n",
       "      <td>0</td>\n",
       "      <td>1</td>\n",
       "      <td>0</td>\n",
       "      <td>0</td>\n",
       "    </tr>\n",
       "  </tbody>\n",
       "</table>\n",
       "</div>"
      ],
      "text/plain": [
       "           Age  Job_1  Job_2  Job_3  Job_4  Job_5  Job_6  Job_7  Job_8  Job_9  Job_10  Job_11  Marital_1  Marital_2  Marital_3  Education_1  Education_2  Education_3   Balance  HHInsurance  CarLoan  Communication_1  Communication_2  Communication_3  NoOfContacts  DaysPassed  PrevAttempts  Outcome_1  Outcome_2  Outcome_3  Outcome_4  call_duration  IsPreviouslyContacted  LastContactQuadrimester_1  LastContactQuadrimester_2  LastContactQuadrimester_3\n",
       "200   1.270127      0      1      0      0      0      0      0      0      0       0       0          1          0          0            0            0            1  2.134486            0        0                1                0                0      0.453474   -0.464205     -0.373862          1          0          0          0       7.116394                      0                          1                          0                          0\n",
       "1078 -0.798975      0      0      0      1      0      0      0      0      0       0       0          1          0          0            0            1            0 -0.416779            0        0                1                0                0      0.128621   -0.464205     -0.373862          1          0          0          0       4.804021                      0                          1                          0                          0\n",
       "610   1.528765      0      0      0      0      0      0      0      0      1       0       0          1          0          0            1            0            0 -0.136085            0        1                1                0                0      0.453474   -0.464205     -0.373862          1          0          0          0       4.624973                      0                          1                          0                          0\n",
       "2159  0.149363      0      0      0      0      0      0      0      1      0       0       0          0          1          0            0            0            1 -0.227511            1        0                1                0                0     -0.521084   -0.464205     -0.373862          1          0          0          0       6.805723                      0                          1                          0                          0\n",
       "1169  1.270127      1      0      0      0      0      0      0      0      0       0       0          1          0          0            1            0            0 -0.133519            0        0                1                0                0      0.453474   -0.464205     -0.373862          1          0          0          0       4.499810                      0                          1                          0                          0"
      ]
     },
     "execution_count": 129,
     "metadata": {},
     "output_type": "execute_result"
    }
   ],
   "source": [
    "X_test_features[0:5]"
   ]
  },
  {
   "cell_type": "markdown",
   "metadata": {},
   "source": [
    "# Fit the logistic regression model on train dataset and predict on test dataset"
   ]
  },
  {
   "cell_type": "code",
   "execution_count": 130,
   "metadata": {},
   "outputs": [],
   "source": [
    "from sklearn.linear_model import LogisticRegression\n",
    "from sklearn.model_selection import cross_val_score\n",
    "from sklearn.metrics import accuracy_score, precision_score, recall_score"
   ]
  },
  {
   "cell_type": "code",
   "execution_count": 131,
   "metadata": {},
   "outputs": [
    {
     "data": {
      "text/plain": [
       "LogisticRegression(max_iter=500)"
      ]
     },
     "execution_count": 131,
     "metadata": {},
     "output_type": "execute_result"
    }
   ],
   "source": [
    "lg = LogisticRegression(max_iter=500)\n",
    "lg.fit(X_train_features, y_train)"
   ]
  },
  {
   "cell_type": "code",
   "execution_count": 132,
   "metadata": {},
   "outputs": [
    {
     "name": "stdout",
     "output_type": "stream",
     "text": [
      "Fitting 3 folds for each of 4 candidates, totalling 12 fits\n"
     ]
    },
    {
     "name": "stderr",
     "output_type": "stream",
     "text": [
      "[Parallel(n_jobs=8)]: Using backend LokyBackend with 8 concurrent workers.\n",
      "[Parallel(n_jobs=8)]: Done  10 out of  12 | elapsed:    0.1s remaining:    0.0s\n",
      "[Parallel(n_jobs=8)]: Done  12 out of  12 | elapsed:    0.2s finished\n"
     ]
    }
   ],
   "source": [
    "from sklearn.model_selection import GridSearchCV\n",
    "param_grid = {\n",
    "   'C': [0.001, 0.01, 0.1, 1]\n",
    "    }\n",
    "search = GridSearchCV(lg, param_grid, cv=3, scoring='accuracy', verbose=1, n_jobs=8).fit(X_train_features, y_train)"
   ]
  },
  {
   "cell_type": "code",
   "execution_count": 133,
   "metadata": {},
   "outputs": [
    {
     "data": {
      "text/plain": [
       "LogisticRegression(C=0.1, max_iter=500)"
      ]
     },
     "execution_count": 133,
     "metadata": {},
     "output_type": "execute_result"
    }
   ],
   "source": [
    "lg = search.best_estimator_\n",
    "lg"
   ]
  },
  {
   "cell_type": "code",
   "execution_count": 134,
   "metadata": {},
   "outputs": [],
   "source": [
    "lg_pred_train = lg.predict(X_train_features)"
   ]
  },
  {
   "cell_type": "code",
   "execution_count": 135,
   "metadata": {},
   "outputs": [
    {
     "data": {
      "text/plain": [
       "0.815625"
      ]
     },
     "execution_count": 135,
     "metadata": {},
     "output_type": "execute_result"
    }
   ],
   "source": [
    "accuracy_score(y_train, lg_pred_train)"
   ]
  },
  {
   "cell_type": "code",
   "execution_count": 136,
   "metadata": {},
   "outputs": [
    {
     "data": {
      "text/plain": [
       "0.7790143084260731"
      ]
     },
     "execution_count": 136,
     "metadata": {},
     "output_type": "execute_result"
    }
   ],
   "source": [
    "precision_score(y_train, lg_pred_train)"
   ]
  },
  {
   "cell_type": "code",
   "execution_count": 137,
   "metadata": {},
   "outputs": [
    {
     "data": {
      "text/plain": [
       "0.7585139318885449"
      ]
     },
     "execution_count": 137,
     "metadata": {},
     "output_type": "execute_result"
    }
   ],
   "source": [
    "recall_score(y_train, lg_pred_train)"
   ]
  },
  {
   "cell_type": "code",
   "execution_count": null,
   "metadata": {},
   "outputs": [],
   "source": []
  },
  {
   "cell_type": "code",
   "execution_count": null,
   "metadata": {},
   "outputs": [],
   "source": []
  },
  {
   "cell_type": "code",
   "execution_count": null,
   "metadata": {},
   "outputs": [],
   "source": []
  },
  {
   "cell_type": "code",
   "execution_count": 138,
   "metadata": {},
   "outputs": [],
   "source": [
    "lg_pred = lg.predict(X_test_features)"
   ]
  },
  {
   "cell_type": "code",
   "execution_count": 139,
   "metadata": {},
   "outputs": [
    {
     "data": {
      "text/plain": [
       "0.805"
      ]
     },
     "execution_count": 139,
     "metadata": {},
     "output_type": "execute_result"
    }
   ],
   "source": [
    "accuracy_score(y_test, lg_pred)"
   ]
  },
  {
   "cell_type": "code",
   "execution_count": 140,
   "metadata": {},
   "outputs": [
    {
     "data": {
      "text/plain": [
       "0.7516129032258064"
      ]
     },
     "execution_count": 140,
     "metadata": {},
     "output_type": "execute_result"
    }
   ],
   "source": [
    "precision_score(y_test, lg_pred)"
   ]
  },
  {
   "cell_type": "code",
   "execution_count": 141,
   "metadata": {},
   "outputs": [
    {
     "data": {
      "text/plain": [
       "0.7467948717948718"
      ]
     },
     "execution_count": 141,
     "metadata": {},
     "output_type": "execute_result"
    }
   ],
   "source": [
    "recall_score(y_test, lg_pred)"
   ]
  },
  {
   "cell_type": "code",
   "execution_count": null,
   "metadata": {},
   "outputs": [],
   "source": []
  },
  {
   "cell_type": "markdown",
   "metadata": {},
   "source": [
    "# Fit the random forest model on train dataset and predict on test dataset"
   ]
  },
  {
   "cell_type": "code",
   "execution_count": 142,
   "metadata": {},
   "outputs": [],
   "source": [
    "from sklearn.ensemble import RandomForestClassifier\n",
    "from sklearn.model_selection import cross_val_score"
   ]
  },
  {
   "cell_type": "code",
   "execution_count": 143,
   "metadata": {},
   "outputs": [],
   "source": [
    "rf = RandomForestClassifier()"
   ]
  },
  {
   "cell_type": "code",
   "execution_count": 144,
   "metadata": {},
   "outputs": [
    {
     "name": "stdout",
     "output_type": "stream",
     "text": [
      "Fitting 3 folds for each of 100 candidates, totalling 300 fits\n"
     ]
    },
    {
     "name": "stderr",
     "output_type": "stream",
     "text": [
      "[Parallel(n_jobs=8)]: Using backend LokyBackend with 8 concurrent workers.\n",
      "[Parallel(n_jobs=8)]: Done  52 tasks      | elapsed:    0.8s\n",
      "[Parallel(n_jobs=8)]: Done 285 out of 300 | elapsed:    4.2s remaining:    0.2s\n",
      "[Parallel(n_jobs=8)]: Done 300 out of 300 | elapsed:    4.4s finished\n"
     ]
    }
   ],
   "source": [
    "from sklearn.model_selection import GridSearchCV\n",
    "param_grid = {\n",
    "   'n_estimators': [5, 10, 20, 30, 50],\n",
    "   'max_depth': [5, 10, 15, 20],\n",
    "   'min_samples_split': [20, 30, 50, 70, 100]\n",
    "    }\n",
    "search = GridSearchCV(rf, param_grid, cv=3, scoring='accuracy', verbose=1, n_jobs=8).fit(X_train_features, y_train)"
   ]
  },
  {
   "cell_type": "code",
   "execution_count": 145,
   "metadata": {},
   "outputs": [
    {
     "data": {
      "text/plain": [
       "RandomForestClassifier(max_depth=15, min_samples_split=30, n_estimators=30)"
      ]
     },
     "execution_count": 145,
     "metadata": {},
     "output_type": "execute_result"
    }
   ],
   "source": [
    "rf = search.best_estimator_\n",
    "rf"
   ]
  },
  {
   "cell_type": "code",
   "execution_count": 146,
   "metadata": {},
   "outputs": [
    {
     "data": {
      "text/plain": [
       "RandomForestClassifier(max_depth=5, n_estimators=50)"
      ]
     },
     "execution_count": 146,
     "metadata": {},
     "output_type": "execute_result"
    }
   ],
   "source": [
    "rf = RandomForestClassifier(n_estimators=50, max_depth=5)\n",
    "rf.fit(X_train_features, y_train)"
   ]
  },
  {
   "cell_type": "code",
   "execution_count": 147,
   "metadata": {},
   "outputs": [
    {
     "data": {
      "text/plain": [
       "array([3.94138347e-02, 6.05576056e-04, 3.61108412e-03, 1.74030896e-03,\n",
       "       1.43385947e-03, 4.46844173e-03, 3.40154121e-04, 1.32204383e-03,\n",
       "       1.69021408e-03, 1.11182607e-03, 2.65139195e-03, 1.40331971e-03,\n",
       "       9.62613468e-03, 6.06099624e-03, 1.56702537e-03, 2.69940748e-03,\n",
       "       1.99369043e-03, 1.83488486e-03, 1.73248221e-02, 3.31264527e-02,\n",
       "       6.16214042e-03, 3.36983540e-02, 7.06661384e-02, 1.91403779e-03,\n",
       "       8.61889551e-03, 3.45316731e-02, 2.16242080e-02, 1.74208393e-02,\n",
       "       2.53356502e-03, 1.17819287e-01, 8.47279290e-03, 4.84037117e-01,\n",
       "       2.49615747e-02, 2.16039522e-02, 8.23565779e-03, 3.67429881e-03])"
      ]
     },
     "execution_count": 147,
     "metadata": {},
     "output_type": "execute_result"
    }
   ],
   "source": [
    "rf.feature_importances_"
   ]
  },
  {
   "cell_type": "code",
   "execution_count": 148,
   "metadata": {},
   "outputs": [],
   "source": [
    "feature_imp_arr = pd.DataFrame({'columns': X_train_features.columns, 'feature_importances': rf.feature_importances_})"
   ]
  },
  {
   "cell_type": "code",
   "execution_count": 149,
   "metadata": {},
   "outputs": [],
   "source": [
    "# feature_imp_arr.sort_values(by='feature_importances', ascending=False)"
   ]
  },
  {
   "cell_type": "code",
   "execution_count": 150,
   "metadata": {},
   "outputs": [],
   "source": [
    "rf_pred_train = rf.predict(X_train_features)"
   ]
  },
  {
   "cell_type": "code",
   "execution_count": 151,
   "metadata": {},
   "outputs": [
    {
     "data": {
      "text/plain": [
       "0.8325"
      ]
     },
     "execution_count": 151,
     "metadata": {},
     "output_type": "execute_result"
    }
   ],
   "source": [
    "accuracy_score(y_train, rf_pred_train)"
   ]
  },
  {
   "cell_type": "code",
   "execution_count": 152,
   "metadata": {},
   "outputs": [
    {
     "data": {
      "text/plain": [
       "0.8253012048192772"
      ]
     },
     "execution_count": 152,
     "metadata": {},
     "output_type": "execute_result"
    }
   ],
   "source": [
    "precision_score(y_train, rf_pred_train)"
   ]
  },
  {
   "cell_type": "code",
   "execution_count": 153,
   "metadata": {},
   "outputs": [
    {
     "data": {
      "text/plain": [
       "0.7422600619195047"
      ]
     },
     "execution_count": 153,
     "metadata": {},
     "output_type": "execute_result"
    }
   ],
   "source": [
    "recall_score(y_train, rf_pred_train)"
   ]
  },
  {
   "cell_type": "code",
   "execution_count": null,
   "metadata": {},
   "outputs": [],
   "source": []
  },
  {
   "cell_type": "code",
   "execution_count": 154,
   "metadata": {},
   "outputs": [],
   "source": [
    "rf_pred = rf.predict(X_test_features)"
   ]
  },
  {
   "cell_type": "code",
   "execution_count": 155,
   "metadata": {},
   "outputs": [
    {
     "data": {
      "text/plain": [
       "0.805"
      ]
     },
     "execution_count": 155,
     "metadata": {},
     "output_type": "execute_result"
    }
   ],
   "source": [
    "accuracy_score(y_test, rf_pred)"
   ]
  },
  {
   "cell_type": "code",
   "execution_count": 156,
   "metadata": {},
   "outputs": [
    {
     "data": {
      "text/plain": [
       "0.7805755395683454"
      ]
     },
     "execution_count": 156,
     "metadata": {},
     "output_type": "execute_result"
    }
   ],
   "source": [
    "precision_score(y_test, rf_pred)"
   ]
  },
  {
   "cell_type": "code",
   "execution_count": 157,
   "metadata": {},
   "outputs": [
    {
     "data": {
      "text/plain": [
       "0.6955128205128205"
      ]
     },
     "execution_count": 157,
     "metadata": {},
     "output_type": "execute_result"
    }
   ],
   "source": [
    "recall_score(y_test, rf_pred)"
   ]
  },
  {
   "cell_type": "code",
   "execution_count": null,
   "metadata": {},
   "outputs": [],
   "source": []
  },
  {
   "cell_type": "code",
   "execution_count": null,
   "metadata": {},
   "outputs": [],
   "source": []
  },
  {
   "cell_type": "markdown",
   "metadata": {},
   "source": [
    "# Fit the gradient boosting model on train dataset and predict on test dataset"
   ]
  },
  {
   "cell_type": "code",
   "execution_count": 158,
   "metadata": {},
   "outputs": [],
   "source": [
    "from sklearn.ensemble import GradientBoostingClassifier\n",
    "from sklearn.model_selection import cross_val_score"
   ]
  },
  {
   "cell_type": "code",
   "execution_count": 159,
   "metadata": {},
   "outputs": [],
   "source": [
    "gd = GradientBoostingClassifier()"
   ]
  },
  {
   "cell_type": "code",
   "execution_count": 160,
   "metadata": {},
   "outputs": [
    {
     "name": "stdout",
     "output_type": "stream",
     "text": [
      "Fitting 3 folds for each of 100 candidates, totalling 300 fits\n"
     ]
    },
    {
     "name": "stderr",
     "output_type": "stream",
     "text": [
      "[Parallel(n_jobs=8)]: Using backend LokyBackend with 8 concurrent workers.\n",
      "[Parallel(n_jobs=8)]: Done  52 tasks      | elapsed:    1.5s\n",
      "[Parallel(n_jobs=8)]: Done 256 tasks      | elapsed:   15.4s\n",
      "[Parallel(n_jobs=8)]: Done 300 out of 300 | elapsed:   19.1s finished\n"
     ]
    }
   ],
   "source": [
    "from sklearn.model_selection import GridSearchCV\n",
    "param_grid = {\n",
    "   'n_estimators': [5, 10, 20, 30, 50],\n",
    "   'max_depth': [5, 10, 15, 20],\n",
    "   'min_samples_split': [20, 30, 50, 70, 100]\n",
    "    }\n",
    "search = GridSearchCV(gd, param_grid, cv=3, scoring='accuracy', verbose=1, n_jobs=8).fit(X_train_features, y_train)"
   ]
  },
  {
   "cell_type": "code",
   "execution_count": 161,
   "metadata": {},
   "outputs": [
    {
     "data": {
      "text/plain": [
       "GradientBoostingClassifier(max_depth=5, min_samples_split=20, n_estimators=50)"
      ]
     },
     "execution_count": 161,
     "metadata": {},
     "output_type": "execute_result"
    }
   ],
   "source": [
    "gb = search.best_estimator_\n",
    "gb"
   ]
  },
  {
   "cell_type": "code",
   "execution_count": 162,
   "metadata": {},
   "outputs": [],
   "source": [
    "gb_pred_train = gb.predict(X_train_features)"
   ]
  },
  {
   "cell_type": "code",
   "execution_count": 163,
   "metadata": {},
   "outputs": [
    {
     "data": {
      "text/plain": [
       "0.87625"
      ]
     },
     "execution_count": 163,
     "metadata": {},
     "output_type": "execute_result"
    }
   ],
   "source": [
    "accuracy_score(y_train, gb_pred_train)"
   ]
  },
  {
   "cell_type": "code",
   "execution_count": 164,
   "metadata": {},
   "outputs": [
    {
     "data": {
      "text/plain": [
       "0.8318518518518518"
      ]
     },
     "execution_count": 164,
     "metadata": {},
     "output_type": "execute_result"
    }
   ],
   "source": [
    "precision_score(y_train, gb_pred_train)"
   ]
  },
  {
   "cell_type": "code",
   "execution_count": 165,
   "metadata": {},
   "outputs": [
    {
     "data": {
      "text/plain": [
       "0.8691950464396285"
      ]
     },
     "execution_count": 165,
     "metadata": {},
     "output_type": "execute_result"
    }
   ],
   "source": [
    "recall_score(y_train, gb_pred_train)"
   ]
  },
  {
   "cell_type": "code",
   "execution_count": null,
   "metadata": {},
   "outputs": [],
   "source": []
  },
  {
   "cell_type": "code",
   "execution_count": 166,
   "metadata": {},
   "outputs": [],
   "source": [
    "gb_pred = gb.predict(X_test_features)"
   ]
  },
  {
   "cell_type": "code",
   "execution_count": 167,
   "metadata": {},
   "outputs": [
    {
     "data": {
      "text/plain": [
       "0.8275"
      ]
     },
     "execution_count": 167,
     "metadata": {},
     "output_type": "execute_result"
    }
   ],
   "source": [
    "accuracy_score(y_test, gb_pred)"
   ]
  },
  {
   "cell_type": "code",
   "execution_count": 168,
   "metadata": {},
   "outputs": [
    {
     "data": {
      "text/plain": [
       "0.7636363636363637"
      ]
     },
     "execution_count": 168,
     "metadata": {},
     "output_type": "execute_result"
    }
   ],
   "source": [
    "precision_score(y_test, gb_pred)"
   ]
  },
  {
   "cell_type": "code",
   "execution_count": 169,
   "metadata": {},
   "outputs": [
    {
     "data": {
      "text/plain": [
       "0.8076923076923077"
      ]
     },
     "execution_count": 169,
     "metadata": {},
     "output_type": "execute_result"
    }
   ],
   "source": [
    "recall_score(y_test, gb_pred)"
   ]
  },
  {
   "cell_type": "code",
   "execution_count": 170,
   "metadata": {},
   "outputs": [
    {
     "data": {
      "text/html": [
       "<div>\n",
       "<style scoped>\n",
       "    .dataframe tbody tr th:only-of-type {\n",
       "        vertical-align: middle;\n",
       "    }\n",
       "\n",
       "    .dataframe tbody tr th {\n",
       "        vertical-align: top;\n",
       "    }\n",
       "\n",
       "    .dataframe thead th {\n",
       "        text-align: right;\n",
       "    }\n",
       "</style>\n",
       "<table border=\"1\" class=\"dataframe\">\n",
       "  <thead>\n",
       "    <tr style=\"text-align: right;\">\n",
       "      <th></th>\n",
       "      <th>Age</th>\n",
       "      <th>Job</th>\n",
       "      <th>Marital</th>\n",
       "      <th>Education</th>\n",
       "      <th>Balance</th>\n",
       "      <th>HHInsurance</th>\n",
       "      <th>CarLoan</th>\n",
       "      <th>Communication</th>\n",
       "      <th>LastContactMonth</th>\n",
       "      <th>NoOfContacts</th>\n",
       "      <th>DaysPassed</th>\n",
       "      <th>PrevAttempts</th>\n",
       "      <th>Outcome</th>\n",
       "      <th>call_duration</th>\n",
       "      <th>IsPreviouslyContacted</th>\n",
       "      <th>LastContactQuadrimester</th>\n",
       "      <th>target</th>\n",
       "    </tr>\n",
       "  </thead>\n",
       "  <tbody>\n",
       "    <tr>\n",
       "      <th>3195</th>\n",
       "      <td>19</td>\n",
       "      <td>student</td>\n",
       "      <td>single</td>\n",
       "      <td>secondary</td>\n",
       "      <td>329</td>\n",
       "      <td>0</td>\n",
       "      <td>0</td>\n",
       "      <td>cellular</td>\n",
       "      <td>apr</td>\n",
       "      <td>1</td>\n",
       "      <td>190</td>\n",
       "      <td>2</td>\n",
       "      <td>success</td>\n",
       "      <td>169.0</td>\n",
       "      <td>1</td>\n",
       "      <td>1</td>\n",
       "      <td>1</td>\n",
       "    </tr>\n",
       "    <tr>\n",
       "      <th>2725</th>\n",
       "      <td>35</td>\n",
       "      <td>student</td>\n",
       "      <td>single</td>\n",
       "      <td>secondary</td>\n",
       "      <td>188</td>\n",
       "      <td>1</td>\n",
       "      <td>0</td>\n",
       "      <td>cellular</td>\n",
       "      <td>feb</td>\n",
       "      <td>3</td>\n",
       "      <td>200</td>\n",
       "      <td>5</td>\n",
       "      <td>failure</td>\n",
       "      <td>75.0</td>\n",
       "      <td>1</td>\n",
       "      <td>1</td>\n",
       "      <td>1</td>\n",
       "    </tr>\n",
       "    <tr>\n",
       "      <th>1432</th>\n",
       "      <td>30</td>\n",
       "      <td>student</td>\n",
       "      <td>single</td>\n",
       "      <td>tertiary</td>\n",
       "      <td>7513</td>\n",
       "      <td>0</td>\n",
       "      <td>0</td>\n",
       "      <td>cellular</td>\n",
       "      <td>aug</td>\n",
       "      <td>2</td>\n",
       "      <td>0</td>\n",
       "      <td>0</td>\n",
       "      <td>NaN</td>\n",
       "      <td>269.0</td>\n",
       "      <td>0</td>\n",
       "      <td>2</td>\n",
       "      <td>0</td>\n",
       "    </tr>\n",
       "    <tr>\n",
       "      <th>1508</th>\n",
       "      <td>27</td>\n",
       "      <td>student</td>\n",
       "      <td>single</td>\n",
       "      <td>tertiary</td>\n",
       "      <td>311</td>\n",
       "      <td>0</td>\n",
       "      <td>0</td>\n",
       "      <td>cellular</td>\n",
       "      <td>jul</td>\n",
       "      <td>1</td>\n",
       "      <td>148</td>\n",
       "      <td>4</td>\n",
       "      <td>success</td>\n",
       "      <td>462.0</td>\n",
       "      <td>1</td>\n",
       "      <td>2</td>\n",
       "      <td>1</td>\n",
       "    </tr>\n",
       "    <tr>\n",
       "      <th>1690</th>\n",
       "      <td>18</td>\n",
       "      <td>student</td>\n",
       "      <td>single</td>\n",
       "      <td>NaN</td>\n",
       "      <td>108</td>\n",
       "      <td>0</td>\n",
       "      <td>0</td>\n",
       "      <td>cellular</td>\n",
       "      <td>feb</td>\n",
       "      <td>1</td>\n",
       "      <td>183</td>\n",
       "      <td>1</td>\n",
       "      <td>success</td>\n",
       "      <td>92.0</td>\n",
       "      <td>1</td>\n",
       "      <td>1</td>\n",
       "      <td>1</td>\n",
       "    </tr>\n",
       "    <tr>\n",
       "      <th>2681</th>\n",
       "      <td>27</td>\n",
       "      <td>student</td>\n",
       "      <td>single</td>\n",
       "      <td>secondary</td>\n",
       "      <td>671</td>\n",
       "      <td>1</td>\n",
       "      <td>0</td>\n",
       "      <td>NaN</td>\n",
       "      <td>may</td>\n",
       "      <td>2</td>\n",
       "      <td>0</td>\n",
       "      <td>0</td>\n",
       "      <td>NaN</td>\n",
       "      <td>332.0</td>\n",
       "      <td>0</td>\n",
       "      <td>2</td>\n",
       "      <td>0</td>\n",
       "    </tr>\n",
       "    <tr>\n",
       "      <th>2313</th>\n",
       "      <td>27</td>\n",
       "      <td>student</td>\n",
       "      <td>single</td>\n",
       "      <td>NaN</td>\n",
       "      <td>910</td>\n",
       "      <td>1</td>\n",
       "      <td>1</td>\n",
       "      <td>NaN</td>\n",
       "      <td>may</td>\n",
       "      <td>1</td>\n",
       "      <td>0</td>\n",
       "      <td>0</td>\n",
       "      <td>NaN</td>\n",
       "      <td>77.0</td>\n",
       "      <td>0</td>\n",
       "      <td>2</td>\n",
       "      <td>0</td>\n",
       "    </tr>\n",
       "    <tr>\n",
       "      <th>3707</th>\n",
       "      <td>39</td>\n",
       "      <td>student</td>\n",
       "      <td>single</td>\n",
       "      <td>tertiary</td>\n",
       "      <td>2103</td>\n",
       "      <td>0</td>\n",
       "      <td>0</td>\n",
       "      <td>cellular</td>\n",
       "      <td>feb</td>\n",
       "      <td>1</td>\n",
       "      <td>0</td>\n",
       "      <td>0</td>\n",
       "      <td>NaN</td>\n",
       "      <td>588.0</td>\n",
       "      <td>0</td>\n",
       "      <td>1</td>\n",
       "      <td>1</td>\n",
       "    </tr>\n",
       "    <tr>\n",
       "      <th>796</th>\n",
       "      <td>33</td>\n",
       "      <td>student</td>\n",
       "      <td>single</td>\n",
       "      <td>NaN</td>\n",
       "      <td>1170</td>\n",
       "      <td>0</td>\n",
       "      <td>0</td>\n",
       "      <td>cellular</td>\n",
       "      <td>apr</td>\n",
       "      <td>1</td>\n",
       "      <td>0</td>\n",
       "      <td>0</td>\n",
       "      <td>NaN</td>\n",
       "      <td>352.0</td>\n",
       "      <td>0</td>\n",
       "      <td>1</td>\n",
       "      <td>1</td>\n",
       "    </tr>\n",
       "    <tr>\n",
       "      <th>2350</th>\n",
       "      <td>24</td>\n",
       "      <td>student</td>\n",
       "      <td>single</td>\n",
       "      <td>secondary</td>\n",
       "      <td>23878</td>\n",
       "      <td>0</td>\n",
       "      <td>0</td>\n",
       "      <td>cellular</td>\n",
       "      <td>feb</td>\n",
       "      <td>1</td>\n",
       "      <td>0</td>\n",
       "      <td>0</td>\n",
       "      <td>NaN</td>\n",
       "      <td>185.0</td>\n",
       "      <td>0</td>\n",
       "      <td>1</td>\n",
       "      <td>1</td>\n",
       "    </tr>\n",
       "    <tr>\n",
       "      <th>99</th>\n",
       "      <td>19</td>\n",
       "      <td>student</td>\n",
       "      <td>single</td>\n",
       "      <td>primary</td>\n",
       "      <td>103</td>\n",
       "      <td>0</td>\n",
       "      <td>0</td>\n",
       "      <td>cellular</td>\n",
       "      <td>jan</td>\n",
       "      <td>2</td>\n",
       "      <td>95</td>\n",
       "      <td>4</td>\n",
       "      <td>failure</td>\n",
       "      <td>177.0</td>\n",
       "      <td>1</td>\n",
       "      <td>1</td>\n",
       "      <td>0</td>\n",
       "    </tr>\n",
       "    <tr>\n",
       "      <th>804</th>\n",
       "      <td>32</td>\n",
       "      <td>student</td>\n",
       "      <td>single</td>\n",
       "      <td>secondary</td>\n",
       "      <td>0</td>\n",
       "      <td>0</td>\n",
       "      <td>0</td>\n",
       "      <td>cellular</td>\n",
       "      <td>nov</td>\n",
       "      <td>1</td>\n",
       "      <td>0</td>\n",
       "      <td>0</td>\n",
       "      <td>NaN</td>\n",
       "      <td>206.0</td>\n",
       "      <td>0</td>\n",
       "      <td>3</td>\n",
       "      <td>0</td>\n",
       "    </tr>\n",
       "    <tr>\n",
       "      <th>62</th>\n",
       "      <td>18</td>\n",
       "      <td>student</td>\n",
       "      <td>single</td>\n",
       "      <td>primary</td>\n",
       "      <td>608</td>\n",
       "      <td>0</td>\n",
       "      <td>0</td>\n",
       "      <td>cellular</td>\n",
       "      <td>aug</td>\n",
       "      <td>1</td>\n",
       "      <td>0</td>\n",
       "      <td>0</td>\n",
       "      <td>NaN</td>\n",
       "      <td>267.0</td>\n",
       "      <td>0</td>\n",
       "      <td>2</td>\n",
       "      <td>1</td>\n",
       "    </tr>\n",
       "    <tr>\n",
       "      <th>3880</th>\n",
       "      <td>20</td>\n",
       "      <td>student</td>\n",
       "      <td>single</td>\n",
       "      <td>secondary</td>\n",
       "      <td>162</td>\n",
       "      <td>0</td>\n",
       "      <td>0</td>\n",
       "      <td>cellular</td>\n",
       "      <td>may</td>\n",
       "      <td>2</td>\n",
       "      <td>0</td>\n",
       "      <td>0</td>\n",
       "      <td>NaN</td>\n",
       "      <td>106.0</td>\n",
       "      <td>0</td>\n",
       "      <td>2</td>\n",
       "      <td>0</td>\n",
       "    </tr>\n",
       "    <tr>\n",
       "      <th>2811</th>\n",
       "      <td>27</td>\n",
       "      <td>student</td>\n",
       "      <td>single</td>\n",
       "      <td>tertiary</td>\n",
       "      <td>0</td>\n",
       "      <td>0</td>\n",
       "      <td>0</td>\n",
       "      <td>cellular</td>\n",
       "      <td>mar</td>\n",
       "      <td>3</td>\n",
       "      <td>0</td>\n",
       "      <td>0</td>\n",
       "      <td>NaN</td>\n",
       "      <td>82.0</td>\n",
       "      <td>0</td>\n",
       "      <td>1</td>\n",
       "      <td>1</td>\n",
       "    </tr>\n",
       "    <tr>\n",
       "      <th>666</th>\n",
       "      <td>22</td>\n",
       "      <td>student</td>\n",
       "      <td>single</td>\n",
       "      <td>secondary</td>\n",
       "      <td>722</td>\n",
       "      <td>1</td>\n",
       "      <td>0</td>\n",
       "      <td>cellular</td>\n",
       "      <td>apr</td>\n",
       "      <td>1</td>\n",
       "      <td>0</td>\n",
       "      <td>0</td>\n",
       "      <td>NaN</td>\n",
       "      <td>108.0</td>\n",
       "      <td>0</td>\n",
       "      <td>1</td>\n",
       "      <td>0</td>\n",
       "    </tr>\n",
       "    <tr>\n",
       "      <th>3273</th>\n",
       "      <td>29</td>\n",
       "      <td>student</td>\n",
       "      <td>single</td>\n",
       "      <td>secondary</td>\n",
       "      <td>459</td>\n",
       "      <td>0</td>\n",
       "      <td>0</td>\n",
       "      <td>cellular</td>\n",
       "      <td>dec</td>\n",
       "      <td>3</td>\n",
       "      <td>189</td>\n",
       "      <td>19</td>\n",
       "      <td>other</td>\n",
       "      <td>279.0</td>\n",
       "      <td>1</td>\n",
       "      <td>3</td>\n",
       "      <td>1</td>\n",
       "    </tr>\n",
       "    <tr>\n",
       "      <th>953</th>\n",
       "      <td>22</td>\n",
       "      <td>student</td>\n",
       "      <td>single</td>\n",
       "      <td>secondary</td>\n",
       "      <td>1522</td>\n",
       "      <td>0</td>\n",
       "      <td>0</td>\n",
       "      <td>cellular</td>\n",
       "      <td>oct</td>\n",
       "      <td>2</td>\n",
       "      <td>0</td>\n",
       "      <td>0</td>\n",
       "      <td>NaN</td>\n",
       "      <td>368.0</td>\n",
       "      <td>0</td>\n",
       "      <td>3</td>\n",
       "      <td>1</td>\n",
       "    </tr>\n",
       "    <tr>\n",
       "      <th>1412</th>\n",
       "      <td>31</td>\n",
       "      <td>student</td>\n",
       "      <td>single</td>\n",
       "      <td>NaN</td>\n",
       "      <td>376</td>\n",
       "      <td>0</td>\n",
       "      <td>0</td>\n",
       "      <td>cellular</td>\n",
       "      <td>nov</td>\n",
       "      <td>1</td>\n",
       "      <td>96</td>\n",
       "      <td>2</td>\n",
       "      <td>other</td>\n",
       "      <td>202.0</td>\n",
       "      <td>1</td>\n",
       "      <td>3</td>\n",
       "      <td>0</td>\n",
       "    </tr>\n",
       "    <tr>\n",
       "      <th>3793</th>\n",
       "      <td>29</td>\n",
       "      <td>student</td>\n",
       "      <td>single</td>\n",
       "      <td>secondary</td>\n",
       "      <td>67</td>\n",
       "      <td>0</td>\n",
       "      <td>0</td>\n",
       "      <td>cellular</td>\n",
       "      <td>feb</td>\n",
       "      <td>1</td>\n",
       "      <td>187</td>\n",
       "      <td>5</td>\n",
       "      <td>success</td>\n",
       "      <td>211.0</td>\n",
       "      <td>1</td>\n",
       "      <td>1</td>\n",
       "      <td>1</td>\n",
       "    </tr>\n",
       "    <tr>\n",
       "      <th>2429</th>\n",
       "      <td>24</td>\n",
       "      <td>student</td>\n",
       "      <td>single</td>\n",
       "      <td>primary</td>\n",
       "      <td>1235</td>\n",
       "      <td>0</td>\n",
       "      <td>0</td>\n",
       "      <td>cellular</td>\n",
       "      <td>jul</td>\n",
       "      <td>4</td>\n",
       "      <td>93</td>\n",
       "      <td>6</td>\n",
       "      <td>other</td>\n",
       "      <td>334.0</td>\n",
       "      <td>1</td>\n",
       "      <td>2</td>\n",
       "      <td>1</td>\n",
       "    </tr>\n",
       "    <tr>\n",
       "      <th>3</th>\n",
       "      <td>25</td>\n",
       "      <td>student</td>\n",
       "      <td>single</td>\n",
       "      <td>primary</td>\n",
       "      <td>373</td>\n",
       "      <td>1</td>\n",
       "      <td>0</td>\n",
       "      <td>cellular</td>\n",
       "      <td>may</td>\n",
       "      <td>2</td>\n",
       "      <td>0</td>\n",
       "      <td>0</td>\n",
       "      <td>NaN</td>\n",
       "      <td>819.0</td>\n",
       "      <td>0</td>\n",
       "      <td>2</td>\n",
       "      <td>1</td>\n",
       "    </tr>\n",
       "    <tr>\n",
       "      <th>3451</th>\n",
       "      <td>26</td>\n",
       "      <td>student</td>\n",
       "      <td>single</td>\n",
       "      <td>tertiary</td>\n",
       "      <td>193</td>\n",
       "      <td>0</td>\n",
       "      <td>0</td>\n",
       "      <td>cellular</td>\n",
       "      <td>apr</td>\n",
       "      <td>2</td>\n",
       "      <td>0</td>\n",
       "      <td>0</td>\n",
       "      <td>NaN</td>\n",
       "      <td>48.0</td>\n",
       "      <td>0</td>\n",
       "      <td>1</td>\n",
       "      <td>0</td>\n",
       "    </tr>\n",
       "    <tr>\n",
       "      <th>3512</th>\n",
       "      <td>25</td>\n",
       "      <td>student</td>\n",
       "      <td>single</td>\n",
       "      <td>secondary</td>\n",
       "      <td>486</td>\n",
       "      <td>0</td>\n",
       "      <td>0</td>\n",
       "      <td>cellular</td>\n",
       "      <td>sep</td>\n",
       "      <td>3</td>\n",
       "      <td>199</td>\n",
       "      <td>4</td>\n",
       "      <td>failure</td>\n",
       "      <td>273.0</td>\n",
       "      <td>1</td>\n",
       "      <td>3</td>\n",
       "      <td>1</td>\n",
       "    </tr>\n",
       "    <tr>\n",
       "      <th>2544</th>\n",
       "      <td>26</td>\n",
       "      <td>student</td>\n",
       "      <td>single</td>\n",
       "      <td>secondary</td>\n",
       "      <td>100</td>\n",
       "      <td>0</td>\n",
       "      <td>0</td>\n",
       "      <td>cellular</td>\n",
       "      <td>may</td>\n",
       "      <td>1</td>\n",
       "      <td>0</td>\n",
       "      <td>0</td>\n",
       "      <td>NaN</td>\n",
       "      <td>445.0</td>\n",
       "      <td>0</td>\n",
       "      <td>2</td>\n",
       "      <td>1</td>\n",
       "    </tr>\n",
       "    <tr>\n",
       "      <th>2732</th>\n",
       "      <td>28</td>\n",
       "      <td>student</td>\n",
       "      <td>single</td>\n",
       "      <td>secondary</td>\n",
       "      <td>4793</td>\n",
       "      <td>0</td>\n",
       "      <td>0</td>\n",
       "      <td>NaN</td>\n",
       "      <td>may</td>\n",
       "      <td>1</td>\n",
       "      <td>0</td>\n",
       "      <td>0</td>\n",
       "      <td>NaN</td>\n",
       "      <td>151.0</td>\n",
       "      <td>0</td>\n",
       "      <td>2</td>\n",
       "      <td>0</td>\n",
       "    </tr>\n",
       "    <tr>\n",
       "      <th>1105</th>\n",
       "      <td>22</td>\n",
       "      <td>student</td>\n",
       "      <td>single</td>\n",
       "      <td>secondary</td>\n",
       "      <td>2488</td>\n",
       "      <td>0</td>\n",
       "      <td>0</td>\n",
       "      <td>cellular</td>\n",
       "      <td>nov</td>\n",
       "      <td>2</td>\n",
       "      <td>38</td>\n",
       "      <td>10</td>\n",
       "      <td>other</td>\n",
       "      <td>449.0</td>\n",
       "      <td>1</td>\n",
       "      <td>3</td>\n",
       "      <td>1</td>\n",
       "    </tr>\n",
       "    <tr>\n",
       "      <th>1167</th>\n",
       "      <td>27</td>\n",
       "      <td>student</td>\n",
       "      <td>single</td>\n",
       "      <td>tertiary</td>\n",
       "      <td>118</td>\n",
       "      <td>0</td>\n",
       "      <td>0</td>\n",
       "      <td>cellular</td>\n",
       "      <td>may</td>\n",
       "      <td>1</td>\n",
       "      <td>0</td>\n",
       "      <td>0</td>\n",
       "      <td>NaN</td>\n",
       "      <td>112.0</td>\n",
       "      <td>0</td>\n",
       "      <td>2</td>\n",
       "      <td>0</td>\n",
       "    </tr>\n",
       "    <tr>\n",
       "      <th>1995</th>\n",
       "      <td>25</td>\n",
       "      <td>student</td>\n",
       "      <td>single</td>\n",
       "      <td>secondary</td>\n",
       "      <td>2354</td>\n",
       "      <td>0</td>\n",
       "      <td>0</td>\n",
       "      <td>cellular</td>\n",
       "      <td>feb</td>\n",
       "      <td>7</td>\n",
       "      <td>0</td>\n",
       "      <td>0</td>\n",
       "      <td>NaN</td>\n",
       "      <td>226.0</td>\n",
       "      <td>0</td>\n",
       "      <td>1</td>\n",
       "      <td>1</td>\n",
       "    </tr>\n",
       "  </tbody>\n",
       "</table>\n",
       "</div>"
      ],
      "text/plain": [
       "      Age      Job Marital  Education  Balance  HHInsurance  CarLoan Communication LastContactMonth  NoOfContacts  DaysPassed  PrevAttempts  Outcome  call_duration  IsPreviouslyContacted LastContactQuadrimester  target\n",
       "3195   19  student  single  secondary      329            0        0      cellular              apr             1         190             2  success          169.0                      1                       1       1\n",
       "2725   35  student  single  secondary      188            1        0      cellular              feb             3         200             5  failure           75.0                      1                       1       1\n",
       "1432   30  student  single   tertiary     7513            0        0      cellular              aug             2           0             0      NaN          269.0                      0                       2       0\n",
       "1508   27  student  single   tertiary      311            0        0      cellular              jul             1         148             4  success          462.0                      1                       2       1\n",
       "1690   18  student  single        NaN      108            0        0      cellular              feb             1         183             1  success           92.0                      1                       1       1\n",
       "2681   27  student  single  secondary      671            1        0           NaN              may             2           0             0      NaN          332.0                      0                       2       0\n",
       "2313   27  student  single        NaN      910            1        1           NaN              may             1           0             0      NaN           77.0                      0                       2       0\n",
       "3707   39  student  single   tertiary     2103            0        0      cellular              feb             1           0             0      NaN          588.0                      0                       1       1\n",
       "796    33  student  single        NaN     1170            0        0      cellular              apr             1           0             0      NaN          352.0                      0                       1       1\n",
       "2350   24  student  single  secondary    23878            0        0      cellular              feb             1           0             0      NaN          185.0                      0                       1       1\n",
       "99     19  student  single    primary      103            0        0      cellular              jan             2          95             4  failure          177.0                      1                       1       0\n",
       "804    32  student  single  secondary        0            0        0      cellular              nov             1           0             0      NaN          206.0                      0                       3       0\n",
       "62     18  student  single    primary      608            0        0      cellular              aug             1           0             0      NaN          267.0                      0                       2       1\n",
       "3880   20  student  single  secondary      162            0        0      cellular              may             2           0             0      NaN          106.0                      0                       2       0\n",
       "2811   27  student  single   tertiary        0            0        0      cellular              mar             3           0             0      NaN           82.0                      0                       1       1\n",
       "666    22  student  single  secondary      722            1        0      cellular              apr             1           0             0      NaN          108.0                      0                       1       0\n",
       "3273   29  student  single  secondary      459            0        0      cellular              dec             3         189            19    other          279.0                      1                       3       1\n",
       "953    22  student  single  secondary     1522            0        0      cellular              oct             2           0             0      NaN          368.0                      0                       3       1\n",
       "1412   31  student  single        NaN      376            0        0      cellular              nov             1          96             2    other          202.0                      1                       3       0\n",
       "3793   29  student  single  secondary       67            0        0      cellular              feb             1         187             5  success          211.0                      1                       1       1\n",
       "2429   24  student  single    primary     1235            0        0      cellular              jul             4          93             6    other          334.0                      1                       2       1\n",
       "3      25  student  single    primary      373            1        0      cellular              may             2           0             0      NaN          819.0                      0                       2       1\n",
       "3451   26  student  single   tertiary      193            0        0      cellular              apr             2           0             0      NaN           48.0                      0                       1       0\n",
       "3512   25  student  single  secondary      486            0        0      cellular              sep             3         199             4  failure          273.0                      1                       3       1\n",
       "2544   26  student  single  secondary      100            0        0      cellular              may             1           0             0      NaN          445.0                      0                       2       1\n",
       "2732   28  student  single  secondary     4793            0        0           NaN              may             1           0             0      NaN          151.0                      0                       2       0\n",
       "1105   22  student  single  secondary     2488            0        0      cellular              nov             2          38            10    other          449.0                      1                       3       1\n",
       "1167   27  student  single   tertiary      118            0        0      cellular              may             1           0             0      NaN          112.0                      0                       2       0\n",
       "1995   25  student  single  secondary     2354            0        0      cellular              feb             7           0             0      NaN          226.0                      0                       1       1"
      ]
     },
     "execution_count": 170,
     "metadata": {},
     "output_type": "execute_result"
    }
   ],
   "source": [
    "X_test_copy = X_test.copy()\n",
    "X_test_copy['target'] = y_test\n",
    "X_test_copy[X_test_copy.Job=='student']"
   ]
  },
  {
   "cell_type": "code",
   "execution_count": null,
   "metadata": {},
   "outputs": [],
   "source": []
  }
 ],
 "metadata": {
  "kernelspec": {
   "display_name": "Python 3",
   "language": "python",
   "name": "python3"
  },
  "language_info": {
   "codemirror_mode": {
    "name": "ipython",
    "version": 3
   },
   "file_extension": ".py",
   "mimetype": "text/x-python",
   "name": "python",
   "nbconvert_exporter": "python",
   "pygments_lexer": "ipython3",
   "version": "3.6.5"
  }
 },
 "nbformat": 4,
 "nbformat_minor": 2
}
